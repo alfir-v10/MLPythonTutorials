{
  "nbformat": 4,
  "nbformat_minor": 0,
  "metadata": {
    "anaconda-cloud": {},
    "kernelspec": {
      "display_name": "Python 3",
      "language": "python",
      "name": "python3"
    },
    "language_info": {
      "codemirror_mode": {
        "name": "ipython",
        "version": 3
      },
      "file_extension": ".py",
      "mimetype": "text/x-python",
      "name": "python",
      "nbconvert_exporter": "python",
      "pygments_lexer": "ipython3",
      "version": "3.6.8"
    },
    "colab": {
      "name": "SklearnCrossValidation.ipynb",
      "provenance": [],
      "collapsed_sections": []
    }
  },
  "cells": [
    {
      "cell_type": "markdown",
      "metadata": {
        "id": "K-DK375N7sAA"
      },
      "source": [
        "## sklearn.model_selection"
      ]
    },
    {
      "cell_type": "markdown",
      "metadata": {
        "id": "JbfXXxJa7sAB"
      },
      "source": [
        "документация: http://scikit-learn.org/stable/modules/cross_validation.html"
      ]
    },
    {
      "cell_type": "code",
      "metadata": {
        "id": "8oSi-UBo7sAC"
      },
      "source": [
        "from sklearn import model_selection, datasets\n",
        "\n",
        "import numpy as np"
      ],
      "execution_count": null,
      "outputs": []
    },
    {
      "cell_type": "markdown",
      "metadata": {
        "id": "6i28MWxT7sAM"
      },
      "source": [
        "### Разовое разбиение данных на обучение и тест с помощью train_test_split"
      ]
    },
    {
      "cell_type": "code",
      "metadata": {
        "id": "DhcYmH2A7sAN"
      },
      "source": [
        "iris = datasets.load_iris()"
      ],
      "execution_count": null,
      "outputs": []
    },
    {
      "cell_type": "code",
      "metadata": {
        "id": "1M-Ji3UA7sAS"
      },
      "source": [
        "train_data, test_data, train_labels, test_labels = model_selection.train_test_split(iris.data, iris.target, \n",
        "                                                                                     test_size = 0.3)"
      ],
      "execution_count": null,
      "outputs": []
    },
    {
      "cell_type": "code",
      "metadata": {
        "id": "RtuQU18C7sAW",
        "colab": {
          "base_uri": "https://localhost:8080/",
          "height": 35
        },
        "outputId": "3552272c-3a0e-4cf5-c450-dcb0e097f670"
      },
      "source": [
        "#убедимся, что тестовая выборка действительно составляет 0.3 от всех данных\n",
        "float(len(test_labels))/len(iris.data)"
      ],
      "execution_count": null,
      "outputs": [
        {
          "output_type": "execute_result",
          "data": {
            "text/plain": [
              "0.3"
            ]
          },
          "metadata": {
            "tags": []
          },
          "execution_count": 4
        }
      ]
    },
    {
      "cell_type": "code",
      "metadata": {
        "id": "t1xTPrk-7sAb",
        "colab": {
          "base_uri": "https://localhost:8080/",
          "height": 54
        },
        "outputId": "4facfd63-2121-4f7a-c533-cc18b96d1e7a"
      },
      "source": [
        "print('Размер обучающей выборки: {} объектов \\nРазмер тестовой выборки: {} объектов'.format(len(train_data),\n",
        "                                                                                            len(test_data)))"
      ],
      "execution_count": null,
      "outputs": [
        {
          "output_type": "stream",
          "text": [
            "Размер обучающей выборки: 105 объектов \n",
            "Размер тестовой выборки: 45 объектов\n"
          ],
          "name": "stdout"
        }
      ]
    },
    {
      "cell_type": "code",
      "metadata": {
        "id": "SyLBj2GJ7sAg",
        "colab": {
          "base_uri": "https://localhost:8080/",
          "height": 272
        },
        "outputId": "6d27d5b2-62a4-4125-ea94-3e60edaa281a"
      },
      "source": [
        "print('Обучающая выборка:\\n', train_data[:5])\n",
        "print('\\n')\n",
        "print('Тестовая выборка:\\n', test_data[:5])"
      ],
      "execution_count": null,
      "outputs": [
        {
          "output_type": "stream",
          "text": [
            "Обучающая выборка:\n",
            " [[5.7 3.  4.2 1.2]\n",
            " [7.9 3.8 6.4 2. ]\n",
            " [6.8 3.  5.5 2.1]\n",
            " [6.1 2.8 4.  1.3]\n",
            " [6.1 3.  4.9 1.8]]\n",
            "\n",
            "\n",
            "Тестовая выборка:\n",
            " [[5.5 4.2 1.4 0.2]\n",
            " [6.4 3.1 5.5 1.8]\n",
            " [5.1 3.8 1.9 0.4]\n",
            " [6.3 3.3 4.7 1.6]\n",
            " [6.5 3.  5.8 2.2]]\n"
          ],
          "name": "stdout"
        }
      ]
    },
    {
      "cell_type": "code",
      "metadata": {
        "id": "-axHK9Wr7sAl",
        "colab": {
          "base_uri": "https://localhost:8080/",
          "height": 181
        },
        "outputId": "4c888779-cf4b-4e16-9302-adf3c417ec7d"
      },
      "source": [
        "print('Метки классов на обучающей выборке:\\n', train_labels)\n",
        "print('\\n')\n",
        "print('Метки классов на тестовой выборке:\\n', test_labels)"
      ],
      "execution_count": null,
      "outputs": [
        {
          "output_type": "stream",
          "text": [
            "Метки классов на обучающей выборке:\n",
            " [1 2 2 1 2 0 1 0 1 0 0 0 2 2 2 0 0 0 0 0 0 0 0 1 1 2 1 2 0 1 1 1 0 2 0 2 0\n",
            " 2 0 0 1 1 2 0 1 1 1 2 0 1 1 1 2 0 1 0 2 1 1 0 2 2 2 1 2 2 1 1 0 2 1 2 1 1\n",
            " 0 1 1 0 0 2 2 1 1 1 0 2 2 2 0 0 0 0 1 0 2 1 2 2 1 1 1 2 2 2 2]\n",
            "\n",
            "\n",
            "Метки классов на тестовой выборке:\n",
            " [0 2 0 1 2 1 0 2 2 1 0 0 0 2 2 1 2 2 0 0 0 1 0 1 0 2 2 1 1 2 0 2 1 0 2 1 1\n",
            " 2 0 0 0 2 2 1 1]\n"
          ],
          "name": "stdout"
        }
      ]
    },
    {
      "cell_type": "markdown",
      "metadata": {
        "id": "HvuSY4Vk7sAq"
      },
      "source": [
        "### Стратегии проведения кросс-валидации"
      ]
    },
    {
      "cell_type": "code",
      "metadata": {
        "id": "CT8wNRQM7sAq"
      },
      "source": [
        "#сгенерируем короткое подобие датасета, где элементы совпадают с порядковым номером\n",
        "X = range(0,10)"
      ],
      "execution_count": null,
      "outputs": []
    },
    {
      "cell_type": "markdown",
      "metadata": {
        "id": "CWleQtKE7sAv"
      },
      "source": [
        "#### KFold"
      ]
    },
    {
      "cell_type": "code",
      "metadata": {
        "id": "-Tpw98bx7sAw",
        "colab": {
          "base_uri": "https://localhost:8080/",
          "height": 108
        },
        "outputId": "67d8f386-7077-4b78-d3e5-cc9c88a0c00a"
      },
      "source": [
        "kf = model_selection.KFold(n_splits = 5)\n",
        "for train_indices, test_indices in kf.split(X):\n",
        "    print(train_indices, test_indices)"
      ],
      "execution_count": null,
      "outputs": [
        {
          "output_type": "stream",
          "text": [
            "[2 3 4 5 6 7 8 9] [0 1]\n",
            "[0 1 4 5 6 7 8 9] [2 3]\n",
            "[0 1 2 3 6 7 8 9] [4 5]\n",
            "[0 1 2 3 4 5 8 9] [6 7]\n",
            "[0 1 2 3 4 5 6 7] [8 9]\n"
          ],
          "name": "stdout"
        }
      ]
    },
    {
      "cell_type": "code",
      "metadata": {
        "id": "f_gEUifM7sA0",
        "colab": {
          "base_uri": "https://localhost:8080/",
          "height": 54
        },
        "outputId": "456a9465-08f8-4b70-fc62-098937f95cfc"
      },
      "source": [
        "kf = model_selection.KFold(n_splits = 2, shuffle = True)\n",
        "for train_indices, test_indices in kf.split(X):\n",
        "    print(train_indices, test_indices)"
      ],
      "execution_count": null,
      "outputs": [
        {
          "output_type": "stream",
          "text": [
            "[0 1 4 5 9] [2 3 6 7 8]\n",
            "[2 3 6 7 8] [0 1 4 5 9]\n"
          ],
          "name": "stdout"
        }
      ]
    },
    {
      "cell_type": "code",
      "metadata": {
        "id": "S0x3p2Ul7sA5",
        "colab": {
          "base_uri": "https://localhost:8080/",
          "height": 54
        },
        "outputId": "d2ed42a8-07d6-4242-a616-e87b9739df09"
      },
      "source": [
        "kf = model_selection.KFold(n_splits = 2, shuffle = True, random_state = 1)\n",
        "for train_indices, test_indices in kf.split(X):\n",
        "    print(train_indices, test_indices)"
      ],
      "execution_count": null,
      "outputs": [
        {
          "output_type": "stream",
          "text": [
            "[1 3 5 7 8] [0 2 4 6 9]\n",
            "[0 2 4 6 9] [1 3 5 7 8]\n"
          ],
          "name": "stdout"
        }
      ]
    },
    {
      "cell_type": "markdown",
      "metadata": {
        "id": "qEzyE7XT7sA9"
      },
      "source": [
        "#### StratifiedKFold"
      ]
    },
    {
      "cell_type": "code",
      "metadata": {
        "id": "j0_jtK2_7sA-",
        "colab": {
          "base_uri": "https://localhost:8080/",
          "height": 72
        },
        "outputId": "28a13e8e-a992-4ad7-c6ad-82d78f1bf5cf"
      },
      "source": [
        "y = np.array([0] * 5 + [1] * 5)\n",
        "print(y)\n",
        "\n",
        "skf = model_selection.StratifiedKFold(n_splits = 2, shuffle = True, random_state = 0)\n",
        "for train_indices, test_indices in skf.split(X, y):\n",
        "    print(train_indices, test_indices)"
      ],
      "execution_count": null,
      "outputs": [
        {
          "output_type": "stream",
          "text": [
            "[0 0 0 0 0 1 1 1 1 1]\n",
            "[3 4 6 8 9] [0 1 2 5 7]\n",
            "[0 1 2 5 7] [3 4 6 8 9]\n"
          ],
          "name": "stdout"
        }
      ]
    },
    {
      "cell_type": "code",
      "metadata": {
        "id": "cyRqI0Rk7sBC",
        "colab": {
          "base_uri": "https://localhost:8080/",
          "height": 72
        },
        "outputId": "fd9dc247-d6c0-4cab-d017-dafdfe532fdc"
      },
      "source": [
        "target = np.array([0, 1] * 5)\n",
        "print(target)\n",
        "\n",
        "skf = model_selection.StratifiedKFold(n_splits = 2,shuffle = True)\n",
        "for train_indices, test_indices in skf.split(X, target):\n",
        "    print(train_indices, test_indices)"
      ],
      "execution_count": null,
      "outputs": [
        {
          "output_type": "stream",
          "text": [
            "[0 1 0 1 0 1 0 1 0 1]\n",
            "[1 2 5 6 9] [0 3 4 7 8]\n",
            "[0 3 4 7 8] [1 2 5 6 9]\n"
          ],
          "name": "stdout"
        }
      ]
    },
    {
      "cell_type": "markdown",
      "metadata": {
        "id": "FaC92K3d7sBG"
      },
      "source": [
        "#### ShuffleSplit"
      ]
    },
    {
      "cell_type": "code",
      "metadata": {
        "id": "rQPVT0o67sBH",
        "colab": {
          "base_uri": "https://localhost:8080/",
          "height": 199
        },
        "outputId": "e2e1d16b-bce5-4f85-809a-bb39fe3ffa4c"
      },
      "source": [
        "ss = model_selection.ShuffleSplit(n_splits = 10, test_size = 0.2)\n",
        "\n",
        "for train_indices, test_indices in ss.split(X):\n",
        "    print(train_indices, test_indices)"
      ],
      "execution_count": null,
      "outputs": [
        {
          "output_type": "stream",
          "text": [
            "[0 4 5 3 2 9 1 6] [7 8]\n",
            "[0 8 7 3 6 9 1 5] [2 4]\n",
            "[1 7 0 6 8 9 2 5] [3 4]\n",
            "[6 3 5 2 4 1 9 7] [0 8]\n",
            "[1 0 3 8 9 6 4 2] [5 7]\n",
            "[0 9 2 5 8 4 7 6] [3 1]\n",
            "[0 8 6 3 1 4 9 2] [7 5]\n",
            "[3 5 0 1 7 2 8 4] [9 6]\n",
            "[5 1 9 2 6 4 7 0] [3 8]\n",
            "[3 4 7 2 8 6 0 1] [5 9]\n"
          ],
          "name": "stdout"
        }
      ]
    },
    {
      "cell_type": "markdown",
      "metadata": {
        "id": "o10BRG1v7sBM"
      },
      "source": [
        "#### StratifiedShuffleSplit"
      ]
    },
    {
      "cell_type": "code",
      "metadata": {
        "id": "CZqqG4kK7sBM",
        "colab": {
          "base_uri": "https://localhost:8080/",
          "height": 108
        },
        "outputId": "ac590475-5f8c-4d94-c4a2-189ea9cb1453"
      },
      "source": [
        "target = np.array([0] * 5 + [1] * 5)\n",
        "print(target)\n",
        "\n",
        "sss = model_selection.StratifiedShuffleSplit(n_splits = 4, test_size = 0.2)\n",
        "for train_indices, test_indices in sss.split(X, target):\n",
        "    print(train_indices, test_indices)"
      ],
      "execution_count": null,
      "outputs": [
        {
          "output_type": "stream",
          "text": [
            "[0 0 0 0 0 1 1 1 1 1]\n",
            "[7 8 1 4 9 3 2 6] [0 5]\n",
            "[3 8 9 2 4 0 5 7] [1 6]\n",
            "[5 6 8 7 4 0 2 3] [1 9]\n",
            "[8 9 7 3 4 1 2 6] [0 5]\n"
          ],
          "name": "stdout"
        }
      ]
    },
    {
      "cell_type": "markdown",
      "metadata": {
        "id": "JMYe6dz67sBQ"
      },
      "source": [
        "#### Leave-One-Out"
      ]
    },
    {
      "cell_type": "code",
      "metadata": {
        "id": "2MOnarqh7sBR",
        "colab": {
          "base_uri": "https://localhost:8080/",
          "height": 199
        },
        "outputId": "2ed1f00a-3b40-4c95-dbfb-aefaa4a2e112"
      },
      "source": [
        "loo = model_selection.LeaveOneOut()\n",
        "\n",
        "for train_indices, test_index in loo.split(X):\n",
        "    print(train_indices, test_index)"
      ],
      "execution_count": null,
      "outputs": [
        {
          "output_type": "stream",
          "text": [
            "[1 2 3 4 5 6 7 8 9] [0]\n",
            "[0 2 3 4 5 6 7 8 9] [1]\n",
            "[0 1 3 4 5 6 7 8 9] [2]\n",
            "[0 1 2 4 5 6 7 8 9] [3]\n",
            "[0 1 2 3 5 6 7 8 9] [4]\n",
            "[0 1 2 3 4 6 7 8 9] [5]\n",
            "[0 1 2 3 4 5 7 8 9] [6]\n",
            "[0 1 2 3 4 5 6 8 9] [7]\n",
            "[0 1 2 3 4 5 6 7 9] [8]\n",
            "[0 1 2 3 4 5 6 7 8] [9]\n"
          ],
          "name": "stdout"
        }
      ]
    },
    {
      "cell_type": "markdown",
      "metadata": {
        "id": "8IBKpHNm7sBW"
      },
      "source": [
        "Больше стратегий проведения кросс-валидации доступно здесь: http://scikit-learn.org/stable/modules/cross_validation.html#cross-validation-iterators"
      ]
    }
  ]
}