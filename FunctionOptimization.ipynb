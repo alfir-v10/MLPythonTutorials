{
  "nbformat": 4,
  "nbformat_minor": 0,
  "metadata": {
    "colab": {
      "name": "FunctionOptimization.ipynb",
      "provenance": [],
      "collapsed_sections": []
    },
    "kernelspec": {
      "name": "python3",
      "display_name": "Python 3"
    }
  },
  "cells": [
    {
      "cell_type": "markdown",
      "metadata": {
        "id": "DbDIb5DZXgzn"
      },
      "source": [
        "#Минимизация гладкой функции"
      ]
    },
    {
      "cell_type": "code",
      "metadata": {
        "id": "FO_YquT8Xyyi"
      },
      "source": [
        "import numpy as np\n",
        "import matplotlib.pyplot as plt\n",
        "from scipy import optimize\n",
        "%matplotlib inline"
      ],
      "execution_count": null,
      "outputs": []
    },
    {
      "cell_type": "code",
      "metadata": {
        "id": "mEsgvfoCXAt6"
      },
      "source": [
        "def f(x):\n",
        "  return np.sin(x/5)*np.exp(x/10)+5*np.exp(-x/2)"
      ],
      "execution_count": null,
      "outputs": []
    },
    {
      "cell_type": "code",
      "metadata": {
        "id": "816njlUYYo2b",
        "colab": {
          "base_uri": "https://localhost:8080/",
          "height": 269
        },
        "outputId": "67a6d647-0092-4c01-f16a-f43a4d8579a4"
      },
      "source": [
        "x = np.arange(1, 30, 0.01)\n",
        "y = f(x)\n",
        "fix, ax = plt.subplots()\n",
        "ax.plot(x,y)\n",
        "plt.show()"
      ],
      "execution_count": null,
      "outputs": [
        {
          "output_type": "display_data",
          "data": {
            "image/png": "[encoded data removed]",
            "text/plain": [
              "<Figure size 432x288 with 1 Axes>"
            ]
          },
          "metadata": {
            "tags": [],
            "needs_background": "light"
          }
        }
      ]
    },
    {
      "cell_type": "markdown",
      "metadata": {
        "id": "89LacyMpucJi"
      },
      "source": [
        "https://docs.scipy.org/doc/scipy/reference/optimize.html\n"
      ]
    },
    {
      "cell_type": "code",
      "metadata": {
        "id": "ICVlmszmkWRm"
      },
      "source": [
        "minimum = optimize.minimize(f, 20)"
      ],
      "execution_count": null,
      "outputs": []
    },
    {
      "cell_type": "code",
      "metadata": {
        "id": "Py3wU_-7jqLZ",
        "colab": {
          "base_uri": "https://localhost:8080/",
          "height": 51
        },
        "outputId": "42c36bec-651f-476c-bf36-1771a3699559"
      },
      "source": [
        "for x0 in [2,30]:\n",
        "  minimum = optimize.minimize(f, x0) #BFGS\n",
        "  print(x0, round(minimum.fun, 2))"
      ],
      "execution_count": null,
      "outputs": [
        {
          "output_type": "stream",
          "text": [
            "2 1.75\n",
            "30 -11.9\n"
          ],
          "name": "stdout"
        }
      ]
    },
    {
      "cell_type": "markdown",
      "metadata": {
        "id": "W0Cb6kR3vTyB"
      },
      "source": [
        "#Глобальная оптимизация\n",
        "Теперь попробуем применить к той же функции f(x) метод глобальной оптимизации — дифференциальную эволюцию.\n",
        "https://docs.scipy.org/doc/scipy/reference/generated/scipy.optimize.differential_evolution.html#scipy.optimize.differential_evolution"
      ]
    },
    {
      "cell_type": "code",
      "metadata": {
        "id": "HE4o__BxvP2z"
      },
      "source": [
        "minimum_diff = optimize.differential_evolution(f, bounds=[(1,30)])"
      ],
      "execution_count": null,
      "outputs": []
    },
    {
      "cell_type": "code",
      "metadata": {
        "id": "qAUZbjOWwlcW",
        "colab": {
          "base_uri": "https://localhost:8080/",
          "height": 34
        },
        "outputId": "0fecfe30-d356-45ad-cdfd-bd078c156719"
      },
      "source": [
        "minimum_diff.fun"
      ],
      "execution_count": null,
      "outputs": [
        {
          "output_type": "execute_result",
          "data": {
            "text/plain": [
              "array([-11.89889467])"
            ]
          },
          "metadata": {
            "tags": []
          },
          "execution_count": 7
        }
      ]
    },
    {
      "cell_type": "markdown",
      "metadata": {
        "id": "vB8V8_CUxgBS"
      },
      "source": [
        "дифференциальная эволюция справилась с задачей поиска глобального минимума на отрезке, т.к. по своему устройству она предполагает борьбу с попаданием в локальные минимумы.Сравните количество итераций, потребовавшихся BFGS для нахождения минимума при хорошем начальном приближении, с количеством итераций, потребовавшихся дифференциальной эволюции. При повторных запусках дифференциальной эволюции количество итераций будет меняться, но в этом примере, скорее всего, оно всегда будет сравнимым с количеством итераций BFGS. Однако в дифференциальной эволюции за одну итерацию требуется выполнить гораздо больше действий, чем в BFGS. Например, можно обратить внимание на количество вычислений значения функции (nfev) и увидеть, что у BFGS оно значительно меньше. Кроме того, время работы дифференциальной эволюции очень быстро растет с увеличением числа аргументов функции."
      ]
    },
    {
      "cell_type": "code",
      "metadata": {
        "id": "VFkyiu_8xwLs",
        "colab": {
          "base_uri": "https://localhost:8080/",
          "height": 306
        },
        "outputId": "cd525048-f9b5-4537-c10b-728ce48a86bf"
      },
      "source": [
        "minimum_diff, minimum"
      ],
      "execution_count": null,
      "outputs": [
        {
          "output_type": "execute_result",
          "data": {
            "text/plain": [
              "(     fun: array([-11.89889467])\n",
              "     jac: array([2.84217094e-06])\n",
              " message: 'Optimization terminated successfully.'\n",
              "    nfev: 96\n",
              "     nit: 5\n",
              " success: True\n",
              "       x: array([25.88019771]),\n",
              "       fun: -11.898894665981285\n",
              " hess_inv: array([[1.67932484]])\n",
              "      jac: array([2.38418579e-07])\n",
              "  message: 'Optimization terminated successfully.'\n",
              "     nfev: 21\n",
              "      nit: 6\n",
              "     njev: 7\n",
              "   status: 0\n",
              "  success: True\n",
              "        x: array([25.88019339]))"
            ]
          },
          "metadata": {
            "tags": []
          },
          "execution_count": 8
        }
      ]
    },
    {
      "cell_type": "markdown",
      "metadata": {
        "id": "Wpl7_Gq54XUk"
      },
      "source": [
        "#Минимизация негладкой функции\n",
        "Теперь рассмотрим функцию h(x) = int(f(x)) на том же отрезке [1, 30], т.е. теперь каждое значение f(x) приводится к типу int и функция принимает только целые значения.\n",
        "Такая функция будет негладкой и даже разрывной, а ее график будет иметь ступенчатый вид. Убедитесь в этом, построив график h(x) с помощью matplotlib."
      ]
    },
    {
      "cell_type": "code",
      "metadata": {
        "id": "tZWo4v7W4Okc",
        "colab": {
          "base_uri": "https://localhost:8080/",
          "height": 265
        },
        "outputId": "e752b157-3bb6-4771-bcb9-959a1da807a9"
      },
      "source": [
        "def h(x):\n",
        "  return (np.sin(x/5)*np.exp(x/10)+5*np.exp(-x/2)).astype(dtype=int)\n",
        "x = np.arange(1, 30, 0.01)\n",
        "y = h(x)\n",
        "fix, ax = plt.subplots()\n",
        "ax.plot(x,y)\n",
        "plt.show()"
      ],
      "execution_count": null,
      "outputs": [
        {
          "output_type": "display_data",
          "data": {
            "image/png": "[encoded data removed]",
            "text/plain": [
              "<Figure size 432x288 with 1 Axes>"
            ]
          },
          "metadata": {
            "tags": [],
            "needs_background": "light"
          }
        }
      ]
    },
    {
      "cell_type": "code",
      "metadata": {
        "id": "5hkL9o0t5d0A"
      },
      "source": [
        "minimum_razr_bfgs = optimize.minimize(h, 30)"
      ],
      "execution_count": null,
      "outputs": []
    },
    {
      "cell_type": "code",
      "metadata": {
        "id": "pUGIt4qH5nYL",
        "colab": {
          "base_uri": "https://localhost:8080/",
          "height": 34
        },
        "outputId": "21d568b2-a9f4-45e6-90dc-4807b7a2344b"
      },
      "source": [
        "minimum_razr_bfgs.fun[0]"
      ],
      "execution_count": null,
      "outputs": [
        {
          "output_type": "execute_result",
          "data": {
            "text/plain": [
              "-5"
            ]
          },
          "metadata": {
            "tags": []
          },
          "execution_count": 11
        }
      ]
    },
    {
      "cell_type": "code",
      "metadata": {
        "id": "tynw_Yis6Uil",
        "colab": {
          "base_uri": "https://localhost:8080/",
          "height": 34
        },
        "outputId": "f90f2e90-ee13-4c9f-9ce2-5d360b15008a"
      },
      "source": [
        "minimum_razr_diff = optimize.differential_evolution(h, [(1,30)])\n",
        "minimum_razr_diff.fun"
      ],
      "execution_count": null,
      "outputs": [
        {
          "output_type": "execute_result",
          "data": {
            "text/plain": [
              "-11.0"
            ]
          },
          "metadata": {
            "tags": []
          },
          "execution_count": 12
        }
      ]
    },
    {
      "cell_type": "markdown",
      "metadata": {
        "id": "M_OgbGbw7xAo"
      },
      "source": [
        "Обратите внимание на то, что полученные ответы различаются. Это ожидаемый результат, ведь BFGS использует градиент (в одномерном случае – производную) и явно не пригоден для минимизации рассмотренной нами разрывной функции. Попробуйте понять, почему минимум, найденный BFGS, именно такой (возможно в этом вам поможет выбор разных начальных приближений)."
      ]
    },
    {
      "cell_type": "markdown",
      "metadata": {
        "id": "T7VGgxg370Kr"
      },
      "source": [
        "Выполнив это задание, вы увидели на практике, чем поиск минимума функции отличается от глобальной оптимизации, и когда может быть полезно применить вместо градиентного метода оптимизации метод, не использующий градиент. Кроме того, вы попрактиковались в использовании библиотеки SciPy для решения оптимизационных задач, и теперь знаете, насколько это просто и удобно.\n"
      ]
    }
  ]
}