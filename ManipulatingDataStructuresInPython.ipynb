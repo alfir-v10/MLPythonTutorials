{
  "nbformat": 4,
  "nbformat_minor": 0,
  "metadata": {
    "hide_input": false,
    "kernelspec": {
      "display_name": "Python 3",
      "language": "python",
      "name": "python3"
    },
    "language_info": {
      "codemirror_mode": {
        "name": "ipython",
        "version": 3
      },
      "file_extension": ".py",
      "mimetype": "text/x-python",
      "name": "python",
      "nbconvert_exporter": "python",
      "pygments_lexer": "ipython3",
      "version": "3.7.0"
    },
    "toc": {
      "base_numbering": 1,
      "nav_menu": {},
      "number_sections": true,
      "sideBar": true,
      "skip_h1_title": false,
      "title_cell": "Table of Contents",
      "title_sidebar": "Contents",
      "toc_cell": false,
      "toc_position": {
        "height": "829px",
        "left": "1473.61px",
        "top": "110px",
        "width": "340.788px"
      },
      "toc_section_display": true,
      "toc_window_display": false
    },
    "colab": {
      "name": "ManipulatingDataStructuresInPython.ipynb",
      "provenance": [],
      "collapsed_sections": []
    }
  },
  "cells": [
    {
      "cell_type": "markdown",
      "metadata": {
        "heading_collapsed": true,
        "id": "cIGlzzpXqTR2"
      },
      "source": [
        "### Libraries"
      ]
    },
    {
      "cell_type": "code",
      "metadata": {
        "hidden": true,
        "id": "ur4tFp1YqTR6"
      },
      "source": [
        "import pandas as pd\n",
        "import numpy as np"
      ],
      "execution_count": null,
      "outputs": []
    },
    {
      "cell_type": "markdown",
      "metadata": {
        "heading_collapsed": true,
        "id": "MIEMUHQXqTR7"
      },
      "source": [
        "### Creation"
      ]
    },
    {
      "cell_type": "markdown",
      "metadata": {
        "heading_collapsed": true,
        "hidden": true,
        "id": "Lp8IIF8LqTR8"
      },
      "source": [
        "#### from the list"
      ]
    },
    {
      "cell_type": "markdown",
      "metadata": {
        "hidden": true,
        "id": "nSADtKYxqTR9"
      },
      "source": [
        "creating a Series of values from a list of integers"
      ]
    },
    {
      "cell_type": "code",
      "metadata": {
        "ExecuteTime": {
          "end_time": "2019-01-24T11:40:46.066107Z",
          "start_time": "2019-01-24T11:40:46.060063Z"
        },
        "hidden": true,
        "colab": {
          "base_uri": "https://localhost:8080/"
        },
        "id": "nr9zfpD3qTR9",
        "outputId": "a657fa70-973b-4136-a456-c75bac70db2d"
      },
      "source": [
        "s = pd.Series(data=[10, 11, 12, 13, 14],\n",
        "              index=[1, 2, 3, 5, 7])\n",
        "s"
      ],
      "execution_count": null,
      "outputs": [
        {
          "output_type": "execute_result",
          "data": {
            "text/plain": [
              "1    10\n",
              "2    11\n",
              "3    12\n",
              "5    13\n",
              "7    14\n",
              "dtype: int64"
            ]
          },
          "metadata": {
            "tags": []
          },
          "execution_count": 3
        }
      ]
    },
    {
      "cell_type": "markdown",
      "metadata": {
        "collapsed": true,
        "hidden": true,
        "id": "OttO9aW9qTR-"
      },
      "source": [
        "creating a Series from string values"
      ]
    },
    {
      "cell_type": "code",
      "metadata": {
        "hidden": true,
        "colab": {
          "base_uri": "https://localhost:8080/"
        },
        "id": "RjHvkHjbqTR_",
        "outputId": "ed9274bf-1d4a-4048-9ecb-8946f74fe209"
      },
      "source": [
        "s = pd.Series(['Blue', 'Yellow', 'Green'])\n",
        "s"
      ],
      "execution_count": null,
      "outputs": [
        {
          "output_type": "execute_result",
          "data": {
            "text/plain": [
              "0      Blue\n",
              "1    Yellow\n",
              "2     Green\n",
              "dtype: object"
            ]
          },
          "metadata": {
            "tags": []
          },
          "execution_count": 4
        }
      ]
    },
    {
      "cell_type": "markdown",
      "metadata": {
        "hidden": true,
        "id": "kx8WvEopqTR_"
      },
      "source": [
        "creating a Series of 5 elements, each element is a python list"
      ]
    },
    {
      "cell_type": "code",
      "metadata": {
        "hidden": true,
        "scrolled": true,
        "colab": {
          "base_uri": "https://localhost:8080/"
        },
        "id": "muv7zO-WqTSA",
        "outputId": "a06c6bcc-e4b6-4dee-829f-f35e89ff2c93"
      },
      "source": [
        "l = [[1, 2]]\n",
        "s = pd.Series(l*5)\n",
        "s"
      ],
      "execution_count": null,
      "outputs": [
        {
          "output_type": "execute_result",
          "data": {
            "text/plain": [
              "0    [1, 2]\n",
              "1    [1, 2]\n",
              "2    [1, 2]\n",
              "3    [1, 2]\n",
              "4    [1, 2]\n",
              "dtype: object"
            ]
          },
          "metadata": {
            "tags": []
          },
          "execution_count": 5
        }
      ]
    },
    {
      "cell_type": "markdown",
      "metadata": {
        "hidden": true,
        "id": "TbqTBH41qTSA"
      },
      "source": [
        "creating a Data Frame from a two-dimensional list"
      ]
    },
    {
      "cell_type": "code",
      "metadata": {
        "hidden": true,
        "colab": {
          "base_uri": "https://localhost:8080/",
          "height": 142
        },
        "id": "7n152kflqTSB",
        "outputId": "a0761c9d-e02b-4397-be4f-8f6dedad54b5"
      },
      "source": [
        "df = pd.DataFrame([[10, 11], [20, 21], [30, 31]])\n",
        "df"
      ],
      "execution_count": null,
      "outputs": [
        {
          "output_type": "execute_result",
          "data": {
            "text/html": [
              "<div>\n",
              "<style scoped>\n",
              "    .dataframe tbody tr th:only-of-type {\n",
              "        vertical-align: middle;\n",
              "    }\n",
              "\n",
              "    .dataframe tbody tr th {\n",
              "        vertical-align: top;\n",
              "    }\n",
              "\n",
              "    .dataframe thead th {\n",
              "        text-align: right;\n",
              "    }\n",
              "</style>\n",
              "<table border=\"1\" class=\"dataframe\">\n",
              "  <thead>\n",
              "    <tr style=\"text-align: right;\">\n",
              "      <th></th>\n",
              "      <th>0</th>\n",
              "      <th>1</th>\n",
              "    </tr>\n",
              "  </thead>\n",
              "  <tbody>\n",
              "    <tr>\n",
              "      <th>0</th>\n",
              "      <td>10</td>\n",
              "      <td>11</td>\n",
              "    </tr>\n",
              "    <tr>\n",
              "      <th>1</th>\n",
              "      <td>20</td>\n",
              "      <td>21</td>\n",
              "    </tr>\n",
              "    <tr>\n",
              "      <th>2</th>\n",
              "      <td>30</td>\n",
              "      <td>31</td>\n",
              "    </tr>\n",
              "  </tbody>\n",
              "</table>\n",
              "</div>"
            ],
            "text/plain": [
              "    0   1\n",
              "0  10  11\n",
              "1  20  21\n",
              "2  30  31"
            ]
          },
          "metadata": {
            "tags": []
          },
          "execution_count": 6
        }
      ]
    },
    {
      "cell_type": "markdown",
      "metadata": {
        "hidden": true,
        "id": "GAToA_mqqTSB"
      },
      "source": [
        "setting column names"
      ]
    },
    {
      "cell_type": "code",
      "metadata": {
        "hidden": true,
        "colab": {
          "base_uri": "https://localhost:8080/",
          "height": 142
        },
        "id": "D3298CqxqTSC",
        "outputId": "d91681a8-9204-4b32-d831-6ee4434791c3"
      },
      "source": [
        "df = pd.DataFrame([[10, 11], [20, 21], [30, 31]],\n",
        "                  columns=['A', 'B'])\n",
        "df"
      ],
      "execution_count": null,
      "outputs": [
        {
          "output_type": "execute_result",
          "data": {
            "text/html": [
              "<div>\n",
              "<style scoped>\n",
              "    .dataframe tbody tr th:only-of-type {\n",
              "        vertical-align: middle;\n",
              "    }\n",
              "\n",
              "    .dataframe tbody tr th {\n",
              "        vertical-align: top;\n",
              "    }\n",
              "\n",
              "    .dataframe thead th {\n",
              "        text-align: right;\n",
              "    }\n",
              "</style>\n",
              "<table border=\"1\" class=\"dataframe\">\n",
              "  <thead>\n",
              "    <tr style=\"text-align: right;\">\n",
              "      <th></th>\n",
              "      <th>A</th>\n",
              "      <th>B</th>\n",
              "    </tr>\n",
              "  </thead>\n",
              "  <tbody>\n",
              "    <tr>\n",
              "      <th>0</th>\n",
              "      <td>10</td>\n",
              "      <td>11</td>\n",
              "    </tr>\n",
              "    <tr>\n",
              "      <th>1</th>\n",
              "      <td>20</td>\n",
              "      <td>21</td>\n",
              "    </tr>\n",
              "    <tr>\n",
              "      <th>2</th>\n",
              "      <td>30</td>\n",
              "      <td>31</td>\n",
              "    </tr>\n",
              "  </tbody>\n",
              "</table>\n",
              "</div>"
            ],
            "text/plain": [
              "    A   B\n",
              "0  10  11\n",
              "1  20  21\n",
              "2  30  31"
            ]
          },
          "metadata": {
            "tags": []
          },
          "execution_count": 7
        }
      ]
    },
    {
      "cell_type": "markdown",
      "metadata": {
        "hidden": true,
        "id": "GoBpt0TaqTSC"
      },
      "source": [
        "creating a DataFrame for the list of Series objects"
      ]
    },
    {
      "cell_type": "code",
      "metadata": {
        "hidden": true,
        "colab": {
          "base_uri": "https://localhost:8080/",
          "height": 111
        },
        "id": "dNyXGGFfqTSD",
        "outputId": "044ddb2c-5f78-4444-9725-10c61ec9d77b"
      },
      "source": [
        "series_1 = pd.Series([70, 90])\n",
        "series_2 = pd.Series([71, 91])\n",
        "df = pd.DataFrame([series_1, series_2])\n",
        "df"
      ],
      "execution_count": null,
      "outputs": [
        {
          "output_type": "execute_result",
          "data": {
            "text/html": [
              "<div>\n",
              "<style scoped>\n",
              "    .dataframe tbody tr th:only-of-type {\n",
              "        vertical-align: middle;\n",
              "    }\n",
              "\n",
              "    .dataframe tbody tr th {\n",
              "        vertical-align: top;\n",
              "    }\n",
              "\n",
              "    .dataframe thead th {\n",
              "        text-align: right;\n",
              "    }\n",
              "</style>\n",
              "<table border=\"1\" class=\"dataframe\">\n",
              "  <thead>\n",
              "    <tr style=\"text-align: right;\">\n",
              "      <th></th>\n",
              "      <th>0</th>\n",
              "      <th>1</th>\n",
              "    </tr>\n",
              "  </thead>\n",
              "  <tbody>\n",
              "    <tr>\n",
              "      <th>0</th>\n",
              "      <td>70</td>\n",
              "      <td>90</td>\n",
              "    </tr>\n",
              "    <tr>\n",
              "      <th>1</th>\n",
              "      <td>71</td>\n",
              "      <td>91</td>\n",
              "    </tr>\n",
              "  </tbody>\n",
              "</table>\n",
              "</div>"
            ],
            "text/plain": [
              "    0   1\n",
              "0  70  90\n",
              "1  71  91"
            ]
          },
          "metadata": {
            "tags": []
          },
          "execution_count": 8
        }
      ]
    },
    {
      "cell_type": "markdown",
      "metadata": {
        "hidden": true,
        "id": "DrhzgYW_qTSE"
      },
      "source": [
        "setting the column names after creating the dataframe"
      ]
    },
    {
      "cell_type": "code",
      "metadata": {
        "hidden": true,
        "colab": {
          "base_uri": "https://localhost:8080/",
          "height": 111
        },
        "id": "2I-oUC0FqTSE",
        "outputId": "83dfb468-0400-49a9-ed8a-ba092ffda1c6"
      },
      "source": [
        "df.columns = ['col_1', 'col_2']\n",
        "df"
      ],
      "execution_count": null,
      "outputs": [
        {
          "output_type": "execute_result",
          "data": {
            "text/html": [
              "<div>\n",
              "<style scoped>\n",
              "    .dataframe tbody tr th:only-of-type {\n",
              "        vertical-align: middle;\n",
              "    }\n",
              "\n",
              "    .dataframe tbody tr th {\n",
              "        vertical-align: top;\n",
              "    }\n",
              "\n",
              "    .dataframe thead th {\n",
              "        text-align: right;\n",
              "    }\n",
              "</style>\n",
              "<table border=\"1\" class=\"dataframe\">\n",
              "  <thead>\n",
              "    <tr style=\"text-align: right;\">\n",
              "      <th></th>\n",
              "      <th>col_1</th>\n",
              "      <th>col_2</th>\n",
              "    </tr>\n",
              "  </thead>\n",
              "  <tbody>\n",
              "    <tr>\n",
              "      <th>0</th>\n",
              "      <td>70</td>\n",
              "      <td>90</td>\n",
              "    </tr>\n",
              "    <tr>\n",
              "      <th>1</th>\n",
              "      <td>71</td>\n",
              "      <td>91</td>\n",
              "    </tr>\n",
              "  </tbody>\n",
              "</table>\n",
              "</div>"
            ],
            "text/plain": [
              "   col_1  col_2\n",
              "0     70     90\n",
              "1     71     91"
            ]
          },
          "metadata": {
            "tags": []
          },
          "execution_count": 9
        }
      ]
    },
    {
      "cell_type": "markdown",
      "metadata": {
        "heading_collapsed": true,
        "hidden": true,
        "id": "UIAe__EuqTSF"
      },
      "source": [
        "#### from the dictionary"
      ]
    },
    {
      "cell_type": "markdown",
      "metadata": {
        "collapsed": true,
        "hidden": true,
        "id": "yHn4KRrrqTSF"
      },
      "source": [
        "creating a Series object from the dictionary, while looking at how the indexes have changed"
      ]
    },
    {
      "cell_type": "code",
      "metadata": {
        "hidden": true,
        "colab": {
          "base_uri": "https://localhost:8080/"
        },
        "id": "cW5TF28uqTSG",
        "outputId": "38319176-f5e1-4bb5-fd5a-2f1acad1b266"
      },
      "source": [
        "s = pd.Series({'Homer': 'Dad',\n",
        "               'Marge': 'Mom',\n",
        "               'Bart': 'Son',\n",
        "               'Lisa': 'Daughter',\n",
        "               'Maggie': 'Daughter'})\n",
        "s"
      ],
      "execution_count": null,
      "outputs": [
        {
          "output_type": "execute_result",
          "data": {
            "text/plain": [
              "Homer          Dad\n",
              "Marge          Mom\n",
              "Bart           Son\n",
              "Lisa      Daughter\n",
              "Maggie    Daughter\n",
              "dtype: object"
            ]
          },
          "metadata": {
            "tags": []
          },
          "execution_count": 10
        }
      ]
    },
    {
      "cell_type": "markdown",
      "metadata": {
        "hidden": true,
        "id": "HJMp6Pm3qTSG"
      },
      "source": [
        "creating a DataFrame using a python dictionary"
      ]
    },
    {
      "cell_type": "code",
      "metadata": {
        "hidden": true,
        "colab": {
          "base_uri": "https://localhost:8080/",
          "height": 111
        },
        "id": "fiSw0lU9qTSH",
        "outputId": "4636bacb-6fd5-466f-edf9-02b2fd05e01f"
      },
      "source": [
        "list_1 = [70, 71]\n",
        "list_2 = [90, 91]\n",
        "temperatures = {'col_1': list_1,\n",
        "                'col_2': list_2}\n",
        "pd.DataFrame(temperatures)"
      ],
      "execution_count": null,
      "outputs": [
        {
          "output_type": "execute_result",
          "data": {
            "text/html": [
              "<div>\n",
              "<style scoped>\n",
              "    .dataframe tbody tr th:only-of-type {\n",
              "        vertical-align: middle;\n",
              "    }\n",
              "\n",
              "    .dataframe tbody tr th {\n",
              "        vertical-align: top;\n",
              "    }\n",
              "\n",
              "    .dataframe thead th {\n",
              "        text-align: right;\n",
              "    }\n",
              "</style>\n",
              "<table border=\"1\" class=\"dataframe\">\n",
              "  <thead>\n",
              "    <tr style=\"text-align: right;\">\n",
              "      <th></th>\n",
              "      <th>col_1</th>\n",
              "      <th>col_2</th>\n",
              "    </tr>\n",
              "  </thead>\n",
              "  <tbody>\n",
              "    <tr>\n",
              "      <th>0</th>\n",
              "      <td>70</td>\n",
              "      <td>90</td>\n",
              "    </tr>\n",
              "    <tr>\n",
              "      <th>1</th>\n",
              "      <td>71</td>\n",
              "      <td>91</td>\n",
              "    </tr>\n",
              "  </tbody>\n",
              "</table>\n",
              "</div>"
            ],
            "text/plain": [
              "   col_1  col_2\n",
              "0     70     90\n",
              "1     71     91"
            ]
          },
          "metadata": {
            "tags": []
          },
          "execution_count": 11
        }
      ]
    },
    {
      "cell_type": "markdown",
      "metadata": {
        "hidden": true,
        "id": "9zGHVeQvqTSH"
      },
      "source": [
        "creating a Data Frame using a dictionary consisting of Series objects"
      ]
    },
    {
      "cell_type": "code",
      "metadata": {
        "hidden": true,
        "colab": {
          "base_uri": "https://localhost:8080/",
          "height": 111
        },
        "id": "E8w0NToSqTSI",
        "outputId": "a5ed635c-eee8-4be0-98d9-c796de840e0f"
      },
      "source": [
        "series_1 = pd.Series([70, 71])\n",
        "series_2 = pd.Series([90, 91])\n",
        "\n",
        "df = pd.DataFrame({'col_1': series_1,\n",
        "                   'col_2': series_2})\n",
        "df"
      ],
      "execution_count": null,
      "outputs": [
        {
          "output_type": "execute_result",
          "data": {
            "text/html": [
              "<div>\n",
              "<style scoped>\n",
              "    .dataframe tbody tr th:only-of-type {\n",
              "        vertical-align: middle;\n",
              "    }\n",
              "\n",
              "    .dataframe tbody tr th {\n",
              "        vertical-align: top;\n",
              "    }\n",
              "\n",
              "    .dataframe thead th {\n",
              "        text-align: right;\n",
              "    }\n",
              "</style>\n",
              "<table border=\"1\" class=\"dataframe\">\n",
              "  <thead>\n",
              "    <tr style=\"text-align: right;\">\n",
              "      <th></th>\n",
              "      <th>col_1</th>\n",
              "      <th>col_2</th>\n",
              "    </tr>\n",
              "  </thead>\n",
              "  <tbody>\n",
              "    <tr>\n",
              "      <th>0</th>\n",
              "      <td>70</td>\n",
              "      <td>90</td>\n",
              "    </tr>\n",
              "    <tr>\n",
              "      <th>1</th>\n",
              "      <td>71</td>\n",
              "      <td>91</td>\n",
              "    </tr>\n",
              "  </tbody>\n",
              "</table>\n",
              "</div>"
            ],
            "text/plain": [
              "   col_1  col_2\n",
              "0     70     90\n",
              "1     71     91"
            ]
          },
          "metadata": {
            "tags": []
          },
          "execution_count": 12
        }
      ]
    },
    {
      "cell_type": "markdown",
      "metadata": {
        "heading_collapsed": true,
        "hidden": true,
        "id": "jucyF6HoqTSI"
      },
      "source": [
        "#### using the functions"
      ]
    },
    {
      "cell_type": "markdown",
      "metadata": {
        "hidden": true,
        "id": "u23ZLMQ7qTSI"
      },
      "source": [
        "creating a Series using np. arange-a sequence of numbers from  **start** to **stop-1** with **step**:\n",
        "```python \n",
        "np.arange(start, stop, step) \n",
        "```"
      ]
    },
    {
      "cell_type": "code",
      "metadata": {
        "hidden": true,
        "colab": {
          "base_uri": "https://localhost:8080/"
        },
        "id": "KDpBGY-qqTSJ",
        "outputId": "e88ab80a-0802-4eb2-e75e-8724915f768a"
      },
      "source": [
        "s = pd.Series(np.arange(15,25,2))\n",
        "s"
      ],
      "execution_count": null,
      "outputs": [
        {
          "output_type": "execute_result",
          "data": {
            "text/plain": [
              "0    15\n",
              "1    17\n",
              "2    19\n",
              "3    21\n",
              "4    23\n",
              "dtype: int64"
            ]
          },
          "metadata": {
            "tags": []
          },
          "execution_count": 13
        }
      ]
    },
    {
      "cell_type": "markdown",
      "metadata": {
        "hidden": true,
        "id": "0W2rvBhhqTSJ"
      },
      "source": [
        "creating a Series of 5 values that evenly divide the segment 0 to 9"
      ]
    },
    {
      "cell_type": "code",
      "metadata": {
        "hidden": true,
        "colab": {
          "base_uri": "https://localhost:8080/"
        },
        "id": "CTIRdfZIqTSK",
        "outputId": "4999a3c6-e9c0-46c1-89cd-51aa3453feec"
      },
      "source": [
        "s = pd.Series(np.linspace(0, 9, 5))\n",
        "s"
      ],
      "execution_count": null,
      "outputs": [
        {
          "output_type": "execute_result",
          "data": {
            "text/plain": [
              "0    0.00\n",
              "1    2.25\n",
              "2    4.50\n",
              "3    6.75\n",
              "4    9.00\n",
              "dtype: float64"
            ]
          },
          "metadata": {
            "tags": []
          },
          "execution_count": 14
        }
      ]
    },
    {
      "cell_type": "markdown",
      "metadata": {
        "hidden": true,
        "id": "3aVWDoHpqTSK"
      },
      "source": [
        "Random number generation.\n",
        "\n",
        "We will fix the seed value, which will allow us to reproduce our results in the future"
      ]
    },
    {
      "cell_type": "markdown",
      "metadata": {
        "hidden": true,
        "id": "oJTmnXlUqTSK"
      },
      "source": [
        "Creating a Series object from 5 normally distributed random numbers"
      ]
    },
    {
      "cell_type": "code",
      "metadata": {
        "hidden": true,
        "colab": {
          "base_uri": "https://localhost:8080/"
        },
        "id": "DR3aJ0W3qTSL",
        "outputId": "6a3db803-9546-4ca9-968c-885155e7918b"
      },
      "source": [
        "np.random.seed(123)\n",
        "s = pd.Series(np.random.normal(size=5))\n",
        "s"
      ],
      "execution_count": null,
      "outputs": [
        {
          "output_type": "execute_result",
          "data": {
            "text/plain": [
              "0   -1.085631\n",
              "1    0.997345\n",
              "2    0.282978\n",
              "3   -1.506295\n",
              "4   -0.578600\n",
              "dtype: float64"
            ]
          },
          "metadata": {
            "tags": []
          },
          "execution_count": 15
        }
      ]
    },
    {
      "cell_type": "markdown",
      "metadata": {
        "hidden": true,
        "id": "D2AccJeOqTSL"
      },
      "source": [
        "Creating a 4x3 DataFrame object from random numbers"
      ]
    },
    {
      "cell_type": "code",
      "metadata": {
        "hidden": true,
        "colab": {
          "base_uri": "https://localhost:8080/",
          "height": 173
        },
        "id": "SH1gYhS8qTSM",
        "outputId": "24c6fbec-29c0-4028-f131-d5295cb8752e"
      },
      "source": [
        "np.random.seed(123)\n",
        "df = pd.DataFrame(np.random.normal(size=12).reshape(4, 3),\n",
        "                  index=['ind_1', 'ind_2', 'ind_3', 'ind_4'],\n",
        "                  columns=['col_1', 'col_2', 'col_3'])\n",
        "df"
      ],
      "execution_count": null,
      "outputs": [
        {
          "output_type": "execute_result",
          "data": {
            "text/html": [
              "<div>\n",
              "<style scoped>\n",
              "    .dataframe tbody tr th:only-of-type {\n",
              "        vertical-align: middle;\n",
              "    }\n",
              "\n",
              "    .dataframe tbody tr th {\n",
              "        vertical-align: top;\n",
              "    }\n",
              "\n",
              "    .dataframe thead th {\n",
              "        text-align: right;\n",
              "    }\n",
              "</style>\n",
              "<table border=\"1\" class=\"dataframe\">\n",
              "  <thead>\n",
              "    <tr style=\"text-align: right;\">\n",
              "      <th></th>\n",
              "      <th>col_1</th>\n",
              "      <th>col_2</th>\n",
              "      <th>col_3</th>\n",
              "    </tr>\n",
              "  </thead>\n",
              "  <tbody>\n",
              "    <tr>\n",
              "      <th>ind_1</th>\n",
              "      <td>-1.085631</td>\n",
              "      <td>0.997345</td>\n",
              "      <td>0.282978</td>\n",
              "    </tr>\n",
              "    <tr>\n",
              "      <th>ind_2</th>\n",
              "      <td>-1.506295</td>\n",
              "      <td>-0.578600</td>\n",
              "      <td>1.651437</td>\n",
              "    </tr>\n",
              "    <tr>\n",
              "      <th>ind_3</th>\n",
              "      <td>-2.426679</td>\n",
              "      <td>-0.428913</td>\n",
              "      <td>1.265936</td>\n",
              "    </tr>\n",
              "    <tr>\n",
              "      <th>ind_4</th>\n",
              "      <td>-0.866740</td>\n",
              "      <td>-0.678886</td>\n",
              "      <td>-0.094709</td>\n",
              "    </tr>\n",
              "  </tbody>\n",
              "</table>\n",
              "</div>"
            ],
            "text/plain": [
              "          col_1     col_2     col_3\n",
              "ind_1 -1.085631  0.997345  0.282978\n",
              "ind_2 -1.506295 -0.578600  1.651437\n",
              "ind_3 -2.426679 -0.428913  1.265936\n",
              "ind_4 -0.866740 -0.678886 -0.094709"
            ]
          },
          "metadata": {
            "tags": []
          },
          "execution_count": 16
        }
      ]
    },
    {
      "cell_type": "markdown",
      "metadata": {
        "heading_collapsed": true,
        "hidden": true,
        "id": "eNd4gtgHqTSM"
      },
      "source": [
        "#### [fom the file](http://pandas.pydata.org/pandas-docs/stable/user_guide/io.html#io-tools-text-csv-hdf5)"
      ]
    },
    {
      "cell_type": "markdown",
      "metadata": {
        "hidden": true,
        "id": "y-i6Yg4VqTSM"
      },
      "source": [
        "| Column Name        | Description\n",
        "| ------------- |:-------------:|\n",
        "|Symbol|Сокращенное название организации|\n",
        "|Name|Полное название организации|\n",
        "|Sector|Сектор экономики|\n",
        "|Price|Стоимость акции|\n",
        "|Dividend Yield|Дивидендная доходность|\n",
        "|Price/Earnings|Цена / прибыль|\n",
        "|Earnings/Share|Прибыль на акцию|\n",
        "|Book Value|Балансовая стоимость компании|\n",
        "|52 week low|52-недельный минимум|\n",
        "|52 week high|52-недельный максимум|\n",
        "|Market Cap|Рыночная капитализация|\n",
        "|EBITDA|**E**arnings **b**efore **i**nterest, **t**axes, **d**epreciation and **a**mortization|\n",
        "|Price/Sales|Цена / объём продаж|\n",
        "|Price/Book|Цена / балансовая стоимость|\n",
        "|SEC Filings|Ссылка *sec.gov*|"
      ]
    },
    {
      "cell_type": "code",
      "metadata": {
        "hidden": true,
        "colab": {
          "base_uri": "https://localhost:8080/",
          "height": 436
        },
        "id": "DWYgQxQ4qTSN",
        "outputId": "ebde28fc-f3eb-4cd2-a1b4-1ee629476b4f"
      },
      "source": [
        "pd.read_csv(filepath_or_buffer = \"sp500.csv\", sep = ';')"
      ],
      "execution_count": null,
      "outputs": [
        {
          "output_type": "execute_result",
          "data": {
            "text/html": [
              "<div>\n",
              "<style scoped>\n",
              "    .dataframe tbody tr th:only-of-type {\n",
              "        vertical-align: middle;\n",
              "    }\n",
              "\n",
              "    .dataframe tbody tr th {\n",
              "        vertical-align: top;\n",
              "    }\n",
              "\n",
              "    .dataframe thead th {\n",
              "        text-align: right;\n",
              "    }\n",
              "</style>\n",
              "<table border=\"1\" class=\"dataframe\">\n",
              "  <thead>\n",
              "    <tr style=\"text-align: right;\">\n",
              "      <th></th>\n",
              "      <th>Symbol,Name,Sector,Price,Dividend Yield,Price/Earnings,Earnings/Share,Book Value,52 week low,52 week high,Market Cap,EBITDA,Price/Sales,Price/Book,SEC Filings</th>\n",
              "    </tr>\n",
              "  </thead>\n",
              "  <tbody>\n",
              "    <tr>\n",
              "      <th>0</th>\n",
              "      <td>MMM,3M Co.,Industrials,141.14,2.12,20.33,6.90,...</td>\n",
              "    </tr>\n",
              "    <tr>\n",
              "      <th>1</th>\n",
              "      <td>ABT,Abbott Laboratories,Health Care,39.60,1.82...</td>\n",
              "    </tr>\n",
              "    <tr>\n",
              "      <th>2</th>\n",
              "      <td>ABBV,AbbVie Inc.,Health Care,53.95,3.02,20.87,...</td>\n",
              "    </tr>\n",
              "    <tr>\n",
              "      <th>3</th>\n",
              "      <td>ACN,Accenture,Information Technology,79.79,2.3...</td>\n",
              "    </tr>\n",
              "    <tr>\n",
              "      <th>4</th>\n",
              "      <td>ACE,ACE Limited,Financials,102.91,2.21,10.00,1...</td>\n",
              "    </tr>\n",
              "    <tr>\n",
              "      <th>...</th>\n",
              "      <td>...</td>\n",
              "    </tr>\n",
              "    <tr>\n",
              "      <th>495</th>\n",
              "      <td>YHOO,Yahoo Inc.,Information Technology,35.02,,...</td>\n",
              "    </tr>\n",
              "    <tr>\n",
              "      <th>496</th>\n",
              "      <td>YUM,Yum! Brands Inc,Consumer Discretionary,74....</td>\n",
              "    </tr>\n",
              "    <tr>\n",
              "      <th>497</th>\n",
              "      <td>ZMH,Zimmer Holdings,Health Care,101.84,0.81,22...</td>\n",
              "    </tr>\n",
              "    <tr>\n",
              "      <th>498</th>\n",
              "      <td>ZION,Zions Bancorp,Financials,28.43,0.56,18.82...</td>\n",
              "    </tr>\n",
              "    <tr>\n",
              "      <th>499</th>\n",
              "      <td>ZTS,Zoetis Inc,Health Care,30.53,0.90,29.22,1....</td>\n",
              "    </tr>\n",
              "  </tbody>\n",
              "</table>\n",
              "<p>500 rows × 1 columns</p>\n",
              "</div>"
            ],
            "text/plain": [
              "    Symbol,Name,Sector,Price,Dividend Yield,Price/Earnings,Earnings/Share,Book Value,52 week low,52 week high,Market Cap,EBITDA,Price/Sales,Price/Book,SEC Filings\n",
              "0    MMM,3M Co.,Industrials,141.14,2.12,20.33,6.90,...                                                                                                            \n",
              "1    ABT,Abbott Laboratories,Health Care,39.60,1.82...                                                                                                            \n",
              "2    ABBV,AbbVie Inc.,Health Care,53.95,3.02,20.87,...                                                                                                            \n",
              "3    ACN,Accenture,Information Technology,79.79,2.3...                                                                                                            \n",
              "4    ACE,ACE Limited,Financials,102.91,2.21,10.00,1...                                                                                                            \n",
              "..                                                 ...                                                                                                            \n",
              "495  YHOO,Yahoo Inc.,Information Technology,35.02,,...                                                                                                            \n",
              "496  YUM,Yum! Brands Inc,Consumer Discretionary,74....                                                                                                            \n",
              "497  ZMH,Zimmer Holdings,Health Care,101.84,0.81,22...                                                                                                            \n",
              "498  ZION,Zions Bancorp,Financials,28.43,0.56,18.82...                                                                                                            \n",
              "499  ZTS,Zoetis Inc,Health Care,30.53,0.90,29.22,1....                                                                                                            \n",
              "\n",
              "[500 rows x 1 columns]"
            ]
          },
          "metadata": {
            "tags": []
          },
          "execution_count": 17
        }
      ]
    },
    {
      "cell_type": "markdown",
      "metadata": {
        "hidden": true,
        "id": "wQzHgiVZqTSN"
      },
      "source": [
        "separator"
      ]
    },
    {
      "cell_type": "code",
      "metadata": {
        "hidden": true,
        "colab": {
          "base_uri": "https://localhost:8080/",
          "height": 813
        },
        "id": "MZl_mL3FqTSO",
        "outputId": "039c7820-d2e8-4a37-c268-503797905875"
      },
      "source": [
        "pd.read_csv(filepath_or_buffer = \"sp500.csv\", sep = ',')"
      ],
      "execution_count": null,
      "outputs": [
        {
          "output_type": "execute_result",
          "data": {
            "text/html": [
              "<div>\n",
              "<style scoped>\n",
              "    .dataframe tbody tr th:only-of-type {\n",
              "        vertical-align: middle;\n",
              "    }\n",
              "\n",
              "    .dataframe tbody tr th {\n",
              "        vertical-align: top;\n",
              "    }\n",
              "\n",
              "    .dataframe thead th {\n",
              "        text-align: right;\n",
              "    }\n",
              "</style>\n",
              "<table border=\"1\" class=\"dataframe\">\n",
              "  <thead>\n",
              "    <tr style=\"text-align: right;\">\n",
              "      <th></th>\n",
              "      <th>Symbol</th>\n",
              "      <th>Name</th>\n",
              "      <th>Sector</th>\n",
              "      <th>Price</th>\n",
              "      <th>Dividend Yield</th>\n",
              "      <th>Price/Earnings</th>\n",
              "      <th>Earnings/Share</th>\n",
              "      <th>Book Value</th>\n",
              "      <th>52 week low</th>\n",
              "      <th>52 week high</th>\n",
              "      <th>Market Cap</th>\n",
              "      <th>EBITDA</th>\n",
              "      <th>Price/Sales</th>\n",
              "      <th>Price/Book</th>\n",
              "      <th>SEC Filings</th>\n",
              "    </tr>\n",
              "  </thead>\n",
              "  <tbody>\n",
              "    <tr>\n",
              "      <th>0</th>\n",
              "      <td>MMM</td>\n",
              "      <td>3M Co.</td>\n",
              "      <td>Industrials</td>\n",
              "      <td>141.14</td>\n",
              "      <td>2.12</td>\n",
              "      <td>20.33</td>\n",
              "      <td>6.900</td>\n",
              "      <td>26.668</td>\n",
              "      <td>107.15</td>\n",
              "      <td>143.37</td>\n",
              "      <td>92.345</td>\n",
              "      <td>8.1210</td>\n",
              "      <td>2.95</td>\n",
              "      <td>5.26</td>\n",
              "      <td>http://www.sec.gov/cgi-bin/browse-edgar?action...</td>\n",
              "    </tr>\n",
              "    <tr>\n",
              "      <th>1</th>\n",
              "      <td>ABT</td>\n",
              "      <td>Abbott Laboratories</td>\n",
              "      <td>Health Care</td>\n",
              "      <td>39.60</td>\n",
              "      <td>1.82</td>\n",
              "      <td>25.93</td>\n",
              "      <td>1.529</td>\n",
              "      <td>15.573</td>\n",
              "      <td>32.70</td>\n",
              "      <td>40.49</td>\n",
              "      <td>59.477</td>\n",
              "      <td>4.3590</td>\n",
              "      <td>2.74</td>\n",
              "      <td>2.55</td>\n",
              "      <td>http://www.sec.gov/cgi-bin/browse-edgar?action...</td>\n",
              "    </tr>\n",
              "    <tr>\n",
              "      <th>2</th>\n",
              "      <td>ABBV</td>\n",
              "      <td>AbbVie Inc.</td>\n",
              "      <td>Health Care</td>\n",
              "      <td>53.95</td>\n",
              "      <td>3.02</td>\n",
              "      <td>20.87</td>\n",
              "      <td>2.570</td>\n",
              "      <td>2.954</td>\n",
              "      <td>40.10</td>\n",
              "      <td>54.78</td>\n",
              "      <td>85.784</td>\n",
              "      <td>7.1900</td>\n",
              "      <td>4.48</td>\n",
              "      <td>18.16</td>\n",
              "      <td>http://www.sec.gov/cgi-bin/browse-edgar?action...</td>\n",
              "    </tr>\n",
              "    <tr>\n",
              "      <th>3</th>\n",
              "      <td>ACN</td>\n",
              "      <td>Accenture</td>\n",
              "      <td>Information Technology</td>\n",
              "      <td>79.79</td>\n",
              "      <td>2.34</td>\n",
              "      <td>19.53</td>\n",
              "      <td>4.068</td>\n",
              "      <td>8.326</td>\n",
              "      <td>69.00</td>\n",
              "      <td>85.88</td>\n",
              "      <td>50.513</td>\n",
              "      <td>4.4230</td>\n",
              "      <td>1.75</td>\n",
              "      <td>9.54</td>\n",
              "      <td>http://www.sec.gov/cgi-bin/browse-edgar?action...</td>\n",
              "    </tr>\n",
              "    <tr>\n",
              "      <th>4</th>\n",
              "      <td>ACE</td>\n",
              "      <td>ACE Limited</td>\n",
              "      <td>Financials</td>\n",
              "      <td>102.91</td>\n",
              "      <td>2.21</td>\n",
              "      <td>10.00</td>\n",
              "      <td>10.293</td>\n",
              "      <td>86.897</td>\n",
              "      <td>84.73</td>\n",
              "      <td>104.07</td>\n",
              "      <td>34.753</td>\n",
              "      <td>4.2750</td>\n",
              "      <td>1.79</td>\n",
              "      <td>1.18</td>\n",
              "      <td>http://www.sec.gov/cgi-bin/browse-edgar?action...</td>\n",
              "    </tr>\n",
              "    <tr>\n",
              "      <th>...</th>\n",
              "      <td>...</td>\n",
              "      <td>...</td>\n",
              "      <td>...</td>\n",
              "      <td>...</td>\n",
              "      <td>...</td>\n",
              "      <td>...</td>\n",
              "      <td>...</td>\n",
              "      <td>...</td>\n",
              "      <td>...</td>\n",
              "      <td>...</td>\n",
              "      <td>...</td>\n",
              "      <td>...</td>\n",
              "      <td>...</td>\n",
              "      <td>...</td>\n",
              "      <td>...</td>\n",
              "    </tr>\n",
              "    <tr>\n",
              "      <th>495</th>\n",
              "      <td>YHOO</td>\n",
              "      <td>Yahoo Inc.</td>\n",
              "      <td>Information Technology</td>\n",
              "      <td>35.02</td>\n",
              "      <td>NaN</td>\n",
              "      <td>28.94</td>\n",
              "      <td>1.199</td>\n",
              "      <td>12.768</td>\n",
              "      <td>23.82</td>\n",
              "      <td>41.72</td>\n",
              "      <td>35.258</td>\n",
              "      <td>0.8873</td>\n",
              "      <td>7.48</td>\n",
              "      <td>2.72</td>\n",
              "      <td>http://www.sec.gov/cgi-bin/browse-edgar?action...</td>\n",
              "    </tr>\n",
              "    <tr>\n",
              "      <th>496</th>\n",
              "      <td>YUM</td>\n",
              "      <td>Yum! Brands Inc</td>\n",
              "      <td>Consumer Discretionary</td>\n",
              "      <td>74.77</td>\n",
              "      <td>1.93</td>\n",
              "      <td>29.86</td>\n",
              "      <td>2.507</td>\n",
              "      <td>5.147</td>\n",
              "      <td>64.08</td>\n",
              "      <td>79.70</td>\n",
              "      <td>33.002</td>\n",
              "      <td>2.8640</td>\n",
              "      <td>2.49</td>\n",
              "      <td>14.55</td>\n",
              "      <td>http://www.sec.gov/cgi-bin/browse-edgar?action...</td>\n",
              "    </tr>\n",
              "    <tr>\n",
              "      <th>497</th>\n",
              "      <td>ZMH</td>\n",
              "      <td>Zimmer Holdings</td>\n",
              "      <td>Health Care</td>\n",
              "      <td>101.84</td>\n",
              "      <td>0.81</td>\n",
              "      <td>22.92</td>\n",
              "      <td>4.441</td>\n",
              "      <td>37.181</td>\n",
              "      <td>74.55</td>\n",
              "      <td>108.33</td>\n",
              "      <td>17.091</td>\n",
              "      <td>1.6890</td>\n",
              "      <td>3.68</td>\n",
              "      <td>2.74</td>\n",
              "      <td>http://www.sec.gov/cgi-bin/browse-edgar?action...</td>\n",
              "    </tr>\n",
              "    <tr>\n",
              "      <th>498</th>\n",
              "      <td>ZION</td>\n",
              "      <td>Zions Bancorp</td>\n",
              "      <td>Financials</td>\n",
              "      <td>28.43</td>\n",
              "      <td>0.56</td>\n",
              "      <td>18.82</td>\n",
              "      <td>1.511</td>\n",
              "      <td>30.191</td>\n",
              "      <td>26.39</td>\n",
              "      <td>33.33</td>\n",
              "      <td>5.257</td>\n",
              "      <td>0.0000</td>\n",
              "      <td>2.49</td>\n",
              "      <td>0.94</td>\n",
              "      <td>http://www.sec.gov/cgi-bin/browse-edgar?action...</td>\n",
              "    </tr>\n",
              "    <tr>\n",
              "      <th>499</th>\n",
              "      <td>ZTS</td>\n",
              "      <td>Zoetis Inc</td>\n",
              "      <td>Health Care</td>\n",
              "      <td>30.53</td>\n",
              "      <td>0.90</td>\n",
              "      <td>29.22</td>\n",
              "      <td>1.038</td>\n",
              "      <td>2.150</td>\n",
              "      <td>28.14</td>\n",
              "      <td>34.28</td>\n",
              "      <td>15.296</td>\n",
              "      <td>1.2920</td>\n",
              "      <td>3.33</td>\n",
              "      <td>14.11</td>\n",
              "      <td>http://www.sec.gov/cgi-bin/browse-edgar?action...</td>\n",
              "    </tr>\n",
              "  </tbody>\n",
              "</table>\n",
              "<p>500 rows × 15 columns</p>\n",
              "</div>"
            ],
            "text/plain": [
              "    Symbol  ...                                        SEC Filings\n",
              "0      MMM  ...  http://www.sec.gov/cgi-bin/browse-edgar?action...\n",
              "1      ABT  ...  http://www.sec.gov/cgi-bin/browse-edgar?action...\n",
              "2     ABBV  ...  http://www.sec.gov/cgi-bin/browse-edgar?action...\n",
              "3      ACN  ...  http://www.sec.gov/cgi-bin/browse-edgar?action...\n",
              "4      ACE  ...  http://www.sec.gov/cgi-bin/browse-edgar?action...\n",
              "..     ...  ...                                                ...\n",
              "495   YHOO  ...  http://www.sec.gov/cgi-bin/browse-edgar?action...\n",
              "496    YUM  ...  http://www.sec.gov/cgi-bin/browse-edgar?action...\n",
              "497    ZMH  ...  http://www.sec.gov/cgi-bin/browse-edgar?action...\n",
              "498   ZION  ...  http://www.sec.gov/cgi-bin/browse-edgar?action...\n",
              "499    ZTS  ...  http://www.sec.gov/cgi-bin/browse-edgar?action...\n",
              "\n",
              "[500 rows x 15 columns]"
            ]
          },
          "metadata": {
            "tags": []
          },
          "execution_count": 19
        }
      ]
    },
    {
      "cell_type": "markdown",
      "metadata": {
        "hidden": true,
        "id": "j770YPDiqTSO"
      },
      "source": [
        "number of rows"
      ]
    },
    {
      "cell_type": "code",
      "metadata": {
        "hidden": true,
        "colab": {
          "base_uri": "https://localhost:8080/",
          "height": 298
        },
        "id": "yxkauoEnqTSO",
        "outputId": "33d44147-1226-42d1-f36f-970c300b3dce"
      },
      "source": [
        "pd.read_csv(filepath_or_buffer = \"sp500.csv\", sep = ',', nrows = 3)"
      ],
      "execution_count": null,
      "outputs": [
        {
          "output_type": "execute_result",
          "data": {
            "text/html": [
              "<div>\n",
              "<style scoped>\n",
              "    .dataframe tbody tr th:only-of-type {\n",
              "        vertical-align: middle;\n",
              "    }\n",
              "\n",
              "    .dataframe tbody tr th {\n",
              "        vertical-align: top;\n",
              "    }\n",
              "\n",
              "    .dataframe thead th {\n",
              "        text-align: right;\n",
              "    }\n",
              "</style>\n",
              "<table border=\"1\" class=\"dataframe\">\n",
              "  <thead>\n",
              "    <tr style=\"text-align: right;\">\n",
              "      <th></th>\n",
              "      <th>Symbol</th>\n",
              "      <th>Name</th>\n",
              "      <th>Sector</th>\n",
              "      <th>Price</th>\n",
              "      <th>Dividend Yield</th>\n",
              "      <th>Price/Earnings</th>\n",
              "      <th>Earnings/Share</th>\n",
              "      <th>Book Value</th>\n",
              "      <th>52 week low</th>\n",
              "      <th>52 week high</th>\n",
              "      <th>Market Cap</th>\n",
              "      <th>EBITDA</th>\n",
              "      <th>Price/Sales</th>\n",
              "      <th>Price/Book</th>\n",
              "      <th>SEC Filings</th>\n",
              "    </tr>\n",
              "  </thead>\n",
              "  <tbody>\n",
              "    <tr>\n",
              "      <th>0</th>\n",
              "      <td>MMM</td>\n",
              "      <td>3M Co.</td>\n",
              "      <td>Industrials</td>\n",
              "      <td>141.14</td>\n",
              "      <td>2.12</td>\n",
              "      <td>20.33</td>\n",
              "      <td>6.900</td>\n",
              "      <td>26.668</td>\n",
              "      <td>107.15</td>\n",
              "      <td>143.37</td>\n",
              "      <td>92.345</td>\n",
              "      <td>8.121</td>\n",
              "      <td>2.95</td>\n",
              "      <td>5.26</td>\n",
              "      <td>http://www.sec.gov/cgi-bin/browse-edgar?action...</td>\n",
              "    </tr>\n",
              "    <tr>\n",
              "      <th>1</th>\n",
              "      <td>ABT</td>\n",
              "      <td>Abbott Laboratories</td>\n",
              "      <td>Health Care</td>\n",
              "      <td>39.60</td>\n",
              "      <td>1.82</td>\n",
              "      <td>25.93</td>\n",
              "      <td>1.529</td>\n",
              "      <td>15.573</td>\n",
              "      <td>32.70</td>\n",
              "      <td>40.49</td>\n",
              "      <td>59.477</td>\n",
              "      <td>4.359</td>\n",
              "      <td>2.74</td>\n",
              "      <td>2.55</td>\n",
              "      <td>http://www.sec.gov/cgi-bin/browse-edgar?action...</td>\n",
              "    </tr>\n",
              "    <tr>\n",
              "      <th>2</th>\n",
              "      <td>ABBV</td>\n",
              "      <td>AbbVie Inc.</td>\n",
              "      <td>Health Care</td>\n",
              "      <td>53.95</td>\n",
              "      <td>3.02</td>\n",
              "      <td>20.87</td>\n",
              "      <td>2.570</td>\n",
              "      <td>2.954</td>\n",
              "      <td>40.10</td>\n",
              "      <td>54.78</td>\n",
              "      <td>85.784</td>\n",
              "      <td>7.190</td>\n",
              "      <td>4.48</td>\n",
              "      <td>18.16</td>\n",
              "      <td>http://www.sec.gov/cgi-bin/browse-edgar?action...</td>\n",
              "    </tr>\n",
              "  </tbody>\n",
              "</table>\n",
              "</div>"
            ],
            "text/plain": [
              "  Symbol  ...                                        SEC Filings\n",
              "0    MMM  ...  http://www.sec.gov/cgi-bin/browse-edgar?action...\n",
              "1    ABT  ...  http://www.sec.gov/cgi-bin/browse-edgar?action...\n",
              "2   ABBV  ...  http://www.sec.gov/cgi-bin/browse-edgar?action...\n",
              "\n",
              "[3 rows x 15 columns]"
            ]
          },
          "metadata": {
            "tags": []
          },
          "execution_count": 20
        }
      ]
    },
    {
      "cell_type": "markdown",
      "metadata": {
        "hidden": true,
        "id": "_N44ZsRuqTSP"
      },
      "source": [
        "columns"
      ]
    },
    {
      "cell_type": "code",
      "metadata": {
        "hidden": true,
        "colab": {
          "base_uri": "https://localhost:8080/",
          "height": 142
        },
        "id": "UEPS9deXqTSP",
        "outputId": "5b3daa73-aebc-4f6d-a322-689270d1e101"
      },
      "source": [
        "pd.read_csv(filepath_or_buffer = \"sp500.csv\", sep = ',', nrows = 3,\n",
        "            usecols=['Symbol', 'Sector', 'Price', 'Book Value'])"
      ],
      "execution_count": null,
      "outputs": [
        {
          "output_type": "execute_result",
          "data": {
            "text/html": [
              "<div>\n",
              "<style scoped>\n",
              "    .dataframe tbody tr th:only-of-type {\n",
              "        vertical-align: middle;\n",
              "    }\n",
              "\n",
              "    .dataframe tbody tr th {\n",
              "        vertical-align: top;\n",
              "    }\n",
              "\n",
              "    .dataframe thead th {\n",
              "        text-align: right;\n",
              "    }\n",
              "</style>\n",
              "<table border=\"1\" class=\"dataframe\">\n",
              "  <thead>\n",
              "    <tr style=\"text-align: right;\">\n",
              "      <th></th>\n",
              "      <th>Symbol</th>\n",
              "      <th>Sector</th>\n",
              "      <th>Price</th>\n",
              "      <th>Book Value</th>\n",
              "    </tr>\n",
              "  </thead>\n",
              "  <tbody>\n",
              "    <tr>\n",
              "      <th>0</th>\n",
              "      <td>MMM</td>\n",
              "      <td>Industrials</td>\n",
              "      <td>141.14</td>\n",
              "      <td>26.668</td>\n",
              "    </tr>\n",
              "    <tr>\n",
              "      <th>1</th>\n",
              "      <td>ABT</td>\n",
              "      <td>Health Care</td>\n",
              "      <td>39.60</td>\n",
              "      <td>15.573</td>\n",
              "    </tr>\n",
              "    <tr>\n",
              "      <th>2</th>\n",
              "      <td>ABBV</td>\n",
              "      <td>Health Care</td>\n",
              "      <td>53.95</td>\n",
              "      <td>2.954</td>\n",
              "    </tr>\n",
              "  </tbody>\n",
              "</table>\n",
              "</div>"
            ],
            "text/plain": [
              "  Symbol       Sector   Price  Book Value\n",
              "0    MMM  Industrials  141.14      26.668\n",
              "1    ABT  Health Care   39.60      15.573\n",
              "2   ABBV  Health Care   53.95       2.954"
            ]
          },
          "metadata": {
            "tags": []
          },
          "execution_count": 22
        }
      ]
    },
    {
      "cell_type": "markdown",
      "metadata": {
        "hidden": true,
        "id": "i8t4Bv6gqTSQ"
      },
      "source": [
        "index"
      ]
    },
    {
      "cell_type": "code",
      "metadata": {
        "hidden": true,
        "colab": {
          "base_uri": "https://localhost:8080/",
          "height": 173
        },
        "id": "QB1e9aMGqTSQ",
        "outputId": "a939dae0-877d-46ce-b30f-4f900b460aef"
      },
      "source": [
        "pd.read_csv(filepath_or_buffer = \"sp500.csv\", sep = ',', nrows = 3,\n",
        "           usecols=['Symbol', 'Sector', 'Price', 'Book Value'],\n",
        "           index_col='Symbol')"
      ],
      "execution_count": null,
      "outputs": [
        {
          "output_type": "execute_result",
          "data": {
            "text/html": [
              "<div>\n",
              "<style scoped>\n",
              "    .dataframe tbody tr th:only-of-type {\n",
              "        vertical-align: middle;\n",
              "    }\n",
              "\n",
              "    .dataframe tbody tr th {\n",
              "        vertical-align: top;\n",
              "    }\n",
              "\n",
              "    .dataframe thead th {\n",
              "        text-align: right;\n",
              "    }\n",
              "</style>\n",
              "<table border=\"1\" class=\"dataframe\">\n",
              "  <thead>\n",
              "    <tr style=\"text-align: right;\">\n",
              "      <th></th>\n",
              "      <th>Sector</th>\n",
              "      <th>Price</th>\n",
              "      <th>Book Value</th>\n",
              "    </tr>\n",
              "    <tr>\n",
              "      <th>Symbol</th>\n",
              "      <th></th>\n",
              "      <th></th>\n",
              "      <th></th>\n",
              "    </tr>\n",
              "  </thead>\n",
              "  <tbody>\n",
              "    <tr>\n",
              "      <th>MMM</th>\n",
              "      <td>Industrials</td>\n",
              "      <td>141.14</td>\n",
              "      <td>26.668</td>\n",
              "    </tr>\n",
              "    <tr>\n",
              "      <th>ABT</th>\n",
              "      <td>Health Care</td>\n",
              "      <td>39.60</td>\n",
              "      <td>15.573</td>\n",
              "    </tr>\n",
              "    <tr>\n",
              "      <th>ABBV</th>\n",
              "      <td>Health Care</td>\n",
              "      <td>53.95</td>\n",
              "      <td>2.954</td>\n",
              "    </tr>\n",
              "  </tbody>\n",
              "</table>\n",
              "</div>"
            ],
            "text/plain": [
              "             Sector   Price  Book Value\n",
              "Symbol                                 \n",
              "MMM     Industrials  141.14      26.668\n",
              "ABT     Health Care   39.60      15.573\n",
              "ABBV    Health Care   53.95       2.954"
            ]
          },
          "metadata": {
            "tags": []
          },
          "execution_count": 23
        }
      ]
    },
    {
      "cell_type": "markdown",
      "metadata": {
        "hidden": true,
        "id": "jr9tCxMUqTSQ"
      },
      "source": [
        "iterator"
      ]
    },
    {
      "cell_type": "code",
      "metadata": {
        "hidden": true,
        "id": "fZogXT4JqTSR"
      },
      "source": [
        "df_chunk = pd.read_csv(filepath_or_buffer = \"sp500.csv\", sep = ',',\n",
        "                       chunksize=50,\n",
        "                       usecols=['Symbol', 'Sector', 'Price', 'Book Value'],\n",
        "                       index_col='Symbol')"
      ],
      "execution_count": null,
      "outputs": []
    },
    {
      "cell_type": "code",
      "metadata": {
        "hidden": true,
        "colab": {
          "base_uri": "https://localhost:8080/"
        },
        "id": "wscWA3g2qTSR",
        "outputId": "8b1327ec-0771-4e3d-fe35-92d3bd099d6e"
      },
      "source": [
        "for df_tmp in df_chunk:\n",
        "    print('DataFrame part:', df_tmp.shape)   "
      ],
      "execution_count": null,
      "outputs": [
        {
          "output_type": "stream",
          "text": [
            "DataFrame part: (50, 3)\n",
            "DataFrame part: (50, 3)\n",
            "DataFrame part: (50, 3)\n",
            "DataFrame part: (50, 3)\n",
            "DataFrame part: (50, 3)\n",
            "DataFrame part: (50, 3)\n",
            "DataFrame part: (50, 3)\n",
            "DataFrame part: (50, 3)\n",
            "DataFrame part: (50, 3)\n",
            "DataFrame part: (50, 3)\n"
          ],
          "name": "stdout"
        }
      ]
    },
    {
      "cell_type": "code",
      "metadata": {
        "hidden": true,
        "colab": {
          "base_uri": "https://localhost:8080/",
          "height": 450
        },
        "id": "MdTxCxJMqTSS",
        "outputId": "4b3a22a5-b1fa-4596-bc65-145885b1b996"
      },
      "source": [
        "sp500 = pd.read_csv(filepath_or_buffer = \"sp500.csv\",\n",
        "                    sep = ',',\n",
        "                    usecols=['Symbol', 'Sector', 'Price', 'Book Value'],\n",
        "                    index_col='Symbol')\n",
        "sp500"
      ],
      "execution_count": null,
      "outputs": [
        {
          "output_type": "execute_result",
          "data": {
            "text/html": [
              "<div>\n",
              "<style scoped>\n",
              "    .dataframe tbody tr th:only-of-type {\n",
              "        vertical-align: middle;\n",
              "    }\n",
              "\n",
              "    .dataframe tbody tr th {\n",
              "        vertical-align: top;\n",
              "    }\n",
              "\n",
              "    .dataframe thead th {\n",
              "        text-align: right;\n",
              "    }\n",
              "</style>\n",
              "<table border=\"1\" class=\"dataframe\">\n",
              "  <thead>\n",
              "    <tr style=\"text-align: right;\">\n",
              "      <th></th>\n",
              "      <th>Sector</th>\n",
              "      <th>Price</th>\n",
              "      <th>Book Value</th>\n",
              "    </tr>\n",
              "    <tr>\n",
              "      <th>Symbol</th>\n",
              "      <th></th>\n",
              "      <th></th>\n",
              "      <th></th>\n",
              "    </tr>\n",
              "  </thead>\n",
              "  <tbody>\n",
              "    <tr>\n",
              "      <th>MMM</th>\n",
              "      <td>Industrials</td>\n",
              "      <td>141.14</td>\n",
              "      <td>26.668</td>\n",
              "    </tr>\n",
              "    <tr>\n",
              "      <th>ABT</th>\n",
              "      <td>Health Care</td>\n",
              "      <td>39.60</td>\n",
              "      <td>15.573</td>\n",
              "    </tr>\n",
              "    <tr>\n",
              "      <th>ABBV</th>\n",
              "      <td>Health Care</td>\n",
              "      <td>53.95</td>\n",
              "      <td>2.954</td>\n",
              "    </tr>\n",
              "    <tr>\n",
              "      <th>ACN</th>\n",
              "      <td>Information Technology</td>\n",
              "      <td>79.79</td>\n",
              "      <td>8.326</td>\n",
              "    </tr>\n",
              "    <tr>\n",
              "      <th>ACE</th>\n",
              "      <td>Financials</td>\n",
              "      <td>102.91</td>\n",
              "      <td>86.897</td>\n",
              "    </tr>\n",
              "    <tr>\n",
              "      <th>...</th>\n",
              "      <td>...</td>\n",
              "      <td>...</td>\n",
              "      <td>...</td>\n",
              "    </tr>\n",
              "    <tr>\n",
              "      <th>YHOO</th>\n",
              "      <td>Information Technology</td>\n",
              "      <td>35.02</td>\n",
              "      <td>12.768</td>\n",
              "    </tr>\n",
              "    <tr>\n",
              "      <th>YUM</th>\n",
              "      <td>Consumer Discretionary</td>\n",
              "      <td>74.77</td>\n",
              "      <td>5.147</td>\n",
              "    </tr>\n",
              "    <tr>\n",
              "      <th>ZMH</th>\n",
              "      <td>Health Care</td>\n",
              "      <td>101.84</td>\n",
              "      <td>37.181</td>\n",
              "    </tr>\n",
              "    <tr>\n",
              "      <th>ZION</th>\n",
              "      <td>Financials</td>\n",
              "      <td>28.43</td>\n",
              "      <td>30.191</td>\n",
              "    </tr>\n",
              "    <tr>\n",
              "      <th>ZTS</th>\n",
              "      <td>Health Care</td>\n",
              "      <td>30.53</td>\n",
              "      <td>2.150</td>\n",
              "    </tr>\n",
              "  </tbody>\n",
              "</table>\n",
              "<p>500 rows × 3 columns</p>\n",
              "</div>"
            ],
            "text/plain": [
              "                        Sector   Price  Book Value\n",
              "Symbol                                            \n",
              "MMM                Industrials  141.14      26.668\n",
              "ABT                Health Care   39.60      15.573\n",
              "ABBV               Health Care   53.95       2.954\n",
              "ACN     Information Technology   79.79       8.326\n",
              "ACE                 Financials  102.91      86.897\n",
              "...                        ...     ...         ...\n",
              "YHOO    Information Technology   35.02      12.768\n",
              "YUM     Consumer Discretionary   74.77       5.147\n",
              "ZMH                Health Care  101.84      37.181\n",
              "ZION                Financials   28.43      30.191\n",
              "ZTS                Health Care   30.53       2.150\n",
              "\n",
              "[500 rows x 3 columns]"
            ]
          },
          "metadata": {
            "tags": []
          },
          "execution_count": 26
        }
      ]
    },
    {
      "cell_type": "markdown",
      "metadata": {
        "heading_collapsed": true,
        "id": "qkRpNxA5qTSS"
      },
      "source": [
        "### Features"
      ]
    },
    {
      "cell_type": "markdown",
      "metadata": {
        "heading_collapsed": true,
        "hidden": true,
        "id": "Mgd0wh7sqTSS"
      },
      "source": [
        "#### creating a Series for examples"
      ]
    },
    {
      "cell_type": "code",
      "metadata": {
        "hidden": true,
        "colab": {
          "base_uri": "https://localhost:8080/"
        },
        "id": "Dfx6X4kUqTST",
        "outputId": "f5b78c5e-9030-4cbf-f487-7193cd2514c0"
      },
      "source": [
        "Simpsons = pd.Series({'Homer': 120,\n",
        "                      'Marge': 60,\n",
        "                      'Bart': 35,\n",
        "                      'Lisa': 30,\n",
        "                      'Maggie': 7})\n",
        "\n",
        "Simpsons"
      ],
      "execution_count": null,
      "outputs": [
        {
          "output_type": "execute_result",
          "data": {
            "text/plain": [
              "Homer     120\n",
              "Marge      60\n",
              "Bart       35\n",
              "Lisa       30\n",
              "Maggie      7\n",
              "dtype: int64"
            ]
          },
          "metadata": {
            "tags": []
          },
          "execution_count": 27
        }
      ]
    },
    {
      "cell_type": "code",
      "metadata": {
        "hidden": true,
        "colab": {
          "base_uri": "https://localhost:8080/"
        },
        "id": "W-fqf33pqTST",
        "outputId": "01803ffe-d2ea-48df-c2bc-e480aed8c8da"
      },
      "source": [
        "np.random.seed(123)\n",
        "numbers = pd.Series(data = np.random.normal(size=10),\n",
        "                    index = np.arange(25,35))\n",
        "numbers"
      ],
      "execution_count": null,
      "outputs": [
        {
          "output_type": "execute_result",
          "data": {
            "text/plain": [
              "25   -1.085631\n",
              "26    0.997345\n",
              "27    0.282978\n",
              "28   -1.506295\n",
              "29   -0.578600\n",
              "30    1.651437\n",
              "31   -2.426679\n",
              "32   -0.428913\n",
              "33    1.265936\n",
              "34   -0.866740\n",
              "dtype: float64"
            ]
          },
          "metadata": {
            "tags": []
          },
          "execution_count": 28
        }
      ]
    },
    {
      "cell_type": "markdown",
      "metadata": {
        "heading_collapsed": true,
        "hidden": true,
        "id": "2ae5jRPCqTSU"
      },
      "source": [
        "#### data type"
      ]
    },
    {
      "cell_type": "code",
      "metadata": {
        "hidden": true,
        "colab": {
          "base_uri": "https://localhost:8080/"
        },
        "id": "PWTHn0TkqTSU",
        "outputId": "ea46fd5d-e132-48ba-8b8d-cb7d584eebfd"
      },
      "source": [
        "Simpsons.dtype"
      ],
      "execution_count": null,
      "outputs": [
        {
          "output_type": "execute_result",
          "data": {
            "text/plain": [
              "dtype('int64')"
            ]
          },
          "metadata": {
            "tags": []
          },
          "execution_count": 29
        }
      ]
    },
    {
      "cell_type": "code",
      "metadata": {
        "hidden": true,
        "colab": {
          "base_uri": "https://localhost:8080/"
        },
        "id": "O3fQtC2_qTSU",
        "outputId": "d97e6b81-e5cb-4632-9242-fc4463135b3e"
      },
      "source": [
        "sp500.dtypes"
      ],
      "execution_count": null,
      "outputs": [
        {
          "output_type": "execute_result",
          "data": {
            "text/plain": [
              "Sector         object\n",
              "Price         float64\n",
              "Book Value    float64\n",
              "dtype: object"
            ]
          },
          "metadata": {
            "tags": []
          },
          "execution_count": 30
        }
      ]
    },
    {
      "cell_type": "markdown",
      "metadata": {
        "heading_collapsed": true,
        "hidden": true,
        "id": "PG2AQjzDqTSV"
      },
      "source": [
        "#### number of elements"
      ]
    },
    {
      "cell_type": "markdown",
      "metadata": {
        "hidden": true,
        "id": "ozNK2D8fqTSV"
      },
      "source": [
        "Series:"
      ]
    },
    {
      "cell_type": "code",
      "metadata": {
        "hidden": true,
        "colab": {
          "base_uri": "https://localhost:8080/"
        },
        "id": "3FiUwp9hqTSV",
        "outputId": "07b08fd3-01f6-4e8b-ef89-f1e36f49e941"
      },
      "source": [
        "print('The first method:', len(Simpsons))\n",
        "print('The second method:', Simpsons.size)\n",
        "print('The third method:', Simpsons.shape)"
      ],
      "execution_count": null,
      "outputs": [
        {
          "output_type": "stream",
          "text": [
            "Первый способ: 5\n",
            "Второй способ: 5\n",
            "Третий способ: (5,)\n"
          ],
          "name": "stdout"
        }
      ]
    },
    {
      "cell_type": "markdown",
      "metadata": {
        "hidden": true,
        "id": "huFMahu9qTSW"
      },
      "source": [
        "DataFrame:"
      ]
    },
    {
      "cell_type": "code",
      "metadata": {
        "hidden": true,
        "colab": {
          "base_uri": "https://localhost:8080/"
        },
        "id": "8g8hqid7qTSW",
        "outputId": "1aca1792-47d6-4661-a0fe-c53331c115d8"
      },
      "source": [
        "print('The first method:', len(sp500))\n",
        "print('The second method:', sp500.size)\n",
        "print('The third method:', sp500.shape)"
      ],
      "execution_count": null,
      "outputs": [
        {
          "output_type": "stream",
          "text": [
            "The first method: 500\n",
            "The second method: 1500\n",
            "The third method: (500, 3)\n"
          ],
          "name": "stdout"
        }
      ]
    },
    {
      "cell_type": "markdown",
      "metadata": {
        "heading_collapsed": true,
        "hidden": true,
        "id": "n8ENNiH7qTSW"
      },
      "source": [
        "#### number of unique elements"
      ]
    },
    {
      "cell_type": "code",
      "metadata": {
        "hidden": true,
        "colab": {
          "base_uri": "https://localhost:8080/"
        },
        "id": "MHnXU1mDqTSX",
        "outputId": "920c315c-605f-454d-aeab-c3c866d87e14"
      },
      "source": [
        "Simpsons.nunique()"
      ],
      "execution_count": null,
      "outputs": [
        {
          "output_type": "execute_result",
          "data": {
            "text/plain": [
              "5"
            ]
          },
          "metadata": {
            "tags": []
          },
          "execution_count": 34
        }
      ]
    },
    {
      "cell_type": "code",
      "metadata": {
        "hidden": true,
        "colab": {
          "base_uri": "https://localhost:8080/"
        },
        "id": "6w1TylwLqTSX",
        "outputId": "e24ce370-4113-4aaf-d26f-50de9aebc61a"
      },
      "source": [
        "sp500.nunique()"
      ],
      "execution_count": null,
      "outputs": [
        {
          "output_type": "execute_result",
          "data": {
            "text/plain": [
              "Sector         13\n",
              "Price         495\n",
              "Book Value    495\n",
              "dtype: int64"
            ]
          },
          "metadata": {
            "tags": []
          },
          "execution_count": 171
        }
      ]
    },
    {
      "cell_type": "markdown",
      "metadata": {
        "heading_collapsed": true,
        "hidden": true,
        "id": "MrLY0qzpqTSX"
      },
      "source": [
        "#### index and values"
      ]
    },
    {
      "cell_type": "markdown",
      "metadata": {
        "hidden": true,
        "id": "_0a4wSPPqTSY"
      },
      "source": [
        "Series:"
      ]
    },
    {
      "cell_type": "code",
      "metadata": {
        "hidden": true,
        "colab": {
          "base_uri": "https://localhost:8080/"
        },
        "id": "JA4phi4FqTSY",
        "outputId": "35ef41e5-9912-42f3-fa94-21d9587230ba"
      },
      "source": [
        "Simpsons.index"
      ],
      "execution_count": null,
      "outputs": [
        {
          "output_type": "execute_result",
          "data": {
            "text/plain": [
              "Index(['Homer', 'Marge', 'Bart', 'Lisa', 'Maggie'], dtype='object')"
            ]
          },
          "metadata": {
            "tags": []
          },
          "execution_count": 35
        }
      ]
    },
    {
      "cell_type": "code",
      "metadata": {
        "hidden": true,
        "colab": {
          "base_uri": "https://localhost:8080/"
        },
        "id": "o7sDcoLMqTSY",
        "outputId": "b5a556cf-0f9f-4a54-9a6a-24ee72420817"
      },
      "source": [
        "Simpsons.values"
      ],
      "execution_count": null,
      "outputs": [
        {
          "output_type": "execute_result",
          "data": {
            "text/plain": [
              "array([120,  60,  35,  30,   7])"
            ]
          },
          "metadata": {
            "tags": []
          },
          "execution_count": 36
        }
      ]
    },
    {
      "cell_type": "markdown",
      "metadata": {
        "hidden": true,
        "id": "yNwKTOdpqTSZ"
      },
      "source": [
        "DataFrame:"
      ]
    },
    {
      "cell_type": "code",
      "metadata": {
        "hidden": true,
        "colab": {
          "base_uri": "https://localhost:8080/"
        },
        "id": "gY8-ARluqTSZ",
        "outputId": "3c11cef4-af05-4015-db24-a9dc2f69679f"
      },
      "source": [
        "sp500.index"
      ],
      "execution_count": null,
      "outputs": [
        {
          "output_type": "execute_result",
          "data": {
            "text/plain": [
              "Index(['MMM', 'ABT', 'ABBV', 'ACN', 'ACE', 'ACT', 'ADBE', 'AES', 'AET', 'AFL',\n",
              "       ...\n",
              "       'XEL', 'XRX', 'XLNX', 'XL', 'XYL', 'YHOO', 'YUM', 'ZMH', 'ZION', 'ZTS'],\n",
              "      dtype='object', name='Symbol', length=500)"
            ]
          },
          "metadata": {
            "tags": []
          },
          "execution_count": 37
        }
      ]
    },
    {
      "cell_type": "code",
      "metadata": {
        "hidden": true,
        "colab": {
          "base_uri": "https://localhost:8080/"
        },
        "id": "X_m2dZkSqTSZ",
        "outputId": "68b7b588-ce64-42a1-a65b-7a4840810077"
      },
      "source": [
        "sp500.values"
      ],
      "execution_count": null,
      "outputs": [
        {
          "output_type": "execute_result",
          "data": {
            "text/plain": [
              "array([['Industrials', 141.14, 26.668000000000003],\n",
              "       ['Health Care', 39.6, 15.573],\n",
              "       ['Health Care', 53.95, 2.9539999999999997],\n",
              "       ...,\n",
              "       ['Health Care', 101.84, 37.181],\n",
              "       ['Financials', 28.43, 30.191],\n",
              "       ['Health Care', 30.53, 2.15]], dtype=object)"
            ]
          },
          "metadata": {
            "tags": []
          },
          "execution_count": 38
        }
      ]
    },
    {
      "cell_type": "code",
      "metadata": {
        "hidden": true,
        "colab": {
          "base_uri": "https://localhost:8080/"
        },
        "id": "P_9uXaceqTSa",
        "outputId": "4555f408-4079-4b2e-e077-5d0b0a97e61f"
      },
      "source": [
        "sp500.columns"
      ],
      "execution_count": null,
      "outputs": [
        {
          "output_type": "execute_result",
          "data": {
            "text/plain": [
              "Index(['Sector', 'Price', 'Book Value'], dtype='object')"
            ]
          },
          "metadata": {
            "tags": []
          },
          "execution_count": 39
        }
      ]
    },
    {
      "cell_type": "markdown",
      "metadata": {
        "hidden": true,
        "id": "vfam6TP6qTSa"
      },
      "source": [
        "#### assigning / changing a name"
      ]
    },
    {
      "cell_type": "markdown",
      "metadata": {
        "heading_collapsed": true,
        "hidden": true,
        "id": "8tOmvVZEqTSa"
      },
      "source": [
        "#####  Series object"
      ]
    },
    {
      "cell_type": "code",
      "metadata": {
        "hidden": true,
        "colab": {
          "base_uri": "https://localhost:8080/"
        },
        "id": "DErivtj3qTSb",
        "outputId": "ec99ecaf-9106-4ba8-f4f6-014d96fe5b39"
      },
      "source": [
        "Simpsons.name = 'Simpsons weight'\n",
        "Simpsons"
      ],
      "execution_count": null,
      "outputs": [
        {
          "output_type": "execute_result",
          "data": {
            "text/plain": [
              "Homer     120\n",
              "Marge      60\n",
              "Bart       35\n",
              "Lisa       30\n",
              "Maggie      7\n",
              "Name: Simpsons weight, dtype: int64"
            ]
          },
          "metadata": {
            "tags": []
          },
          "execution_count": 40
        }
      ]
    },
    {
      "cell_type": "markdown",
      "metadata": {
        "heading_collapsed": true,
        "hidden": true,
        "id": "5NTxuGbQqTSb"
      },
      "source": [
        "##### of the index"
      ]
    },
    {
      "cell_type": "code",
      "metadata": {
        "hidden": true,
        "colab": {
          "base_uri": "https://localhost:8080/"
        },
        "id": "ATXMhyM3qTSb",
        "outputId": "c0c1df4a-b039-404c-ef64-642ab2dad04d"
      },
      "source": [
        "Simpsons.index.name = 'First name'\n",
        "Simpsons"
      ],
      "execution_count": null,
      "outputs": [
        {
          "output_type": "execute_result",
          "data": {
            "text/plain": [
              "First name\n",
              "Homer     120\n",
              "Marge      60\n",
              "Bart       35\n",
              "Lisa       30\n",
              "Maggie      7\n",
              "Name: Simpsons weight, dtype: int64"
            ]
          },
          "metadata": {
            "tags": []
          },
          "execution_count": 41
        }
      ]
    },
    {
      "cell_type": "markdown",
      "metadata": {
        "heading_collapsed": true,
        "hidden": true,
        "id": "9USD56WWqTSc"
      },
      "source": [
        "##### of the column"
      ]
    },
    {
      "cell_type": "code",
      "metadata": {
        "hidden": true,
        "id": "lXNK6pLfqTSc"
      },
      "source": [
        "sp500_copy = sp500.rename(columns = {'Book Value': 'BookValue'})"
      ],
      "execution_count": null,
      "outputs": []
    },
    {
      "cell_type": "markdown",
      "metadata": {
        "hidden": true,
        "id": "agnLA8n6qTSc"
      },
      "source": [
        "checking if the column names in the original dataframe have changed"
      ]
    },
    {
      "cell_type": "code",
      "metadata": {
        "hidden": true,
        "colab": {
          "base_uri": "https://localhost:8080/"
        },
        "id": "TNHQ1e8lqTSd",
        "outputId": "cec5d5fc-e066-44f7-ee05-905a46d494a1"
      },
      "source": [
        "sp500.columns"
      ],
      "execution_count": null,
      "outputs": [
        {
          "output_type": "execute_result",
          "data": {
            "text/plain": [
              "Index(['Sector', 'Price', 'Book Value'], dtype='object')"
            ]
          },
          "metadata": {
            "tags": []
          },
          "execution_count": 43
        }
      ]
    },
    {
      "cell_type": "code",
      "metadata": {
        "hidden": true,
        "colab": {
          "base_uri": "https://localhost:8080/"
        },
        "id": "roeVmcz9qTSd",
        "outputId": "6f34d489-e8b6-43ec-e39e-3825e5a6d505"
      },
      "source": [
        "sp500_copy.columns"
      ],
      "execution_count": null,
      "outputs": [
        {
          "output_type": "execute_result",
          "data": {
            "text/plain": [
              "Index(['Sector', 'Price', 'BookValue'], dtype='object')"
            ]
          },
          "metadata": {
            "tags": []
          },
          "execution_count": 44
        }
      ]
    },
    {
      "cell_type": "markdown",
      "metadata": {
        "hidden": true,
        "id": "0DVenQEyqTSd"
      },
      "source": [
        "this program code renames the column in place"
      ]
    },
    {
      "cell_type": "code",
      "metadata": {
        "hidden": true,
        "id": "_LYLrNAkqTSe"
      },
      "source": [
        "sp500_copy.rename(columns = {'Book Value': 'BookValue'},\n",
        "            inplace=True)"
      ],
      "execution_count": null,
      "outputs": []
    },
    {
      "cell_type": "markdown",
      "metadata": {
        "hidden": true,
        "id": "-4cbdfvbqTSe"
      },
      "source": [
        "see if the column name has changed"
      ]
    },
    {
      "cell_type": "code",
      "metadata": {
        "hidden": true,
        "colab": {
          "base_uri": "https://localhost:8080/"
        },
        "id": "TFDQyytlqTSe",
        "outputId": "5dd0d842-6446-4872-b5ba-306a304dcf6d"
      },
      "source": [
        "sp500_copy.columns"
      ],
      "execution_count": null,
      "outputs": [
        {
          "output_type": "execute_result",
          "data": {
            "text/plain": [
              "Index(['Sector', 'Price', 'BookValue'], dtype='object')"
            ]
          },
          "metadata": {
            "tags": []
          },
          "execution_count": 46
        }
      ]
    },
    {
      "cell_type": "markdown",
      "metadata": {
        "heading_collapsed": true,
        "id": "A7PNNd5YqTSf"
      },
      "source": [
        "### Output of values"
      ]
    },
    {
      "cell_type": "markdown",
      "metadata": {
        "heading_collapsed": true,
        "hidden": true,
        "id": "IBvxvcloqTSf"
      },
      "source": [
        "#### first / last lines"
      ]
    },
    {
      "cell_type": "code",
      "metadata": {
        "hidden": true,
        "colab": {
          "base_uri": "https://localhost:8080/",
          "height": 235
        },
        "id": "DvgusuyyqTSf",
        "outputId": "f726495c-9092-4c8c-bd78-1c61f49d32ad"
      },
      "source": [
        "sp500.head()"
      ],
      "execution_count": null,
      "outputs": [
        {
          "output_type": "execute_result",
          "data": {
            "text/html": [
              "<div>\n",
              "<style scoped>\n",
              "    .dataframe tbody tr th:only-of-type {\n",
              "        vertical-align: middle;\n",
              "    }\n",
              "\n",
              "    .dataframe tbody tr th {\n",
              "        vertical-align: top;\n",
              "    }\n",
              "\n",
              "    .dataframe thead th {\n",
              "        text-align: right;\n",
              "    }\n",
              "</style>\n",
              "<table border=\"1\" class=\"dataframe\">\n",
              "  <thead>\n",
              "    <tr style=\"text-align: right;\">\n",
              "      <th></th>\n",
              "      <th>Sector</th>\n",
              "      <th>Price</th>\n",
              "      <th>Book Value</th>\n",
              "    </tr>\n",
              "    <tr>\n",
              "      <th>Symbol</th>\n",
              "      <th></th>\n",
              "      <th></th>\n",
              "      <th></th>\n",
              "    </tr>\n",
              "  </thead>\n",
              "  <tbody>\n",
              "    <tr>\n",
              "      <th>MMM</th>\n",
              "      <td>Industrials</td>\n",
              "      <td>141.14</td>\n",
              "      <td>26.668</td>\n",
              "    </tr>\n",
              "    <tr>\n",
              "      <th>ABT</th>\n",
              "      <td>Health Care</td>\n",
              "      <td>39.60</td>\n",
              "      <td>15.573</td>\n",
              "    </tr>\n",
              "    <tr>\n",
              "      <th>ABBV</th>\n",
              "      <td>Health Care</td>\n",
              "      <td>53.95</td>\n",
              "      <td>2.954</td>\n",
              "    </tr>\n",
              "    <tr>\n",
              "      <th>ACN</th>\n",
              "      <td>Information Technology</td>\n",
              "      <td>79.79</td>\n",
              "      <td>8.326</td>\n",
              "    </tr>\n",
              "    <tr>\n",
              "      <th>ACE</th>\n",
              "      <td>Financials</td>\n",
              "      <td>102.91</td>\n",
              "      <td>86.897</td>\n",
              "    </tr>\n",
              "  </tbody>\n",
              "</table>\n",
              "</div>"
            ],
            "text/plain": [
              "                        Sector   Price  Book Value\n",
              "Symbol                                            \n",
              "MMM                Industrials  141.14      26.668\n",
              "ABT                Health Care   39.60      15.573\n",
              "ABBV               Health Care   53.95       2.954\n",
              "ACN     Information Technology   79.79       8.326\n",
              "ACE                 Financials  102.91      86.897"
            ]
          },
          "metadata": {
            "tags": []
          },
          "execution_count": 47
        }
      ]
    },
    {
      "cell_type": "code",
      "metadata": {
        "hidden": true,
        "colab": {
          "base_uri": "https://localhost:8080/"
        },
        "id": "6pcVV1sdqTSg",
        "outputId": "b2cef8c7-22c7-4ddf-e866-d01d4ac1df30"
      },
      "source": [
        "Simpsons.tail(3)"
      ],
      "execution_count": null,
      "outputs": [
        {
          "output_type": "execute_result",
          "data": {
            "text/plain": [
              "First name\n",
              "Bart      35\n",
              "Lisa      30\n",
              "Maggie     7\n",
              "Name: Simpsons weight, dtype: int64"
            ]
          },
          "metadata": {
            "tags": []
          },
          "execution_count": 48
        }
      ]
    },
    {
      "cell_type": "markdown",
      "metadata": {
        "heading_collapsed": true,
        "hidden": true,
        "id": "ftg2G6pRqTSg"
      },
      "source": [
        "#### columns"
      ]
    },
    {
      "cell_type": "markdown",
      "metadata": {
        "hidden": true,
        "id": "N_Y7KRslqTSg"
      },
      "source": [
        "extracting the Sector column"
      ]
    },
    {
      "cell_type": "code",
      "metadata": {
        "hidden": true,
        "colab": {
          "base_uri": "https://localhost:8080/"
        },
        "id": "n9nL9YkNqTSh",
        "outputId": "be769d36-3b77-4537-e4ab-b61d914d6c4c"
      },
      "source": [
        "sp500['Sector'].head()"
      ],
      "execution_count": null,
      "outputs": [
        {
          "output_type": "execute_result",
          "data": {
            "text/plain": [
              "Symbol\n",
              "MMM                Industrials\n",
              "ABT                Health Care\n",
              "ABBV               Health Care\n",
              "ACN     Information Technology\n",
              "ACE                 Financials\n",
              "Name: Sector, dtype: object"
            ]
          },
          "metadata": {
            "tags": []
          },
          "execution_count": 49
        }
      ]
    },
    {
      "cell_type": "markdown",
      "metadata": {
        "hidden": true,
        "id": "qks7wWj1qTSh"
      },
      "source": [
        "dataframe column type:"
      ]
    },
    {
      "cell_type": "code",
      "metadata": {
        "hidden": true,
        "colab": {
          "base_uri": "https://localhost:8080/"
        },
        "id": "dw2R0ijwqTSh",
        "outputId": "0de5e4ca-8cf1-4c21-d35f-e1df28588b99"
      },
      "source": [
        "type(sp500['Sector'])"
      ],
      "execution_count": null,
      "outputs": [
        {
          "output_type": "execute_result",
          "data": {
            "text/plain": [
              "pandas.core.series.Series"
            ]
          },
          "metadata": {
            "tags": []
          },
          "execution_count": 50
        }
      ]
    },
    {
      "cell_type": "markdown",
      "metadata": {
        "hidden": true,
        "id": "kIBr0hm7qTSi"
      },
      "source": [
        "extracting the Price and Book Value columns"
      ]
    },
    {
      "cell_type": "code",
      "metadata": {
        "hidden": true,
        "colab": {
          "base_uri": "https://localhost:8080/",
          "height": 235
        },
        "id": "Tj5U3TEoqTSi",
        "outputId": "4bd08e04-ba4f-410e-f12e-ade568d38796"
      },
      "source": [
        "sp500[['Price', 'Book Value']].head()"
      ],
      "execution_count": null,
      "outputs": [
        {
          "output_type": "execute_result",
          "data": {
            "text/html": [
              "<div>\n",
              "<style scoped>\n",
              "    .dataframe tbody tr th:only-of-type {\n",
              "        vertical-align: middle;\n",
              "    }\n",
              "\n",
              "    .dataframe tbody tr th {\n",
              "        vertical-align: top;\n",
              "    }\n",
              "\n",
              "    .dataframe thead th {\n",
              "        text-align: right;\n",
              "    }\n",
              "</style>\n",
              "<table border=\"1\" class=\"dataframe\">\n",
              "  <thead>\n",
              "    <tr style=\"text-align: right;\">\n",
              "      <th></th>\n",
              "      <th>Price</th>\n",
              "      <th>Book Value</th>\n",
              "    </tr>\n",
              "    <tr>\n",
              "      <th>Symbol</th>\n",
              "      <th></th>\n",
              "      <th></th>\n",
              "    </tr>\n",
              "  </thead>\n",
              "  <tbody>\n",
              "    <tr>\n",
              "      <th>MMM</th>\n",
              "      <td>141.14</td>\n",
              "      <td>26.668</td>\n",
              "    </tr>\n",
              "    <tr>\n",
              "      <th>ABT</th>\n",
              "      <td>39.60</td>\n",
              "      <td>15.573</td>\n",
              "    </tr>\n",
              "    <tr>\n",
              "      <th>ABBV</th>\n",
              "      <td>53.95</td>\n",
              "      <td>2.954</td>\n",
              "    </tr>\n",
              "    <tr>\n",
              "      <th>ACN</th>\n",
              "      <td>79.79</td>\n",
              "      <td>8.326</td>\n",
              "    </tr>\n",
              "    <tr>\n",
              "      <th>ACE</th>\n",
              "      <td>102.91</td>\n",
              "      <td>86.897</td>\n",
              "    </tr>\n",
              "  </tbody>\n",
              "</table>\n",
              "</div>"
            ],
            "text/plain": [
              "         Price  Book Value\n",
              "Symbol                    \n",
              "MMM     141.14      26.668\n",
              "ABT      39.60      15.573\n",
              "ABBV     53.95       2.954\n",
              "ACN      79.79       8.326\n",
              "ACE     102.91      86.897"
            ]
          },
          "metadata": {
            "tags": []
          },
          "execution_count": 51
        }
      ]
    },
    {
      "cell_type": "markdown",
      "metadata": {
        "hidden": true,
        "id": "GuCAESnTqTSi"
      },
      "source": [
        "we show that the result is a Data Frame object"
      ]
    },
    {
      "cell_type": "code",
      "metadata": {
        "hidden": true,
        "colab": {
          "base_uri": "https://localhost:8080/"
        },
        "id": "cY-_azIfqTSj",
        "outputId": "28b294dd-3894-4463-802d-3fc91accb55f"
      },
      "source": [
        "type(sp500[['Price', 'Book Value']])"
      ],
      "execution_count": null,
      "outputs": [
        {
          "output_type": "execute_result",
          "data": {
            "text/plain": [
              "pandas.core.frame.DataFrame"
            ]
          },
          "metadata": {
            "tags": []
          },
          "execution_count": 52
        }
      ]
    },
    {
      "cell_type": "markdown",
      "metadata": {
        "hidden": true,
        "id": "0qHv6GwFqTSj"
      },
      "source": [
        "attribute access to a column by name"
      ]
    },
    {
      "cell_type": "code",
      "metadata": {
        "hidden": true,
        "colab": {
          "base_uri": "https://localhost:8080/"
        },
        "id": "51DmlLG5qTSj",
        "outputId": "65737a81-3eb6-49c3-f06b-0fb6a8cbf20b"
      },
      "source": [
        "sp500.Price.head()"
      ],
      "execution_count": null,
      "outputs": [
        {
          "output_type": "execute_result",
          "data": {
            "text/plain": [
              "Symbol\n",
              "MMM     141.14\n",
              "ABT      39.60\n",
              "ABBV     53.95\n",
              "ACN      79.79\n",
              "ACE     102.91\n",
              "Name: Price, dtype: float64"
            ]
          },
          "metadata": {
            "tags": []
          },
          "execution_count": 53
        }
      ]
    },
    {
      "cell_type": "markdown",
      "metadata": {
        "heading_collapsed": true,
        "hidden": true,
        "id": "JcDNQEbDqTSk"
      },
      "source": [
        "#### rows"
      ]
    },
    {
      "cell_type": "markdown",
      "metadata": {
        "heading_collapsed": true,
        "hidden": true,
        "id": "rocBW2cwqTSl"
      },
      "source": [
        "##### by tag"
      ]
    },
    {
      "cell_type": "markdown",
      "metadata": {
        "hidden": true,
        "id": "CCuRAyqbqTSl"
      },
      "source": [
        "**Series**"
      ]
    },
    {
      "cell_type": "code",
      "metadata": {
        "hidden": true,
        "colab": {
          "base_uri": "https://localhost:8080/"
        },
        "id": "Ft7OCF_OqTSl",
        "outputId": "2d37505b-f60d-4de1-d14a-0924f60f86fd"
      },
      "source": [
        "numbers.loc[[25,33]]"
      ],
      "execution_count": null,
      "outputs": [
        {
          "output_type": "execute_result",
          "data": {
            "text/plain": [
              "25   -1.085631\n",
              "33    1.265936\n",
              "dtype: float64"
            ]
          },
          "metadata": {
            "tags": []
          },
          "execution_count": 59
        }
      ]
    },
    {
      "cell_type": "markdown",
      "metadata": {
        "hidden": true,
        "id": "nSKzfM5eqTSm"
      },
      "source": [
        "error - no label"
      ]
    },
    {
      "cell_type": "code",
      "metadata": {
        "hidden": true,
        "id": "jWPmPTexqTSm"
      },
      "source": [
        "numbers.loc[0]"
      ],
      "execution_count": null,
      "outputs": []
    },
    {
      "cell_type": "markdown",
      "metadata": {
        "hidden": true,
        "id": "48ib8GAfqTSm"
      },
      "source": [
        "**DataFrame**"
      ]
    },
    {
      "cell_type": "markdown",
      "metadata": {
        "hidden": true,
        "id": "xe2D8i8pqTSn"
      },
      "source": [
        "we get a string with the MMM index label, which is returned as a Series object"
      ]
    },
    {
      "cell_type": "code",
      "metadata": {
        "hidden": true,
        "colab": {
          "base_uri": "https://localhost:8080/"
        },
        "id": "XxdZWT6hqTSn",
        "outputId": "f1493485-a11b-4775-a3d2-146d43478716"
      },
      "source": [
        "sp500.loc['MMM']"
      ],
      "execution_count": null,
      "outputs": [
        {
          "output_type": "execute_result",
          "data": {
            "text/plain": [
              "Sector        Industrials\n",
              "Price              141.14\n",
              "Book Value         26.668\n",
              "Name: MMM, dtype: object"
            ]
          },
          "metadata": {
            "tags": []
          },
          "execution_count": 61
        }
      ]
    },
    {
      "cell_type": "code",
      "metadata": {
        "hidden": true,
        "colab": {
          "base_uri": "https://localhost:8080/"
        },
        "id": "7mbOALe5qTSn",
        "outputId": "8c85066b-8d3a-42f0-8583-72456bfe9ad4"
      },
      "source": [
        "type(sp500.loc['MMM'])"
      ],
      "execution_count": null,
      "outputs": [
        {
          "output_type": "execute_result",
          "data": {
            "text/plain": [
              "pandas.core.series.Series"
            ]
          },
          "metadata": {
            "tags": []
          },
          "execution_count": 62
        }
      ]
    },
    {
      "cell_type": "markdown",
      "metadata": {
        "hidden": true,
        "id": "EZlHnlDyqTSo"
      },
      "source": [
        "we get the strings MMM and MSFT the result will be a DataFrame object"
      ]
    },
    {
      "cell_type": "code",
      "metadata": {
        "hidden": true,
        "colab": {
          "base_uri": "https://localhost:8080/",
          "height": 142
        },
        "id": "sQJhYWLfqTSo",
        "outputId": "9f4e364d-8bb4-4907-a730-a31d8b42b053"
      },
      "source": [
        "sp500.loc[['MMM', 'MSFT']]"
      ],
      "execution_count": null,
      "outputs": [
        {
          "output_type": "execute_result",
          "data": {
            "text/html": [
              "<div>\n",
              "<style scoped>\n",
              "    .dataframe tbody tr th:only-of-type {\n",
              "        vertical-align: middle;\n",
              "    }\n",
              "\n",
              "    .dataframe tbody tr th {\n",
              "        vertical-align: top;\n",
              "    }\n",
              "\n",
              "    .dataframe thead th {\n",
              "        text-align: right;\n",
              "    }\n",
              "</style>\n",
              "<table border=\"1\" class=\"dataframe\">\n",
              "  <thead>\n",
              "    <tr style=\"text-align: right;\">\n",
              "      <th></th>\n",
              "      <th>Sector</th>\n",
              "      <th>Price</th>\n",
              "      <th>Book Value</th>\n",
              "    </tr>\n",
              "    <tr>\n",
              "      <th>Symbol</th>\n",
              "      <th></th>\n",
              "      <th></th>\n",
              "      <th></th>\n",
              "    </tr>\n",
              "  </thead>\n",
              "  <tbody>\n",
              "    <tr>\n",
              "      <th>MMM</th>\n",
              "      <td>Industrials</td>\n",
              "      <td>141.14</td>\n",
              "      <td>26.668</td>\n",
              "    </tr>\n",
              "    <tr>\n",
              "      <th>MSFT</th>\n",
              "      <td>Information Technology</td>\n",
              "      <td>40.12</td>\n",
              "      <td>10.584</td>\n",
              "    </tr>\n",
              "  </tbody>\n",
              "</table>\n",
              "</div>"
            ],
            "text/plain": [
              "                        Sector   Price  Book Value\n",
              "Symbol                                            \n",
              "MMM                Industrials  141.14      26.668\n",
              "MSFT    Information Technology   40.12      10.584"
            ]
          },
          "metadata": {
            "tags": []
          },
          "execution_count": 63
        }
      ]
    },
    {
      "cell_type": "code",
      "metadata": {
        "hidden": true,
        "colab": {
          "base_uri": "https://localhost:8080/"
        },
        "id": "L4wcOjWkqTSp",
        "outputId": "5dd438ad-1bf3-4ae3-80a9-76ae3e744420"
      },
      "source": [
        "type(sp500.loc[['MMM', 'MSFT']])"
      ],
      "execution_count": null,
      "outputs": [
        {
          "output_type": "execute_result",
          "data": {
            "text/plain": [
              "pandas.core.frame.DataFrame"
            ]
          },
          "metadata": {
            "tags": []
          },
          "execution_count": 64
        }
      ]
    },
    {
      "cell_type": "markdown",
      "metadata": {
        "heading_collapsed": true,
        "hidden": true,
        "id": "PvocXP-aqTSp"
      },
      "source": [
        "##### by position"
      ]
    },
    {
      "cell_type": "markdown",
      "metadata": {
        "hidden": true,
        "id": "W5epOe4HqTSp"
      },
      "source": [
        "**Series** "
      ]
    },
    {
      "cell_type": "code",
      "metadata": {
        "hidden": true,
        "colab": {
          "base_uri": "https://localhost:8080/"
        },
        "id": "W9dETJcUqTSq",
        "outputId": "633c2d58-87fc-46a7-8efa-f413925ef1c5"
      },
      "source": [
        "numbers"
      ],
      "execution_count": null,
      "outputs": [
        {
          "output_type": "execute_result",
          "data": {
            "text/plain": [
              "25   -1.085631\n",
              "26    0.997345\n",
              "27    0.282978\n",
              "28   -1.506295\n",
              "29   -0.578600\n",
              "30    1.651437\n",
              "31   -2.426679\n",
              "32   -0.428913\n",
              "33    1.265936\n",
              "34   -0.866740\n",
              "dtype: float64"
            ]
          },
          "metadata": {
            "tags": []
          },
          "execution_count": 65
        }
      ]
    },
    {
      "cell_type": "markdown",
      "metadata": {
        "hidden": true,
        "id": "3k3mrAlCqTSq"
      },
      "source": [
        "by position"
      ]
    },
    {
      "cell_type": "code",
      "metadata": {
        "hidden": true,
        "colab": {
          "base_uri": "https://localhost:8080/"
        },
        "id": "bO39V_CTqTSq",
        "outputId": "1732d091-ac43-47e5-d2bd-6bf06471c928"
      },
      "source": [
        "numbers.iloc[[5,-5]]"
      ],
      "execution_count": null,
      "outputs": [
        {
          "output_type": "execute_result",
          "data": {
            "text/plain": [
              "30    1.651437\n",
              "30    1.651437\n",
              "dtype: float64"
            ]
          },
          "metadata": {
            "tags": []
          },
          "execution_count": 66
        }
      ]
    },
    {
      "cell_type": "markdown",
      "metadata": {
        "hidden": true,
        "id": "58X1wOK5qTSr"
      },
      "source": [
        "error:"
      ]
    },
    {
      "cell_type": "code",
      "metadata": {
        "hidden": true,
        "id": "inNKtvS8qTSr"
      },
      "source": [
        "numbers.iloc[10]"
      ],
      "execution_count": null,
      "outputs": []
    },
    {
      "cell_type": "markdown",
      "metadata": {
        "hidden": true,
        "id": "wqjQvL3rqTSr"
      },
      "source": [
        "**DataFrame**"
      ]
    },
    {
      "cell_type": "markdown",
      "metadata": {
        "hidden": true,
        "id": "VznM089UqTSs"
      },
      "source": [
        "we get the rows that have positions 0 and 2"
      ]
    },
    {
      "cell_type": "code",
      "metadata": {
        "hidden": true,
        "colab": {
          "base_uri": "https://localhost:8080/",
          "height": 142
        },
        "id": "aTPitupOqTSs",
        "outputId": "68220280-9d4a-445f-b382-31cd3ada7f87"
      },
      "source": [
        "sp500.iloc[[0, 2]]"
      ],
      "execution_count": null,
      "outputs": [
        {
          "output_type": "execute_result",
          "data": {
            "text/html": [
              "<div>\n",
              "<style scoped>\n",
              "    .dataframe tbody tr th:only-of-type {\n",
              "        vertical-align: middle;\n",
              "    }\n",
              "\n",
              "    .dataframe tbody tr th {\n",
              "        vertical-align: top;\n",
              "    }\n",
              "\n",
              "    .dataframe thead th {\n",
              "        text-align: right;\n",
              "    }\n",
              "</style>\n",
              "<table border=\"1\" class=\"dataframe\">\n",
              "  <thead>\n",
              "    <tr style=\"text-align: right;\">\n",
              "      <th></th>\n",
              "      <th>Sector</th>\n",
              "      <th>Price</th>\n",
              "      <th>Book Value</th>\n",
              "    </tr>\n",
              "    <tr>\n",
              "      <th>Symbol</th>\n",
              "      <th></th>\n",
              "      <th></th>\n",
              "      <th></th>\n",
              "    </tr>\n",
              "  </thead>\n",
              "  <tbody>\n",
              "    <tr>\n",
              "      <th>MMM</th>\n",
              "      <td>Industrials</td>\n",
              "      <td>141.14</td>\n",
              "      <td>26.668</td>\n",
              "    </tr>\n",
              "    <tr>\n",
              "      <th>ABBV</th>\n",
              "      <td>Health Care</td>\n",
              "      <td>53.95</td>\n",
              "      <td>2.954</td>\n",
              "    </tr>\n",
              "  </tbody>\n",
              "</table>\n",
              "</div>"
            ],
            "text/plain": [
              "             Sector   Price  Book Value\n",
              "Symbol                                 \n",
              "MMM     Industrials  141.14      26.668\n",
              "ABBV    Health Care   53.95       2.954"
            ]
          },
          "metadata": {
            "tags": []
          },
          "execution_count": 68
        }
      ]
    },
    {
      "cell_type": "markdown",
      "metadata": {
        "hidden": true,
        "id": "2Na_2_j_qTSs"
      },
      "source": [
        "we get the positions of the labels M and A in the index"
      ]
    },
    {
      "cell_type": "code",
      "metadata": {
        "hidden": true,
        "colab": {
          "base_uri": "https://localhost:8080/"
        },
        "id": "5CQdvI65qTSt",
        "outputId": "05367f32-2263-4c48-fac1-0d1fd65e9e54"
      },
      "source": [
        "i1 = sp500.index.get_loc('MMM')\n",
        "i2 = sp500.index.get_loc('A')\n",
        "(i1, i2)"
      ],
      "execution_count": null,
      "outputs": [
        {
          "output_type": "execute_result",
          "data": {
            "text/plain": [
              "(0, 10)"
            ]
          },
          "metadata": {
            "tags": []
          },
          "execution_count": 69
        }
      ]
    },
    {
      "cell_type": "markdown",
      "metadata": {
        "hidden": true,
        "id": "1wIKGk29qTSt"
      },
      "source": [
        "and extract the strings"
      ]
    },
    {
      "cell_type": "code",
      "metadata": {
        "hidden": true,
        "colab": {
          "base_uri": "https://localhost:8080/",
          "height": 142
        },
        "id": "lxTmSYoDqTSt",
        "outputId": "3e81f67e-7e34-4c27-fb2e-5bc777f10411"
      },
      "source": [
        "sp500.iloc[[i1, i2]]"
      ],
      "execution_count": null,
      "outputs": [
        {
          "output_type": "execute_result",
          "data": {
            "text/html": [
              "<div>\n",
              "<style scoped>\n",
              "    .dataframe tbody tr th:only-of-type {\n",
              "        vertical-align: middle;\n",
              "    }\n",
              "\n",
              "    .dataframe tbody tr th {\n",
              "        vertical-align: top;\n",
              "    }\n",
              "\n",
              "    .dataframe thead th {\n",
              "        text-align: right;\n",
              "    }\n",
              "</style>\n",
              "<table border=\"1\" class=\"dataframe\">\n",
              "  <thead>\n",
              "    <tr style=\"text-align: right;\">\n",
              "      <th></th>\n",
              "      <th>Sector</th>\n",
              "      <th>Price</th>\n",
              "      <th>Book Value</th>\n",
              "    </tr>\n",
              "    <tr>\n",
              "      <th>Symbol</th>\n",
              "      <th></th>\n",
              "      <th></th>\n",
              "      <th></th>\n",
              "    </tr>\n",
              "  </thead>\n",
              "  <tbody>\n",
              "    <tr>\n",
              "      <th>MMM</th>\n",
              "      <td>Industrials</td>\n",
              "      <td>141.14</td>\n",
              "      <td>26.668</td>\n",
              "    </tr>\n",
              "    <tr>\n",
              "      <th>A</th>\n",
              "      <td>Health Care</td>\n",
              "      <td>56.18</td>\n",
              "      <td>16.928</td>\n",
              "    </tr>\n",
              "  </tbody>\n",
              "</table>\n",
              "</div>"
            ],
            "text/plain": [
              "             Sector   Price  Book Value\n",
              "Symbol                                 \n",
              "MMM     Industrials  141.14      26.668\n",
              "A       Health Care   56.18      16.928"
            ]
          },
          "metadata": {
            "tags": []
          },
          "execution_count": 70
        }
      ]
    },
    {
      "cell_type": "markdown",
      "metadata": {
        "heading_collapsed": true,
        "hidden": true,
        "id": "Mwa1ItNQqTSu"
      },
      "source": [
        "#### finding a scalar value"
      ]
    },
    {
      "cell_type": "markdown",
      "metadata": {
        "hidden": true,
        "id": "Ahgph_u5qTSu"
      },
      "source": [
        "looking for a scalar value by the row label and the column label (name) "
      ]
    },
    {
      "cell_type": "code",
      "metadata": {
        "hidden": true,
        "colab": {
          "base_uri": "https://localhost:8080/"
        },
        "id": "S8tDDfFqqTSu",
        "outputId": "765ab157-4aa6-496d-fe34-14e5da27bb9e"
      },
      "source": [
        "sp500.at['MMM', 'Price']"
      ],
      "execution_count": null,
      "outputs": [
        {
          "output_type": "execute_result",
          "data": {
            "text/plain": [
              "141.14"
            ]
          },
          "metadata": {
            "tags": []
          },
          "execution_count": 71
        }
      ]
    },
    {
      "cell_type": "markdown",
      "metadata": {
        "hidden": true,
        "id": "kZEJEf_5qTSu"
      },
      "source": [
        "search for a scalar value by row position and column position; extract the value in row 0, column 1"
      ]
    },
    {
      "cell_type": "code",
      "metadata": {
        "hidden": true,
        "colab": {
          "base_uri": "https://localhost:8080/"
        },
        "id": "Ex4_QmUuqTSv",
        "outputId": "8d6d2b49-e1fd-470f-9020-1153b32485ec"
      },
      "source": [
        "sp500.iat[0, 1]"
      ],
      "execution_count": null,
      "outputs": [
        {
          "output_type": "execute_result",
          "data": {
            "text/plain": [
              "141.14"
            ]
          },
          "metadata": {
            "tags": []
          },
          "execution_count": 72
        }
      ]
    },
    {
      "cell_type": "markdown",
      "metadata": {
        "heading_collapsed": true,
        "hidden": true,
        "id": "4HRKWMRmqTSv"
      },
      "source": [
        "#### simultaneous selection of rows and columns"
      ]
    },
    {
      "cell_type": "markdown",
      "metadata": {
        "hidden": true,
        "id": "-gMiMISFqTSv"
      },
      "source": [
        "selecting rows with index labels ABT and ZTS for the Sector and Price columns"
      ]
    },
    {
      "cell_type": "code",
      "metadata": {
        "hidden": true,
        "colab": {
          "base_uri": "https://localhost:8080/",
          "height": 142
        },
        "id": "Hju25sWNqTSw",
        "outputId": "9b2208be-2f61-43a0-cd8e-6424c1d7cd6d"
      },
      "source": [
        "sp500.loc[['ABT', 'ZTS']][['Sector', 'Price']]"
      ],
      "execution_count": null,
      "outputs": [
        {
          "output_type": "execute_result",
          "data": {
            "text/html": [
              "<div>\n",
              "<style scoped>\n",
              "    .dataframe tbody tr th:only-of-type {\n",
              "        vertical-align: middle;\n",
              "    }\n",
              "\n",
              "    .dataframe tbody tr th {\n",
              "        vertical-align: top;\n",
              "    }\n",
              "\n",
              "    .dataframe thead th {\n",
              "        text-align: right;\n",
              "    }\n",
              "</style>\n",
              "<table border=\"1\" class=\"dataframe\">\n",
              "  <thead>\n",
              "    <tr style=\"text-align: right;\">\n",
              "      <th></th>\n",
              "      <th>Sector</th>\n",
              "      <th>Price</th>\n",
              "    </tr>\n",
              "    <tr>\n",
              "      <th>Symbol</th>\n",
              "      <th></th>\n",
              "      <th></th>\n",
              "    </tr>\n",
              "  </thead>\n",
              "  <tbody>\n",
              "    <tr>\n",
              "      <th>ABT</th>\n",
              "      <td>Health Care</td>\n",
              "      <td>39.60</td>\n",
              "    </tr>\n",
              "    <tr>\n",
              "      <th>ZTS</th>\n",
              "      <td>Health Care</td>\n",
              "      <td>30.53</td>\n",
              "    </tr>\n",
              "  </tbody>\n",
              "</table>\n",
              "</div>"
            ],
            "text/plain": [
              "             Sector  Price\n",
              "Symbol                    \n",
              "ABT     Health Care  39.60\n",
              "ZTS     Health Care  30.53"
            ]
          },
          "metadata": {
            "tags": []
          },
          "execution_count": 172
        }
      ]
    },
    {
      "cell_type": "code",
      "metadata": {
        "hidden": true,
        "colab": {
          "base_uri": "https://localhost:8080/",
          "height": 142
        },
        "id": "KiwCMzYIqTSw",
        "outputId": "9a555879-b6cb-4466-8d30-af7e58de5102"
      },
      "source": [
        "sp500.loc[['ABT', 'ZTS'],['Sector', 'Price']]"
      ],
      "execution_count": null,
      "outputs": [
        {
          "output_type": "execute_result",
          "data": {
            "text/html": [
              "<div>\n",
              "<style scoped>\n",
              "    .dataframe tbody tr th:only-of-type {\n",
              "        vertical-align: middle;\n",
              "    }\n",
              "\n",
              "    .dataframe tbody tr th {\n",
              "        vertical-align: top;\n",
              "    }\n",
              "\n",
              "    .dataframe thead th {\n",
              "        text-align: right;\n",
              "    }\n",
              "</style>\n",
              "<table border=\"1\" class=\"dataframe\">\n",
              "  <thead>\n",
              "    <tr style=\"text-align: right;\">\n",
              "      <th></th>\n",
              "      <th>Sector</th>\n",
              "      <th>Price</th>\n",
              "    </tr>\n",
              "    <tr>\n",
              "      <th>Symbol</th>\n",
              "      <th></th>\n",
              "      <th></th>\n",
              "    </tr>\n",
              "  </thead>\n",
              "  <tbody>\n",
              "    <tr>\n",
              "      <th>ABT</th>\n",
              "      <td>Health Care</td>\n",
              "      <td>39.60</td>\n",
              "    </tr>\n",
              "    <tr>\n",
              "      <th>ZTS</th>\n",
              "      <td>Health Care</td>\n",
              "      <td>30.53</td>\n",
              "    </tr>\n",
              "  </tbody>\n",
              "</table>\n",
              "</div>"
            ],
            "text/plain": [
              "             Sector  Price\n",
              "Symbol                    \n",
              "ABT     Health Care  39.60\n",
              "ZTS     Health Care  30.53"
            ]
          },
          "metadata": {
            "tags": []
          },
          "execution_count": 73
        }
      ]
    },
    {
      "cell_type": "markdown",
      "metadata": {
        "hidden": true,
        "id": "mDpCR88QqTSw"
      },
      "source": [
        "determining the position number of the specified placemarks"
      ]
    },
    {
      "cell_type": "code",
      "metadata": {
        "hidden": true,
        "colab": {
          "base_uri": "https://localhost:8080/"
        },
        "id": "ofWoEdk0qTSx",
        "outputId": "25135535-5457-41d6-a05d-5eae6a1314cb"
      },
      "source": [
        "print(sp500.index.get_loc('ABT'),sp500.index.get_loc('ZTS')) "
      ],
      "execution_count": null,
      "outputs": [
        {
          "output_type": "stream",
          "text": [
            "1 499\n"
          ],
          "name": "stdout"
        }
      ]
    },
    {
      "cell_type": "markdown",
      "metadata": {
        "hidden": true,
        "id": "UQ3WnOjJqTSx"
      },
      "source": [
        "selecting rows and columns by item number"
      ]
    },
    {
      "cell_type": "code",
      "metadata": {
        "hidden": true,
        "colab": {
          "base_uri": "https://localhost:8080/",
          "height": 142
        },
        "id": "ssEn8RmxqTSx",
        "outputId": "97561f56-d4e7-4323-91cd-a4ef0603cad5"
      },
      "source": [
        "sp500.iloc[[1,499],[0,1]]"
      ],
      "execution_count": null,
      "outputs": [
        {
          "output_type": "execute_result",
          "data": {
            "text/html": [
              "<div>\n",
              "<style scoped>\n",
              "    .dataframe tbody tr th:only-of-type {\n",
              "        vertical-align: middle;\n",
              "    }\n",
              "\n",
              "    .dataframe tbody tr th {\n",
              "        vertical-align: top;\n",
              "    }\n",
              "\n",
              "    .dataframe thead th {\n",
              "        text-align: right;\n",
              "    }\n",
              "</style>\n",
              "<table border=\"1\" class=\"dataframe\">\n",
              "  <thead>\n",
              "    <tr style=\"text-align: right;\">\n",
              "      <th></th>\n",
              "      <th>Sector</th>\n",
              "      <th>Price</th>\n",
              "    </tr>\n",
              "    <tr>\n",
              "      <th>Symbol</th>\n",
              "      <th></th>\n",
              "      <th></th>\n",
              "    </tr>\n",
              "  </thead>\n",
              "  <tbody>\n",
              "    <tr>\n",
              "      <th>ABT</th>\n",
              "      <td>Health Care</td>\n",
              "      <td>39.60</td>\n",
              "    </tr>\n",
              "    <tr>\n",
              "      <th>ZTS</th>\n",
              "      <td>Health Care</td>\n",
              "      <td>30.53</td>\n",
              "    </tr>\n",
              "  </tbody>\n",
              "</table>\n",
              "</div>"
            ],
            "text/plain": [
              "             Sector  Price\n",
              "Symbol                    \n",
              "ABT     Health Care  39.60\n",
              "ZTS     Health Care  30.53"
            ]
          },
          "metadata": {
            "tags": []
          },
          "execution_count": 75
        }
      ]
    },
    {
      "cell_type": "markdown",
      "metadata": {
        "heading_collapsed": true,
        "hidden": true,
        "id": "MC1k2dRgqTSy"
      },
      "source": [
        "#### transpose"
      ]
    },
    {
      "cell_type": "code",
      "metadata": {
        "hidden": true,
        "colab": {
          "base_uri": "https://localhost:8080/",
          "height": 235
        },
        "id": "zhl73QWgqTSy",
        "outputId": "b9779327-b6c3-4771-b648-96ba15fce6f2"
      },
      "source": [
        "sp500.head()"
      ],
      "execution_count": null,
      "outputs": [
        {
          "output_type": "execute_result",
          "data": {
            "text/html": [
              "<div>\n",
              "<style scoped>\n",
              "    .dataframe tbody tr th:only-of-type {\n",
              "        vertical-align: middle;\n",
              "    }\n",
              "\n",
              "    .dataframe tbody tr th {\n",
              "        vertical-align: top;\n",
              "    }\n",
              "\n",
              "    .dataframe thead th {\n",
              "        text-align: right;\n",
              "    }\n",
              "</style>\n",
              "<table border=\"1\" class=\"dataframe\">\n",
              "  <thead>\n",
              "    <tr style=\"text-align: right;\">\n",
              "      <th></th>\n",
              "      <th>Sector</th>\n",
              "      <th>Price</th>\n",
              "      <th>Book Value</th>\n",
              "    </tr>\n",
              "    <tr>\n",
              "      <th>Symbol</th>\n",
              "      <th></th>\n",
              "      <th></th>\n",
              "      <th></th>\n",
              "    </tr>\n",
              "  </thead>\n",
              "  <tbody>\n",
              "    <tr>\n",
              "      <th>MMM</th>\n",
              "      <td>Industrials</td>\n",
              "      <td>141.14</td>\n",
              "      <td>26.668</td>\n",
              "    </tr>\n",
              "    <tr>\n",
              "      <th>ABT</th>\n",
              "      <td>Health Care</td>\n",
              "      <td>39.60</td>\n",
              "      <td>15.573</td>\n",
              "    </tr>\n",
              "    <tr>\n",
              "      <th>ABBV</th>\n",
              "      <td>Health Care</td>\n",
              "      <td>53.95</td>\n",
              "      <td>2.954</td>\n",
              "    </tr>\n",
              "    <tr>\n",
              "      <th>ACN</th>\n",
              "      <td>Information Technology</td>\n",
              "      <td>79.79</td>\n",
              "      <td>8.326</td>\n",
              "    </tr>\n",
              "    <tr>\n",
              "      <th>ACE</th>\n",
              "      <td>Financials</td>\n",
              "      <td>102.91</td>\n",
              "      <td>86.897</td>\n",
              "    </tr>\n",
              "  </tbody>\n",
              "</table>\n",
              "</div>"
            ],
            "text/plain": [
              "                        Sector   Price  Book Value\n",
              "Symbol                                            \n",
              "MMM                Industrials  141.14      26.668\n",
              "ABT                Health Care   39.60      15.573\n",
              "ABBV               Health Care   53.95       2.954\n",
              "ACN     Information Technology   79.79       8.326\n",
              "ACE                 Financials  102.91      86.897"
            ]
          },
          "metadata": {
            "tags": []
          },
          "execution_count": 76
        }
      ]
    },
    {
      "cell_type": "code",
      "metadata": {
        "hidden": true,
        "colab": {
          "base_uri": "https://localhost:8080/",
          "height": 225
        },
        "id": "oK2q3vfiqTSy",
        "outputId": "34a78078-56fb-4a32-e043-fe3aa12020bf"
      },
      "source": [
        "sp500.T.head()"
      ],
      "execution_count": null,
      "outputs": [
        {
          "output_type": "execute_result",
          "data": {
            "text/html": [
              "<div>\n",
              "<style scoped>\n",
              "    .dataframe tbody tr th:only-of-type {\n",
              "        vertical-align: middle;\n",
              "    }\n",
              "\n",
              "    .dataframe tbody tr th {\n",
              "        vertical-align: top;\n",
              "    }\n",
              "\n",
              "    .dataframe thead th {\n",
              "        text-align: right;\n",
              "    }\n",
              "</style>\n",
              "<table border=\"1\" class=\"dataframe\">\n",
              "  <thead>\n",
              "    <tr style=\"text-align: right;\">\n",
              "      <th>Symbol</th>\n",
              "      <th>MMM</th>\n",
              "      <th>ABT</th>\n",
              "      <th>ABBV</th>\n",
              "      <th>ACN</th>\n",
              "      <th>ACE</th>\n",
              "      <th>ACT</th>\n",
              "      <th>ADBE</th>\n",
              "      <th>AES</th>\n",
              "      <th>AET</th>\n",
              "      <th>AFL</th>\n",
              "      <th>A</th>\n",
              "      <th>GAS</th>\n",
              "      <th>APD</th>\n",
              "      <th>ARG</th>\n",
              "      <th>AKAM</th>\n",
              "      <th>AA</th>\n",
              "      <th>ALXN</th>\n",
              "      <th>ATI</th>\n",
              "      <th>ALLE</th>\n",
              "      <th>AGN</th>\n",
              "      <th>ADS</th>\n",
              "      <th>ALL</th>\n",
              "      <th>ALTR</th>\n",
              "      <th>MO</th>\n",
              "      <th>AMZN</th>\n",
              "      <th>AEE</th>\n",
              "      <th>AEP</th>\n",
              "      <th>AXP</th>\n",
              "      <th>AIG</th>\n",
              "      <th>AMT</th>\n",
              "      <th>AMP</th>\n",
              "      <th>ABC</th>\n",
              "      <th>AME</th>\n",
              "      <th>AMGN</th>\n",
              "      <th>APH</th>\n",
              "      <th>APC</th>\n",
              "      <th>ADI</th>\n",
              "      <th>AON</th>\n",
              "      <th>APA</th>\n",
              "      <th>AIV</th>\n",
              "      <th>...</th>\n",
              "      <th>UNM</th>\n",
              "      <th>URBN</th>\n",
              "      <th>USB</th>\n",
              "      <th>VLO</th>\n",
              "      <th>VAR</th>\n",
              "      <th>VTR</th>\n",
              "      <th>VRSN</th>\n",
              "      <th>VZ</th>\n",
              "      <th>VRTX</th>\n",
              "      <th>VFC</th>\n",
              "      <th>VIAB</th>\n",
              "      <th>V</th>\n",
              "      <th>VNO</th>\n",
              "      <th>VMC</th>\n",
              "      <th>WMT</th>\n",
              "      <th>WAG</th>\n",
              "      <th>DIS</th>\n",
              "      <th>WM</th>\n",
              "      <th>WAT</th>\n",
              "      <th>WLP</th>\n",
              "      <th>WFC</th>\n",
              "      <th>WDC</th>\n",
              "      <th>WU</th>\n",
              "      <th>WY</th>\n",
              "      <th>WHR</th>\n",
              "      <th>WFM</th>\n",
              "      <th>WIN</th>\n",
              "      <th>WEC</th>\n",
              "      <th>WYN</th>\n",
              "      <th>WYNN</th>\n",
              "      <th>XEL</th>\n",
              "      <th>XRX</th>\n",
              "      <th>XLNX</th>\n",
              "      <th>XL</th>\n",
              "      <th>XYL</th>\n",
              "      <th>YHOO</th>\n",
              "      <th>YUM</th>\n",
              "      <th>ZMH</th>\n",
              "      <th>ZION</th>\n",
              "      <th>ZTS</th>\n",
              "    </tr>\n",
              "  </thead>\n",
              "  <tbody>\n",
              "    <tr>\n",
              "      <th>Sector</th>\n",
              "      <td>Industrials</td>\n",
              "      <td>Health Care</td>\n",
              "      <td>Health Care</td>\n",
              "      <td>Information Technology</td>\n",
              "      <td>Financials</td>\n",
              "      <td>Health Care</td>\n",
              "      <td>Information Technology</td>\n",
              "      <td>Utilities</td>\n",
              "      <td>Health Care</td>\n",
              "      <td>Financials</td>\n",
              "      <td>Health Care</td>\n",
              "      <td>Utilities</td>\n",
              "      <td>Materials</td>\n",
              "      <td>Materials</td>\n",
              "      <td>Information Technology</td>\n",
              "      <td>Materials</td>\n",
              "      <td>Health Care</td>\n",
              "      <td>Materials</td>\n",
              "      <td>Industrials</td>\n",
              "      <td>Health Care</td>\n",
              "      <td>Information Technology</td>\n",
              "      <td>Financials</td>\n",
              "      <td>Information Technology</td>\n",
              "      <td>Consumer Staples</td>\n",
              "      <td>Consumer Discretionary</td>\n",
              "      <td>Utilities</td>\n",
              "      <td>Utilities</td>\n",
              "      <td>Financials</td>\n",
              "      <td>Financials</td>\n",
              "      <td>Financials</td>\n",
              "      <td>Financials</td>\n",
              "      <td>Health Care</td>\n",
              "      <td>Information Technology</td>\n",
              "      <td>Health Care</td>\n",
              "      <td>Industrials</td>\n",
              "      <td>Energy</td>\n",
              "      <td>Information Technology</td>\n",
              "      <td>Financials</td>\n",
              "      <td>Energy</td>\n",
              "      <td>Financials</td>\n",
              "      <td>...</td>\n",
              "      <td>Financials</td>\n",
              "      <td>Consumer Discretionary</td>\n",
              "      <td>Financials</td>\n",
              "      <td>Energy</td>\n",
              "      <td>Health Care</td>\n",
              "      <td>Financials</td>\n",
              "      <td>Information Technology</td>\n",
              "      <td>Telecommunications Services</td>\n",
              "      <td>Health Care</td>\n",
              "      <td>Consumer Discretionary</td>\n",
              "      <td>Consumer Discretionary</td>\n",
              "      <td>Information Technology</td>\n",
              "      <td>Financials</td>\n",
              "      <td>Materials</td>\n",
              "      <td>Consumer Staples</td>\n",
              "      <td>Consumer Staples</td>\n",
              "      <td>Consumer Discretionary</td>\n",
              "      <td>Industrials</td>\n",
              "      <td>Health Care</td>\n",
              "      <td>Health Care</td>\n",
              "      <td>Financials</td>\n",
              "      <td>Information Technology</td>\n",
              "      <td>Information Technology</td>\n",
              "      <td>Financials</td>\n",
              "      <td>Consumer Discretionary</td>\n",
              "      <td>Consumer Staples</td>\n",
              "      <td>Telecommunications Services</td>\n",
              "      <td>Utilities</td>\n",
              "      <td>Consumer Discretionary</td>\n",
              "      <td>Consumer Discretionary</td>\n",
              "      <td>Utilities</td>\n",
              "      <td>Information Technology</td>\n",
              "      <td>Information Technology</td>\n",
              "      <td>Financials</td>\n",
              "      <td>Industrials</td>\n",
              "      <td>Information Technology</td>\n",
              "      <td>Consumer Discretionary</td>\n",
              "      <td>Health Care</td>\n",
              "      <td>Financials</td>\n",
              "      <td>Health Care</td>\n",
              "    </tr>\n",
              "    <tr>\n",
              "      <th>Price</th>\n",
              "      <td>141.14</td>\n",
              "      <td>39.6</td>\n",
              "      <td>53.95</td>\n",
              "      <td>79.79</td>\n",
              "      <td>102.91</td>\n",
              "      <td>213.77</td>\n",
              "      <td>64.3</td>\n",
              "      <td>13.61</td>\n",
              "      <td>76.39</td>\n",
              "      <td>61.31</td>\n",
              "      <td>56.18</td>\n",
              "      <td>52.98</td>\n",
              "      <td>118.74</td>\n",
              "      <td>105.66</td>\n",
              "      <td>53.65</td>\n",
              "      <td>13.52</td>\n",
              "      <td>162.3</td>\n",
              "      <td>40.99</td>\n",
              "      <td>52.46</td>\n",
              "      <td>166.92</td>\n",
              "      <td>248.88</td>\n",
              "      <td>58.38</td>\n",
              "      <td>33.31</td>\n",
              "      <td>40.68</td>\n",
              "      <td>312.24</td>\n",
              "      <td>38.64</td>\n",
              "      <td>51.41</td>\n",
              "      <td>88.78</td>\n",
              "      <td>53.6</td>\n",
              "      <td>88.41</td>\n",
              "      <td>110.93</td>\n",
              "      <td>71.64</td>\n",
              "      <td>52.49</td>\n",
              "      <td>114.33</td>\n",
              "      <td>95.71</td>\n",
              "      <td>101.35</td>\n",
              "      <td>52.39</td>\n",
              "      <td>88.43</td>\n",
              "      <td>90.18</td>\n",
              "      <td>31.24</td>\n",
              "      <td>...</td>\n",
              "      <td>33.46</td>\n",
              "      <td>32.54</td>\n",
              "      <td>41.45</td>\n",
              "      <td>54.54</td>\n",
              "      <td>80.92</td>\n",
              "      <td>67.03</td>\n",
              "      <td>49.92</td>\n",
              "      <td>49.74</td>\n",
              "      <td>71.04</td>\n",
              "      <td>62.72</td>\n",
              "      <td>84.99</td>\n",
              "      <td>212.07</td>\n",
              "      <td>105.32</td>\n",
              "      <td>61.19</td>\n",
              "      <td>75.61</td>\n",
              "      <td>69.79</td>\n",
              "      <td>83.32</td>\n",
              "      <td>43.37</td>\n",
              "      <td>100.54</td>\n",
              "      <td>108.82</td>\n",
              "      <td>50.16</td>\n",
              "      <td>84.83</td>\n",
              "      <td>15.77</td>\n",
              "      <td>30.87</td>\n",
              "      <td>147.26</td>\n",
              "      <td>37.78</td>\n",
              "      <td>9.38</td>\n",
              "      <td>45.13</td>\n",
              "      <td>72.22</td>\n",
              "      <td>207.86</td>\n",
              "      <td>30.24</td>\n",
              "      <td>12.06</td>\n",
              "      <td>46.03</td>\n",
              "      <td>32.47</td>\n",
              "      <td>38.42</td>\n",
              "      <td>35.02</td>\n",
              "      <td>74.77</td>\n",
              "      <td>101.84</td>\n",
              "      <td>28.43</td>\n",
              "      <td>30.53</td>\n",
              "    </tr>\n",
              "    <tr>\n",
              "      <th>Book Value</th>\n",
              "      <td>26.668</td>\n",
              "      <td>15.573</td>\n",
              "      <td>2.954</td>\n",
              "      <td>8.326</td>\n",
              "      <td>86.897</td>\n",
              "      <td>55.188</td>\n",
              "      <td>13.262</td>\n",
              "      <td>5.781</td>\n",
              "      <td>40.021</td>\n",
              "      <td>34.527</td>\n",
              "      <td>16.928</td>\n",
              "      <td>32.462</td>\n",
              "      <td>34.723</td>\n",
              "      <td>24.882</td>\n",
              "      <td>15.193</td>\n",
              "      <td>9.67</td>\n",
              "      <td>13.628</td>\n",
              "      <td>26.401</td>\n",
              "      <td>0</td>\n",
              "      <td>22.207</td>\n",
              "      <td>17.392</td>\n",
              "      <td>47.465</td>\n",
              "      <td>11.026</td>\n",
              "      <td>2.072</td>\n",
              "      <td>22.452</td>\n",
              "      <td>26.847</td>\n",
              "      <td>33.635</td>\n",
              "      <td>18.846</td>\n",
              "      <td>71.775</td>\n",
              "      <td>9.279</td>\n",
              "      <td>43.786</td>\n",
              "      <td>9.43</td>\n",
              "      <td>13.341</td>\n",
              "      <td>30.045</td>\n",
              "      <td>18.315</td>\n",
              "      <td>37.876</td>\n",
              "      <td>15.698</td>\n",
              "      <td>26.801</td>\n",
              "      <td>84.811</td>\n",
              "      <td>6.331</td>\n",
              "      <td>...</td>\n",
              "      <td>34.771</td>\n",
              "      <td>10.072</td>\n",
              "      <td>20.482</td>\n",
              "      <td>37.335</td>\n",
              "      <td>16.141</td>\n",
              "      <td>29.665</td>\n",
              "      <td>-3.467</td>\n",
              "      <td>3.069</td>\n",
              "      <td>5.211</td>\n",
              "      <td>13.285</td>\n",
              "      <td>10.253</td>\n",
              "      <td>43.391</td>\n",
              "      <td>28.243</td>\n",
              "      <td>30.819</td>\n",
              "      <td>22.607</td>\n",
              "      <td>21.779</td>\n",
              "      <td>26.405</td>\n",
              "      <td>12.33</td>\n",
              "      <td>21.46</td>\n",
              "      <td>86.358</td>\n",
              "      <td>30.479</td>\n",
              "      <td>37.311</td>\n",
              "      <td>1.981</td>\n",
              "      <td>11.69</td>\n",
              "      <td>66.221</td>\n",
              "      <td>10.867</td>\n",
              "      <td>1.199</td>\n",
              "      <td>19.165</td>\n",
              "      <td>11.984</td>\n",
              "      <td>-0.719</td>\n",
              "      <td>19.45</td>\n",
              "      <td>10.471</td>\n",
              "      <td>10.247</td>\n",
              "      <td>37.451</td>\n",
              "      <td>12.127</td>\n",
              "      <td>12.768</td>\n",
              "      <td>5.147</td>\n",
              "      <td>37.181</td>\n",
              "      <td>30.191</td>\n",
              "      <td>2.15</td>\n",
              "    </tr>\n",
              "  </tbody>\n",
              "</table>\n",
              "<p>3 rows × 500 columns</p>\n",
              "</div>"
            ],
            "text/plain": [
              "Symbol              MMM          ABT  ...        ZION          ZTS\n",
              "Sector      Industrials  Health Care  ...  Financials  Health Care\n",
              "Price            141.14         39.6  ...       28.43        30.53\n",
              "Book Value       26.668       15.573  ...      30.191         2.15\n",
              "\n",
              "[3 rows x 500 columns]"
            ]
          },
          "metadata": {
            "tags": []
          },
          "execution_count": 77
        }
      ]
    },
    {
      "cell_type": "markdown",
      "metadata": {
        "heading_collapsed": true,
        "hidden": true,
        "id": "pMpRDywtqTSz"
      },
      "source": [
        "#### reindexing"
      ]
    },
    {
      "cell_type": "markdown",
      "metadata": {
        "hidden": true,
        "id": "i3ZZCmu3qTSz"
      },
      "source": [
        "error:"
      ]
    },
    {
      "cell_type": "code",
      "metadata": {
        "hidden": true,
        "id": "Ncud3-pUqTSz"
      },
      "source": [
        "sp500.loc[['MMM', 'ABBV', 'NEW VALUE']]"
      ],
      "execution_count": null,
      "outputs": []
    },
    {
      "cell_type": "markdown",
      "metadata": {
        "hidden": true,
        "id": "2aFoTXUJqTS0"
      },
      "source": [
        "doing reindexing by setting the M, ABBA, and NEWVALUE labels"
      ]
    },
    {
      "cell_type": "code",
      "metadata": {
        "hidden": true,
        "id": "N03zuIQ9qTS0"
      },
      "source": [
        "reindexed = sp500.reindex(index=['MMM', 'ABBV', 'NEW VALUE'])"
      ],
      "execution_count": null,
      "outputs": []
    },
    {
      "cell_type": "markdown",
      "metadata": {
        "hidden": true,
        "id": "YUtIluPPqTS0"
      },
      "source": [
        "note that all indexes except those listed on the call are removed, and *NEW VALUE* contains the value *NaN*"
      ]
    },
    {
      "cell_type": "code",
      "metadata": {
        "hidden": true,
        "colab": {
          "base_uri": "https://localhost:8080/",
          "height": 173
        },
        "id": "g-eIgd6YqTS1",
        "outputId": "07f2763d-4767-4a8b-c59d-aeb05922a30e"
      },
      "source": [
        "reindexed"
      ],
      "execution_count": null,
      "outputs": [
        {
          "output_type": "execute_result",
          "data": {
            "text/html": [
              "<div>\n",
              "<style scoped>\n",
              "    .dataframe tbody tr th:only-of-type {\n",
              "        vertical-align: middle;\n",
              "    }\n",
              "\n",
              "    .dataframe tbody tr th {\n",
              "        vertical-align: top;\n",
              "    }\n",
              "\n",
              "    .dataframe thead th {\n",
              "        text-align: right;\n",
              "    }\n",
              "</style>\n",
              "<table border=\"1\" class=\"dataframe\">\n",
              "  <thead>\n",
              "    <tr style=\"text-align: right;\">\n",
              "      <th></th>\n",
              "      <th>Sector</th>\n",
              "      <th>Price</th>\n",
              "      <th>Book Value</th>\n",
              "    </tr>\n",
              "    <tr>\n",
              "      <th>Symbol</th>\n",
              "      <th></th>\n",
              "      <th></th>\n",
              "      <th></th>\n",
              "    </tr>\n",
              "  </thead>\n",
              "  <tbody>\n",
              "    <tr>\n",
              "      <th>MMM</th>\n",
              "      <td>Industrials</td>\n",
              "      <td>141.14</td>\n",
              "      <td>26.668</td>\n",
              "    </tr>\n",
              "    <tr>\n",
              "      <th>ABBV</th>\n",
              "      <td>Health Care</td>\n",
              "      <td>53.95</td>\n",
              "      <td>2.954</td>\n",
              "    </tr>\n",
              "    <tr>\n",
              "      <th>NEW VALUE</th>\n",
              "      <td>NaN</td>\n",
              "      <td>NaN</td>\n",
              "      <td>NaN</td>\n",
              "    </tr>\n",
              "  </tbody>\n",
              "</table>\n",
              "</div>"
            ],
            "text/plain": [
              "                Sector   Price  Book Value\n",
              "Symbol                                    \n",
              "MMM        Industrials  141.14      26.668\n",
              "ABBV       Health Care   53.95       2.954\n",
              "NEW VALUE          NaN     NaN         NaN"
            ]
          },
          "metadata": {
            "tags": []
          },
          "execution_count": 80
        }
      ]
    },
    {
      "cell_type": "markdown",
      "metadata": {
        "hidden": true,
        "id": "njMNsXciqTS1"
      },
      "source": [
        "reindexing the columns"
      ]
    },
    {
      "cell_type": "code",
      "metadata": {
        "hidden": true,
        "colab": {
          "base_uri": "https://localhost:8080/",
          "height": 235
        },
        "id": "Tw7qpAoXqTS1",
        "outputId": "1b4a1460-8288-466d-abd0-3d116e2ad601"
      },
      "source": [
        "sp500.reindex(columns=['Price', 'Book Value', 'NewCol']).head()"
      ],
      "execution_count": null,
      "outputs": [
        {
          "output_type": "execute_result",
          "data": {
            "text/html": [
              "<div>\n",
              "<style scoped>\n",
              "    .dataframe tbody tr th:only-of-type {\n",
              "        vertical-align: middle;\n",
              "    }\n",
              "\n",
              "    .dataframe tbody tr th {\n",
              "        vertical-align: top;\n",
              "    }\n",
              "\n",
              "    .dataframe thead th {\n",
              "        text-align: right;\n",
              "    }\n",
              "</style>\n",
              "<table border=\"1\" class=\"dataframe\">\n",
              "  <thead>\n",
              "    <tr style=\"text-align: right;\">\n",
              "      <th></th>\n",
              "      <th>Price</th>\n",
              "      <th>Book Value</th>\n",
              "      <th>NewCol</th>\n",
              "    </tr>\n",
              "    <tr>\n",
              "      <th>Symbol</th>\n",
              "      <th></th>\n",
              "      <th></th>\n",
              "      <th></th>\n",
              "    </tr>\n",
              "  </thead>\n",
              "  <tbody>\n",
              "    <tr>\n",
              "      <th>MMM</th>\n",
              "      <td>141.14</td>\n",
              "      <td>26.668</td>\n",
              "      <td>NaN</td>\n",
              "    </tr>\n",
              "    <tr>\n",
              "      <th>ABT</th>\n",
              "      <td>39.60</td>\n",
              "      <td>15.573</td>\n",
              "      <td>NaN</td>\n",
              "    </tr>\n",
              "    <tr>\n",
              "      <th>ABBV</th>\n",
              "      <td>53.95</td>\n",
              "      <td>2.954</td>\n",
              "      <td>NaN</td>\n",
              "    </tr>\n",
              "    <tr>\n",
              "      <th>ACN</th>\n",
              "      <td>79.79</td>\n",
              "      <td>8.326</td>\n",
              "      <td>NaN</td>\n",
              "    </tr>\n",
              "    <tr>\n",
              "      <th>ACE</th>\n",
              "      <td>102.91</td>\n",
              "      <td>86.897</td>\n",
              "      <td>NaN</td>\n",
              "    </tr>\n",
              "  </tbody>\n",
              "</table>\n",
              "</div>"
            ],
            "text/plain": [
              "         Price  Book Value  NewCol\n",
              "Symbol                            \n",
              "MMM     141.14      26.668     NaN\n",
              "ABT      39.60      15.573     NaN\n",
              "ABBV     53.95       2.954     NaN\n",
              "ACN      79.79       8.326     NaN\n",
              "ACE     102.91      86.897     NaN"
            ]
          },
          "metadata": {
            "tags": []
          },
          "execution_count": 81
        }
      ]
    },
    {
      "cell_type": "markdown",
      "metadata": {
        "hidden": true,
        "id": "J1Fk730tqTS2"
      },
      "source": [
        "at the same time, we can fill in the missing values with constants instead of *NaN*"
      ]
    },
    {
      "cell_type": "code",
      "metadata": {
        "hidden": true,
        "colab": {
          "base_uri": "https://localhost:8080/",
          "height": 235
        },
        "id": "Q70hsebdqTS2",
        "outputId": "90cbac42-2f7b-4d55-b858-2ae6fadc60b4"
      },
      "source": [
        "sp500.reindex(columns=['Price',\n",
        "                       'Book Value',\n",
        "                       'NewCol'],\n",
        "              fill_value=0).head()"
      ],
      "execution_count": null,
      "outputs": [
        {
          "output_type": "execute_result",
          "data": {
            "text/html": [
              "<div>\n",
              "<style scoped>\n",
              "    .dataframe tbody tr th:only-of-type {\n",
              "        vertical-align: middle;\n",
              "    }\n",
              "\n",
              "    .dataframe tbody tr th {\n",
              "        vertical-align: top;\n",
              "    }\n",
              "\n",
              "    .dataframe thead th {\n",
              "        text-align: right;\n",
              "    }\n",
              "</style>\n",
              "<table border=\"1\" class=\"dataframe\">\n",
              "  <thead>\n",
              "    <tr style=\"text-align: right;\">\n",
              "      <th></th>\n",
              "      <th>Price</th>\n",
              "      <th>Book Value</th>\n",
              "      <th>NewCol</th>\n",
              "    </tr>\n",
              "    <tr>\n",
              "      <th>Symbol</th>\n",
              "      <th></th>\n",
              "      <th></th>\n",
              "      <th></th>\n",
              "    </tr>\n",
              "  </thead>\n",
              "  <tbody>\n",
              "    <tr>\n",
              "      <th>MMM</th>\n",
              "      <td>141.14</td>\n",
              "      <td>26.668</td>\n",
              "      <td>0</td>\n",
              "    </tr>\n",
              "    <tr>\n",
              "      <th>ABT</th>\n",
              "      <td>39.60</td>\n",
              "      <td>15.573</td>\n",
              "      <td>0</td>\n",
              "    </tr>\n",
              "    <tr>\n",
              "      <th>ABBV</th>\n",
              "      <td>53.95</td>\n",
              "      <td>2.954</td>\n",
              "      <td>0</td>\n",
              "    </tr>\n",
              "    <tr>\n",
              "      <th>ACN</th>\n",
              "      <td>79.79</td>\n",
              "      <td>8.326</td>\n",
              "      <td>0</td>\n",
              "    </tr>\n",
              "    <tr>\n",
              "      <th>ACE</th>\n",
              "      <td>102.91</td>\n",
              "      <td>86.897</td>\n",
              "      <td>0</td>\n",
              "    </tr>\n",
              "  </tbody>\n",
              "</table>\n",
              "</div>"
            ],
            "text/plain": [
              "         Price  Book Value  NewCol\n",
              "Symbol                            \n",
              "MMM     141.14      26.668       0\n",
              "ABT      39.60      15.573       0\n",
              "ABBV     53.95       2.954       0\n",
              "ACN      79.79       8.326       0\n",
              "ACE     102.91      86.897       0"
            ]
          },
          "metadata": {
            "tags": []
          },
          "execution_count": 82
        }
      ]
    },
    {
      "cell_type": "markdown",
      "metadata": {
        "heading_collapsed": true,
        "hidden": true,
        "id": "0iZUOwFVqTS3"
      },
      "source": [
        "#### random subsampling"
      ]
    },
    {
      "cell_type": "markdown",
      "metadata": {
        "hidden": true,
        "id": "x4e-TbhTqTS3"
      },
      "source": [
        "selecting three random strings"
      ]
    },
    {
      "cell_type": "code",
      "metadata": {
        "hidden": true,
        "colab": {
          "base_uri": "https://localhost:8080/",
          "height": 173
        },
        "id": "i-a-lgxiqTS3",
        "outputId": "4c07f348-0f41-4e0f-94f1-03120b81c5b1"
      },
      "source": [
        "sp500.sample(n=3)"
      ],
      "execution_count": null,
      "outputs": [
        {
          "output_type": "execute_result",
          "data": {
            "text/html": [
              "<div>\n",
              "<style scoped>\n",
              "    .dataframe tbody tr th:only-of-type {\n",
              "        vertical-align: middle;\n",
              "    }\n",
              "\n",
              "    .dataframe tbody tr th {\n",
              "        vertical-align: top;\n",
              "    }\n",
              "\n",
              "    .dataframe thead th {\n",
              "        text-align: right;\n",
              "    }\n",
              "</style>\n",
              "<table border=\"1\" class=\"dataframe\">\n",
              "  <thead>\n",
              "    <tr style=\"text-align: right;\">\n",
              "      <th></th>\n",
              "      <th>Sector</th>\n",
              "      <th>Price</th>\n",
              "      <th>Book Value</th>\n",
              "    </tr>\n",
              "    <tr>\n",
              "      <th>Symbol</th>\n",
              "      <th></th>\n",
              "      <th></th>\n",
              "      <th></th>\n",
              "    </tr>\n",
              "  </thead>\n",
              "  <tbody>\n",
              "    <tr>\n",
              "      <th>ZION</th>\n",
              "      <td>Financials</td>\n",
              "      <td>28.43</td>\n",
              "      <td>30.191</td>\n",
              "    </tr>\n",
              "    <tr>\n",
              "      <th>NOV</th>\n",
              "      <td>Energy</td>\n",
              "      <td>81.90</td>\n",
              "      <td>52.925</td>\n",
              "    </tr>\n",
              "    <tr>\n",
              "      <th>STX</th>\n",
              "      <td>Information Technology</td>\n",
              "      <td>51.95</td>\n",
              "      <td>8.080</td>\n",
              "    </tr>\n",
              "  </tbody>\n",
              "</table>\n",
              "</div>"
            ],
            "text/plain": [
              "                        Sector  Price  Book Value\n",
              "Symbol                                           \n",
              "ZION                Financials  28.43      30.191\n",
              "NOV                     Energy  81.90      52.925\n",
              "STX     Information Technology  51.95       8.080"
            ]
          },
          "metadata": {
            "tags": []
          },
          "execution_count": 83
        }
      ]
    },
    {
      "cell_type": "markdown",
      "metadata": {
        "hidden": true,
        "id": "Y92dXmLxqTS4"
      },
      "source": [
        "random selection with return"
      ]
    },
    {
      "cell_type": "code",
      "metadata": {
        "hidden": true,
        "colab": {
          "base_uri": "https://localhost:8080/",
          "height": 450
        },
        "id": "ht_3SvI4qTS4",
        "outputId": "ed5ab6ed-5f38-4d6f-f3d2-7190bcff74ae"
      },
      "source": [
        "sp500.sample(frac=5, replace=True, random_state=777)"
      ],
      "execution_count": null,
      "outputs": [
        {
          "output_type": "execute_result",
          "data": {
            "text/html": [
              "<div>\n",
              "<style scoped>\n",
              "    .dataframe tbody tr th:only-of-type {\n",
              "        vertical-align: middle;\n",
              "    }\n",
              "\n",
              "    .dataframe tbody tr th {\n",
              "        vertical-align: top;\n",
              "    }\n",
              "\n",
              "    .dataframe thead th {\n",
              "        text-align: right;\n",
              "    }\n",
              "</style>\n",
              "<table border=\"1\" class=\"dataframe\">\n",
              "  <thead>\n",
              "    <tr style=\"text-align: right;\">\n",
              "      <th></th>\n",
              "      <th>Sector</th>\n",
              "      <th>Price</th>\n",
              "      <th>Book Value</th>\n",
              "    </tr>\n",
              "    <tr>\n",
              "      <th>Symbol</th>\n",
              "      <th></th>\n",
              "      <th></th>\n",
              "      <th></th>\n",
              "    </tr>\n",
              "  </thead>\n",
              "  <tbody>\n",
              "    <tr>\n",
              "      <th>CLF</th>\n",
              "      <td>Materials</td>\n",
              "      <td>16.34</td>\n",
              "      <td>34.523</td>\n",
              "    </tr>\n",
              "    <tr>\n",
              "      <th>MHK</th>\n",
              "      <td>Consumer Discretionary</td>\n",
              "      <td>136.41</td>\n",
              "      <td>61.582</td>\n",
              "    </tr>\n",
              "    <tr>\n",
              "      <th>BDX</th>\n",
              "      <td>Health Care</td>\n",
              "      <td>115.70</td>\n",
              "      <td>27.510</td>\n",
              "    </tr>\n",
              "    <tr>\n",
              "      <th>HOT</th>\n",
              "      <td>Consumer Discretionary</td>\n",
              "      <td>78.73</td>\n",
              "      <td>17.218</td>\n",
              "    </tr>\n",
              "    <tr>\n",
              "      <th>CELG</th>\n",
              "      <td>Health Care</td>\n",
              "      <td>150.13</td>\n",
              "      <td>11.200</td>\n",
              "    </tr>\n",
              "    <tr>\n",
              "      <th>...</th>\n",
              "      <td>...</td>\n",
              "      <td>...</td>\n",
              "      <td>...</td>\n",
              "    </tr>\n",
              "    <tr>\n",
              "      <th>BTU</th>\n",
              "      <td>Energy</td>\n",
              "      <td>17.22</td>\n",
              "      <td>14.644</td>\n",
              "    </tr>\n",
              "    <tr>\n",
              "      <th>MCO</th>\n",
              "      <td>Financials</td>\n",
              "      <td>82.50</td>\n",
              "      <td>1.803</td>\n",
              "    </tr>\n",
              "    <tr>\n",
              "      <th>LRCX</th>\n",
              "      <td>Information Technology</td>\n",
              "      <td>60.61</td>\n",
              "      <td>29.677</td>\n",
              "    </tr>\n",
              "    <tr>\n",
              "      <th>CI</th>\n",
              "      <td>Health Care</td>\n",
              "      <td>89.24</td>\n",
              "      <td>39.304</td>\n",
              "    </tr>\n",
              "    <tr>\n",
              "      <th>MCO</th>\n",
              "      <td>Financials</td>\n",
              "      <td>82.50</td>\n",
              "      <td>1.803</td>\n",
              "    </tr>\n",
              "  </tbody>\n",
              "</table>\n",
              "<p>2500 rows × 3 columns</p>\n",
              "</div>"
            ],
            "text/plain": [
              "                        Sector   Price  Book Value\n",
              "Symbol                                            \n",
              "CLF                  Materials   16.34      34.523\n",
              "MHK     Consumer Discretionary  136.41      61.582\n",
              "BDX                Health Care  115.70      27.510\n",
              "HOT     Consumer Discretionary   78.73      17.218\n",
              "CELG               Health Care  150.13      11.200\n",
              "...                        ...     ...         ...\n",
              "BTU                     Energy   17.22      14.644\n",
              "MCO                 Financials   82.50       1.803\n",
              "LRCX    Information Technology   60.61      29.677\n",
              "CI                 Health Care   89.24      39.304\n",
              "MCO                 Financials   82.50       1.803\n",
              "\n",
              "[2500 rows x 3 columns]"
            ]
          },
          "metadata": {
            "tags": []
          },
          "execution_count": 84
        }
      ]
    },
    {
      "cell_type": "markdown",
      "metadata": {
        "heading_collapsed": true,
        "hidden": true,
        "id": "Nm604igGqTS4"
      },
      "source": [
        "#### [output settings](http://pandas.pydata.org/pandas-docs/stable/user_guide/options.html#available-options)"
      ]
    },
    {
      "cell_type": "code",
      "metadata": {
        "hidden": true,
        "colab": {
          "base_uri": "https://localhost:8080/"
        },
        "id": "ebsY7_kDqTS5",
        "outputId": "755f65fc-22a0-4550-83fd-5d3ae2e56da6"
      },
      "source": [
        "pd.options.display.max_rows"
      ],
      "execution_count": null,
      "outputs": [
        {
          "output_type": "execute_result",
          "data": {
            "text/plain": [
              "60"
            ]
          },
          "metadata": {
            "tags": []
          },
          "execution_count": 85
        }
      ]
    },
    {
      "cell_type": "code",
      "metadata": {
        "hidden": true,
        "colab": {
          "base_uri": "https://localhost:8080/",
          "height": 450
        },
        "id": "bDeQEKxVqTS5",
        "outputId": "146880a2-b8b1-4c59-a898-a0a66ad06891"
      },
      "source": [
        "sp500"
      ],
      "execution_count": null,
      "outputs": [
        {
          "output_type": "execute_result",
          "data": {
            "text/html": [
              "<div>\n",
              "<style scoped>\n",
              "    .dataframe tbody tr th:only-of-type {\n",
              "        vertical-align: middle;\n",
              "    }\n",
              "\n",
              "    .dataframe tbody tr th {\n",
              "        vertical-align: top;\n",
              "    }\n",
              "\n",
              "    .dataframe thead th {\n",
              "        text-align: right;\n",
              "    }\n",
              "</style>\n",
              "<table border=\"1\" class=\"dataframe\">\n",
              "  <thead>\n",
              "    <tr style=\"text-align: right;\">\n",
              "      <th></th>\n",
              "      <th>Sector</th>\n",
              "      <th>Price</th>\n",
              "      <th>Book Value</th>\n",
              "    </tr>\n",
              "    <tr>\n",
              "      <th>Symbol</th>\n",
              "      <th></th>\n",
              "      <th></th>\n",
              "      <th></th>\n",
              "    </tr>\n",
              "  </thead>\n",
              "  <tbody>\n",
              "    <tr>\n",
              "      <th>MMM</th>\n",
              "      <td>Industrials</td>\n",
              "      <td>141.14</td>\n",
              "      <td>26.668</td>\n",
              "    </tr>\n",
              "    <tr>\n",
              "      <th>ABT</th>\n",
              "      <td>Health Care</td>\n",
              "      <td>39.60</td>\n",
              "      <td>15.573</td>\n",
              "    </tr>\n",
              "    <tr>\n",
              "      <th>ABBV</th>\n",
              "      <td>Health Care</td>\n",
              "      <td>53.95</td>\n",
              "      <td>2.954</td>\n",
              "    </tr>\n",
              "    <tr>\n",
              "      <th>ACN</th>\n",
              "      <td>Information Technology</td>\n",
              "      <td>79.79</td>\n",
              "      <td>8.326</td>\n",
              "    </tr>\n",
              "    <tr>\n",
              "      <th>ACE</th>\n",
              "      <td>Financials</td>\n",
              "      <td>102.91</td>\n",
              "      <td>86.897</td>\n",
              "    </tr>\n",
              "    <tr>\n",
              "      <th>...</th>\n",
              "      <td>...</td>\n",
              "      <td>...</td>\n",
              "      <td>...</td>\n",
              "    </tr>\n",
              "    <tr>\n",
              "      <th>YHOO</th>\n",
              "      <td>Information Technology</td>\n",
              "      <td>35.02</td>\n",
              "      <td>12.768</td>\n",
              "    </tr>\n",
              "    <tr>\n",
              "      <th>YUM</th>\n",
              "      <td>Consumer Discretionary</td>\n",
              "      <td>74.77</td>\n",
              "      <td>5.147</td>\n",
              "    </tr>\n",
              "    <tr>\n",
              "      <th>ZMH</th>\n",
              "      <td>Health Care</td>\n",
              "      <td>101.84</td>\n",
              "      <td>37.181</td>\n",
              "    </tr>\n",
              "    <tr>\n",
              "      <th>ZION</th>\n",
              "      <td>Financials</td>\n",
              "      <td>28.43</td>\n",
              "      <td>30.191</td>\n",
              "    </tr>\n",
              "    <tr>\n",
              "      <th>ZTS</th>\n",
              "      <td>Health Care</td>\n",
              "      <td>30.53</td>\n",
              "      <td>2.150</td>\n",
              "    </tr>\n",
              "  </tbody>\n",
              "</table>\n",
              "<p>500 rows × 3 columns</p>\n",
              "</div>"
            ],
            "text/plain": [
              "                        Sector   Price  Book Value\n",
              "Symbol                                            \n",
              "MMM                Industrials  141.14      26.668\n",
              "ABT                Health Care   39.60      15.573\n",
              "ABBV               Health Care   53.95       2.954\n",
              "ACN     Information Technology   79.79       8.326\n",
              "ACE                 Financials  102.91      86.897\n",
              "...                        ...     ...         ...\n",
              "YHOO    Information Technology   35.02      12.768\n",
              "YUM     Consumer Discretionary   74.77       5.147\n",
              "ZMH                Health Care  101.84      37.181\n",
              "ZION                Financials   28.43      30.191\n",
              "ZTS                Health Care   30.53       2.150\n",
              "\n",
              "[500 rows x 3 columns]"
            ]
          },
          "metadata": {
            "tags": []
          },
          "execution_count": 86
        }
      ]
    },
    {
      "cell_type": "code",
      "metadata": {
        "hidden": true,
        "id": "n1OwCMEfqTS5"
      },
      "source": [
        "pd.options.display.max_rows = 10"
      ],
      "execution_count": null,
      "outputs": []
    },
    {
      "cell_type": "code",
      "metadata": {
        "hidden": true,
        "colab": {
          "base_uri": "https://localhost:8080/",
          "height": 450
        },
        "id": "yHHmZ4rwqTS6",
        "outputId": "3d884367-359d-4755-9f39-894565d8d46d"
      },
      "source": [
        "sp500"
      ],
      "execution_count": null,
      "outputs": [
        {
          "output_type": "execute_result",
          "data": {
            "text/html": [
              "<div>\n",
              "<style scoped>\n",
              "    .dataframe tbody tr th:only-of-type {\n",
              "        vertical-align: middle;\n",
              "    }\n",
              "\n",
              "    .dataframe tbody tr th {\n",
              "        vertical-align: top;\n",
              "    }\n",
              "\n",
              "    .dataframe thead th {\n",
              "        text-align: right;\n",
              "    }\n",
              "</style>\n",
              "<table border=\"1\" class=\"dataframe\">\n",
              "  <thead>\n",
              "    <tr style=\"text-align: right;\">\n",
              "      <th></th>\n",
              "      <th>Sector</th>\n",
              "      <th>Price</th>\n",
              "      <th>Book Value</th>\n",
              "    </tr>\n",
              "    <tr>\n",
              "      <th>Symbol</th>\n",
              "      <th></th>\n",
              "      <th></th>\n",
              "      <th></th>\n",
              "    </tr>\n",
              "  </thead>\n",
              "  <tbody>\n",
              "    <tr>\n",
              "      <th>MMM</th>\n",
              "      <td>Industrials</td>\n",
              "      <td>141.14</td>\n",
              "      <td>26.668</td>\n",
              "    </tr>\n",
              "    <tr>\n",
              "      <th>ABT</th>\n",
              "      <td>Health Care</td>\n",
              "      <td>39.60</td>\n",
              "      <td>15.573</td>\n",
              "    </tr>\n",
              "    <tr>\n",
              "      <th>ABBV</th>\n",
              "      <td>Health Care</td>\n",
              "      <td>53.95</td>\n",
              "      <td>2.954</td>\n",
              "    </tr>\n",
              "    <tr>\n",
              "      <th>ACN</th>\n",
              "      <td>Information Technology</td>\n",
              "      <td>79.79</td>\n",
              "      <td>8.326</td>\n",
              "    </tr>\n",
              "    <tr>\n",
              "      <th>ACE</th>\n",
              "      <td>Financials</td>\n",
              "      <td>102.91</td>\n",
              "      <td>86.897</td>\n",
              "    </tr>\n",
              "    <tr>\n",
              "      <th>...</th>\n",
              "      <td>...</td>\n",
              "      <td>...</td>\n",
              "      <td>...</td>\n",
              "    </tr>\n",
              "    <tr>\n",
              "      <th>YHOO</th>\n",
              "      <td>Information Technology</td>\n",
              "      <td>35.02</td>\n",
              "      <td>12.768</td>\n",
              "    </tr>\n",
              "    <tr>\n",
              "      <th>YUM</th>\n",
              "      <td>Consumer Discretionary</td>\n",
              "      <td>74.77</td>\n",
              "      <td>5.147</td>\n",
              "    </tr>\n",
              "    <tr>\n",
              "      <th>ZMH</th>\n",
              "      <td>Health Care</td>\n",
              "      <td>101.84</td>\n",
              "      <td>37.181</td>\n",
              "    </tr>\n",
              "    <tr>\n",
              "      <th>ZION</th>\n",
              "      <td>Financials</td>\n",
              "      <td>28.43</td>\n",
              "      <td>30.191</td>\n",
              "    </tr>\n",
              "    <tr>\n",
              "      <th>ZTS</th>\n",
              "      <td>Health Care</td>\n",
              "      <td>30.53</td>\n",
              "      <td>2.150</td>\n",
              "    </tr>\n",
              "  </tbody>\n",
              "</table>\n",
              "<p>500 rows × 3 columns</p>\n",
              "</div>"
            ],
            "text/plain": [
              "                        Sector   Price  Book Value\n",
              "Symbol                                            \n",
              "MMM                Industrials  141.14      26.668\n",
              "ABT                Health Care   39.60      15.573\n",
              "ABBV               Health Care   53.95       2.954\n",
              "ACN     Information Technology   79.79       8.326\n",
              "ACE                 Financials  102.91      86.897\n",
              "...                        ...     ...         ...\n",
              "YHOO    Information Technology   35.02      12.768\n",
              "YUM     Consumer Discretionary   74.77       5.147\n",
              "ZMH                Health Care  101.84      37.181\n",
              "ZION                Financials   28.43      30.191\n",
              "ZTS                Health Care   30.53       2.150\n",
              "\n",
              "[500 rows x 3 columns]"
            ]
          },
          "metadata": {
            "tags": []
          },
          "execution_count": 88
        }
      ]
    },
    {
      "cell_type": "code",
      "metadata": {
        "hidden": true,
        "colab": {
          "base_uri": "https://localhost:8080/"
        },
        "id": "DVZxm_G_qTS6",
        "outputId": "39f1a262-82f1-47c7-dd05-20e08e92b07b"
      },
      "source": [
        "pd.options.display.max_rows"
      ],
      "execution_count": null,
      "outputs": [
        {
          "output_type": "execute_result",
          "data": {
            "text/plain": [
              "10"
            ]
          },
          "metadata": {
            "tags": []
          },
          "execution_count": 89
        }
      ]
    },
    {
      "cell_type": "markdown",
      "metadata": {
        "heading_collapsed": true,
        "id": "q6IxzMjBqTS6"
      },
      "source": [
        "### Data slices"
      ]
    },
    {
      "cell_type": "markdown",
      "metadata": {
        "heading_collapsed": true,
        "hidden": true,
        "id": "MG7DdFdcqTS6"
      },
      "source": [
        "#### Series"
      ]
    },
    {
      "cell_type": "markdown",
      "metadata": {
        "hidden": true,
        "id": "ALkt__3uqTS7"
      },
      "source": [
        "We set the slice according to the rule: [start position: end position: step value], while:\n",
        "- Right border-not included\n",
        "- The step can be negative\n",
        "- The position can also be negative - then the count is \"from the other end\"\n",
        "- The numbering is from zero"
      ]
    },
    {
      "cell_type": "code",
      "metadata": {
        "hidden": true,
        "colab": {
          "base_uri": "https://localhost:8080/"
        },
        "id": "qFJlnkN6qTS7",
        "outputId": "405f5538-dfa8-4a77-dbee-6256b1842abc"
      },
      "source": [
        "numbers"
      ],
      "execution_count": null,
      "outputs": [
        {
          "output_type": "execute_result",
          "data": {
            "text/plain": [
              "25   -1.085631\n",
              "26    0.997345\n",
              "27    0.282978\n",
              "28   -1.506295\n",
              "29   -0.578600\n",
              "30    1.651437\n",
              "31   -2.426679\n",
              "32   -0.428913\n",
              "33    1.265936\n",
              "34   -0.866740\n",
              "dtype: float64"
            ]
          },
          "metadata": {
            "tags": []
          },
          "execution_count": 90
        }
      ]
    },
    {
      "cell_type": "markdown",
      "metadata": {
        "hidden": true,
        "id": "CFdF83ihqTS8"
      },
      "source": [
        "a slice containing elements with positions from 1 to 5"
      ]
    },
    {
      "cell_type": "code",
      "metadata": {
        "hidden": true,
        "colab": {
          "base_uri": "https://localhost:8080/"
        },
        "id": "rVMSj1XGqTS8",
        "outputId": "f8f2822f-63b0-4267-c8a6-3945d0f57fc8"
      },
      "source": [
        "numbers.iloc[1:6]"
      ],
      "execution_count": null,
      "outputs": [
        {
          "output_type": "execute_result",
          "data": {
            "text/plain": [
              "26    0.997345\n",
              "27    0.282978\n",
              "28   -1.506295\n",
              "29   -0.578600\n",
              "30    1.651437\n",
              "dtype: float64"
            ]
          },
          "metadata": {
            "tags": []
          },
          "execution_count": 91
        }
      ]
    },
    {
      "cell_type": "markdown",
      "metadata": {
        "hidden": true,
        "id": "L8AzkAuOqTS8"
      },
      "source": [
        "select items in positions 1, 3, 5 == select items from 1 to 5 position in increments of 2"
      ]
    },
    {
      "cell_type": "code",
      "metadata": {
        "hidden": true,
        "colab": {
          "base_uri": "https://localhost:8080/"
        },
        "id": "yEToFUMcqTS9",
        "outputId": "94ea5886-739f-4902-e0f1-6338b763eb56"
      },
      "source": [
        "numbers.iloc[1:6:2]"
      ],
      "execution_count": null,
      "outputs": [
        {
          "output_type": "execute_result",
          "data": {
            "text/plain": [
              "26    0.997345\n",
              "28   -1.506295\n",
              "30    1.651437\n",
              "dtype: float64"
            ]
          },
          "metadata": {
            "tags": []
          },
          "execution_count": 92
        }
      ]
    },
    {
      "cell_type": "markdown",
      "metadata": {
        "hidden": true,
        "id": "dPsxlGjDqTS9"
      },
      "source": [
        "we can only leave the final position"
      ]
    },
    {
      "cell_type": "code",
      "metadata": {
        "hidden": true,
        "colab": {
          "base_uri": "https://localhost:8080/"
        },
        "id": "hnsWo9YjqTS9",
        "outputId": "98f6d321-06c1-4c73-d3e1-452c310ac97b"
      },
      "source": [
        "numbers.iloc[:6]"
      ],
      "execution_count": null,
      "outputs": [
        {
          "output_type": "execute_result",
          "data": {
            "text/plain": [
              "25   -1.085631\n",
              "26    0.997345\n",
              "27    0.282978\n",
              "28   -1.506295\n",
              "29   -0.578600\n",
              "30    1.651437\n",
              "dtype: float64"
            ]
          },
          "metadata": {
            "tags": []
          },
          "execution_count": 93
        }
      ]
    },
    {
      "cell_type": "markdown",
      "metadata": {
        "hidden": true,
        "id": "h-01-idPqTS-"
      },
      "source": [
        "or we will leave only the initial position"
      ]
    },
    {
      "cell_type": "code",
      "metadata": {
        "hidden": true,
        "colab": {
          "base_uri": "https://localhost:8080/"
        },
        "id": "iOWCZRrbqTS-",
        "outputId": "08747f41-0bf7-42e5-d487-c8583b67f33e"
      },
      "source": [
        "numbers.iloc[3:]"
      ],
      "execution_count": null,
      "outputs": [
        {
          "output_type": "execute_result",
          "data": {
            "text/plain": [
              "28   -1.506295\n",
              "29   -0.578600\n",
              "30    1.651437\n",
              "31   -2.426679\n",
              "32   -0.428913\n",
              "33    1.265936\n",
              "34   -0.866740\n",
              "dtype: float64"
            ]
          },
          "metadata": {
            "tags": []
          },
          "execution_count": 94
        }
      ]
    },
    {
      "cell_type": "markdown",
      "metadata": {
        "hidden": true,
        "id": "Zjvh-mXfqTS-"
      },
      "source": [
        "selecting the Series elements in reverse order, starting with 5"
      ]
    },
    {
      "cell_type": "code",
      "metadata": {
        "hidden": true,
        "colab": {
          "base_uri": "https://localhost:8080/"
        },
        "id": "ojOGZJuIqTS_",
        "outputId": "d624e186-abaf-4809-9be7-fdcfae1961ef"
      },
      "source": [
        "numbers.iloc[5::-1]"
      ],
      "execution_count": null,
      "outputs": [
        {
          "output_type": "execute_result",
          "data": {
            "text/plain": [
              "30    1.651437\n",
              "29   -0.578600\n",
              "28   -1.506295\n",
              "27    0.282978\n",
              "26    0.997345\n",
              "25   -1.085631\n",
              "dtype: float64"
            ]
          },
          "metadata": {
            "tags": []
          },
          "execution_count": 95
        }
      ]
    },
    {
      "cell_type": "markdown",
      "metadata": {
        "hidden": true,
        "id": "L_TbXUoIqTS_"
      },
      "source": [
        "selecting the last 4 rows"
      ]
    },
    {
      "cell_type": "code",
      "metadata": {
        "hidden": true,
        "colab": {
          "base_uri": "https://localhost:8080/"
        },
        "id": "93VUEtGsqTS_",
        "outputId": "3d763368-2cb0-42c7-ea89-a4725388def2"
      },
      "source": [
        "numbers.iloc[-4:]"
      ],
      "execution_count": null,
      "outputs": [
        {
          "output_type": "execute_result",
          "data": {
            "text/plain": [
              "31   -2.426679\n",
              "32   -0.428913\n",
              "33    1.265936\n",
              "34   -0.866740\n",
              "dtype: float64"
            ]
          },
          "metadata": {
            "tags": []
          },
          "execution_count": 96
        }
      ]
    },
    {
      "cell_type": "markdown",
      "metadata": {
        "heading_collapsed": true,
        "hidden": true,
        "id": "7eC6bz6BqTS_"
      },
      "source": [
        "####  DataFrame"
      ]
    },
    {
      "cell_type": "code",
      "metadata": {
        "hidden": true,
        "colab": {
          "base_uri": "https://localhost:8080/",
          "height": 235
        },
        "id": "ahuseuZOqTTA",
        "outputId": "004efeea-a83e-4212-b8af-6dee4908a0b0"
      },
      "source": [
        "sp500.iloc[:5]"
      ],
      "execution_count": null,
      "outputs": [
        {
          "output_type": "execute_result",
          "data": {
            "text/html": [
              "<div>\n",
              "<style scoped>\n",
              "    .dataframe tbody tr th:only-of-type {\n",
              "        vertical-align: middle;\n",
              "    }\n",
              "\n",
              "    .dataframe tbody tr th {\n",
              "        vertical-align: top;\n",
              "    }\n",
              "\n",
              "    .dataframe thead th {\n",
              "        text-align: right;\n",
              "    }\n",
              "</style>\n",
              "<table border=\"1\" class=\"dataframe\">\n",
              "  <thead>\n",
              "    <tr style=\"text-align: right;\">\n",
              "      <th></th>\n",
              "      <th>Sector</th>\n",
              "      <th>Price</th>\n",
              "      <th>Book Value</th>\n",
              "    </tr>\n",
              "    <tr>\n",
              "      <th>Symbol</th>\n",
              "      <th></th>\n",
              "      <th></th>\n",
              "      <th></th>\n",
              "    </tr>\n",
              "  </thead>\n",
              "  <tbody>\n",
              "    <tr>\n",
              "      <th>MMM</th>\n",
              "      <td>Industrials</td>\n",
              "      <td>141.14</td>\n",
              "      <td>26.668</td>\n",
              "    </tr>\n",
              "    <tr>\n",
              "      <th>ABT</th>\n",
              "      <td>Health Care</td>\n",
              "      <td>39.60</td>\n",
              "      <td>15.573</td>\n",
              "    </tr>\n",
              "    <tr>\n",
              "      <th>ABBV</th>\n",
              "      <td>Health Care</td>\n",
              "      <td>53.95</td>\n",
              "      <td>2.954</td>\n",
              "    </tr>\n",
              "    <tr>\n",
              "      <th>ACN</th>\n",
              "      <td>Information Technology</td>\n",
              "      <td>79.79</td>\n",
              "      <td>8.326</td>\n",
              "    </tr>\n",
              "    <tr>\n",
              "      <th>ACE</th>\n",
              "      <td>Financials</td>\n",
              "      <td>102.91</td>\n",
              "      <td>86.897</td>\n",
              "    </tr>\n",
              "  </tbody>\n",
              "</table>\n",
              "</div>"
            ],
            "text/plain": [
              "                        Sector   Price  Book Value\n",
              "Symbol                                            \n",
              "MMM                Industrials  141.14      26.668\n",
              "ABT                Health Care   39.60      15.573\n",
              "ABBV               Health Care   53.95       2.954\n",
              "ACN     Information Technology   79.79       8.326\n",
              "ACE                 Financials  102.91      86.897"
            ]
          },
          "metadata": {
            "tags": []
          },
          "execution_count": 97
        }
      ]
    },
    {
      "cell_type": "markdown",
      "metadata": {
        "hidden": true,
        "id": "k1uZZRjtqTTA"
      },
      "source": [
        "in reverse order"
      ]
    },
    {
      "cell_type": "code",
      "metadata": {
        "hidden": true,
        "colab": {
          "base_uri": "https://localhost:8080/",
          "height": 235
        },
        "id": "UyZYV31QqTTA",
        "outputId": "cc7fff3d-f8e6-4e4f-d9fc-16766030dbee"
      },
      "source": [
        "sp500.iloc[4::-1]"
      ],
      "execution_count": null,
      "outputs": [
        {
          "output_type": "execute_result",
          "data": {
            "text/html": [
              "<div>\n",
              "<style scoped>\n",
              "    .dataframe tbody tr th:only-of-type {\n",
              "        vertical-align: middle;\n",
              "    }\n",
              "\n",
              "    .dataframe tbody tr th {\n",
              "        vertical-align: top;\n",
              "    }\n",
              "\n",
              "    .dataframe thead th {\n",
              "        text-align: right;\n",
              "    }\n",
              "</style>\n",
              "<table border=\"1\" class=\"dataframe\">\n",
              "  <thead>\n",
              "    <tr style=\"text-align: right;\">\n",
              "      <th></th>\n",
              "      <th>Sector</th>\n",
              "      <th>Price</th>\n",
              "      <th>Book Value</th>\n",
              "    </tr>\n",
              "    <tr>\n",
              "      <th>Symbol</th>\n",
              "      <th></th>\n",
              "      <th></th>\n",
              "      <th></th>\n",
              "    </tr>\n",
              "  </thead>\n",
              "  <tbody>\n",
              "    <tr>\n",
              "      <th>ACE</th>\n",
              "      <td>Financials</td>\n",
              "      <td>102.91</td>\n",
              "      <td>86.897</td>\n",
              "    </tr>\n",
              "    <tr>\n",
              "      <th>ACN</th>\n",
              "      <td>Information Technology</td>\n",
              "      <td>79.79</td>\n",
              "      <td>8.326</td>\n",
              "    </tr>\n",
              "    <tr>\n",
              "      <th>ABBV</th>\n",
              "      <td>Health Care</td>\n",
              "      <td>53.95</td>\n",
              "      <td>2.954</td>\n",
              "    </tr>\n",
              "    <tr>\n",
              "      <th>ABT</th>\n",
              "      <td>Health Care</td>\n",
              "      <td>39.60</td>\n",
              "      <td>15.573</td>\n",
              "    </tr>\n",
              "    <tr>\n",
              "      <th>MMM</th>\n",
              "      <td>Industrials</td>\n",
              "      <td>141.14</td>\n",
              "      <td>26.668</td>\n",
              "    </tr>\n",
              "  </tbody>\n",
              "</table>\n",
              "</div>"
            ],
            "text/plain": [
              "                        Sector   Price  Book Value\n",
              "Symbol                                            \n",
              "ACE                 Financials  102.91      86.897\n",
              "ACN     Information Technology   79.79       8.326\n",
              "ABBV               Health Care   53.95       2.954\n",
              "ABT                Health Care   39.60      15.573\n",
              "MMM                Industrials  141.14      26.668"
            ]
          },
          "metadata": {
            "tags": []
          },
          "execution_count": 98
        }
      ]
    },
    {
      "cell_type": "markdown",
      "metadata": {
        "hidden": true,
        "id": "ahVIlHSMqTTB"
      },
      "source": [
        "lines starting with the ABT label and ending with the ACN label"
      ]
    },
    {
      "cell_type": "code",
      "metadata": {
        "hidden": true,
        "colab": {
          "base_uri": "https://localhost:8080/",
          "height": 173
        },
        "id": "siFzgYo2qTTB",
        "outputId": "1cd705b1-0208-46f9-f2be-d58b2f246673"
      },
      "source": [
        "sp500.loc['ABT':'ACN']"
      ],
      "execution_count": null,
      "outputs": [
        {
          "output_type": "execute_result",
          "data": {
            "text/html": [
              "<div>\n",
              "<style scoped>\n",
              "    .dataframe tbody tr th:only-of-type {\n",
              "        vertical-align: middle;\n",
              "    }\n",
              "\n",
              "    .dataframe tbody tr th {\n",
              "        vertical-align: top;\n",
              "    }\n",
              "\n",
              "    .dataframe thead th {\n",
              "        text-align: right;\n",
              "    }\n",
              "</style>\n",
              "<table border=\"1\" class=\"dataframe\">\n",
              "  <thead>\n",
              "    <tr style=\"text-align: right;\">\n",
              "      <th></th>\n",
              "      <th>Sector</th>\n",
              "      <th>Price</th>\n",
              "      <th>Book Value</th>\n",
              "    </tr>\n",
              "    <tr>\n",
              "      <th>Symbol</th>\n",
              "      <th></th>\n",
              "      <th></th>\n",
              "      <th></th>\n",
              "    </tr>\n",
              "  </thead>\n",
              "  <tbody>\n",
              "    <tr>\n",
              "      <th>ABT</th>\n",
              "      <td>Health Care</td>\n",
              "      <td>39.60</td>\n",
              "      <td>15.573</td>\n",
              "    </tr>\n",
              "    <tr>\n",
              "      <th>ABBV</th>\n",
              "      <td>Health Care</td>\n",
              "      <td>53.95</td>\n",
              "      <td>2.954</td>\n",
              "    </tr>\n",
              "    <tr>\n",
              "      <th>ACN</th>\n",
              "      <td>Information Technology</td>\n",
              "      <td>79.79</td>\n",
              "      <td>8.326</td>\n",
              "    </tr>\n",
              "  </tbody>\n",
              "</table>\n",
              "</div>"
            ],
            "text/plain": [
              "                        Sector  Price  Book Value\n",
              "Symbol                                           \n",
              "ABT                Health Care  39.60      15.573\n",
              "ABBV               Health Care  53.95       2.954\n",
              "ACN     Information Technology  79.79       8.326"
            ]
          },
          "metadata": {
            "tags": []
          },
          "execution_count": 99
        }
      ]
    },
    {
      "cell_type": "markdown",
      "metadata": {
        "heading_collapsed": true,
        "id": "_QFfcRZzqTTB"
      },
      "source": [
        "### Copying and links"
      ]
    },
    {
      "cell_type": "code",
      "metadata": {
        "hidden": true,
        "colab": {
          "base_uri": "https://localhost:8080/"
        },
        "id": "nmd8rK78qTTC",
        "outputId": "0887b89c-a78c-4c81-97d5-1f3ade5e897b"
      },
      "source": [
        "numbers"
      ],
      "execution_count": null,
      "outputs": [
        {
          "output_type": "execute_result",
          "data": {
            "text/plain": [
              "25   -1.085631\n",
              "26    0.997345\n",
              "27    0.282978\n",
              "28   -1.506295\n",
              "29   -0.578600\n",
              "30    1.651437\n",
              "31   -2.426679\n",
              "32   -0.428913\n",
              "33    1.265936\n",
              "34   -0.866740\n",
              "dtype: float64"
            ]
          },
          "metadata": {
            "tags": []
          },
          "execution_count": 100
        }
      ]
    },
    {
      "cell_type": "markdown",
      "metadata": {
        "hidden": true,
        "id": "SRuJHYITqTTC"
      },
      "source": [
        "elements from 1 to 4"
      ]
    },
    {
      "cell_type": "code",
      "metadata": {
        "hidden": true,
        "colab": {
          "base_uri": "https://localhost:8080/"
        },
        "id": "qpNBR9xaqTTC",
        "outputId": "addbb76c-f3fc-420d-c95e-37bdbc5b2608"
      },
      "source": [
        "numbers.iloc[[1,2,3,4]]"
      ],
      "execution_count": null,
      "outputs": [
        {
          "output_type": "execute_result",
          "data": {
            "text/plain": [
              "26    0.997345\n",
              "27    0.282978\n",
              "28   -1.506295\n",
              "29   -0.578600\n",
              "dtype: float64"
            ]
          },
          "metadata": {
            "tags": []
          },
          "execution_count": 101
        }
      ]
    },
    {
      "cell_type": "markdown",
      "metadata": {
        "hidden": true,
        "id": "P3tMSynKqTTD"
      },
      "source": [
        "saved to the variable n"
      ]
    },
    {
      "cell_type": "code",
      "metadata": {
        "hidden": true,
        "id": "DmA0DA__qTTD"
      },
      "source": [
        "n = numbers.iloc[[1,2,3,4]]"
      ],
      "execution_count": null,
      "outputs": []
    },
    {
      "cell_type": "code",
      "metadata": {
        "hidden": true,
        "colab": {
          "base_uri": "https://localhost:8080/"
        },
        "id": "JnFtm9JOqTTD",
        "outputId": "97bc7b44-dfc3-4c73-f648-e19519ad3e36"
      },
      "source": [
        "n"
      ],
      "execution_count": null,
      "outputs": [
        {
          "output_type": "execute_result",
          "data": {
            "text/plain": [
              "26    0.997345\n",
              "27    0.282978\n",
              "28   -1.506295\n",
              "29   -0.578600\n",
              "dtype: float64"
            ]
          },
          "metadata": {
            "tags": []
          },
          "execution_count": 104
        }
      ]
    },
    {
      "cell_type": "markdown",
      "metadata": {
        "hidden": true,
        "id": "OLWy2pkGqTTE"
      },
      "source": [
        "assign the value 0 to all elements"
      ]
    },
    {
      "cell_type": "code",
      "metadata": {
        "hidden": true,
        "colab": {
          "base_uri": "https://localhost:8080/"
        },
        "id": "FDj_JCeBqTTE",
        "outputId": "5e146556-0845-44d0-fcb7-79606a5215ba"
      },
      "source": [
        "n.loc[:] = 0\n",
        "n"
      ],
      "execution_count": null,
      "outputs": [
        {
          "output_type": "execute_result",
          "data": {
            "text/plain": [
              "26    0.0\n",
              "27    0.0\n",
              "28    0.0\n",
              "29    0.0\n",
              "dtype: float64"
            ]
          },
          "metadata": {
            "tags": []
          },
          "execution_count": 105
        }
      ]
    },
    {
      "cell_type": "markdown",
      "metadata": {
        "hidden": true,
        "id": "5_VyQeNNqTTE"
      },
      "source": [
        "did anything happen to numbers?"
      ]
    },
    {
      "cell_type": "code",
      "metadata": {
        "hidden": true,
        "colab": {
          "base_uri": "https://localhost:8080/"
        },
        "id": "bnsmqubLqTTF",
        "outputId": "ed02c25f-e477-4763-92ed-614441c53fad"
      },
      "source": [
        "numbers"
      ],
      "execution_count": null,
      "outputs": [
        {
          "output_type": "execute_result",
          "data": {
            "text/plain": [
              "25   -1.085631\n",
              "26    0.997345\n",
              "27    0.282978\n",
              "28   -1.506295\n",
              "29   -0.578600\n",
              "30    1.651437\n",
              "31   -2.426679\n",
              "32   -0.428913\n",
              "33    1.265936\n",
              "34   -0.866740\n",
              "dtype: float64"
            ]
          },
          "metadata": {
            "tags": []
          },
          "execution_count": 106
        }
      ]
    },
    {
      "cell_type": "markdown",
      "metadata": {
        "hidden": true,
        "id": "thQRBrBpqTTF"
      },
      "source": [
        "once again, save the first 4 elements"
      ]
    },
    {
      "cell_type": "code",
      "metadata": {
        "hidden": true,
        "colab": {
          "base_uri": "https://localhost:8080/"
        },
        "id": "xFqTEc-qqTTF",
        "outputId": "6064fc5f-360c-426a-9c49-8febe9848326"
      },
      "source": [
        "n = numbers.iloc[[1,2,3,4]]\n",
        "n"
      ],
      "execution_count": null,
      "outputs": [
        {
          "output_type": "execute_result",
          "data": {
            "text/plain": [
              "26    0.997345\n",
              "27    0.282978\n",
              "28   -1.506295\n",
              "29   -0.578600\n",
              "dtype: float64"
            ]
          },
          "metadata": {
            "tags": []
          },
          "execution_count": 107
        }
      ]
    },
    {
      "cell_type": "markdown",
      "metadata": {
        "hidden": true,
        "id": "RHxAdxXYqTTG"
      },
      "source": [
        "creating a variable k = slice from 1 to 4 elements"
      ]
    },
    {
      "cell_type": "code",
      "metadata": {
        "hidden": true,
        "colab": {
          "base_uri": "https://localhost:8080/"
        },
        "id": "E3XgP4BuqTTG",
        "outputId": "cbac76a8-974f-45ab-a8a6-1cba96787bbb"
      },
      "source": [
        "k = numbers[1:5]\n",
        "k.loc[:] = 0\n",
        "k"
      ],
      "execution_count": null,
      "outputs": [
        {
          "output_type": "execute_result",
          "data": {
            "text/plain": [
              "26    0.0\n",
              "27    0.0\n",
              "28    0.0\n",
              "29    0.0\n",
              "dtype: float64"
            ]
          },
          "metadata": {
            "tags": []
          },
          "execution_count": 108
        }
      ]
    },
    {
      "cell_type": "code",
      "metadata": {
        "hidden": true,
        "colab": {
          "base_uri": "https://localhost:8080/"
        },
        "id": "Jb-qKSbsqTTG",
        "outputId": "fa77dde4-f01b-4a9e-bb62-08f396b4d465"
      },
      "source": [
        "numbers"
      ],
      "execution_count": null,
      "outputs": [
        {
          "output_type": "execute_result",
          "data": {
            "text/plain": [
              "25   -1.085631\n",
              "26    0.000000\n",
              "27    0.000000\n",
              "28    0.000000\n",
              "29    0.000000\n",
              "30    1.651437\n",
              "31   -2.426679\n",
              "32   -0.428913\n",
              "33    1.265936\n",
              "34   -0.866740\n",
              "dtype: float64"
            ]
          },
          "metadata": {
            "tags": []
          },
          "execution_count": 109
        }
      ]
    },
    {
      "cell_type": "markdown",
      "metadata": {
        "hidden": true,
        "id": "kDbibIooqTTH"
      },
      "source": [
        "restored numbers"
      ]
    },
    {
      "cell_type": "code",
      "metadata": {
        "hidden": true,
        "colab": {
          "base_uri": "https://localhost:8080/"
        },
        "id": "Uy-ivjTKqTTH",
        "outputId": "e88cfd64-f321-4591-b609-29cd0119a49c"
      },
      "source": [
        "numbers[1:5] = n\n",
        "numbers"
      ],
      "execution_count": null,
      "outputs": [
        {
          "output_type": "execute_result",
          "data": {
            "text/plain": [
              "25   -1.085631\n",
              "26    0.997345\n",
              "27    0.282978\n",
              "28   -1.506295\n",
              "29   -0.578600\n",
              "30    1.651437\n",
              "31   -2.426679\n",
              "32   -0.428913\n",
              "33    1.265936\n",
              "34   -0.866740\n",
              "dtype: float64"
            ]
          },
          "metadata": {
            "tags": []
          },
          "execution_count": 110
        }
      ]
    },
    {
      "cell_type": "markdown",
      "metadata": {
        "heading_collapsed": true,
        "id": "C1Dr1vJ2qTTH"
      },
      "source": [
        "###  Removal"
      ]
    },
    {
      "cell_type": "markdown",
      "metadata": {
        "heading_collapsed": true,
        "hidden": true,
        "id": "AyFsDWM-qTTI"
      },
      "source": [
        "#### del"
      ]
    },
    {
      "cell_type": "markdown",
      "metadata": {
        "hidden": true,
        "id": "8oMG7U9BqTTJ"
      },
      "source": [
        "Series"
      ]
    },
    {
      "cell_type": "code",
      "metadata": {
        "hidden": true,
        "colab": {
          "base_uri": "https://localhost:8080/"
        },
        "id": "UIUoZblMqTTK",
        "outputId": "3df39a66-6738-4eaa-f3c1-6835ef85146c"
      },
      "source": [
        "Simpsons"
      ],
      "execution_count": null,
      "outputs": [
        {
          "output_type": "execute_result",
          "data": {
            "text/plain": [
              "First name\n",
              "Homer     120\n",
              "Marge      60\n",
              "Bart       35\n",
              "Lisa       30\n",
              "Maggie      7\n",
              "Name: Simpsons weight, dtype: int64"
            ]
          },
          "metadata": {
            "tags": []
          },
          "execution_count": 111
        }
      ]
    },
    {
      "cell_type": "code",
      "metadata": {
        "hidden": true,
        "colab": {
          "base_uri": "https://localhost:8080/"
        },
        "id": "6UQsCeRZqTTK",
        "outputId": "8c5bd797-392f-4f00-c3bb-6d576f7e424e"
      },
      "source": [
        "Simpsons_copy = Simpsons.copy()\n",
        "del Simpsons_copy['Maggie']\n",
        "Simpsons_copy"
      ],
      "execution_count": null,
      "outputs": [
        {
          "output_type": "execute_result",
          "data": {
            "text/plain": [
              "First name\n",
              "Homer    120\n",
              "Marge     60\n",
              "Bart      35\n",
              "Lisa      30\n",
              "Name: Simpsons weight, dtype: int64"
            ]
          },
          "metadata": {
            "tags": []
          },
          "execution_count": 112
        }
      ]
    },
    {
      "cell_type": "markdown",
      "metadata": {
        "hidden": true,
        "id": "V-6AG6ZbqTTL"
      },
      "source": [
        "DataFrame"
      ]
    },
    {
      "cell_type": "code",
      "metadata": {
        "hidden": true,
        "colab": {
          "base_uri": "https://localhost:8080/",
          "height": 235
        },
        "id": "FRolV3R8qTTL",
        "outputId": "3b922423-095e-4e6b-c7a0-5ea7ade3db8a"
      },
      "source": [
        "sp500.head()"
      ],
      "execution_count": null,
      "outputs": [
        {
          "output_type": "execute_result",
          "data": {
            "text/html": [
              "<div>\n",
              "<style scoped>\n",
              "    .dataframe tbody tr th:only-of-type {\n",
              "        vertical-align: middle;\n",
              "    }\n",
              "\n",
              "    .dataframe tbody tr th {\n",
              "        vertical-align: top;\n",
              "    }\n",
              "\n",
              "    .dataframe thead th {\n",
              "        text-align: right;\n",
              "    }\n",
              "</style>\n",
              "<table border=\"1\" class=\"dataframe\">\n",
              "  <thead>\n",
              "    <tr style=\"text-align: right;\">\n",
              "      <th></th>\n",
              "      <th>Sector</th>\n",
              "      <th>Price</th>\n",
              "      <th>Book Value</th>\n",
              "    </tr>\n",
              "    <tr>\n",
              "      <th>Symbol</th>\n",
              "      <th></th>\n",
              "      <th></th>\n",
              "      <th></th>\n",
              "    </tr>\n",
              "  </thead>\n",
              "  <tbody>\n",
              "    <tr>\n",
              "      <th>MMM</th>\n",
              "      <td>Industrials</td>\n",
              "      <td>141.14</td>\n",
              "      <td>26.668</td>\n",
              "    </tr>\n",
              "    <tr>\n",
              "      <th>ABT</th>\n",
              "      <td>Health Care</td>\n",
              "      <td>39.60</td>\n",
              "      <td>15.573</td>\n",
              "    </tr>\n",
              "    <tr>\n",
              "      <th>ABBV</th>\n",
              "      <td>Health Care</td>\n",
              "      <td>53.95</td>\n",
              "      <td>2.954</td>\n",
              "    </tr>\n",
              "    <tr>\n",
              "      <th>ACN</th>\n",
              "      <td>Information Technology</td>\n",
              "      <td>79.79</td>\n",
              "      <td>8.326</td>\n",
              "    </tr>\n",
              "    <tr>\n",
              "      <th>ACE</th>\n",
              "      <td>Financials</td>\n",
              "      <td>102.91</td>\n",
              "      <td>86.897</td>\n",
              "    </tr>\n",
              "  </tbody>\n",
              "</table>\n",
              "</div>"
            ],
            "text/plain": [
              "                        Sector   Price  Book Value\n",
              "Symbol                                            \n",
              "MMM                Industrials  141.14      26.668\n",
              "ABT                Health Care   39.60      15.573\n",
              "ABBV               Health Care   53.95       2.954\n",
              "ACN     Information Technology   79.79       8.326\n",
              "ACE                 Financials  102.91      86.897"
            ]
          },
          "metadata": {
            "tags": []
          },
          "execution_count": 113
        }
      ]
    },
    {
      "cell_type": "code",
      "metadata": {
        "hidden": true,
        "colab": {
          "base_uri": "https://localhost:8080/",
          "height": 142
        },
        "id": "fhSwG8ZHqTTL",
        "outputId": "b38a20a1-8755-46e8-8aae-483e7da39800"
      },
      "source": [
        "sp500_copy = sp500.copy()\n",
        "del sp500_copy['Price']\n",
        "sp500_copy.iloc[:2]"
      ],
      "execution_count": null,
      "outputs": [
        {
          "output_type": "execute_result",
          "data": {
            "text/html": [
              "<div>\n",
              "<style scoped>\n",
              "    .dataframe tbody tr th:only-of-type {\n",
              "        vertical-align: middle;\n",
              "    }\n",
              "\n",
              "    .dataframe tbody tr th {\n",
              "        vertical-align: top;\n",
              "    }\n",
              "\n",
              "    .dataframe thead th {\n",
              "        text-align: right;\n",
              "    }\n",
              "</style>\n",
              "<table border=\"1\" class=\"dataframe\">\n",
              "  <thead>\n",
              "    <tr style=\"text-align: right;\">\n",
              "      <th></th>\n",
              "      <th>Sector</th>\n",
              "      <th>Book Value</th>\n",
              "    </tr>\n",
              "    <tr>\n",
              "      <th>Symbol</th>\n",
              "      <th></th>\n",
              "      <th></th>\n",
              "    </tr>\n",
              "  </thead>\n",
              "  <tbody>\n",
              "    <tr>\n",
              "      <th>MMM</th>\n",
              "      <td>Industrials</td>\n",
              "      <td>26.668</td>\n",
              "    </tr>\n",
              "    <tr>\n",
              "      <th>ABT</th>\n",
              "      <td>Health Care</td>\n",
              "      <td>15.573</td>\n",
              "    </tr>\n",
              "  </tbody>\n",
              "</table>\n",
              "</div>"
            ],
            "text/plain": [
              "             Sector  Book Value\n",
              "Symbol                         \n",
              "MMM     Industrials      26.668\n",
              "ABT     Health Care      15.573"
            ]
          },
          "metadata": {
            "tags": []
          },
          "execution_count": 114
        }
      ]
    },
    {
      "cell_type": "markdown",
      "metadata": {
        "heading_collapsed": true,
        "hidden": true,
        "id": "d72ahp31qTTM"
      },
      "source": [
        "#### pop "
      ]
    },
    {
      "cell_type": "code",
      "metadata": {
        "hidden": true,
        "id": "q6-C4OdKqTTN"
      },
      "source": [
        "sp500_copy = sp500.copy()"
      ],
      "execution_count": null,
      "outputs": []
    },
    {
      "cell_type": "code",
      "metadata": {
        "hidden": true,
        "colab": {
          "base_uri": "https://localhost:8080/",
          "height": 173
        },
        "id": "5AUo_KcnqTTN",
        "outputId": "c2bf4553-a686-45fb-c780-f4dc2d953faf"
      },
      "source": [
        "sp500_copy.head(3)"
      ],
      "execution_count": null,
      "outputs": [
        {
          "output_type": "execute_result",
          "data": {
            "text/html": [
              "<div>\n",
              "<style scoped>\n",
              "    .dataframe tbody tr th:only-of-type {\n",
              "        vertical-align: middle;\n",
              "    }\n",
              "\n",
              "    .dataframe tbody tr th {\n",
              "        vertical-align: top;\n",
              "    }\n",
              "\n",
              "    .dataframe thead th {\n",
              "        text-align: right;\n",
              "    }\n",
              "</style>\n",
              "<table border=\"1\" class=\"dataframe\">\n",
              "  <thead>\n",
              "    <tr style=\"text-align: right;\">\n",
              "      <th></th>\n",
              "      <th>Sector</th>\n",
              "      <th>Price</th>\n",
              "      <th>Book Value</th>\n",
              "    </tr>\n",
              "    <tr>\n",
              "      <th>Symbol</th>\n",
              "      <th></th>\n",
              "      <th></th>\n",
              "      <th></th>\n",
              "    </tr>\n",
              "  </thead>\n",
              "  <tbody>\n",
              "    <tr>\n",
              "      <th>MMM</th>\n",
              "      <td>Industrials</td>\n",
              "      <td>141.14</td>\n",
              "      <td>26.668</td>\n",
              "    </tr>\n",
              "    <tr>\n",
              "      <th>ABT</th>\n",
              "      <td>Health Care</td>\n",
              "      <td>39.60</td>\n",
              "      <td>15.573</td>\n",
              "    </tr>\n",
              "    <tr>\n",
              "      <th>ABBV</th>\n",
              "      <td>Health Care</td>\n",
              "      <td>53.95</td>\n",
              "      <td>2.954</td>\n",
              "    </tr>\n",
              "  </tbody>\n",
              "</table>\n",
              "</div>"
            ],
            "text/plain": [
              "             Sector   Price  Book Value\n",
              "Symbol                                 \n",
              "MMM     Industrials  141.14      26.668\n",
              "ABT     Health Care   39.60      15.573\n",
              "ABBV    Health Care   53.95       2.954"
            ]
          },
          "metadata": {
            "tags": []
          },
          "execution_count": 116
        }
      ]
    },
    {
      "cell_type": "markdown",
      "metadata": {
        "hidden": true,
        "id": "lx7cE-tcqTTO"
      },
      "source": [
        "this row will delete the Sector column and return it as a series"
      ]
    },
    {
      "cell_type": "code",
      "metadata": {
        "hidden": true,
        "id": "M7mWmA1MqTTP"
      },
      "source": [
        "popped_column = sp500_copy.pop('Sector')"
      ],
      "execution_count": null,
      "outputs": []
    },
    {
      "cell_type": "markdown",
      "metadata": {
        "hidden": true,
        "id": "an_wrYDeqTTQ"
      },
      "source": [
        "the Sector column is deleted in place"
      ]
    },
    {
      "cell_type": "code",
      "metadata": {
        "hidden": true,
        "colab": {
          "base_uri": "https://localhost:8080/",
          "height": 173
        },
        "id": "B4g4g2N5qTTQ",
        "outputId": "daa83816-c02f-4fbd-fad3-2414bf405d55"
      },
      "source": [
        "sp500_copy.head(3)"
      ],
      "execution_count": null,
      "outputs": [
        {
          "output_type": "execute_result",
          "data": {
            "text/html": [
              "<div>\n",
              "<style scoped>\n",
              "    .dataframe tbody tr th:only-of-type {\n",
              "        vertical-align: middle;\n",
              "    }\n",
              "\n",
              "    .dataframe tbody tr th {\n",
              "        vertical-align: top;\n",
              "    }\n",
              "\n",
              "    .dataframe thead th {\n",
              "        text-align: right;\n",
              "    }\n",
              "</style>\n",
              "<table border=\"1\" class=\"dataframe\">\n",
              "  <thead>\n",
              "    <tr style=\"text-align: right;\">\n",
              "      <th></th>\n",
              "      <th>Price</th>\n",
              "      <th>Book Value</th>\n",
              "    </tr>\n",
              "    <tr>\n",
              "      <th>Symbol</th>\n",
              "      <th></th>\n",
              "      <th></th>\n",
              "    </tr>\n",
              "  </thead>\n",
              "  <tbody>\n",
              "    <tr>\n",
              "      <th>MMM</th>\n",
              "      <td>141.14</td>\n",
              "      <td>26.668</td>\n",
              "    </tr>\n",
              "    <tr>\n",
              "      <th>ABT</th>\n",
              "      <td>39.60</td>\n",
              "      <td>15.573</td>\n",
              "    </tr>\n",
              "    <tr>\n",
              "      <th>ABBV</th>\n",
              "      <td>53.95</td>\n",
              "      <td>2.954</td>\n",
              "    </tr>\n",
              "  </tbody>\n",
              "</table>\n",
              "</div>"
            ],
            "text/plain": [
              "         Price  Book Value\n",
              "Symbol                    \n",
              "MMM     141.14      26.668\n",
              "ABT      39.60      15.573\n",
              "ABBV     53.95       2.954"
            ]
          },
          "metadata": {
            "tags": []
          },
          "execution_count": 118
        }
      ]
    },
    {
      "cell_type": "markdown",
      "metadata": {
        "hidden": true,
        "id": "5t8gQYFbqTTR"
      },
      "source": [
        "and we have the Sector column obtained as a result of applying pop"
      ]
    },
    {
      "cell_type": "code",
      "metadata": {
        "hidden": true,
        "colab": {
          "base_uri": "https://localhost:8080/"
        },
        "id": "zDb6eDjoqTTR",
        "outputId": "596c5077-9340-45ec-a30e-2eb36024da48"
      },
      "source": [
        "popped_column.head(3)"
      ],
      "execution_count": null,
      "outputs": [
        {
          "output_type": "execute_result",
          "data": {
            "text/plain": [
              "Symbol\n",
              "MMM     Industrials\n",
              "ABT     Health Care\n",
              "ABBV    Health Care\n",
              "Name: Sector, dtype: object"
            ]
          },
          "metadata": {
            "tags": []
          },
          "execution_count": 119
        }
      ]
    },
    {
      "cell_type": "markdown",
      "metadata": {
        "hidden": true,
        "id": "J5g8ev7pqTTR"
      },
      "source": [
        "For Series application .pop is identical"
      ]
    },
    {
      "cell_type": "markdown",
      "metadata": {
        "heading_collapsed": true,
        "hidden": true,
        "id": "Kk9XAEaMqTTR"
      },
      "source": [
        "#### drop "
      ]
    },
    {
      "cell_type": "code",
      "metadata": {
        "hidden": true,
        "id": "G_eUH8HTqTTS"
      },
      "source": [
        "sp500_copy = sp500.copy()"
      ],
      "execution_count": null,
      "outputs": []
    },
    {
      "cell_type": "code",
      "metadata": {
        "hidden": true,
        "colab": {
          "base_uri": "https://localhost:8080/",
          "height": 173
        },
        "id": "6dUKTRXjqTTS",
        "outputId": "fa65c587-2aea-4f58-86a1-fc614dceb61b"
      },
      "source": [
        "sp500_copy.head(3)"
      ],
      "execution_count": null,
      "outputs": [
        {
          "output_type": "execute_result",
          "data": {
            "text/html": [
              "<div>\n",
              "<style scoped>\n",
              "    .dataframe tbody tr th:only-of-type {\n",
              "        vertical-align: middle;\n",
              "    }\n",
              "\n",
              "    .dataframe tbody tr th {\n",
              "        vertical-align: top;\n",
              "    }\n",
              "\n",
              "    .dataframe thead th {\n",
              "        text-align: right;\n",
              "    }\n",
              "</style>\n",
              "<table border=\"1\" class=\"dataframe\">\n",
              "  <thead>\n",
              "    <tr style=\"text-align: right;\">\n",
              "      <th></th>\n",
              "      <th>Sector</th>\n",
              "      <th>Price</th>\n",
              "      <th>Book Value</th>\n",
              "    </tr>\n",
              "    <tr>\n",
              "      <th>Symbol</th>\n",
              "      <th></th>\n",
              "      <th></th>\n",
              "      <th></th>\n",
              "    </tr>\n",
              "  </thead>\n",
              "  <tbody>\n",
              "    <tr>\n",
              "      <th>MMM</th>\n",
              "      <td>Industrials</td>\n",
              "      <td>141.14</td>\n",
              "      <td>26.668</td>\n",
              "    </tr>\n",
              "    <tr>\n",
              "      <th>ABT</th>\n",
              "      <td>Health Care</td>\n",
              "      <td>39.60</td>\n",
              "      <td>15.573</td>\n",
              "    </tr>\n",
              "    <tr>\n",
              "      <th>ABBV</th>\n",
              "      <td>Health Care</td>\n",
              "      <td>53.95</td>\n",
              "      <td>2.954</td>\n",
              "    </tr>\n",
              "  </tbody>\n",
              "</table>\n",
              "</div>"
            ],
            "text/plain": [
              "             Sector   Price  Book Value\n",
              "Symbol                                 \n",
              "MMM     Industrials  141.14      26.668\n",
              "ABT     Health Care   39.60      15.573\n",
              "ABBV    Health Care   53.95       2.954"
            ]
          },
          "metadata": {
            "tags": []
          },
          "execution_count": 121
        }
      ]
    },
    {
      "cell_type": "markdown",
      "metadata": {
        "hidden": true,
        "id": "SbxkQX29qTTS"
      },
      "source": [
        "- this row will return a new dataframe with the 'Sector’column removed\n",
        "- the dataframe copy will not change"
      ]
    },
    {
      "cell_type": "code",
      "metadata": {
        "hidden": true,
        "colab": {
          "base_uri": "https://localhost:8080/",
          "height": 173
        },
        "id": "p3G80F9JqTTT",
        "outputId": "d3154eec-88b6-4816-83a7-a1f5eb9a14d2"
      },
      "source": [
        "sp500_copy_after_drop = sp500_copy.drop(['Sector'], axis = 1)\n",
        "sp500_copy_after_drop.head(3)"
      ],
      "execution_count": null,
      "outputs": [
        {
          "output_type": "execute_result",
          "data": {
            "text/html": [
              "<div>\n",
              "<style scoped>\n",
              "    .dataframe tbody tr th:only-of-type {\n",
              "        vertical-align: middle;\n",
              "    }\n",
              "\n",
              "    .dataframe tbody tr th {\n",
              "        vertical-align: top;\n",
              "    }\n",
              "\n",
              "    .dataframe thead th {\n",
              "        text-align: right;\n",
              "    }\n",
              "</style>\n",
              "<table border=\"1\" class=\"dataframe\">\n",
              "  <thead>\n",
              "    <tr style=\"text-align: right;\">\n",
              "      <th></th>\n",
              "      <th>Price</th>\n",
              "      <th>Book Value</th>\n",
              "    </tr>\n",
              "    <tr>\n",
              "      <th>Symbol</th>\n",
              "      <th></th>\n",
              "      <th></th>\n",
              "    </tr>\n",
              "  </thead>\n",
              "  <tbody>\n",
              "    <tr>\n",
              "      <th>MMM</th>\n",
              "      <td>141.14</td>\n",
              "      <td>26.668</td>\n",
              "    </tr>\n",
              "    <tr>\n",
              "      <th>ABT</th>\n",
              "      <td>39.60</td>\n",
              "      <td>15.573</td>\n",
              "    </tr>\n",
              "    <tr>\n",
              "      <th>ABBV</th>\n",
              "      <td>53.95</td>\n",
              "      <td>2.954</td>\n",
              "    </tr>\n",
              "  </tbody>\n",
              "</table>\n",
              "</div>"
            ],
            "text/plain": [
              "         Price  Book Value\n",
              "Symbol                    \n",
              "MMM     141.14      26.668\n",
              "ABT      39.60      15.573\n",
              "ABBV     53.95       2.954"
            ]
          },
          "metadata": {
            "tags": []
          },
          "execution_count": 123
        }
      ]
    },
    {
      "cell_type": "code",
      "metadata": {
        "hidden": true,
        "colab": {
          "base_uri": "https://localhost:8080/",
          "height": 173
        },
        "id": "gAvExuTmqTTT",
        "outputId": "2de2d252-e453-4e4c-bca9-583b9d9a5917"
      },
      "source": [
        "sp500_copy.head(3)"
      ],
      "execution_count": null,
      "outputs": [
        {
          "output_type": "execute_result",
          "data": {
            "text/html": [
              "<div>\n",
              "<style scoped>\n",
              "    .dataframe tbody tr th:only-of-type {\n",
              "        vertical-align: middle;\n",
              "    }\n",
              "\n",
              "    .dataframe tbody tr th {\n",
              "        vertical-align: top;\n",
              "    }\n",
              "\n",
              "    .dataframe thead th {\n",
              "        text-align: right;\n",
              "    }\n",
              "</style>\n",
              "<table border=\"1\" class=\"dataframe\">\n",
              "  <thead>\n",
              "    <tr style=\"text-align: right;\">\n",
              "      <th></th>\n",
              "      <th>Sector</th>\n",
              "      <th>Price</th>\n",
              "      <th>Book Value</th>\n",
              "    </tr>\n",
              "    <tr>\n",
              "      <th>Symbol</th>\n",
              "      <th></th>\n",
              "      <th></th>\n",
              "      <th></th>\n",
              "    </tr>\n",
              "  </thead>\n",
              "  <tbody>\n",
              "    <tr>\n",
              "      <th>MMM</th>\n",
              "      <td>Industrials</td>\n",
              "      <td>141.14</td>\n",
              "      <td>26.668</td>\n",
              "    </tr>\n",
              "    <tr>\n",
              "      <th>ABT</th>\n",
              "      <td>Health Care</td>\n",
              "      <td>39.60</td>\n",
              "      <td>15.573</td>\n",
              "    </tr>\n",
              "    <tr>\n",
              "      <th>ABBV</th>\n",
              "      <td>Health Care</td>\n",
              "      <td>53.95</td>\n",
              "      <td>2.954</td>\n",
              "    </tr>\n",
              "  </tbody>\n",
              "</table>\n",
              "</div>"
            ],
            "text/plain": [
              "             Sector   Price  Book Value\n",
              "Symbol                                 \n",
              "MMM     Industrials  141.14      26.668\n",
              "ABT     Health Care   39.60      15.573\n",
              "ABBV    Health Care   53.95       2.954"
            ]
          },
          "metadata": {
            "tags": []
          },
          "execution_count": 124
        }
      ]
    },
    {
      "cell_type": "markdown",
      "metadata": {
        "hidden": true,
        "id": "o3Bjnl9zqTTU"
      },
      "source": [
        "we get a copy of the first 5 lines of the data dataframe"
      ]
    },
    {
      "cell_type": "code",
      "metadata": {
        "hidden": true,
        "colab": {
          "base_uri": "https://localhost:8080/",
          "height": 235
        },
        "id": "oQe6QMkFqTTU",
        "outputId": "1205bcaf-f8e9-4b72-d3e5-dc208c2f864d"
      },
      "source": [
        "sp500_part_copy = sp500.iloc[:5].copy()\n",
        "sp500_part_copy"
      ],
      "execution_count": null,
      "outputs": [
        {
          "output_type": "execute_result",
          "data": {
            "text/html": [
              "<div>\n",
              "<style scoped>\n",
              "    .dataframe tbody tr th:only-of-type {\n",
              "        vertical-align: middle;\n",
              "    }\n",
              "\n",
              "    .dataframe tbody tr th {\n",
              "        vertical-align: top;\n",
              "    }\n",
              "\n",
              "    .dataframe thead th {\n",
              "        text-align: right;\n",
              "    }\n",
              "</style>\n",
              "<table border=\"1\" class=\"dataframe\">\n",
              "  <thead>\n",
              "    <tr style=\"text-align: right;\">\n",
              "      <th></th>\n",
              "      <th>Sector</th>\n",
              "      <th>Price</th>\n",
              "      <th>Book Value</th>\n",
              "    </tr>\n",
              "    <tr>\n",
              "      <th>Symbol</th>\n",
              "      <th></th>\n",
              "      <th></th>\n",
              "      <th></th>\n",
              "    </tr>\n",
              "  </thead>\n",
              "  <tbody>\n",
              "    <tr>\n",
              "      <th>MMM</th>\n",
              "      <td>Industrials</td>\n",
              "      <td>141.14</td>\n",
              "      <td>26.668</td>\n",
              "    </tr>\n",
              "    <tr>\n",
              "      <th>ABT</th>\n",
              "      <td>Health Care</td>\n",
              "      <td>39.60</td>\n",
              "      <td>15.573</td>\n",
              "    </tr>\n",
              "    <tr>\n",
              "      <th>ABBV</th>\n",
              "      <td>Health Care</td>\n",
              "      <td>53.95</td>\n",
              "      <td>2.954</td>\n",
              "    </tr>\n",
              "    <tr>\n",
              "      <th>ACN</th>\n",
              "      <td>Information Technology</td>\n",
              "      <td>79.79</td>\n",
              "      <td>8.326</td>\n",
              "    </tr>\n",
              "    <tr>\n",
              "      <th>ACE</th>\n",
              "      <td>Financials</td>\n",
              "      <td>102.91</td>\n",
              "      <td>86.897</td>\n",
              "    </tr>\n",
              "  </tbody>\n",
              "</table>\n",
              "</div>"
            ],
            "text/plain": [
              "                        Sector   Price  Book Value\n",
              "Symbol                                            \n",
              "MMM                Industrials  141.14      26.668\n",
              "ABT                Health Care   39.60      15.573\n",
              "ABBV               Health Care   53.95       2.954\n",
              "ACN     Information Technology   79.79       8.326\n",
              "ACE                 Financials  102.91      86.897"
            ]
          },
          "metadata": {
            "tags": []
          },
          "execution_count": 125
        }
      ]
    },
    {
      "cell_type": "markdown",
      "metadata": {
        "hidden": true,
        "id": "kg9L5VhTqTTV"
      },
      "source": [
        "deleting rows with the ABT and ACN labels"
      ]
    },
    {
      "cell_type": "code",
      "metadata": {
        "hidden": true,
        "colab": {
          "base_uri": "https://localhost:8080/",
          "height": 173
        },
        "id": "u8D2SLogqTTV",
        "outputId": "37db0c21-80b0-43f5-d441-da5ba3825c30"
      },
      "source": [
        "sp500_part_copy = sp500_part_copy.drop(['ABT', 'ACN'], axis=0)\n",
        "sp500_part_copy.head(5)"
      ],
      "execution_count": null,
      "outputs": [
        {
          "output_type": "execute_result",
          "data": {
            "text/html": [
              "<div>\n",
              "<style scoped>\n",
              "    .dataframe tbody tr th:only-of-type {\n",
              "        vertical-align: middle;\n",
              "    }\n",
              "\n",
              "    .dataframe tbody tr th {\n",
              "        vertical-align: top;\n",
              "    }\n",
              "\n",
              "    .dataframe thead th {\n",
              "        text-align: right;\n",
              "    }\n",
              "</style>\n",
              "<table border=\"1\" class=\"dataframe\">\n",
              "  <thead>\n",
              "    <tr style=\"text-align: right;\">\n",
              "      <th></th>\n",
              "      <th>Sector</th>\n",
              "      <th>Price</th>\n",
              "      <th>Book Value</th>\n",
              "    </tr>\n",
              "    <tr>\n",
              "      <th>Symbol</th>\n",
              "      <th></th>\n",
              "      <th></th>\n",
              "      <th></th>\n",
              "    </tr>\n",
              "  </thead>\n",
              "  <tbody>\n",
              "    <tr>\n",
              "      <th>MMM</th>\n",
              "      <td>Industrials</td>\n",
              "      <td>141.14</td>\n",
              "      <td>26.668</td>\n",
              "    </tr>\n",
              "    <tr>\n",
              "      <th>ABBV</th>\n",
              "      <td>Health Care</td>\n",
              "      <td>53.95</td>\n",
              "      <td>2.954</td>\n",
              "    </tr>\n",
              "    <tr>\n",
              "      <th>ACE</th>\n",
              "      <td>Financials</td>\n",
              "      <td>102.91</td>\n",
              "      <td>86.897</td>\n",
              "    </tr>\n",
              "  </tbody>\n",
              "</table>\n",
              "</div>"
            ],
            "text/plain": [
              "             Sector   Price  Book Value\n",
              "Symbol                                 \n",
              "MMM     Industrials  141.14      26.668\n",
              "ABBV    Health Care   53.95       2.954\n",
              "ACE      Financials  102.91      86.897"
            ]
          },
          "metadata": {
            "tags": []
          },
          "execution_count": 126
        }
      ]
    },
    {
      "cell_type": "markdown",
      "metadata": {
        "hidden": true,
        "id": "gZ_KYNCJqTTV"
      },
      "source": [
        "For Series application .drop is identical"
      ]
    },
    {
      "cell_type": "markdown",
      "metadata": {
        "heading_collapsed": true,
        "id": "UCD1EPuzqTTV"
      },
      "source": [
        "### Фильтрация по условию"
      ]
    },
    {
      "cell_type": "markdown",
      "metadata": {
        "heading_collapsed": true,
        "hidden": true,
        "id": "aGimM0G_qTTW"
      },
      "source": [
        "#### Series "
      ]
    },
    {
      "cell_type": "code",
      "metadata": {
        "hidden": true,
        "colab": {
          "base_uri": "https://localhost:8080/"
        },
        "id": "34-nWWqTqTTW",
        "outputId": "246ddca8-274a-4a03-dada-fdb8044993da"
      },
      "source": [
        "numbers"
      ],
      "execution_count": null,
      "outputs": [
        {
          "output_type": "execute_result",
          "data": {
            "text/plain": [
              "25   -1.085631\n",
              "26    0.997345\n",
              "27    0.282978\n",
              "28   -1.506295\n",
              "29   -0.578600\n",
              "30    1.651437\n",
              "31   -2.426679\n",
              "32   -0.428913\n",
              "33    1.265936\n",
              "34   -0.866740\n",
              "dtype: float64"
            ]
          },
          "metadata": {
            "tags": []
          },
          "execution_count": 127
        }
      ]
    },
    {
      "cell_type": "markdown",
      "metadata": {
        "hidden": true,
        "id": "Bgg_BMVzqTTW"
      },
      "source": [
        "which rows have values greater than 0 and less than 1?"
      ]
    },
    {
      "cell_type": "code",
      "metadata": {
        "hidden": true,
        "colab": {
          "base_uri": "https://localhost:8080/"
        },
        "id": "esf3825zqTTX",
        "outputId": "d18fa8bf-8c9d-4a3f-89b8-b6423e3ef4d2"
      },
      "source": [
        "logical_results = (numbers > 0) & (numbers < 1)\n",
        "logical_results"
      ],
      "execution_count": null,
      "outputs": [
        {
          "output_type": "execute_result",
          "data": {
            "text/plain": [
              "25    False\n",
              "26     True\n",
              "27     True\n",
              "28    False\n",
              "29    False\n",
              "30    False\n",
              "31    False\n",
              "32    False\n",
              "33    False\n",
              "34    False\n",
              "dtype: bool"
            ]
          },
          "metadata": {
            "tags": []
          },
          "execution_count": 128
        }
      ]
    },
    {
      "cell_type": "markdown",
      "metadata": {
        "hidden": true,
        "id": "PRcCHdOkqTTX"
      },
      "source": [
        "Brackets!!! The following program code will throw an exception\n",
        "```python\n",
        "numbers > 0 & numbers < 1 \n",
        "```"
      ]
    },
    {
      "cell_type": "markdown",
      "metadata": {
        "hidden": true,
        "id": "ha9zBOL2qTTY"
      },
      "source": [
        "the type of the result obtained is Series, which can be used to select the values we are interested in"
      ]
    },
    {
      "cell_type": "code",
      "metadata": {
        "hidden": true,
        "colab": {
          "base_uri": "https://localhost:8080/"
        },
        "id": "Fb6cwDnGqTTY",
        "outputId": "9e1cd476-5528-4dbd-eb2b-5e577d9a60b5"
      },
      "source": [
        "type(logical_results)"
      ],
      "execution_count": null,
      "outputs": [
        {
          "output_type": "execute_result",
          "data": {
            "text/plain": [
              "pandas.core.series.Series"
            ]
          },
          "metadata": {
            "tags": []
          },
          "execution_count": 129
        }
      ]
    },
    {
      "cell_type": "markdown",
      "metadata": {
        "hidden": true,
        "id": "TCGkYK24qTTY"
      },
      "source": [
        "selecting rows with the value True"
      ]
    },
    {
      "cell_type": "code",
      "metadata": {
        "hidden": true,
        "colab": {
          "base_uri": "https://localhost:8080/"
        },
        "id": "Z2LB5ylLqTTZ",
        "outputId": "c4eaf8a7-4ef7-4d85-a215-8e365069c365"
      },
      "source": [
        "numbers[logical_results]"
      ],
      "execution_count": null,
      "outputs": [
        {
          "output_type": "execute_result",
          "data": {
            "text/plain": [
              "26    0.997345\n",
              "27    0.282978\n",
              "dtype: float64"
            ]
          },
          "metadata": {
            "tags": []
          },
          "execution_count": 130
        }
      ]
    },
    {
      "cell_type": "markdown",
      "metadata": {
        "hidden": true,
        "id": "v7DFTSarqTTZ"
      },
      "source": [
        "using the method .where"
      ]
    },
    {
      "cell_type": "code",
      "metadata": {
        "hidden": true,
        "colab": {
          "base_uri": "https://localhost:8080/"
        },
        "id": "0mxOETK-qTTZ",
        "outputId": "36a6b1a3-6783-4594-ce9b-73bf5d9f0807"
      },
      "source": [
        "numbers.where((numbers > 0) & (numbers < 1))"
      ],
      "execution_count": null,
      "outputs": [
        {
          "output_type": "execute_result",
          "data": {
            "text/plain": [
              "25         NaN\n",
              "26    0.997345\n",
              "27    0.282978\n",
              "28         NaN\n",
              "29         NaN\n",
              "30         NaN\n",
              "31         NaN\n",
              "32         NaN\n",
              "33         NaN\n",
              "34         NaN\n",
              "dtype: float64"
            ]
          },
          "metadata": {
            "tags": []
          },
          "execution_count": 131
        }
      ]
    },
    {
      "cell_type": "code",
      "metadata": {
        "hidden": true,
        "colab": {
          "base_uri": "https://localhost:8080/"
        },
        "id": "fEX8jqPDqTTZ",
        "outputId": "e654bfbb-a413-4c7a-e095-ee0b83a2d832"
      },
      "source": [
        "numbers.where((numbers > 0) & (numbers < 1), other = -1)"
      ],
      "execution_count": null,
      "outputs": [
        {
          "output_type": "execute_result",
          "data": {
            "text/plain": [
              "25   -1.000000\n",
              "26    0.997345\n",
              "27    0.282978\n",
              "28   -1.000000\n",
              "29   -1.000000\n",
              "30   -1.000000\n",
              "31   -1.000000\n",
              "32   -1.000000\n",
              "33   -1.000000\n",
              "34   -1.000000\n",
              "dtype: float64"
            ]
          },
          "metadata": {
            "tags": []
          },
          "execution_count": 132
        }
      ]
    },
    {
      "cell_type": "markdown",
      "metadata": {
        "hidden": true,
        "id": "lkU6EjRzqTTa"
      },
      "source": [
        "are all elements >= 0?"
      ]
    },
    {
      "cell_type": "code",
      "metadata": {
        "hidden": true,
        "colab": {
          "base_uri": "https://localhost:8080/"
        },
        "id": "x99VnLt4qTTa",
        "outputId": "25e5865f-aa58-4fd1-9507-44103780d18d"
      },
      "source": [
        "(numbers >= 0).all()"
      ],
      "execution_count": null,
      "outputs": [
        {
          "output_type": "execute_result",
          "data": {
            "text/plain": [
              "False"
            ]
          },
          "metadata": {
            "tags": []
          },
          "execution_count": 133
        }
      ]
    },
    {
      "cell_type": "markdown",
      "metadata": {
        "hidden": true,
        "id": "tQtlLzAtqTTa"
      },
      "source": [
        "is there an element < 2?"
      ]
    },
    {
      "cell_type": "code",
      "metadata": {
        "hidden": true,
        "colab": {
          "base_uri": "https://localhost:8080/"
        },
        "id": "lm_uLkfaqTTb",
        "outputId": "3d46f07f-ebc5-48be-db08-371cfee1cd57"
      },
      "source": [
        "(numbers < 2).any()"
      ],
      "execution_count": null,
      "outputs": [
        {
          "output_type": "execute_result",
          "data": {
            "text/plain": [
              "True"
            ]
          },
          "metadata": {
            "tags": []
          },
          "execution_count": 135
        }
      ]
    },
    {
      "cell_type": "markdown",
      "metadata": {
        "hidden": true,
        "id": "KsnFR38DqTTb"
      },
      "source": [
        "how many values are < 1?"
      ]
    },
    {
      "cell_type": "code",
      "metadata": {
        "hidden": true,
        "colab": {
          "base_uri": "https://localhost:8080/"
        },
        "id": "2JfsnxKUqTTb",
        "outputId": "d1ba3cb5-98be-43c6-d5b9-a6acfe3bb154"
      },
      "source": [
        "numbers < 1"
      ],
      "execution_count": null,
      "outputs": [
        {
          "output_type": "execute_result",
          "data": {
            "text/plain": [
              "25     True\n",
              "26     True\n",
              "27     True\n",
              "28     True\n",
              "29     True\n",
              "30    False\n",
              "31     True\n",
              "32     True\n",
              "33    False\n",
              "34     True\n",
              "dtype: bool"
            ]
          },
          "metadata": {
            "tags": []
          },
          "execution_count": 136
        }
      ]
    },
    {
      "cell_type": "code",
      "metadata": {
        "hidden": true,
        "colab": {
          "base_uri": "https://localhost:8080/"
        },
        "id": "G1BBHyhkqTTb",
        "outputId": "f24534df-5ec0-400f-8eb5-5b139aa4ee1f"
      },
      "source": [
        "(numbers < 1).sum()"
      ],
      "execution_count": null,
      "outputs": [
        {
          "output_type": "execute_result",
          "data": {
            "text/plain": [
              "8"
            ]
          },
          "metadata": {
            "tags": []
          },
          "execution_count": 137
        }
      ]
    },
    {
      "cell_type": "markdown",
      "metadata": {
        "heading_collapsed": true,
        "hidden": true,
        "id": "a8S-oOrIqTTc"
      },
      "source": [
        "#### DataFrame"
      ]
    },
    {
      "cell_type": "markdown",
      "metadata": {
        "hidden": true,
        "id": "6-LEIrTWqTTc"
      },
      "source": [
        "which rows have the value Price < 100?"
      ]
    },
    {
      "cell_type": "code",
      "metadata": {
        "hidden": true,
        "colab": {
          "base_uri": "https://localhost:8080/"
        },
        "id": "LSIXkBuGqTTj",
        "outputId": "5434b29d-4150-4ae2-e87b-793739a96904"
      },
      "source": [
        "sp500.Price < 100"
      ],
      "execution_count": null,
      "outputs": [
        {
          "output_type": "execute_result",
          "data": {
            "text/plain": [
              "Symbol\n",
              "MMM     False\n",
              "ABT      True\n",
              "ABBV     True\n",
              "ACN      True\n",
              "ACE     False\n",
              "        ...  \n",
              "YHOO     True\n",
              "YUM      True\n",
              "ZMH     False\n",
              "ZION     True\n",
              "ZTS      True\n",
              "Name: Price, Length: 500, dtype: bool"
            ]
          },
          "metadata": {
            "tags": []
          },
          "execution_count": 138
        }
      ]
    },
    {
      "cell_type": "markdown",
      "metadata": {
        "hidden": true,
        "id": "Y9wfgue2qTTk"
      },
      "source": [
        "now we get the rows where Price < 100"
      ]
    },
    {
      "cell_type": "code",
      "metadata": {
        "hidden": true,
        "colab": {
          "base_uri": "https://localhost:8080/",
          "height": 450
        },
        "id": "3zEbHDwcqTTk",
        "outputId": "4ea32296-ce1e-4ba7-f1a6-d00271742765"
      },
      "source": [
        "sp500[sp500.Price < 100]"
      ],
      "execution_count": null,
      "outputs": [
        {
          "output_type": "execute_result",
          "data": {
            "text/html": [
              "<div>\n",
              "<style scoped>\n",
              "    .dataframe tbody tr th:only-of-type {\n",
              "        vertical-align: middle;\n",
              "    }\n",
              "\n",
              "    .dataframe tbody tr th {\n",
              "        vertical-align: top;\n",
              "    }\n",
              "\n",
              "    .dataframe thead th {\n",
              "        text-align: right;\n",
              "    }\n",
              "</style>\n",
              "<table border=\"1\" class=\"dataframe\">\n",
              "  <thead>\n",
              "    <tr style=\"text-align: right;\">\n",
              "      <th></th>\n",
              "      <th>Sector</th>\n",
              "      <th>Price</th>\n",
              "      <th>Book Value</th>\n",
              "    </tr>\n",
              "    <tr>\n",
              "      <th>Symbol</th>\n",
              "      <th></th>\n",
              "      <th></th>\n",
              "      <th></th>\n",
              "    </tr>\n",
              "  </thead>\n",
              "  <tbody>\n",
              "    <tr>\n",
              "      <th>ABT</th>\n",
              "      <td>Health Care</td>\n",
              "      <td>39.60</td>\n",
              "      <td>15.573</td>\n",
              "    </tr>\n",
              "    <tr>\n",
              "      <th>ABBV</th>\n",
              "      <td>Health Care</td>\n",
              "      <td>53.95</td>\n",
              "      <td>2.954</td>\n",
              "    </tr>\n",
              "    <tr>\n",
              "      <th>ACN</th>\n",
              "      <td>Information Technology</td>\n",
              "      <td>79.79</td>\n",
              "      <td>8.326</td>\n",
              "    </tr>\n",
              "    <tr>\n",
              "      <th>ADBE</th>\n",
              "      <td>Information Technology</td>\n",
              "      <td>64.30</td>\n",
              "      <td>13.262</td>\n",
              "    </tr>\n",
              "    <tr>\n",
              "      <th>AES</th>\n",
              "      <td>Utilities</td>\n",
              "      <td>13.61</td>\n",
              "      <td>5.781</td>\n",
              "    </tr>\n",
              "    <tr>\n",
              "      <th>...</th>\n",
              "      <td>...</td>\n",
              "      <td>...</td>\n",
              "      <td>...</td>\n",
              "    </tr>\n",
              "    <tr>\n",
              "      <th>XYL</th>\n",
              "      <td>Industrials</td>\n",
              "      <td>38.42</td>\n",
              "      <td>12.127</td>\n",
              "    </tr>\n",
              "    <tr>\n",
              "      <th>YHOO</th>\n",
              "      <td>Information Technology</td>\n",
              "      <td>35.02</td>\n",
              "      <td>12.768</td>\n",
              "    </tr>\n",
              "    <tr>\n",
              "      <th>YUM</th>\n",
              "      <td>Consumer Discretionary</td>\n",
              "      <td>74.77</td>\n",
              "      <td>5.147</td>\n",
              "    </tr>\n",
              "    <tr>\n",
              "      <th>ZION</th>\n",
              "      <td>Financials</td>\n",
              "      <td>28.43</td>\n",
              "      <td>30.191</td>\n",
              "    </tr>\n",
              "    <tr>\n",
              "      <th>ZTS</th>\n",
              "      <td>Health Care</td>\n",
              "      <td>30.53</td>\n",
              "      <td>2.150</td>\n",
              "    </tr>\n",
              "  </tbody>\n",
              "</table>\n",
              "<p>407 rows × 3 columns</p>\n",
              "</div>"
            ],
            "text/plain": [
              "                        Sector  Price  Book Value\n",
              "Symbol                                           \n",
              "ABT                Health Care  39.60      15.573\n",
              "ABBV               Health Care  53.95       2.954\n",
              "ACN     Information Technology  79.79       8.326\n",
              "ADBE    Information Technology  64.30      13.262\n",
              "AES                  Utilities  13.61       5.781\n",
              "...                        ...    ...         ...\n",
              "XYL                Industrials  38.42      12.127\n",
              "YHOO    Information Technology  35.02      12.768\n",
              "YUM     Consumer Discretionary  74.77       5.147\n",
              "ZION                Financials  28.43      30.191\n",
              "ZTS                Health Care  30.53       2.150\n",
              "\n",
              "[407 rows x 3 columns]"
            ]
          },
          "metadata": {
            "tags": []
          },
          "execution_count": 139
        }
      ]
    },
    {
      "cell_type": "markdown",
      "metadata": {
        "hidden": true,
        "id": "PqJPBRcsqTTk"
      },
      "source": [
        "we extract only those rows in which the value of Price < 10 and > 6"
      ]
    },
    {
      "cell_type": "code",
      "metadata": {
        "hidden": true,
        "colab": {
          "base_uri": "https://localhost:8080/"
        },
        "id": "gyzfoWLHqTTl",
        "outputId": "02843869-8565-42ae-cdbd-2808ed83dc77"
      },
      "source": [
        "r = sp500[(sp500['Price'] < 10) & \n",
        "          (sp500.Price > 6)] ['Price']\n",
        "r"
      ],
      "execution_count": null,
      "outputs": [
        {
          "output_type": "execute_result",
          "data": {
            "text/plain": [
              "Symbol\n",
              "HCBK    9.80\n",
              "HBAN    9.10\n",
              "SLM     8.82\n",
              "WIN     9.38\n",
              "Name: Price, dtype: float64"
            ]
          },
          "metadata": {
            "tags": []
          },
          "execution_count": 140
        }
      ]
    },
    {
      "cell_type": "markdown",
      "metadata": {
        "hidden": true,
        "id": "c-rc1an1qTTl"
      },
      "source": [
        "retrieving rows where the Sector variable takes the HealthCare value and the Price variable is greater than or equal to 100.00"
      ]
    },
    {
      "cell_type": "code",
      "metadata": {
        "hidden": true,
        "colab": {
          "base_uri": "https://localhost:8080/",
          "height": 450
        },
        "id": "hOKNzK8jqTTl",
        "outputId": "8da295f5-2c0c-4dc0-8c9e-9446ae0c295f"
      },
      "source": [
        "r = sp500[(sp500.Sector == 'Health Care') & \n",
        "          (sp500.Price >= 100.00)] [['Price', 'Sector']]\n",
        "r"
      ],
      "execution_count": null,
      "outputs": [
        {
          "output_type": "execute_result",
          "data": {
            "text/html": [
              "<div>\n",
              "<style scoped>\n",
              "    .dataframe tbody tr th:only-of-type {\n",
              "        vertical-align: middle;\n",
              "    }\n",
              "\n",
              "    .dataframe tbody tr th {\n",
              "        vertical-align: top;\n",
              "    }\n",
              "\n",
              "    .dataframe thead th {\n",
              "        text-align: right;\n",
              "    }\n",
              "</style>\n",
              "<table border=\"1\" class=\"dataframe\">\n",
              "  <thead>\n",
              "    <tr style=\"text-align: right;\">\n",
              "      <th></th>\n",
              "      <th>Price</th>\n",
              "      <th>Sector</th>\n",
              "    </tr>\n",
              "    <tr>\n",
              "      <th>Symbol</th>\n",
              "      <th></th>\n",
              "      <th></th>\n",
              "    </tr>\n",
              "  </thead>\n",
              "  <tbody>\n",
              "    <tr>\n",
              "      <th>ACT</th>\n",
              "      <td>213.77</td>\n",
              "      <td>Health Care</td>\n",
              "    </tr>\n",
              "    <tr>\n",
              "      <th>ALXN</th>\n",
              "      <td>162.30</td>\n",
              "      <td>Health Care</td>\n",
              "    </tr>\n",
              "    <tr>\n",
              "      <th>AGN</th>\n",
              "      <td>166.92</td>\n",
              "      <td>Health Care</td>\n",
              "    </tr>\n",
              "    <tr>\n",
              "      <th>AMGN</th>\n",
              "      <td>114.33</td>\n",
              "      <td>Health Care</td>\n",
              "    </tr>\n",
              "    <tr>\n",
              "      <th>BCR</th>\n",
              "      <td>146.62</td>\n",
              "      <td>Health Care</td>\n",
              "    </tr>\n",
              "    <tr>\n",
              "      <th>...</th>\n",
              "      <td>...</td>\n",
              "      <td>...</td>\n",
              "    </tr>\n",
              "    <tr>\n",
              "      <th>REGN</th>\n",
              "      <td>297.77</td>\n",
              "      <td>Health Care</td>\n",
              "    </tr>\n",
              "    <tr>\n",
              "      <th>TMO</th>\n",
              "      <td>115.74</td>\n",
              "      <td>Health Care</td>\n",
              "    </tr>\n",
              "    <tr>\n",
              "      <th>WAT</th>\n",
              "      <td>100.54</td>\n",
              "      <td>Health Care</td>\n",
              "    </tr>\n",
              "    <tr>\n",
              "      <th>WLP</th>\n",
              "      <td>108.82</td>\n",
              "      <td>Health Care</td>\n",
              "    </tr>\n",
              "    <tr>\n",
              "      <th>ZMH</th>\n",
              "      <td>101.84</td>\n",
              "      <td>Health Care</td>\n",
              "    </tr>\n",
              "  </tbody>\n",
              "</table>\n",
              "<p>19 rows × 2 columns</p>\n",
              "</div>"
            ],
            "text/plain": [
              "         Price       Sector\n",
              "Symbol                     \n",
              "ACT     213.77  Health Care\n",
              "ALXN    162.30  Health Care\n",
              "AGN     166.92  Health Care\n",
              "AMGN    114.33  Health Care\n",
              "BCR     146.62  Health Care\n",
              "...        ...          ...\n",
              "REGN    297.77  Health Care\n",
              "TMO     115.74  Health Care\n",
              "WAT     100.54  Health Care\n",
              "WLP     108.82  Health Care\n",
              "ZMH     101.84  Health Care\n",
              "\n",
              "[19 rows x 2 columns]"
            ]
          },
          "metadata": {
            "tags": []
          },
          "execution_count": 141
        }
      ]
    },
    {
      "cell_type": "markdown",
      "metadata": {
        "hidden": true,
        "id": "XJDzIBdrqTTm"
      },
      "source": [
        "using the .isin method"
      ]
    },
    {
      "cell_type": "code",
      "metadata": {
        "hidden": true,
        "colab": {
          "base_uri": "https://localhost:8080/"
        },
        "id": "BdvlISHZqTTm",
        "outputId": "8a21af9b-f892-4eaa-b660-8fdc5b3cf539"
      },
      "source": [
        "s_tmp = sp500.Sector.isin(['Information Technology', 'Financials'])\n",
        "s_tmp"
      ],
      "execution_count": null,
      "outputs": [
        {
          "output_type": "execute_result",
          "data": {
            "text/plain": [
              "Symbol\n",
              "MMM     False\n",
              "ABT     False\n",
              "ABBV    False\n",
              "ACN      True\n",
              "ACE      True\n",
              "        ...  \n",
              "YHOO     True\n",
              "YUM     False\n",
              "ZMH     False\n",
              "ZION     True\n",
              "ZTS     False\n",
              "Name: Sector, Length: 500, dtype: bool"
            ]
          },
          "metadata": {
            "tags": []
          },
          "execution_count": 142
        }
      ]
    },
    {
      "cell_type": "code",
      "metadata": {
        "hidden": true,
        "colab": {
          "base_uri": "https://localhost:8080/",
          "height": 235
        },
        "id": "FKPxLuORqTTm",
        "outputId": "5ec6bd7e-a59b-4013-af76-7f9ee91b15ac"
      },
      "source": [
        "sp500[s_tmp].head()"
      ],
      "execution_count": null,
      "outputs": [
        {
          "output_type": "execute_result",
          "data": {
            "text/html": [
              "<div>\n",
              "<style scoped>\n",
              "    .dataframe tbody tr th:only-of-type {\n",
              "        vertical-align: middle;\n",
              "    }\n",
              "\n",
              "    .dataframe tbody tr th {\n",
              "        vertical-align: top;\n",
              "    }\n",
              "\n",
              "    .dataframe thead th {\n",
              "        text-align: right;\n",
              "    }\n",
              "</style>\n",
              "<table border=\"1\" class=\"dataframe\">\n",
              "  <thead>\n",
              "    <tr style=\"text-align: right;\">\n",
              "      <th></th>\n",
              "      <th>Sector</th>\n",
              "      <th>Price</th>\n",
              "      <th>Book Value</th>\n",
              "    </tr>\n",
              "    <tr>\n",
              "      <th>Symbol</th>\n",
              "      <th></th>\n",
              "      <th></th>\n",
              "      <th></th>\n",
              "    </tr>\n",
              "  </thead>\n",
              "  <tbody>\n",
              "    <tr>\n",
              "      <th>ACN</th>\n",
              "      <td>Information Technology</td>\n",
              "      <td>79.79</td>\n",
              "      <td>8.326</td>\n",
              "    </tr>\n",
              "    <tr>\n",
              "      <th>ACE</th>\n",
              "      <td>Financials</td>\n",
              "      <td>102.91</td>\n",
              "      <td>86.897</td>\n",
              "    </tr>\n",
              "    <tr>\n",
              "      <th>ADBE</th>\n",
              "      <td>Information Technology</td>\n",
              "      <td>64.30</td>\n",
              "      <td>13.262</td>\n",
              "    </tr>\n",
              "    <tr>\n",
              "      <th>AFL</th>\n",
              "      <td>Financials</td>\n",
              "      <td>61.31</td>\n",
              "      <td>34.527</td>\n",
              "    </tr>\n",
              "    <tr>\n",
              "      <th>AKAM</th>\n",
              "      <td>Information Technology</td>\n",
              "      <td>53.65</td>\n",
              "      <td>15.193</td>\n",
              "    </tr>\n",
              "  </tbody>\n",
              "</table>\n",
              "</div>"
            ],
            "text/plain": [
              "                        Sector   Price  Book Value\n",
              "Symbol                                            \n",
              "ACN     Information Technology   79.79       8.326\n",
              "ACE                 Financials  102.91      86.897\n",
              "ADBE    Information Technology   64.30      13.262\n",
              "AFL                 Financials   61.31      34.527\n",
              "AKAM    Information Technology   53.65      15.193"
            ]
          },
          "metadata": {
            "tags": []
          },
          "execution_count": 143
        }
      ]
    },
    {
      "cell_type": "markdown",
      "metadata": {
        "hidden": true,
        "id": "wLcnMK6PqTTn"
      },
      "source": [
        "using the method .query"
      ]
    },
    {
      "cell_type": "code",
      "metadata": {
        "hidden": true,
        "colab": {
          "base_uri": "https://localhost:8080/",
          "height": 450
        },
        "id": "3FXKFoVaqTTn",
        "outputId": "23c81828-c5d7-4ef1-b352-426326da8bdc"
      },
      "source": [
        "r = sp500[(sp500.Sector == 'Health Care') & \n",
        "          (sp500.Price >= 100.00)] [['Price', 'Sector']]\n",
        "r"
      ],
      "execution_count": null,
      "outputs": [
        {
          "output_type": "execute_result",
          "data": {
            "text/html": [
              "<div>\n",
              "<style scoped>\n",
              "    .dataframe tbody tr th:only-of-type {\n",
              "        vertical-align: middle;\n",
              "    }\n",
              "\n",
              "    .dataframe tbody tr th {\n",
              "        vertical-align: top;\n",
              "    }\n",
              "\n",
              "    .dataframe thead th {\n",
              "        text-align: right;\n",
              "    }\n",
              "</style>\n",
              "<table border=\"1\" class=\"dataframe\">\n",
              "  <thead>\n",
              "    <tr style=\"text-align: right;\">\n",
              "      <th></th>\n",
              "      <th>Price</th>\n",
              "      <th>Sector</th>\n",
              "    </tr>\n",
              "    <tr>\n",
              "      <th>Symbol</th>\n",
              "      <th></th>\n",
              "      <th></th>\n",
              "    </tr>\n",
              "  </thead>\n",
              "  <tbody>\n",
              "    <tr>\n",
              "      <th>ACT</th>\n",
              "      <td>213.77</td>\n",
              "      <td>Health Care</td>\n",
              "    </tr>\n",
              "    <tr>\n",
              "      <th>ALXN</th>\n",
              "      <td>162.30</td>\n",
              "      <td>Health Care</td>\n",
              "    </tr>\n",
              "    <tr>\n",
              "      <th>AGN</th>\n",
              "      <td>166.92</td>\n",
              "      <td>Health Care</td>\n",
              "    </tr>\n",
              "    <tr>\n",
              "      <th>AMGN</th>\n",
              "      <td>114.33</td>\n",
              "      <td>Health Care</td>\n",
              "    </tr>\n",
              "    <tr>\n",
              "      <th>BCR</th>\n",
              "      <td>146.62</td>\n",
              "      <td>Health Care</td>\n",
              "    </tr>\n",
              "    <tr>\n",
              "      <th>...</th>\n",
              "      <td>...</td>\n",
              "      <td>...</td>\n",
              "    </tr>\n",
              "    <tr>\n",
              "      <th>REGN</th>\n",
              "      <td>297.77</td>\n",
              "      <td>Health Care</td>\n",
              "    </tr>\n",
              "    <tr>\n",
              "      <th>TMO</th>\n",
              "      <td>115.74</td>\n",
              "      <td>Health Care</td>\n",
              "    </tr>\n",
              "    <tr>\n",
              "      <th>WAT</th>\n",
              "      <td>100.54</td>\n",
              "      <td>Health Care</td>\n",
              "    </tr>\n",
              "    <tr>\n",
              "      <th>WLP</th>\n",
              "      <td>108.82</td>\n",
              "      <td>Health Care</td>\n",
              "    </tr>\n",
              "    <tr>\n",
              "      <th>ZMH</th>\n",
              "      <td>101.84</td>\n",
              "      <td>Health Care</td>\n",
              "    </tr>\n",
              "  </tbody>\n",
              "</table>\n",
              "<p>19 rows × 2 columns</p>\n",
              "</div>"
            ],
            "text/plain": [
              "         Price       Sector\n",
              "Symbol                     \n",
              "ACT     213.77  Health Care\n",
              "ALXN    162.30  Health Care\n",
              "AGN     166.92  Health Care\n",
              "AMGN    114.33  Health Care\n",
              "BCR     146.62  Health Care\n",
              "...        ...          ...\n",
              "REGN    297.77  Health Care\n",
              "TMO     115.74  Health Care\n",
              "WAT     100.54  Health Care\n",
              "WLP     108.82  Health Care\n",
              "ZMH     101.84  Health Care\n",
              "\n",
              "[19 rows x 2 columns]"
            ]
          },
          "metadata": {
            "tags": []
          },
          "execution_count": 144
        }
      ]
    },
    {
      "cell_type": "code",
      "metadata": {
        "hidden": true,
        "colab": {
          "base_uri": "https://localhost:8080/",
          "height": 450
        },
        "id": "74ffZ4CZqTTn",
        "outputId": "f81cd844-40b1-477b-c135-86d980b50537"
      },
      "source": [
        "q = sp500.query(\"Sector=='Health Care' & Price >= 100\")[['Price', 'Sector']]\n",
        "q"
      ],
      "execution_count": null,
      "outputs": [
        {
          "output_type": "execute_result",
          "data": {
            "text/html": [
              "<div>\n",
              "<style scoped>\n",
              "    .dataframe tbody tr th:only-of-type {\n",
              "        vertical-align: middle;\n",
              "    }\n",
              "\n",
              "    .dataframe tbody tr th {\n",
              "        vertical-align: top;\n",
              "    }\n",
              "\n",
              "    .dataframe thead th {\n",
              "        text-align: right;\n",
              "    }\n",
              "</style>\n",
              "<table border=\"1\" class=\"dataframe\">\n",
              "  <thead>\n",
              "    <tr style=\"text-align: right;\">\n",
              "      <th></th>\n",
              "      <th>Price</th>\n",
              "      <th>Sector</th>\n",
              "    </tr>\n",
              "    <tr>\n",
              "      <th>Symbol</th>\n",
              "      <th></th>\n",
              "      <th></th>\n",
              "    </tr>\n",
              "  </thead>\n",
              "  <tbody>\n",
              "    <tr>\n",
              "      <th>ACT</th>\n",
              "      <td>213.77</td>\n",
              "      <td>Health Care</td>\n",
              "    </tr>\n",
              "    <tr>\n",
              "      <th>ALXN</th>\n",
              "      <td>162.30</td>\n",
              "      <td>Health Care</td>\n",
              "    </tr>\n",
              "    <tr>\n",
              "      <th>AGN</th>\n",
              "      <td>166.92</td>\n",
              "      <td>Health Care</td>\n",
              "    </tr>\n",
              "    <tr>\n",
              "      <th>AMGN</th>\n",
              "      <td>114.33</td>\n",
              "      <td>Health Care</td>\n",
              "    </tr>\n",
              "    <tr>\n",
              "      <th>BCR</th>\n",
              "      <td>146.62</td>\n",
              "      <td>Health Care</td>\n",
              "    </tr>\n",
              "    <tr>\n",
              "      <th>...</th>\n",
              "      <td>...</td>\n",
              "      <td>...</td>\n",
              "    </tr>\n",
              "    <tr>\n",
              "      <th>REGN</th>\n",
              "      <td>297.77</td>\n",
              "      <td>Health Care</td>\n",
              "    </tr>\n",
              "    <tr>\n",
              "      <th>TMO</th>\n",
              "      <td>115.74</td>\n",
              "      <td>Health Care</td>\n",
              "    </tr>\n",
              "    <tr>\n",
              "      <th>WAT</th>\n",
              "      <td>100.54</td>\n",
              "      <td>Health Care</td>\n",
              "    </tr>\n",
              "    <tr>\n",
              "      <th>WLP</th>\n",
              "      <td>108.82</td>\n",
              "      <td>Health Care</td>\n",
              "    </tr>\n",
              "    <tr>\n",
              "      <th>ZMH</th>\n",
              "      <td>101.84</td>\n",
              "      <td>Health Care</td>\n",
              "    </tr>\n",
              "  </tbody>\n",
              "</table>\n",
              "<p>19 rows × 2 columns</p>\n",
              "</div>"
            ],
            "text/plain": [
              "         Price       Sector\n",
              "Symbol                     \n",
              "ACT     213.77  Health Care\n",
              "ALXN    162.30  Health Care\n",
              "AGN     166.92  Health Care\n",
              "AMGN    114.33  Health Care\n",
              "BCR     146.62  Health Care\n",
              "...        ...          ...\n",
              "REGN    297.77  Health Care\n",
              "TMO     115.74  Health Care\n",
              "WAT     100.54  Health Care\n",
              "WLP     108.82  Health Care\n",
              "ZMH     101.84  Health Care\n",
              "\n",
              "[19 rows x 2 columns]"
            ]
          },
          "metadata": {
            "tags": []
          },
          "execution_count": 145
        }
      ]
    },
    {
      "cell_type": "markdown",
      "metadata": {
        "heading_collapsed": true,
        "id": "UzHdBlMjqTTo"
      },
      "source": [
        "### Adding"
      ]
    },
    {
      "cell_type": "markdown",
      "metadata": {
        "heading_collapsed": true,
        "hidden": true,
        "id": "4Y8FnV9GqTTo"
      },
      "source": [
        "#### operator [ ] "
      ]
    },
    {
      "cell_type": "markdown",
      "metadata": {
        "hidden": true,
        "id": "1tr40G5dqTTp"
      },
      "source": [
        "creating a copy so that the original data remains unchanged"
      ]
    },
    {
      "cell_type": "code",
      "metadata": {
        "hidden": true,
        "id": "dh_nrwEeqTTq"
      },
      "source": [
        "sp500_copy = sp500.copy()"
      ],
      "execution_count": null,
      "outputs": []
    },
    {
      "cell_type": "markdown",
      "metadata": {
        "hidden": true,
        "id": "qrrkzfd8qTTq"
      },
      "source": [
        "adding a column"
      ]
    },
    {
      "cell_type": "code",
      "metadata": {
        "hidden": true,
        "colab": {
          "base_uri": "https://localhost:8080/",
          "height": 173
        },
        "id": "N5PQO7feqTTq",
        "outputId": "c058ca59-f1e7-4465-db77-f27feb8a9fbb"
      },
      "source": [
        "sp500_copy['RoundedPrice'] = sp500_copy.Price.round()\n",
        "sp500_copy.head(3)"
      ],
      "execution_count": null,
      "outputs": [
        {
          "output_type": "execute_result",
          "data": {
            "text/html": [
              "<div>\n",
              "<style scoped>\n",
              "    .dataframe tbody tr th:only-of-type {\n",
              "        vertical-align: middle;\n",
              "    }\n",
              "\n",
              "    .dataframe tbody tr th {\n",
              "        vertical-align: top;\n",
              "    }\n",
              "\n",
              "    .dataframe thead th {\n",
              "        text-align: right;\n",
              "    }\n",
              "</style>\n",
              "<table border=\"1\" class=\"dataframe\">\n",
              "  <thead>\n",
              "    <tr style=\"text-align: right;\">\n",
              "      <th></th>\n",
              "      <th>Sector</th>\n",
              "      <th>Price</th>\n",
              "      <th>Book Value</th>\n",
              "      <th>RoundedPrice</th>\n",
              "    </tr>\n",
              "    <tr>\n",
              "      <th>Symbol</th>\n",
              "      <th></th>\n",
              "      <th></th>\n",
              "      <th></th>\n",
              "      <th></th>\n",
              "    </tr>\n",
              "  </thead>\n",
              "  <tbody>\n",
              "    <tr>\n",
              "      <th>MMM</th>\n",
              "      <td>Industrials</td>\n",
              "      <td>141.14</td>\n",
              "      <td>26.668</td>\n",
              "      <td>141.0</td>\n",
              "    </tr>\n",
              "    <tr>\n",
              "      <th>ABT</th>\n",
              "      <td>Health Care</td>\n",
              "      <td>39.60</td>\n",
              "      <td>15.573</td>\n",
              "      <td>40.0</td>\n",
              "    </tr>\n",
              "    <tr>\n",
              "      <th>ABBV</th>\n",
              "      <td>Health Care</td>\n",
              "      <td>53.95</td>\n",
              "      <td>2.954</td>\n",
              "      <td>54.0</td>\n",
              "    </tr>\n",
              "  </tbody>\n",
              "</table>\n",
              "</div>"
            ],
            "text/plain": [
              "             Sector   Price  Book Value  RoundedPrice\n",
              "Symbol                                               \n",
              "MMM     Industrials  141.14      26.668         141.0\n",
              "ABT     Health Care   39.60      15.573          40.0\n",
              "ABBV    Health Care   53.95       2.954          54.0"
            ]
          },
          "metadata": {
            "tags": []
          },
          "execution_count": 147
        }
      ]
    },
    {
      "cell_type": "markdown",
      "metadata": {
        "heading_collapsed": true,
        "hidden": true,
        "id": "_3WDaF4_qTTr"
      },
      "source": [
        "#### method .insert()"
      ]
    },
    {
      "cell_type": "markdown",
      "metadata": {
        "hidden": true,
        "id": "g2a2P1_LqTTr"
      },
      "source": [
        "creating a copy so that the original data remains unchanged"
      ]
    },
    {
      "cell_type": "code",
      "metadata": {
        "hidden": true,
        "id": "wSbE_Q0bqTTs"
      },
      "source": [
        "sp500_copy = sp500.copy()"
      ],
      "execution_count": null,
      "outputs": []
    },
    {
      "cell_type": "markdown",
      "metadata": {
        "hidden": true,
        "id": "Q_S2n_o8qTTs"
      },
      "source": [
        "inserting the RoundedPrice column as the third column of the dataframe"
      ]
    },
    {
      "cell_type": "code",
      "metadata": {
        "hidden": true,
        "colab": {
          "base_uri": "https://localhost:8080/",
          "height": 173
        },
        "id": "jaaoQVPeqTTs",
        "outputId": "6d9a6b50-4f42-4afa-a8ac-9d91e7792962"
      },
      "source": [
        "sp500_copy.insert(1, 'RoundedPrice', sp500_copy.Price.round())\n",
        "sp500_copy.head(3)"
      ],
      "execution_count": null,
      "outputs": [
        {
          "output_type": "execute_result",
          "data": {
            "text/html": [
              "<div>\n",
              "<style scoped>\n",
              "    .dataframe tbody tr th:only-of-type {\n",
              "        vertical-align: middle;\n",
              "    }\n",
              "\n",
              "    .dataframe tbody tr th {\n",
              "        vertical-align: top;\n",
              "    }\n",
              "\n",
              "    .dataframe thead th {\n",
              "        text-align: right;\n",
              "    }\n",
              "</style>\n",
              "<table border=\"1\" class=\"dataframe\">\n",
              "  <thead>\n",
              "    <tr style=\"text-align: right;\">\n",
              "      <th></th>\n",
              "      <th>Sector</th>\n",
              "      <th>RoundedPrice</th>\n",
              "      <th>Price</th>\n",
              "      <th>Book Value</th>\n",
              "    </tr>\n",
              "    <tr>\n",
              "      <th>Symbol</th>\n",
              "      <th></th>\n",
              "      <th></th>\n",
              "      <th></th>\n",
              "      <th></th>\n",
              "    </tr>\n",
              "  </thead>\n",
              "  <tbody>\n",
              "    <tr>\n",
              "      <th>MMM</th>\n",
              "      <td>Industrials</td>\n",
              "      <td>141.0</td>\n",
              "      <td>141.14</td>\n",
              "      <td>26.668</td>\n",
              "    </tr>\n",
              "    <tr>\n",
              "      <th>ABT</th>\n",
              "      <td>Health Care</td>\n",
              "      <td>40.0</td>\n",
              "      <td>39.60</td>\n",
              "      <td>15.573</td>\n",
              "    </tr>\n",
              "    <tr>\n",
              "      <th>ABBV</th>\n",
              "      <td>Health Care</td>\n",
              "      <td>54.0</td>\n",
              "      <td>53.95</td>\n",
              "      <td>2.954</td>\n",
              "    </tr>\n",
              "  </tbody>\n",
              "</table>\n",
              "</div>"
            ],
            "text/plain": [
              "             Sector  RoundedPrice   Price  Book Value\n",
              "Symbol                                               \n",
              "MMM     Industrials         141.0  141.14      26.668\n",
              "ABT     Health Care          40.0   39.60      15.573\n",
              "ABBV    Health Care          54.0   53.95       2.954"
            ]
          },
          "metadata": {
            "tags": []
          },
          "execution_count": 149
        }
      ]
    },
    {
      "cell_type": "markdown",
      "metadata": {
        "heading_collapsed": true,
        "hidden": true,
        "id": "0hD5aBu8qTTt"
      },
      "source": [
        "#### method .assign() "
      ]
    },
    {
      "cell_type": "markdown",
      "metadata": {
        "hidden": true,
        "id": "DxXfzWjHqTTt"
      },
      "source": [
        "creating a copy so that the original data remains unchanged"
      ]
    },
    {
      "cell_type": "code",
      "metadata": {
        "hidden": true,
        "id": "873sJLdxqTTt"
      },
      "source": [
        "sp500_copy = sp500.copy()"
      ],
      "execution_count": null,
      "outputs": []
    },
    {
      "cell_type": "markdown",
      "metadata": {
        "hidden": true,
        "id": "ZEmzshRnqTTt"
      },
      "source": [
        "adding two columns at the same time:"
      ]
    },
    {
      "cell_type": "code",
      "metadata": {
        "hidden": true,
        "colab": {
          "base_uri": "https://localhost:8080/",
          "height": 450
        },
        "id": "cUnavNqPqTTu",
        "outputId": "26b771e4-6b86-4469-e91b-efe55914c258"
      },
      "source": [
        "sp500_copy.assign(Rounded_Price=sp500_copy.Price.round(),\n",
        "                  R_BookValue_Price=lambda x: (x['Book Value'] / x['Rounded_Price']))"
      ],
      "execution_count": null,
      "outputs": [
        {
          "output_type": "execute_result",
          "data": {
            "text/html": [
              "<div>\n",
              "<style scoped>\n",
              "    .dataframe tbody tr th:only-of-type {\n",
              "        vertical-align: middle;\n",
              "    }\n",
              "\n",
              "    .dataframe tbody tr th {\n",
              "        vertical-align: top;\n",
              "    }\n",
              "\n",
              "    .dataframe thead th {\n",
              "        text-align: right;\n",
              "    }\n",
              "</style>\n",
              "<table border=\"1\" class=\"dataframe\">\n",
              "  <thead>\n",
              "    <tr style=\"text-align: right;\">\n",
              "      <th></th>\n",
              "      <th>Sector</th>\n",
              "      <th>Price</th>\n",
              "      <th>Book Value</th>\n",
              "      <th>Rounded_Price</th>\n",
              "      <th>R_BookValue_Price</th>\n",
              "    </tr>\n",
              "    <tr>\n",
              "      <th>Symbol</th>\n",
              "      <th></th>\n",
              "      <th></th>\n",
              "      <th></th>\n",
              "      <th></th>\n",
              "      <th></th>\n",
              "    </tr>\n",
              "  </thead>\n",
              "  <tbody>\n",
              "    <tr>\n",
              "      <th>MMM</th>\n",
              "      <td>Industrials</td>\n",
              "      <td>141.14</td>\n",
              "      <td>26.668</td>\n",
              "      <td>141.0</td>\n",
              "      <td>0.189135</td>\n",
              "    </tr>\n",
              "    <tr>\n",
              "      <th>ABT</th>\n",
              "      <td>Health Care</td>\n",
              "      <td>39.60</td>\n",
              "      <td>15.573</td>\n",
              "      <td>40.0</td>\n",
              "      <td>0.389325</td>\n",
              "    </tr>\n",
              "    <tr>\n",
              "      <th>ABBV</th>\n",
              "      <td>Health Care</td>\n",
              "      <td>53.95</td>\n",
              "      <td>2.954</td>\n",
              "      <td>54.0</td>\n",
              "      <td>0.054704</td>\n",
              "    </tr>\n",
              "    <tr>\n",
              "      <th>ACN</th>\n",
              "      <td>Information Technology</td>\n",
              "      <td>79.79</td>\n",
              "      <td>8.326</td>\n",
              "      <td>80.0</td>\n",
              "      <td>0.104075</td>\n",
              "    </tr>\n",
              "    <tr>\n",
              "      <th>ACE</th>\n",
              "      <td>Financials</td>\n",
              "      <td>102.91</td>\n",
              "      <td>86.897</td>\n",
              "      <td>103.0</td>\n",
              "      <td>0.843660</td>\n",
              "    </tr>\n",
              "    <tr>\n",
              "      <th>...</th>\n",
              "      <td>...</td>\n",
              "      <td>...</td>\n",
              "      <td>...</td>\n",
              "      <td>...</td>\n",
              "      <td>...</td>\n",
              "    </tr>\n",
              "    <tr>\n",
              "      <th>YHOO</th>\n",
              "      <td>Information Technology</td>\n",
              "      <td>35.02</td>\n",
              "      <td>12.768</td>\n",
              "      <td>35.0</td>\n",
              "      <td>0.364800</td>\n",
              "    </tr>\n",
              "    <tr>\n",
              "      <th>YUM</th>\n",
              "      <td>Consumer Discretionary</td>\n",
              "      <td>74.77</td>\n",
              "      <td>5.147</td>\n",
              "      <td>75.0</td>\n",
              "      <td>0.068627</td>\n",
              "    </tr>\n",
              "    <tr>\n",
              "      <th>ZMH</th>\n",
              "      <td>Health Care</td>\n",
              "      <td>101.84</td>\n",
              "      <td>37.181</td>\n",
              "      <td>102.0</td>\n",
              "      <td>0.364520</td>\n",
              "    </tr>\n",
              "    <tr>\n",
              "      <th>ZION</th>\n",
              "      <td>Financials</td>\n",
              "      <td>28.43</td>\n",
              "      <td>30.191</td>\n",
              "      <td>28.0</td>\n",
              "      <td>1.078250</td>\n",
              "    </tr>\n",
              "    <tr>\n",
              "      <th>ZTS</th>\n",
              "      <td>Health Care</td>\n",
              "      <td>30.53</td>\n",
              "      <td>2.150</td>\n",
              "      <td>31.0</td>\n",
              "      <td>0.069355</td>\n",
              "    </tr>\n",
              "  </tbody>\n",
              "</table>\n",
              "<p>500 rows × 5 columns</p>\n",
              "</div>"
            ],
            "text/plain": [
              "                        Sector   Price  ...  Rounded_Price  R_BookValue_Price\n",
              "Symbol                                  ...                                  \n",
              "MMM                Industrials  141.14  ...          141.0           0.189135\n",
              "ABT                Health Care   39.60  ...           40.0           0.389325\n",
              "ABBV               Health Care   53.95  ...           54.0           0.054704\n",
              "ACN     Information Technology   79.79  ...           80.0           0.104075\n",
              "ACE                 Financials  102.91  ...          103.0           0.843660\n",
              "...                        ...     ...  ...            ...                ...\n",
              "YHOO    Information Technology   35.02  ...           35.0           0.364800\n",
              "YUM     Consumer Discretionary   74.77  ...           75.0           0.068627\n",
              "ZMH                Health Care  101.84  ...          102.0           0.364520\n",
              "ZION                Financials   28.43  ...           28.0           1.078250\n",
              "ZTS                Health Care   30.53  ...           31.0           0.069355\n",
              "\n",
              "[500 rows x 5 columns]"
            ]
          },
          "metadata": {
            "tags": []
          },
          "execution_count": 151
        }
      ]
    },
    {
      "cell_type": "markdown",
      "metadata": {
        "heading_collapsed": true,
        "id": "Y9Rae12rqTTu"
      },
      "source": [
        "### Data alignment"
      ]
    },
    {
      "cell_type": "markdown",
      "metadata": {
        "heading_collapsed": true,
        "hidden": true,
        "id": "cgTXJyibqTTu"
      },
      "source": [
        "#### Series "
      ]
    },
    {
      "cell_type": "markdown",
      "metadata": {
        "hidden": true,
        "id": "u-pqBV4oqTTv"
      },
      "source": [
        "first series for examples"
      ]
    },
    {
      "cell_type": "code",
      "metadata": {
        "hidden": true,
        "colab": {
          "base_uri": "https://localhost:8080/"
        },
        "id": "RWU2CdLcqTTv",
        "outputId": "419a30b2-720e-4c80-d1cf-59a5f01b5cd0"
      },
      "source": [
        "s_1 = pd.Series(data=[77,33,11],index=['a','b','f'])\n",
        "s_1"
      ],
      "execution_count": null,
      "outputs": [
        {
          "output_type": "execute_result",
          "data": {
            "text/plain": [
              "a    77\n",
              "b    33\n",
              "f    11\n",
              "dtype: int64"
            ]
          },
          "metadata": {
            "tags": []
          },
          "execution_count": 152
        }
      ]
    },
    {
      "cell_type": "markdown",
      "metadata": {
        "hidden": true,
        "id": "VpimxLxQqTTv"
      },
      "source": [
        "second series for examples"
      ]
    },
    {
      "cell_type": "code",
      "metadata": {
        "hidden": true,
        "colab": {
          "base_uri": "https://localhost:8080/"
        },
        "id": "7uRcQvEfqTTw",
        "outputId": "c622c875-fb0a-4ab8-9974-3275abeb1a00"
      },
      "source": [
        "s_2 = pd.Series(data=[11,5,6],index=['c','b','a'])\n",
        "s_2"
      ],
      "execution_count": null,
      "outputs": [
        {
          "output_type": "execute_result",
          "data": {
            "text/plain": [
              "c    11\n",
              "b     5\n",
              "a     6\n",
              "dtype: int64"
            ]
          },
          "metadata": {
            "tags": []
          },
          "execution_count": 153
        }
      ]
    },
    {
      "cell_type": "markdown",
      "metadata": {
        "hidden": true,
        "id": "VDaLBH_3qTTw"
      },
      "source": [
        "for the disjoint part of the indexes, the NaN values will be obtained"
      ]
    },
    {
      "cell_type": "code",
      "metadata": {
        "hidden": true,
        "colab": {
          "base_uri": "https://localhost:8080/"
        },
        "id": "mxswG_eNqTTw",
        "outputId": "c81bfee4-5dd1-47ad-99de-06e56f9ec09d"
      },
      "source": [
        "s_1+s_2"
      ],
      "execution_count": null,
      "outputs": [
        {
          "output_type": "execute_result",
          "data": {
            "text/plain": [
              "a    83.0\n",
              "b    38.0\n",
              "c     NaN\n",
              "f     NaN\n",
              "dtype: float64"
            ]
          },
          "metadata": {
            "tags": []
          },
          "execution_count": 154
        }
      ]
    },
    {
      "cell_type": "markdown",
      "metadata": {
        "hidden": true,
        "id": "R7pSq5ThqTTx"
      },
      "source": [
        "the labels don't have to be unique"
      ]
    },
    {
      "cell_type": "code",
      "metadata": {
        "hidden": true,
        "colab": {
          "base_uri": "https://localhost:8080/"
        },
        "id": "Ze_O6oCvqTTx",
        "outputId": "2b2169bb-6c3c-47f1-d593-46c83a444139"
      },
      "source": [
        "s_1 = pd.Series(data=[77, 33, 15, 3], index=['a', 'a', 'a', 'd'])\n",
        "s_1"
      ],
      "execution_count": null,
      "outputs": [
        {
          "output_type": "execute_result",
          "data": {
            "text/plain": [
              "a    77\n",
              "a    33\n",
              "a    15\n",
              "d     3\n",
              "dtype: int64"
            ]
          },
          "metadata": {
            "tags": []
          },
          "execution_count": 155
        }
      ]
    },
    {
      "cell_type": "code",
      "metadata": {
        "hidden": true,
        "colab": {
          "base_uri": "https://localhost:8080/"
        },
        "id": "t66oBd06qTTx",
        "outputId": "7327e406-70e7-4f51-ae27-2dff1c46bb8c"
      },
      "source": [
        "s_2 = pd.Series(data=[11, 5, 6], index=['c', 'a', 'a'])\n",
        "s_2"
      ],
      "execution_count": null,
      "outputs": [
        {
          "output_type": "execute_result",
          "data": {
            "text/plain": [
              "c    11\n",
              "a     5\n",
              "a     6\n",
              "dtype: int64"
            ]
          },
          "metadata": {
            "tags": []
          },
          "execution_count": 156
        }
      ]
    },
    {
      "cell_type": "markdown",
      "metadata": {
        "hidden": true,
        "id": "c0Ea20LLqTTy"
      },
      "source": [
        "3 'a' labels and 2 'a' labels, the result is 6 ' a ' labels"
      ]
    },
    {
      "cell_type": "code",
      "metadata": {
        "hidden": true,
        "colab": {
          "base_uri": "https://localhost:8080/"
        },
        "id": "Y2vA2gKZqTTy",
        "outputId": "5ef33a51-3c35-4acd-dac4-85075b22f8ca"
      },
      "source": [
        "s_2+s_1"
      ],
      "execution_count": null,
      "outputs": [
        {
          "output_type": "execute_result",
          "data": {
            "text/plain": [
              "a    82.0\n",
              "a    38.0\n",
              "a    20.0\n",
              "a    83.0\n",
              "a    39.0\n",
              "a    21.0\n",
              "c     NaN\n",
              "d     NaN\n",
              "dtype: float64"
            ]
          },
          "metadata": {
            "tags": []
          },
          "execution_count": 157
        }
      ]
    },
    {
      "cell_type": "markdown",
      "metadata": {
        "heading_collapsed": true,
        "hidden": true,
        "id": "m6_B2ki-qTTy"
      },
      "source": [
        "#### DataFrame"
      ]
    },
    {
      "cell_type": "code",
      "metadata": {
        "hidden": true,
        "id": "K2bTPtijqTTy"
      },
      "source": [
        "sp500_part_1 = sp500.iloc[0:5, 0:2].copy()\n",
        "sp500_part_2 = sp500.iloc[2:7, 1:3].copy()"
      ],
      "execution_count": null,
      "outputs": []
    },
    {
      "cell_type": "code",
      "metadata": {
        "hidden": true,
        "colab": {
          "base_uri": "https://localhost:8080/",
          "height": 235
        },
        "id": "dmfODMqtqTTz",
        "outputId": "e6cf3052-d70e-4ca6-92e2-a42a72c1f4cc"
      },
      "source": [
        "sp500_part_1"
      ],
      "execution_count": null,
      "outputs": [
        {
          "output_type": "execute_result",
          "data": {
            "text/html": [
              "<div>\n",
              "<style scoped>\n",
              "    .dataframe tbody tr th:only-of-type {\n",
              "        vertical-align: middle;\n",
              "    }\n",
              "\n",
              "    .dataframe tbody tr th {\n",
              "        vertical-align: top;\n",
              "    }\n",
              "\n",
              "    .dataframe thead th {\n",
              "        text-align: right;\n",
              "    }\n",
              "</style>\n",
              "<table border=\"1\" class=\"dataframe\">\n",
              "  <thead>\n",
              "    <tr style=\"text-align: right;\">\n",
              "      <th></th>\n",
              "      <th>Sector</th>\n",
              "      <th>Price</th>\n",
              "    </tr>\n",
              "    <tr>\n",
              "      <th>Symbol</th>\n",
              "      <th></th>\n",
              "      <th></th>\n",
              "    </tr>\n",
              "  </thead>\n",
              "  <tbody>\n",
              "    <tr>\n",
              "      <th>MMM</th>\n",
              "      <td>Industrials</td>\n",
              "      <td>141.14</td>\n",
              "    </tr>\n",
              "    <tr>\n",
              "      <th>ABT</th>\n",
              "      <td>Health Care</td>\n",
              "      <td>39.60</td>\n",
              "    </tr>\n",
              "    <tr>\n",
              "      <th>ABBV</th>\n",
              "      <td>Health Care</td>\n",
              "      <td>53.95</td>\n",
              "    </tr>\n",
              "    <tr>\n",
              "      <th>ACN</th>\n",
              "      <td>Information Technology</td>\n",
              "      <td>79.79</td>\n",
              "    </tr>\n",
              "    <tr>\n",
              "      <th>ACE</th>\n",
              "      <td>Financials</td>\n",
              "      <td>102.91</td>\n",
              "    </tr>\n",
              "  </tbody>\n",
              "</table>\n",
              "</div>"
            ],
            "text/plain": [
              "                        Sector   Price\n",
              "Symbol                                \n",
              "MMM                Industrials  141.14\n",
              "ABT                Health Care   39.60\n",
              "ABBV               Health Care   53.95\n",
              "ACN     Information Technology   79.79\n",
              "ACE                 Financials  102.91"
            ]
          },
          "metadata": {
            "tags": []
          },
          "execution_count": 159
        }
      ]
    },
    {
      "cell_type": "code",
      "metadata": {
        "hidden": true,
        "colab": {
          "base_uri": "https://localhost:8080/",
          "height": 235
        },
        "id": "lBNqvVl7qTTz",
        "outputId": "b9b661b7-e504-4774-a080-9d556b777d24"
      },
      "source": [
        "sp500_part_2"
      ],
      "execution_count": null,
      "outputs": [
        {
          "output_type": "execute_result",
          "data": {
            "text/html": [
              "<div>\n",
              "<style scoped>\n",
              "    .dataframe tbody tr th:only-of-type {\n",
              "        vertical-align: middle;\n",
              "    }\n",
              "\n",
              "    .dataframe tbody tr th {\n",
              "        vertical-align: top;\n",
              "    }\n",
              "\n",
              "    .dataframe thead th {\n",
              "        text-align: right;\n",
              "    }\n",
              "</style>\n",
              "<table border=\"1\" class=\"dataframe\">\n",
              "  <thead>\n",
              "    <tr style=\"text-align: right;\">\n",
              "      <th></th>\n",
              "      <th>Price</th>\n",
              "      <th>Book Value</th>\n",
              "    </tr>\n",
              "    <tr>\n",
              "      <th>Symbol</th>\n",
              "      <th></th>\n",
              "      <th></th>\n",
              "    </tr>\n",
              "  </thead>\n",
              "  <tbody>\n",
              "    <tr>\n",
              "      <th>ABBV</th>\n",
              "      <td>53.95</td>\n",
              "      <td>2.954</td>\n",
              "    </tr>\n",
              "    <tr>\n",
              "      <th>ACN</th>\n",
              "      <td>79.79</td>\n",
              "      <td>8.326</td>\n",
              "    </tr>\n",
              "    <tr>\n",
              "      <th>ACE</th>\n",
              "      <td>102.91</td>\n",
              "      <td>86.897</td>\n",
              "    </tr>\n",
              "    <tr>\n",
              "      <th>ACT</th>\n",
              "      <td>213.77</td>\n",
              "      <td>55.188</td>\n",
              "    </tr>\n",
              "    <tr>\n",
              "      <th>ADBE</th>\n",
              "      <td>64.30</td>\n",
              "      <td>13.262</td>\n",
              "    </tr>\n",
              "  </tbody>\n",
              "</table>\n",
              "</div>"
            ],
            "text/plain": [
              "         Price  Book Value\n",
              "Symbol                    \n",
              "ABBV     53.95       2.954\n",
              "ACN      79.79       8.326\n",
              "ACE     102.91      86.897\n",
              "ACT     213.77      55.188\n",
              "ADBE     64.30      13.262"
            ]
          },
          "metadata": {
            "tags": []
          },
          "execution_count": 160
        }
      ]
    },
    {
      "cell_type": "code",
      "metadata": {
        "hidden": true,
        "colab": {
          "base_uri": "https://localhost:8080/",
          "height": 297
        },
        "id": "q_V6LidaqTTz",
        "outputId": "cb81e23b-4ffe-418e-dc63-104d1ae87a23"
      },
      "source": [
        "sp500_part_1 + sp500_part_2"
      ],
      "execution_count": null,
      "outputs": [
        {
          "output_type": "execute_result",
          "data": {
            "text/html": [
              "<div>\n",
              "<style scoped>\n",
              "    .dataframe tbody tr th:only-of-type {\n",
              "        vertical-align: middle;\n",
              "    }\n",
              "\n",
              "    .dataframe tbody tr th {\n",
              "        vertical-align: top;\n",
              "    }\n",
              "\n",
              "    .dataframe thead th {\n",
              "        text-align: right;\n",
              "    }\n",
              "</style>\n",
              "<table border=\"1\" class=\"dataframe\">\n",
              "  <thead>\n",
              "    <tr style=\"text-align: right;\">\n",
              "      <th></th>\n",
              "      <th>Book Value</th>\n",
              "      <th>Price</th>\n",
              "      <th>Sector</th>\n",
              "    </tr>\n",
              "    <tr>\n",
              "      <th>Symbol</th>\n",
              "      <th></th>\n",
              "      <th></th>\n",
              "      <th></th>\n",
              "    </tr>\n",
              "  </thead>\n",
              "  <tbody>\n",
              "    <tr>\n",
              "      <th>ABBV</th>\n",
              "      <td>NaN</td>\n",
              "      <td>107.90</td>\n",
              "      <td>NaN</td>\n",
              "    </tr>\n",
              "    <tr>\n",
              "      <th>ABT</th>\n",
              "      <td>NaN</td>\n",
              "      <td>NaN</td>\n",
              "      <td>NaN</td>\n",
              "    </tr>\n",
              "    <tr>\n",
              "      <th>ACE</th>\n",
              "      <td>NaN</td>\n",
              "      <td>205.82</td>\n",
              "      <td>NaN</td>\n",
              "    </tr>\n",
              "    <tr>\n",
              "      <th>ACN</th>\n",
              "      <td>NaN</td>\n",
              "      <td>159.58</td>\n",
              "      <td>NaN</td>\n",
              "    </tr>\n",
              "    <tr>\n",
              "      <th>ACT</th>\n",
              "      <td>NaN</td>\n",
              "      <td>NaN</td>\n",
              "      <td>NaN</td>\n",
              "    </tr>\n",
              "    <tr>\n",
              "      <th>ADBE</th>\n",
              "      <td>NaN</td>\n",
              "      <td>NaN</td>\n",
              "      <td>NaN</td>\n",
              "    </tr>\n",
              "    <tr>\n",
              "      <th>MMM</th>\n",
              "      <td>NaN</td>\n",
              "      <td>NaN</td>\n",
              "      <td>NaN</td>\n",
              "    </tr>\n",
              "  </tbody>\n",
              "</table>\n",
              "</div>"
            ],
            "text/plain": [
              "        Book Value   Price  Sector\n",
              "Symbol                            \n",
              "ABBV           NaN  107.90     NaN\n",
              "ABT            NaN     NaN     NaN\n",
              "ACE            NaN  205.82     NaN\n",
              "ACN            NaN  159.58     NaN\n",
              "ACT            NaN     NaN     NaN\n",
              "ADBE           NaN     NaN     NaN\n",
              "MMM            NaN     NaN     NaN"
            ]
          },
          "metadata": {
            "tags": []
          },
          "execution_count": 161
        }
      ]
    },
    {
      "cell_type": "markdown",
      "metadata": {
        "hidden": true,
        "id": "myvYRgeZqTT0"
      },
      "source": [
        "alignment occurs when creating a dataframe"
      ]
    },
    {
      "cell_type": "code",
      "metadata": {
        "hidden": true,
        "colab": {
          "base_uri": "https://localhost:8080/",
          "height": 142
        },
        "id": "dgzWEl-8qTT0",
        "outputId": "a8531c05-e20f-4e48-90a7-2dfbc5b8ad0a"
      },
      "source": [
        "series_1 = pd.Series([70, 90])\n",
        "series_2 = pd.Series([71, 91])\n",
        "series_3 = pd.Series([85, 87], index=[1, 2])\n",
        "df = pd.DataFrame({'col_1': series_1,\n",
        "                   'col_2': series_2,\n",
        "                   'col_3': series_3})\n",
        "df"
      ],
      "execution_count": null,
      "outputs": [
        {
          "output_type": "execute_result",
          "data": {
            "text/html": [
              "<div>\n",
              "<style scoped>\n",
              "    .dataframe tbody tr th:only-of-type {\n",
              "        vertical-align: middle;\n",
              "    }\n",
              "\n",
              "    .dataframe tbody tr th {\n",
              "        vertical-align: top;\n",
              "    }\n",
              "\n",
              "    .dataframe thead th {\n",
              "        text-align: right;\n",
              "    }\n",
              "</style>\n",
              "<table border=\"1\" class=\"dataframe\">\n",
              "  <thead>\n",
              "    <tr style=\"text-align: right;\">\n",
              "      <th></th>\n",
              "      <th>col_1</th>\n",
              "      <th>col_2</th>\n",
              "      <th>col_3</th>\n",
              "    </tr>\n",
              "  </thead>\n",
              "  <tbody>\n",
              "    <tr>\n",
              "      <th>0</th>\n",
              "      <td>70.0</td>\n",
              "      <td>71.0</td>\n",
              "      <td>NaN</td>\n",
              "    </tr>\n",
              "    <tr>\n",
              "      <th>1</th>\n",
              "      <td>90.0</td>\n",
              "      <td>91.0</td>\n",
              "      <td>85.0</td>\n",
              "    </tr>\n",
              "    <tr>\n",
              "      <th>2</th>\n",
              "      <td>NaN</td>\n",
              "      <td>NaN</td>\n",
              "      <td>87.0</td>\n",
              "    </tr>\n",
              "  </tbody>\n",
              "</table>\n",
              "</div>"
            ],
            "text/plain": [
              "   col_1  col_2  col_3\n",
              "0   70.0   71.0    NaN\n",
              "1   90.0   91.0   85.0\n",
              "2    NaN    NaN   87.0"
            ]
          },
          "metadata": {
            "tags": []
          },
          "execution_count": 162
        }
      ]
    },
    {
      "cell_type": "markdown",
      "metadata": {
        "heading_collapsed": true,
        "id": "jVtU4ZbgqTT0"
      },
      "source": [
        "### Sorting"
      ]
    },
    {
      "cell_type": "markdown",
      "metadata": {
        "heading_collapsed": true,
        "hidden": true,
        "id": "zWK0e9D9qTT1"
      },
      "source": [
        "#### by index"
      ]
    },
    {
      "cell_type": "code",
      "metadata": {
        "hidden": true,
        "colab": {
          "base_uri": "https://localhost:8080/",
          "height": 235
        },
        "id": "uXLCmppWqTT1",
        "outputId": "840ba337-c467-47d1-b202-90881a2ee8a3"
      },
      "source": [
        "sp500.head()"
      ],
      "execution_count": null,
      "outputs": [
        {
          "output_type": "execute_result",
          "data": {
            "text/html": [
              "<div>\n",
              "<style scoped>\n",
              "    .dataframe tbody tr th:only-of-type {\n",
              "        vertical-align: middle;\n",
              "    }\n",
              "\n",
              "    .dataframe tbody tr th {\n",
              "        vertical-align: top;\n",
              "    }\n",
              "\n",
              "    .dataframe thead th {\n",
              "        text-align: right;\n",
              "    }\n",
              "</style>\n",
              "<table border=\"1\" class=\"dataframe\">\n",
              "  <thead>\n",
              "    <tr style=\"text-align: right;\">\n",
              "      <th></th>\n",
              "      <th>Sector</th>\n",
              "      <th>Price</th>\n",
              "      <th>Book Value</th>\n",
              "    </tr>\n",
              "    <tr>\n",
              "      <th>Symbol</th>\n",
              "      <th></th>\n",
              "      <th></th>\n",
              "      <th></th>\n",
              "    </tr>\n",
              "  </thead>\n",
              "  <tbody>\n",
              "    <tr>\n",
              "      <th>MMM</th>\n",
              "      <td>Industrials</td>\n",
              "      <td>141.14</td>\n",
              "      <td>26.668</td>\n",
              "    </tr>\n",
              "    <tr>\n",
              "      <th>ABT</th>\n",
              "      <td>Health Care</td>\n",
              "      <td>39.60</td>\n",
              "      <td>15.573</td>\n",
              "    </tr>\n",
              "    <tr>\n",
              "      <th>ABBV</th>\n",
              "      <td>Health Care</td>\n",
              "      <td>53.95</td>\n",
              "      <td>2.954</td>\n",
              "    </tr>\n",
              "    <tr>\n",
              "      <th>ACN</th>\n",
              "      <td>Information Technology</td>\n",
              "      <td>79.79</td>\n",
              "      <td>8.326</td>\n",
              "    </tr>\n",
              "    <tr>\n",
              "      <th>ACE</th>\n",
              "      <td>Financials</td>\n",
              "      <td>102.91</td>\n",
              "      <td>86.897</td>\n",
              "    </tr>\n",
              "  </tbody>\n",
              "</table>\n",
              "</div>"
            ],
            "text/plain": [
              "                        Sector   Price  Book Value\n",
              "Symbol                                            \n",
              "MMM                Industrials  141.14      26.668\n",
              "ABT                Health Care   39.60      15.573\n",
              "ABBV               Health Care   53.95       2.954\n",
              "ACN     Information Technology   79.79       8.326\n",
              "ACE                 Financials  102.91      86.897"
            ]
          },
          "metadata": {
            "tags": []
          },
          "execution_count": 163
        }
      ]
    },
    {
      "cell_type": "code",
      "metadata": {
        "hidden": true,
        "colab": {
          "base_uri": "https://localhost:8080/",
          "height": 235
        },
        "id": "Ie7DyEpbqTT1",
        "outputId": "9cc183eb-927f-4313-892c-f3ecda05b770"
      },
      "source": [
        "sp500.sort_index().head()"
      ],
      "execution_count": null,
      "outputs": [
        {
          "output_type": "execute_result",
          "data": {
            "text/html": [
              "<div>\n",
              "<style scoped>\n",
              "    .dataframe tbody tr th:only-of-type {\n",
              "        vertical-align: middle;\n",
              "    }\n",
              "\n",
              "    .dataframe tbody tr th {\n",
              "        vertical-align: top;\n",
              "    }\n",
              "\n",
              "    .dataframe thead th {\n",
              "        text-align: right;\n",
              "    }\n",
              "</style>\n",
              "<table border=\"1\" class=\"dataframe\">\n",
              "  <thead>\n",
              "    <tr style=\"text-align: right;\">\n",
              "      <th></th>\n",
              "      <th>Sector</th>\n",
              "      <th>Price</th>\n",
              "      <th>Book Value</th>\n",
              "    </tr>\n",
              "    <tr>\n",
              "      <th>Symbol</th>\n",
              "      <th></th>\n",
              "      <th></th>\n",
              "      <th></th>\n",
              "    </tr>\n",
              "  </thead>\n",
              "  <tbody>\n",
              "    <tr>\n",
              "      <th>A</th>\n",
              "      <td>Health Care</td>\n",
              "      <td>56.18</td>\n",
              "      <td>16.928</td>\n",
              "    </tr>\n",
              "    <tr>\n",
              "      <th>AA</th>\n",
              "      <td>Materials</td>\n",
              "      <td>13.52</td>\n",
              "      <td>9.670</td>\n",
              "    </tr>\n",
              "    <tr>\n",
              "      <th>AAPL</th>\n",
              "      <td>Information Technology</td>\n",
              "      <td>614.13</td>\n",
              "      <td>139.460</td>\n",
              "    </tr>\n",
              "    <tr>\n",
              "      <th>ABBV</th>\n",
              "      <td>Health Care</td>\n",
              "      <td>53.95</td>\n",
              "      <td>2.954</td>\n",
              "    </tr>\n",
              "    <tr>\n",
              "      <th>ABC</th>\n",
              "      <td>Health Care</td>\n",
              "      <td>71.64</td>\n",
              "      <td>9.430</td>\n",
              "    </tr>\n",
              "  </tbody>\n",
              "</table>\n",
              "</div>"
            ],
            "text/plain": [
              "                        Sector   Price  Book Value\n",
              "Symbol                                            \n",
              "A                  Health Care   56.18      16.928\n",
              "AA                   Materials   13.52       9.670\n",
              "AAPL    Information Technology  614.13     139.460\n",
              "ABBV               Health Care   53.95       2.954\n",
              "ABC                Health Care   71.64       9.430"
            ]
          },
          "metadata": {
            "tags": []
          },
          "execution_count": 164
        }
      ]
    },
    {
      "cell_type": "code",
      "metadata": {
        "hidden": true,
        "colab": {
          "base_uri": "https://localhost:8080/",
          "height": 235
        },
        "id": "YSxDYRBOqTT2",
        "outputId": "da15a30b-5d42-4478-9a2a-1b95d88c92f6"
      },
      "source": [
        "sp500.sort_index(axis=1).head()"
      ],
      "execution_count": null,
      "outputs": [
        {
          "output_type": "execute_result",
          "data": {
            "text/html": [
              "<div>\n",
              "<style scoped>\n",
              "    .dataframe tbody tr th:only-of-type {\n",
              "        vertical-align: middle;\n",
              "    }\n",
              "\n",
              "    .dataframe tbody tr th {\n",
              "        vertical-align: top;\n",
              "    }\n",
              "\n",
              "    .dataframe thead th {\n",
              "        text-align: right;\n",
              "    }\n",
              "</style>\n",
              "<table border=\"1\" class=\"dataframe\">\n",
              "  <thead>\n",
              "    <tr style=\"text-align: right;\">\n",
              "      <th></th>\n",
              "      <th>Book Value</th>\n",
              "      <th>Price</th>\n",
              "      <th>Sector</th>\n",
              "    </tr>\n",
              "    <tr>\n",
              "      <th>Symbol</th>\n",
              "      <th></th>\n",
              "      <th></th>\n",
              "      <th></th>\n",
              "    </tr>\n",
              "  </thead>\n",
              "  <tbody>\n",
              "    <tr>\n",
              "      <th>MMM</th>\n",
              "      <td>26.668</td>\n",
              "      <td>141.14</td>\n",
              "      <td>Industrials</td>\n",
              "    </tr>\n",
              "    <tr>\n",
              "      <th>ABT</th>\n",
              "      <td>15.573</td>\n",
              "      <td>39.60</td>\n",
              "      <td>Health Care</td>\n",
              "    </tr>\n",
              "    <tr>\n",
              "      <th>ABBV</th>\n",
              "      <td>2.954</td>\n",
              "      <td>53.95</td>\n",
              "      <td>Health Care</td>\n",
              "    </tr>\n",
              "    <tr>\n",
              "      <th>ACN</th>\n",
              "      <td>8.326</td>\n",
              "      <td>79.79</td>\n",
              "      <td>Information Technology</td>\n",
              "    </tr>\n",
              "    <tr>\n",
              "      <th>ACE</th>\n",
              "      <td>86.897</td>\n",
              "      <td>102.91</td>\n",
              "      <td>Financials</td>\n",
              "    </tr>\n",
              "  </tbody>\n",
              "</table>\n",
              "</div>"
            ],
            "text/plain": [
              "        Book Value   Price                  Sector\n",
              "Symbol                                            \n",
              "MMM         26.668  141.14             Industrials\n",
              "ABT         15.573   39.60             Health Care\n",
              "ABBV         2.954   53.95             Health Care\n",
              "ACN          8.326   79.79  Information Technology\n",
              "ACE         86.897  102.91              Financials"
            ]
          },
          "metadata": {
            "tags": []
          },
          "execution_count": 165
        }
      ]
    },
    {
      "cell_type": "markdown",
      "metadata": {
        "heading_collapsed": true,
        "hidden": true,
        "id": "xuPWQWn0qTT2"
      },
      "source": [
        "#### by value"
      ]
    },
    {
      "cell_type": "code",
      "metadata": {
        "hidden": true,
        "colab": {
          "base_uri": "https://localhost:8080/",
          "height": 235
        },
        "id": "ZZODwqFyqTT2",
        "outputId": "4a409183-805c-4595-f3f4-8048174c086a"
      },
      "source": [
        "sp500.sort_values(by='Price').head()"
      ],
      "execution_count": null,
      "outputs": [
        {
          "output_type": "execute_result",
          "data": {
            "text/html": [
              "<div>\n",
              "<style scoped>\n",
              "    .dataframe tbody tr th:only-of-type {\n",
              "        vertical-align: middle;\n",
              "    }\n",
              "\n",
              "    .dataframe tbody tr th {\n",
              "        vertical-align: top;\n",
              "    }\n",
              "\n",
              "    .dataframe thead th {\n",
              "        text-align: right;\n",
              "    }\n",
              "</style>\n",
              "<table border=\"1\" class=\"dataframe\">\n",
              "  <thead>\n",
              "    <tr style=\"text-align: right;\">\n",
              "      <th></th>\n",
              "      <th>Sector</th>\n",
              "      <th>Price</th>\n",
              "      <th>Book Value</th>\n",
              "    </tr>\n",
              "    <tr>\n",
              "      <th>Symbol</th>\n",
              "      <th></th>\n",
              "      <th></th>\n",
              "      <th></th>\n",
              "    </tr>\n",
              "  </thead>\n",
              "  <tbody>\n",
              "    <tr>\n",
              "      <th>BEAM</th>\n",
              "      <td>Consumer Discretionary</td>\n",
              "      <td>0.00</td>\n",
              "      <td>NaN</td>\n",
              "    </tr>\n",
              "    <tr>\n",
              "      <th>FTR</th>\n",
              "      <td>Telecommunications Services</td>\n",
              "      <td>5.81</td>\n",
              "      <td>3.989</td>\n",
              "    </tr>\n",
              "    <tr>\n",
              "      <th>SLM</th>\n",
              "      <td>Financials</td>\n",
              "      <td>8.82</td>\n",
              "      <td>11.895</td>\n",
              "    </tr>\n",
              "    <tr>\n",
              "      <th>HBAN</th>\n",
              "      <td>Financials</td>\n",
              "      <td>9.10</td>\n",
              "      <td>6.995</td>\n",
              "    </tr>\n",
              "    <tr>\n",
              "      <th>WIN</th>\n",
              "      <td>Telecommunications Services</td>\n",
              "      <td>9.38</td>\n",
              "      <td>1.199</td>\n",
              "    </tr>\n",
              "  </tbody>\n",
              "</table>\n",
              "</div>"
            ],
            "text/plain": [
              "                             Sector  Price  Book Value\n",
              "Symbol                                                \n",
              "BEAM         Consumer Discretionary   0.00         NaN\n",
              "FTR     Telecommunications Services   5.81       3.989\n",
              "SLM                      Financials   8.82      11.895\n",
              "HBAN                     Financials   9.10       6.995\n",
              "WIN     Telecommunications Services   9.38       1.199"
            ]
          },
          "metadata": {
            "tags": []
          },
          "execution_count": 167
        }
      ]
    },
    {
      "cell_type": "code",
      "metadata": {
        "hidden": true,
        "colab": {
          "base_uri": "https://localhost:8080/",
          "height": 235
        },
        "id": "EVyo7V9bqTT3",
        "outputId": "ea6bb410-0d5e-4e8f-a3fd-c7cda22db33d"
      },
      "source": [
        "sp500.sort_values(by='Price', ascending=False).head()"
      ],
      "execution_count": null,
      "outputs": [
        {
          "output_type": "execute_result",
          "data": {
            "text/html": [
              "<div>\n",
              "<style scoped>\n",
              "    .dataframe tbody tr th:only-of-type {\n",
              "        vertical-align: middle;\n",
              "    }\n",
              "\n",
              "    .dataframe tbody tr th {\n",
              "        vertical-align: top;\n",
              "    }\n",
              "\n",
              "    .dataframe thead th {\n",
              "        text-align: right;\n",
              "    }\n",
              "</style>\n",
              "<table border=\"1\" class=\"dataframe\">\n",
              "  <thead>\n",
              "    <tr style=\"text-align: right;\">\n",
              "      <th></th>\n",
              "      <th>Sector</th>\n",
              "      <th>Price</th>\n",
              "      <th>Book Value</th>\n",
              "    </tr>\n",
              "    <tr>\n",
              "      <th>Symbol</th>\n",
              "      <th></th>\n",
              "      <th></th>\n",
              "      <th></th>\n",
              "    </tr>\n",
              "  </thead>\n",
              "  <tbody>\n",
              "    <tr>\n",
              "      <th>PCLN</th>\n",
              "      <td>Industrials</td>\n",
              "      <td>1197.12</td>\n",
              "      <td>137.886</td>\n",
              "    </tr>\n",
              "    <tr>\n",
              "      <th>GHC</th>\n",
              "      <td>Consumer Discretionary</td>\n",
              "      <td>677.29</td>\n",
              "      <td>0.000</td>\n",
              "    </tr>\n",
              "    <tr>\n",
              "      <th>AAPL</th>\n",
              "      <td>Information Technology</td>\n",
              "      <td>614.13</td>\n",
              "      <td>139.460</td>\n",
              "    </tr>\n",
              "    <tr>\n",
              "      <th>GOOG</th>\n",
              "      <td>Information Technology</td>\n",
              "      <td>552.70</td>\n",
              "      <td>135.977</td>\n",
              "    </tr>\n",
              "    <tr>\n",
              "      <th>AZO</th>\n",
              "      <td>Consumer Discretionary</td>\n",
              "      <td>540.90</td>\n",
              "      <td>-51.275</td>\n",
              "    </tr>\n",
              "  </tbody>\n",
              "</table>\n",
              "</div>"
            ],
            "text/plain": [
              "                        Sector    Price  Book Value\n",
              "Symbol                                             \n",
              "PCLN               Industrials  1197.12     137.886\n",
              "GHC     Consumer Discretionary   677.29       0.000\n",
              "AAPL    Information Technology   614.13     139.460\n",
              "GOOG    Information Technology   552.70     135.977\n",
              "AZO     Consumer Discretionary   540.90     -51.275"
            ]
          },
          "metadata": {
            "tags": []
          },
          "execution_count": 168
        }
      ]
    },
    {
      "cell_type": "markdown",
      "metadata": {
        "heading_collapsed": true,
        "hidden": true,
        "id": "HkUJ1K8OqTT3"
      },
      "source": [
        "#### lowest / highest value"
      ]
    },
    {
      "cell_type": "code",
      "metadata": {
        "hidden": true,
        "colab": {
          "base_uri": "https://localhost:8080/",
          "height": 235
        },
        "id": "mjce6SEyqTT3",
        "outputId": "44e17e35-45cb-4c65-e6af-e50108264c26"
      },
      "source": [
        "sp500.nsmallest(5, 'Price')"
      ],
      "execution_count": null,
      "outputs": [
        {
          "output_type": "execute_result",
          "data": {
            "text/html": [
              "<div>\n",
              "<style scoped>\n",
              "    .dataframe tbody tr th:only-of-type {\n",
              "        vertical-align: middle;\n",
              "    }\n",
              "\n",
              "    .dataframe tbody tr th {\n",
              "        vertical-align: top;\n",
              "    }\n",
              "\n",
              "    .dataframe thead th {\n",
              "        text-align: right;\n",
              "    }\n",
              "</style>\n",
              "<table border=\"1\" class=\"dataframe\">\n",
              "  <thead>\n",
              "    <tr style=\"text-align: right;\">\n",
              "      <th></th>\n",
              "      <th>Sector</th>\n",
              "      <th>Price</th>\n",
              "      <th>Book Value</th>\n",
              "    </tr>\n",
              "    <tr>\n",
              "      <th>Symbol</th>\n",
              "      <th></th>\n",
              "      <th></th>\n",
              "      <th></th>\n",
              "    </tr>\n",
              "  </thead>\n",
              "  <tbody>\n",
              "    <tr>\n",
              "      <th>BEAM</th>\n",
              "      <td>Consumer Discretionary</td>\n",
              "      <td>0.00</td>\n",
              "      <td>NaN</td>\n",
              "    </tr>\n",
              "    <tr>\n",
              "      <th>FTR</th>\n",
              "      <td>Telecommunications Services</td>\n",
              "      <td>5.81</td>\n",
              "      <td>3.989</td>\n",
              "    </tr>\n",
              "    <tr>\n",
              "      <th>SLM</th>\n",
              "      <td>Financials</td>\n",
              "      <td>8.82</td>\n",
              "      <td>11.895</td>\n",
              "    </tr>\n",
              "    <tr>\n",
              "      <th>HBAN</th>\n",
              "      <td>Financials</td>\n",
              "      <td>9.10</td>\n",
              "      <td>6.995</td>\n",
              "    </tr>\n",
              "    <tr>\n",
              "      <th>WIN</th>\n",
              "      <td>Telecommunications Services</td>\n",
              "      <td>9.38</td>\n",
              "      <td>1.199</td>\n",
              "    </tr>\n",
              "  </tbody>\n",
              "</table>\n",
              "</div>"
            ],
            "text/plain": [
              "                             Sector  Price  Book Value\n",
              "Symbol                                                \n",
              "BEAM         Consumer Discretionary   0.00         NaN\n",
              "FTR     Telecommunications Services   5.81       3.989\n",
              "SLM                      Financials   8.82      11.895\n",
              "HBAN                     Financials   9.10       6.995\n",
              "WIN     Telecommunications Services   9.38       1.199"
            ]
          },
          "metadata": {
            "tags": []
          },
          "execution_count": 170
        }
      ]
    },
    {
      "cell_type": "code",
      "metadata": {
        "hidden": true,
        "colab": {
          "base_uri": "https://localhost:8080/",
          "height": 235
        },
        "id": "6OYGldKvqTT4",
        "outputId": "2919a1dc-ef8c-4322-ca4d-5de80d40a7fa"
      },
      "source": [
        "sp500.nlargest(5, 'Price')"
      ],
      "execution_count": null,
      "outputs": [
        {
          "output_type": "execute_result",
          "data": {
            "text/html": [
              "<div>\n",
              "<style scoped>\n",
              "    .dataframe tbody tr th:only-of-type {\n",
              "        vertical-align: middle;\n",
              "    }\n",
              "\n",
              "    .dataframe tbody tr th {\n",
              "        vertical-align: top;\n",
              "    }\n",
              "\n",
              "    .dataframe thead th {\n",
              "        text-align: right;\n",
              "    }\n",
              "</style>\n",
              "<table border=\"1\" class=\"dataframe\">\n",
              "  <thead>\n",
              "    <tr style=\"text-align: right;\">\n",
              "      <th></th>\n",
              "      <th>Sector</th>\n",
              "      <th>Price</th>\n",
              "      <th>Book Value</th>\n",
              "    </tr>\n",
              "    <tr>\n",
              "      <th>Symbol</th>\n",
              "      <th></th>\n",
              "      <th></th>\n",
              "      <th></th>\n",
              "    </tr>\n",
              "  </thead>\n",
              "  <tbody>\n",
              "    <tr>\n",
              "      <th>PCLN</th>\n",
              "      <td>Industrials</td>\n",
              "      <td>1197.12</td>\n",
              "      <td>137.886</td>\n",
              "    </tr>\n",
              "    <tr>\n",
              "      <th>GHC</th>\n",
              "      <td>Consumer Discretionary</td>\n",
              "      <td>677.29</td>\n",
              "      <td>0.000</td>\n",
              "    </tr>\n",
              "    <tr>\n",
              "      <th>AAPL</th>\n",
              "      <td>Information Technology</td>\n",
              "      <td>614.13</td>\n",
              "      <td>139.460</td>\n",
              "    </tr>\n",
              "    <tr>\n",
              "      <th>GOOG</th>\n",
              "      <td>Information Technology</td>\n",
              "      <td>552.70</td>\n",
              "      <td>135.977</td>\n",
              "    </tr>\n",
              "    <tr>\n",
              "      <th>AZO</th>\n",
              "      <td>Consumer Discretionary</td>\n",
              "      <td>540.90</td>\n",
              "      <td>-51.275</td>\n",
              "    </tr>\n",
              "  </tbody>\n",
              "</table>\n",
              "</div>"
            ],
            "text/plain": [
              "                        Sector    Price  Book Value\n",
              "Symbol                                             \n",
              "PCLN               Industrials  1197.12     137.886\n",
              "GHC     Consumer Discretionary   677.29       0.000\n",
              "AAPL    Information Technology   614.13     139.460\n",
              "GOOG    Information Technology   552.70     135.977\n",
              "AZO     Consumer Discretionary   540.90     -51.275"
            ]
          },
          "metadata": {
            "tags": []
          },
          "execution_count": 169
        }
      ]
    }
  ]
}