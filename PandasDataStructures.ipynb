{
  "nbformat": 4,
  "nbformat_minor": 0,
  "metadata": {
    "hide_input": false,
    "kernelspec": {
      "display_name": "Python 3",
      "language": "python",
      "name": "python3"
    },
    "language_info": {
      "codemirror_mode": {
        "name": "ipython",
        "version": 3
      },
      "file_extension": ".py",
      "mimetype": "text/x-python",
      "name": "python",
      "nbconvert_exporter": "python",
      "pygments_lexer": "ipython3",
      "version": "3.7.0"
    },
    "toc": {
      "base_numbering": 1,
      "nav_menu": {},
      "number_sections": true,
      "sideBar": true,
      "skip_h1_title": false,
      "title_cell": "Table of Contents",
      "title_sidebar": "Contents",
      "toc_cell": false,
      "toc_position": {
        "height": "829px",
        "left": "1473.61px",
        "top": "110px",
        "width": "340.788px"
      },
      "toc_section_display": true,
      "toc_window_display": false
    },
    "colab": {
      "name": "PandasDataStructures.ipynb",
      "provenance": [],
      "collapsed_sections": [],
      "toc_visible": true
    }
  },
  "cells": [
    {
      "cell_type": "markdown",
      "metadata": {
        "heading_collapsed": true,
        "id": "X7jhF7TfOYOD"
      },
      "source": [
        "### Библиотеки"
      ]
    },
    {
      "cell_type": "code",
      "metadata": {
        "hidden": true,
        "id": "fT1URS-1OYOH"
      },
      "source": [
        "import pandas as pd\n",
        "import numpy as np"
      ],
      "execution_count": 1,
      "outputs": []
    },
    {
      "cell_type": "markdown",
      "metadata": {
        "heading_collapsed": true,
        "id": "4glqHK8XOYOJ"
      },
      "source": [
        "### Создание"
      ]
    },
    {
      "cell_type": "markdown",
      "metadata": {
        "heading_collapsed": true,
        "hidden": true,
        "id": "A-EQ3w8xOYOK"
      },
      "source": [
        "#### из списка"
      ]
    },
    {
      "cell_type": "markdown",
      "metadata": {
        "hidden": true,
        "id": "_WTnFzQzOYOL"
      },
      "source": [
        "создаем Series значений из списка целых чисел"
      ]
    },
    {
      "cell_type": "code",
      "metadata": {
        "ExecuteTime": {
          "end_time": "2019-01-24T11:40:46.066107Z",
          "start_time": "2019-01-24T11:40:46.060063Z"
        },
        "hidden": true,
        "colab": {
          "base_uri": "https://localhost:8080/"
        },
        "id": "3a74FAfNOYOM",
        "outputId": "dfe0ebc3-250c-4057-907d-c1715ed73d95"
      },
      "source": [
        "s = pd.Series(data=[10, 11, 12, 13, 14],\n",
        "              index=[1, 2, 3, 5, 7])\n",
        "s"
      ],
      "execution_count": 2,
      "outputs": [
        {
          "output_type": "execute_result",
          "data": {
            "text/plain": [
              "1    10\n",
              "2    11\n",
              "3    12\n",
              "5    13\n",
              "7    14\n",
              "dtype: int64"
            ]
          },
          "metadata": {
            "tags": []
          },
          "execution_count": 2
        }
      ]
    },
    {
      "cell_type": "markdown",
      "metadata": {
        "collapsed": true,
        "hidden": true,
        "id": "UVRXsnmgOYOM"
      },
      "source": [
        "создаем Series из строковых значений"
      ]
    },
    {
      "cell_type": "code",
      "metadata": {
        "hidden": true,
        "colab": {
          "base_uri": "https://localhost:8080/"
        },
        "id": "qPIUKxNPOYON",
        "outputId": "9af3cca7-16e5-418c-87df-b17558fc0d90"
      },
      "source": [
        "s = pd.Series(['Blue', 'Yellow', 'Green'])\n",
        "s"
      ],
      "execution_count": 3,
      "outputs": [
        {
          "output_type": "execute_result",
          "data": {
            "text/plain": [
              "0      Blue\n",
              "1    Yellow\n",
              "2     Green\n",
              "dtype: object"
            ]
          },
          "metadata": {
            "tags": []
          },
          "execution_count": 3
        }
      ]
    },
    {
      "cell_type": "markdown",
      "metadata": {
        "hidden": true,
        "id": "l5jW0WQZOYOO"
      },
      "source": [
        "создаем Series из 5 элементов, каждый элемент - list python"
      ]
    },
    {
      "cell_type": "code",
      "metadata": {
        "hidden": true,
        "scrolled": true,
        "colab": {
          "base_uri": "https://localhost:8080/"
        },
        "id": "Jj3epzoZOYOP",
        "outputId": "4dd0d731-06c5-457f-d969-a186c89ce8af"
      },
      "source": [
        "l = [[1, 2]]\n",
        "s = pd.Series(l*5)\n",
        "s"
      ],
      "execution_count": 4,
      "outputs": [
        {
          "output_type": "execute_result",
          "data": {
            "text/plain": [
              "0    [1, 2]\n",
              "1    [1, 2]\n",
              "2    [1, 2]\n",
              "3    [1, 2]\n",
              "4    [1, 2]\n",
              "dtype: object"
            ]
          },
          "metadata": {
            "tags": []
          },
          "execution_count": 4
        }
      ]
    },
    {
      "cell_type": "markdown",
      "metadata": {
        "hidden": true,
        "id": "tcoDRUgnOYOP"
      },
      "source": [
        "создаем DataFrame из двумерного списка"
      ]
    },
    {
      "cell_type": "code",
      "metadata": {
        "hidden": true,
        "colab": {
          "base_uri": "https://localhost:8080/",
          "height": 142
        },
        "id": "nJ7CRoJaOYOQ",
        "outputId": "533473e3-ea87-4353-858d-0a480435efcc"
      },
      "source": [
        "df = pd.DataFrame([[10, 11], [20, 21], [30, 31]])\n",
        "df"
      ],
      "execution_count": 5,
      "outputs": [
        {
          "output_type": "execute_result",
          "data": {
            "text/html": [
              "<div>\n",
              "<style scoped>\n",
              "    .dataframe tbody tr th:only-of-type {\n",
              "        vertical-align: middle;\n",
              "    }\n",
              "\n",
              "    .dataframe tbody tr th {\n",
              "        vertical-align: top;\n",
              "    }\n",
              "\n",
              "    .dataframe thead th {\n",
              "        text-align: right;\n",
              "    }\n",
              "</style>\n",
              "<table border=\"1\" class=\"dataframe\">\n",
              "  <thead>\n",
              "    <tr style=\"text-align: right;\">\n",
              "      <th></th>\n",
              "      <th>0</th>\n",
              "      <th>1</th>\n",
              "    </tr>\n",
              "  </thead>\n",
              "  <tbody>\n",
              "    <tr>\n",
              "      <th>0</th>\n",
              "      <td>10</td>\n",
              "      <td>11</td>\n",
              "    </tr>\n",
              "    <tr>\n",
              "      <th>1</th>\n",
              "      <td>20</td>\n",
              "      <td>21</td>\n",
              "    </tr>\n",
              "    <tr>\n",
              "      <th>2</th>\n",
              "      <td>30</td>\n",
              "      <td>31</td>\n",
              "    </tr>\n",
              "  </tbody>\n",
              "</table>\n",
              "</div>"
            ],
            "text/plain": [
              "    0   1\n",
              "0  10  11\n",
              "1  20  21\n",
              "2  30  31"
            ]
          },
          "metadata": {
            "tags": []
          },
          "execution_count": 5
        }
      ]
    },
    {
      "cell_type": "markdown",
      "metadata": {
        "hidden": true,
        "id": "0ihMDyibOYOR"
      },
      "source": [
        "задаем имена столбцов"
      ]
    },
    {
      "cell_type": "code",
      "metadata": {
        "hidden": true,
        "colab": {
          "base_uri": "https://localhost:8080/",
          "height": 142
        },
        "id": "YMMJzjfROYOR",
        "outputId": "dda39cb1-2603-409d-9817-e26f4c38c37b"
      },
      "source": [
        "df = pd.DataFrame([[10, 11], [20, 21], [30, 31]],\n",
        "                  columns=['A', 'B'])\n",
        "df"
      ],
      "execution_count": 6,
      "outputs": [
        {
          "output_type": "execute_result",
          "data": {
            "text/html": [
              "<div>\n",
              "<style scoped>\n",
              "    .dataframe tbody tr th:only-of-type {\n",
              "        vertical-align: middle;\n",
              "    }\n",
              "\n",
              "    .dataframe tbody tr th {\n",
              "        vertical-align: top;\n",
              "    }\n",
              "\n",
              "    .dataframe thead th {\n",
              "        text-align: right;\n",
              "    }\n",
              "</style>\n",
              "<table border=\"1\" class=\"dataframe\">\n",
              "  <thead>\n",
              "    <tr style=\"text-align: right;\">\n",
              "      <th></th>\n",
              "      <th>A</th>\n",
              "      <th>B</th>\n",
              "    </tr>\n",
              "  </thead>\n",
              "  <tbody>\n",
              "    <tr>\n",
              "      <th>0</th>\n",
              "      <td>10</td>\n",
              "      <td>11</td>\n",
              "    </tr>\n",
              "    <tr>\n",
              "      <th>1</th>\n",
              "      <td>20</td>\n",
              "      <td>21</td>\n",
              "    </tr>\n",
              "    <tr>\n",
              "      <th>2</th>\n",
              "      <td>30</td>\n",
              "      <td>31</td>\n",
              "    </tr>\n",
              "  </tbody>\n",
              "</table>\n",
              "</div>"
            ],
            "text/plain": [
              "    A   B\n",
              "0  10  11\n",
              "1  20  21\n",
              "2  30  31"
            ]
          },
          "metadata": {
            "tags": []
          },
          "execution_count": 6
        }
      ]
    },
    {
      "cell_type": "markdown",
      "metadata": {
        "hidden": true,
        "id": "mu3tfw_0OYOS"
      },
      "source": [
        "создаем DataFrame для списка объектов Series"
      ]
    },
    {
      "cell_type": "code",
      "metadata": {
        "hidden": true,
        "colab": {
          "base_uri": "https://localhost:8080/",
          "height": 111
        },
        "id": "DtV3J9R7OYOT",
        "outputId": "24af7de2-f8d5-47dd-d67c-b46f1064b9ad"
      },
      "source": [
        "series_1 = pd.Series([70, 90])\n",
        "series_2 = pd.Series([71, 91])\n",
        "df = pd.DataFrame([series_1, series_2])\n",
        "df"
      ],
      "execution_count": 7,
      "outputs": [
        {
          "output_type": "execute_result",
          "data": {
            "text/html": [
              "<div>\n",
              "<style scoped>\n",
              "    .dataframe tbody tr th:only-of-type {\n",
              "        vertical-align: middle;\n",
              "    }\n",
              "\n",
              "    .dataframe tbody tr th {\n",
              "        vertical-align: top;\n",
              "    }\n",
              "\n",
              "    .dataframe thead th {\n",
              "        text-align: right;\n",
              "    }\n",
              "</style>\n",
              "<table border=\"1\" class=\"dataframe\">\n",
              "  <thead>\n",
              "    <tr style=\"text-align: right;\">\n",
              "      <th></th>\n",
              "      <th>0</th>\n",
              "      <th>1</th>\n",
              "    </tr>\n",
              "  </thead>\n",
              "  <tbody>\n",
              "    <tr>\n",
              "      <th>0</th>\n",
              "      <td>70</td>\n",
              "      <td>90</td>\n",
              "    </tr>\n",
              "    <tr>\n",
              "      <th>1</th>\n",
              "      <td>71</td>\n",
              "      <td>91</td>\n",
              "    </tr>\n",
              "  </tbody>\n",
              "</table>\n",
              "</div>"
            ],
            "text/plain": [
              "    0   1\n",
              "0  70  90\n",
              "1  71  91"
            ]
          },
          "metadata": {
            "tags": []
          },
          "execution_count": 7
        }
      ]
    },
    {
      "cell_type": "markdown",
      "metadata": {
        "hidden": true,
        "id": "jzdjxJvlOYOT"
      },
      "source": [
        "задаем имена столбцов после создания датафрейма"
      ]
    },
    {
      "cell_type": "code",
      "metadata": {
        "hidden": true,
        "colab": {
          "base_uri": "https://localhost:8080/",
          "height": 111
        },
        "id": "m7nKry6BOYOU",
        "outputId": "fefef4b1-706f-40ed-a60e-39d32ea9fc5f"
      },
      "source": [
        "df.columns = ['col_1', 'col_2']\n",
        "df"
      ],
      "execution_count": 8,
      "outputs": [
        {
          "output_type": "execute_result",
          "data": {
            "text/html": [
              "<div>\n",
              "<style scoped>\n",
              "    .dataframe tbody tr th:only-of-type {\n",
              "        vertical-align: middle;\n",
              "    }\n",
              "\n",
              "    .dataframe tbody tr th {\n",
              "        vertical-align: top;\n",
              "    }\n",
              "\n",
              "    .dataframe thead th {\n",
              "        text-align: right;\n",
              "    }\n",
              "</style>\n",
              "<table border=\"1\" class=\"dataframe\">\n",
              "  <thead>\n",
              "    <tr style=\"text-align: right;\">\n",
              "      <th></th>\n",
              "      <th>col_1</th>\n",
              "      <th>col_2</th>\n",
              "    </tr>\n",
              "  </thead>\n",
              "  <tbody>\n",
              "    <tr>\n",
              "      <th>0</th>\n",
              "      <td>70</td>\n",
              "      <td>90</td>\n",
              "    </tr>\n",
              "    <tr>\n",
              "      <th>1</th>\n",
              "      <td>71</td>\n",
              "      <td>91</td>\n",
              "    </tr>\n",
              "  </tbody>\n",
              "</table>\n",
              "</div>"
            ],
            "text/plain": [
              "   col_1  col_2\n",
              "0     70     90\n",
              "1     71     91"
            ]
          },
          "metadata": {
            "tags": []
          },
          "execution_count": 8
        }
      ]
    },
    {
      "cell_type": "markdown",
      "metadata": {
        "heading_collapsed": true,
        "hidden": true,
        "id": "THj3FhdPOYOU"
      },
      "source": [
        "#### из словаря "
      ]
    },
    {
      "cell_type": "markdown",
      "metadata": {
        "collapsed": true,
        "hidden": true,
        "id": "M4LwRuDDOYOV"
      },
      "source": [
        "создаем объект Series из словаря, при этом посмотрим, как изменились индексы"
      ]
    },
    {
      "cell_type": "code",
      "metadata": {
        "hidden": true,
        "colab": {
          "base_uri": "https://localhost:8080/"
        },
        "id": "2PUzx0BaOYOV",
        "outputId": "8fd5f1d8-3c62-4939-d93c-0b4e7909e35c"
      },
      "source": [
        "s = pd.Series({'Homer': 'Dad',\n",
        "               'Marge': 'Mom',\n",
        "               'Bart': 'Son',\n",
        "               'Lisa': 'Daughter',\n",
        "               'Maggie': 'Daughter'})\n",
        "s"
      ],
      "execution_count": 9,
      "outputs": [
        {
          "output_type": "execute_result",
          "data": {
            "text/plain": [
              "Homer          Dad\n",
              "Marge          Mom\n",
              "Bart           Son\n",
              "Lisa      Daughter\n",
              "Maggie    Daughter\n",
              "dtype: object"
            ]
          },
          "metadata": {
            "tags": []
          },
          "execution_count": 9
        }
      ]
    },
    {
      "cell_type": "markdown",
      "metadata": {
        "hidden": true,
        "id": "yWILt6PUOYOW"
      },
      "source": [
        "создание DataFrame с помощью питоновского словаря"
      ]
    },
    {
      "cell_type": "code",
      "metadata": {
        "hidden": true,
        "colab": {
          "base_uri": "https://localhost:8080/",
          "height": 111
        },
        "id": "NsPrCjReOYOW",
        "outputId": "03046aab-1985-420e-af10-6d99493ba5ff"
      },
      "source": [
        "list_1 = [70, 71]\n",
        "list_2 = [90, 91]\n",
        "temperatures = {'col_1': list_1,\n",
        "                'col_2': list_2}\n",
        "pd.DataFrame(temperatures)"
      ],
      "execution_count": 10,
      "outputs": [
        {
          "output_type": "execute_result",
          "data": {
            "text/html": [
              "<div>\n",
              "<style scoped>\n",
              "    .dataframe tbody tr th:only-of-type {\n",
              "        vertical-align: middle;\n",
              "    }\n",
              "\n",
              "    .dataframe tbody tr th {\n",
              "        vertical-align: top;\n",
              "    }\n",
              "\n",
              "    .dataframe thead th {\n",
              "        text-align: right;\n",
              "    }\n",
              "</style>\n",
              "<table border=\"1\" class=\"dataframe\">\n",
              "  <thead>\n",
              "    <tr style=\"text-align: right;\">\n",
              "      <th></th>\n",
              "      <th>col_1</th>\n",
              "      <th>col_2</th>\n",
              "    </tr>\n",
              "  </thead>\n",
              "  <tbody>\n",
              "    <tr>\n",
              "      <th>0</th>\n",
              "      <td>70</td>\n",
              "      <td>90</td>\n",
              "    </tr>\n",
              "    <tr>\n",
              "      <th>1</th>\n",
              "      <td>71</td>\n",
              "      <td>91</td>\n",
              "    </tr>\n",
              "  </tbody>\n",
              "</table>\n",
              "</div>"
            ],
            "text/plain": [
              "   col_1  col_2\n",
              "0     70     90\n",
              "1     71     91"
            ]
          },
          "metadata": {
            "tags": []
          },
          "execution_count": 10
        }
      ]
    },
    {
      "cell_type": "markdown",
      "metadata": {
        "hidden": true,
        "id": "dprZr-tNOYOX"
      },
      "source": [
        "создание DataFrame с помощью словаря, состоящего из объектов Series"
      ]
    },
    {
      "cell_type": "code",
      "metadata": {
        "hidden": true,
        "colab": {
          "base_uri": "https://localhost:8080/",
          "height": 111
        },
        "id": "D8-NYEgdOYOX",
        "outputId": "98477347-288f-4c7b-b691-796e2e709077"
      },
      "source": [
        "series_1 = pd.Series([70, 71])\n",
        "series_2 = pd.Series([90, 91])\n",
        "\n",
        "df = pd.DataFrame({'col_1': series_1,\n",
        "                   'col_2': series_2})\n",
        "df"
      ],
      "execution_count": 11,
      "outputs": [
        {
          "output_type": "execute_result",
          "data": {
            "text/html": [
              "<div>\n",
              "<style scoped>\n",
              "    .dataframe tbody tr th:only-of-type {\n",
              "        vertical-align: middle;\n",
              "    }\n",
              "\n",
              "    .dataframe tbody tr th {\n",
              "        vertical-align: top;\n",
              "    }\n",
              "\n",
              "    .dataframe thead th {\n",
              "        text-align: right;\n",
              "    }\n",
              "</style>\n",
              "<table border=\"1\" class=\"dataframe\">\n",
              "  <thead>\n",
              "    <tr style=\"text-align: right;\">\n",
              "      <th></th>\n",
              "      <th>col_1</th>\n",
              "      <th>col_2</th>\n",
              "    </tr>\n",
              "  </thead>\n",
              "  <tbody>\n",
              "    <tr>\n",
              "      <th>0</th>\n",
              "      <td>70</td>\n",
              "      <td>90</td>\n",
              "    </tr>\n",
              "    <tr>\n",
              "      <th>1</th>\n",
              "      <td>71</td>\n",
              "      <td>91</td>\n",
              "    </tr>\n",
              "  </tbody>\n",
              "</table>\n",
              "</div>"
            ],
            "text/plain": [
              "   col_1  col_2\n",
              "0     70     90\n",
              "1     71     91"
            ]
          },
          "metadata": {
            "tags": []
          },
          "execution_count": 11
        }
      ]
    },
    {
      "cell_type": "markdown",
      "metadata": {
        "heading_collapsed": true,
        "hidden": true,
        "id": "aIa2HcvBOYOY"
      },
      "source": [
        "#### при помощи функций"
      ]
    },
    {
      "cell_type": "markdown",
      "metadata": {
        "hidden": true,
        "id": "lAQ2HoAyOYOY"
      },
      "source": [
        "создание Series, используя np.arange - последовательность чисел от **start** до **stop-1** с шагом **step**:\n",
        "```python \n",
        "np.arange(start, stop, step) \n",
        "```"
      ]
    },
    {
      "cell_type": "code",
      "metadata": {
        "hidden": true,
        "colab": {
          "base_uri": "https://localhost:8080/"
        },
        "id": "JfuFDEJIOYOZ",
        "outputId": "c3be543a-95b1-44d2-d2a7-1da0a5f582ba"
      },
      "source": [
        "s = pd.Series(np.arange(15,25,2))\n",
        "s"
      ],
      "execution_count": 12,
      "outputs": [
        {
          "output_type": "execute_result",
          "data": {
            "text/plain": [
              "0    15\n",
              "1    17\n",
              "2    19\n",
              "3    21\n",
              "4    23\n",
              "dtype: int64"
            ]
          },
          "metadata": {
            "tags": []
          },
          "execution_count": 12
        }
      ]
    },
    {
      "cell_type": "markdown",
      "metadata": {
        "hidden": true,
        "id": "Mscv-5-4OYOZ"
      },
      "source": [
        "создаем Series из 5 значений, равномерно разбивающих отрезок 0 до 9"
      ]
    },
    {
      "cell_type": "code",
      "metadata": {
        "hidden": true,
        "colab": {
          "base_uri": "https://localhost:8080/"
        },
        "id": "TvdGpPYnOYOZ",
        "outputId": "d0bb8286-fd12-4839-8cf3-6c20846bcd23"
      },
      "source": [
        "s = pd.Series(np.linspace(0, 9, 5))\n",
        "s"
      ],
      "execution_count": 13,
      "outputs": [
        {
          "output_type": "execute_result",
          "data": {
            "text/plain": [
              "0    0.00\n",
              "1    2.25\n",
              "2    4.50\n",
              "3    6.75\n",
              "4    9.00\n",
              "dtype: float64"
            ]
          },
          "metadata": {
            "tags": []
          },
          "execution_count": 13
        }
      ]
    },
    {
      "cell_type": "markdown",
      "metadata": {
        "hidden": true,
        "id": "GqvGc3liOYOa"
      },
      "source": [
        "Генерация случайных чисел.\n",
        "\n",
        "Зафикисруем значение seed, что позволит нам в будущем воcпроизводить свои результаты"
      ]
    },
    {
      "cell_type": "markdown",
      "metadata": {
        "hidden": true,
        "id": "VQLRimQZOYOa"
      },
      "source": [
        "Создадим объект Series из 5 нормально распределенных случайных чисел"
      ]
    },
    {
      "cell_type": "code",
      "metadata": {
        "hidden": true,
        "colab": {
          "base_uri": "https://localhost:8080/"
        },
        "id": "psSnrtonOYOb",
        "outputId": "9a7d4d58-7425-4c18-d107-e8443ffe9e7e"
      },
      "source": [
        "np.random.seed(123)\n",
        "s = pd.Series(np.random.normal(size=5))\n",
        "s"
      ],
      "execution_count": 14,
      "outputs": [
        {
          "output_type": "execute_result",
          "data": {
            "text/plain": [
              "0   -1.085631\n",
              "1    0.997345\n",
              "2    0.282978\n",
              "3   -1.506295\n",
              "4   -0.578600\n",
              "dtype: float64"
            ]
          },
          "metadata": {
            "tags": []
          },
          "execution_count": 14
        }
      ]
    },
    {
      "cell_type": "markdown",
      "metadata": {
        "hidden": true,
        "id": "nkNHny_HOYOb"
      },
      "source": [
        "Создадим объект DataFrame размерности 4х3 из случайных чисел"
      ]
    },
    {
      "cell_type": "code",
      "metadata": {
        "hidden": true,
        "colab": {
          "base_uri": "https://localhost:8080/",
          "height": 173
        },
        "id": "STr5nskmOYOc",
        "outputId": "36fcd4c3-5a53-4ce1-eb58-59d195e520b8"
      },
      "source": [
        "np.random.seed(123)\n",
        "df = pd.DataFrame(np.random.normal(size=12).reshape(4, 3),\n",
        "                  index=['ind_1', 'ind_2', 'ind_3', 'ind_4'],\n",
        "                  columns=['col_1', 'col_2', 'col_3'])\n",
        "df"
      ],
      "execution_count": 15,
      "outputs": [
        {
          "output_type": "execute_result",
          "data": {
            "text/html": [
              "<div>\n",
              "<style scoped>\n",
              "    .dataframe tbody tr th:only-of-type {\n",
              "        vertical-align: middle;\n",
              "    }\n",
              "\n",
              "    .dataframe tbody tr th {\n",
              "        vertical-align: top;\n",
              "    }\n",
              "\n",
              "    .dataframe thead th {\n",
              "        text-align: right;\n",
              "    }\n",
              "</style>\n",
              "<table border=\"1\" class=\"dataframe\">\n",
              "  <thead>\n",
              "    <tr style=\"text-align: right;\">\n",
              "      <th></th>\n",
              "      <th>col_1</th>\n",
              "      <th>col_2</th>\n",
              "      <th>col_3</th>\n",
              "    </tr>\n",
              "  </thead>\n",
              "  <tbody>\n",
              "    <tr>\n",
              "      <th>ind_1</th>\n",
              "      <td>-1.085631</td>\n",
              "      <td>0.997345</td>\n",
              "      <td>0.282978</td>\n",
              "    </tr>\n",
              "    <tr>\n",
              "      <th>ind_2</th>\n",
              "      <td>-1.506295</td>\n",
              "      <td>-0.578600</td>\n",
              "      <td>1.651437</td>\n",
              "    </tr>\n",
              "    <tr>\n",
              "      <th>ind_3</th>\n",
              "      <td>-2.426679</td>\n",
              "      <td>-0.428913</td>\n",
              "      <td>1.265936</td>\n",
              "    </tr>\n",
              "    <tr>\n",
              "      <th>ind_4</th>\n",
              "      <td>-0.866740</td>\n",
              "      <td>-0.678886</td>\n",
              "      <td>-0.094709</td>\n",
              "    </tr>\n",
              "  </tbody>\n",
              "</table>\n",
              "</div>"
            ],
            "text/plain": [
              "          col_1     col_2     col_3\n",
              "ind_1 -1.085631  0.997345  0.282978\n",
              "ind_2 -1.506295 -0.578600  1.651437\n",
              "ind_3 -2.426679 -0.428913  1.265936\n",
              "ind_4 -0.866740 -0.678886 -0.094709"
            ]
          },
          "metadata": {
            "tags": []
          },
          "execution_count": 15
        }
      ]
    },
    {
      "cell_type": "markdown",
      "metadata": {
        "heading_collapsed": true,
        "hidden": true,
        "id": "SpZaGgK3OYOc"
      },
      "source": [
        "#### [из файла](http://pandas.pydata.org/pandas-docs/stable/user_guide/io.html#io-tools-text-csv-hdf5)"
      ]
    },
    {
      "cell_type": "markdown",
      "metadata": {
        "hidden": true,
        "id": "vIi4vXM3OYOd"
      },
      "source": [
        "| Column Name        | Description\n",
        "| ------------- |:-------------:|\n",
        "|Symbol|Сокращенное название организации|\n",
        "|Name|Полное название организации|\n",
        "|Sector|Сектор экономики|\n",
        "|Price|Стоимость акции|\n",
        "|Dividend Yield|Дивидендная доходность|\n",
        "|Price/Earnings|Цена / прибыль|\n",
        "|Earnings/Share|Прибыль на акцию|\n",
        "|Book Value|Балансовая стоимость компании|\n",
        "|52 week low|52-недельный минимум|\n",
        "|52 week high|52-недельный максимум|\n",
        "|Market Cap|Рыночная капитализация|\n",
        "|EBITDA|**E**arnings **b**efore **i**nterest, **t**axes, **d**epreciation and **a**mortization|\n",
        "|Price/Sales|Цена / объём продаж|\n",
        "|Price/Book|Цена / балансовая стоимость|\n",
        "|SEC Filings|Ссылка *sec.gov*|"
      ]
    },
    {
      "cell_type": "code",
      "metadata": {
        "hidden": true,
        "colab": {
          "base_uri": "https://localhost:8080/",
          "height": 436
        },
        "id": "TTAs_G6bOYOd",
        "outputId": "66aa96a8-e8ed-46fb-f100-674819e4c99f"
      },
      "source": [
        "pd.read_csv(filepath_or_buffer = \"sp500.csv\",\n",
        "            sep = ';')"
      ],
      "execution_count": 16,
      "outputs": [
        {
          "output_type": "execute_result",
          "data": {
            "text/html": [
              "<div>\n",
              "<style scoped>\n",
              "    .dataframe tbody tr th:only-of-type {\n",
              "        vertical-align: middle;\n",
              "    }\n",
              "\n",
              "    .dataframe tbody tr th {\n",
              "        vertical-align: top;\n",
              "    }\n",
              "\n",
              "    .dataframe thead th {\n",
              "        text-align: right;\n",
              "    }\n",
              "</style>\n",
              "<table border=\"1\" class=\"dataframe\">\n",
              "  <thead>\n",
              "    <tr style=\"text-align: right;\">\n",
              "      <th></th>\n",
              "      <th>Symbol,Name,Sector,Price,Dividend Yield,Price/Earnings,Earnings/Share,Book Value,52 week low,52 week high,Market Cap,EBITDA,Price/Sales,Price/Book,SEC Filings</th>\n",
              "    </tr>\n",
              "  </thead>\n",
              "  <tbody>\n",
              "    <tr>\n",
              "      <th>0</th>\n",
              "      <td>MMM,3M Co.,Industrials,141.14,2.12,20.33,6.90,...</td>\n",
              "    </tr>\n",
              "    <tr>\n",
              "      <th>1</th>\n",
              "      <td>ABT,Abbott Laboratories,Health Care,39.60,1.82...</td>\n",
              "    </tr>\n",
              "    <tr>\n",
              "      <th>2</th>\n",
              "      <td>ABBV,AbbVie Inc.,Health Care,53.95,3.02,20.87,...</td>\n",
              "    </tr>\n",
              "    <tr>\n",
              "      <th>3</th>\n",
              "      <td>ACN,Accenture,Information Technology,79.79,2.3...</td>\n",
              "    </tr>\n",
              "    <tr>\n",
              "      <th>4</th>\n",
              "      <td>ACE,ACE Limited,Financials,102.91,2.21,10.00,1...</td>\n",
              "    </tr>\n",
              "    <tr>\n",
              "      <th>...</th>\n",
              "      <td>...</td>\n",
              "    </tr>\n",
              "    <tr>\n",
              "      <th>495</th>\n",
              "      <td>YHOO,Yahoo Inc.,Information Technology,35.02,,...</td>\n",
              "    </tr>\n",
              "    <tr>\n",
              "      <th>496</th>\n",
              "      <td>YUM,Yum! Brands Inc,Consumer Discretionary,74....</td>\n",
              "    </tr>\n",
              "    <tr>\n",
              "      <th>497</th>\n",
              "      <td>ZMH,Zimmer Holdings,Health Care,101.84,0.81,22...</td>\n",
              "    </tr>\n",
              "    <tr>\n",
              "      <th>498</th>\n",
              "      <td>ZION,Zions Bancorp,Financials,28.43,0.56,18.82...</td>\n",
              "    </tr>\n",
              "    <tr>\n",
              "      <th>499</th>\n",
              "      <td>ZTS,Zoetis Inc,Health Care,30.53,0.90,29.22,1....</td>\n",
              "    </tr>\n",
              "  </tbody>\n",
              "</table>\n",
              "<p>500 rows × 1 columns</p>\n",
              "</div>"
            ],
            "text/plain": [
              "    Symbol,Name,Sector,Price,Dividend Yield,Price/Earnings,Earnings/Share,Book Value,52 week low,52 week high,Market Cap,EBITDA,Price/Sales,Price/Book,SEC Filings\n",
              "0    MMM,3M Co.,Industrials,141.14,2.12,20.33,6.90,...                                                                                                            \n",
              "1    ABT,Abbott Laboratories,Health Care,39.60,1.82...                                                                                                            \n",
              "2    ABBV,AbbVie Inc.,Health Care,53.95,3.02,20.87,...                                                                                                            \n",
              "3    ACN,Accenture,Information Technology,79.79,2.3...                                                                                                            \n",
              "4    ACE,ACE Limited,Financials,102.91,2.21,10.00,1...                                                                                                            \n",
              "..                                                 ...                                                                                                            \n",
              "495  YHOO,Yahoo Inc.,Information Technology,35.02,,...                                                                                                            \n",
              "496  YUM,Yum! Brands Inc,Consumer Discretionary,74....                                                                                                            \n",
              "497  ZMH,Zimmer Holdings,Health Care,101.84,0.81,22...                                                                                                            \n",
              "498  ZION,Zions Bancorp,Financials,28.43,0.56,18.82...                                                                                                            \n",
              "499  ZTS,Zoetis Inc,Health Care,30.53,0.90,29.22,1....                                                                                                            \n",
              "\n",
              "[500 rows x 1 columns]"
            ]
          },
          "metadata": {
            "tags": []
          },
          "execution_count": 16
        }
      ]
    },
    {
      "cell_type": "markdown",
      "metadata": {
        "hidden": true,
        "id": "FrBm_bwpOYOe"
      },
      "source": [
        "разделитель"
      ]
    },
    {
      "cell_type": "code",
      "metadata": {
        "hidden": true,
        "colab": {
          "base_uri": "https://localhost:8080/",
          "height": 813
        },
        "id": "El6w_Z4qOYOe",
        "outputId": "d146b691-14a7-4631-811f-505b332a634f"
      },
      "source": [
        "pd.read_csv(filepath_or_buffer = \"sp500.csv\",\n",
        "           sep = ',')"
      ],
      "execution_count": 18,
      "outputs": [
        {
          "output_type": "execute_result",
          "data": {
            "text/html": [
              "<div>\n",
              "<style scoped>\n",
              "    .dataframe tbody tr th:only-of-type {\n",
              "        vertical-align: middle;\n",
              "    }\n",
              "\n",
              "    .dataframe tbody tr th {\n",
              "        vertical-align: top;\n",
              "    }\n",
              "\n",
              "    .dataframe thead th {\n",
              "        text-align: right;\n",
              "    }\n",
              "</style>\n",
              "<table border=\"1\" class=\"dataframe\">\n",
              "  <thead>\n",
              "    <tr style=\"text-align: right;\">\n",
              "      <th></th>\n",
              "      <th>Symbol</th>\n",
              "      <th>Name</th>\n",
              "      <th>Sector</th>\n",
              "      <th>Price</th>\n",
              "      <th>Dividend Yield</th>\n",
              "      <th>Price/Earnings</th>\n",
              "      <th>Earnings/Share</th>\n",
              "      <th>Book Value</th>\n",
              "      <th>52 week low</th>\n",
              "      <th>52 week high</th>\n",
              "      <th>Market Cap</th>\n",
              "      <th>EBITDA</th>\n",
              "      <th>Price/Sales</th>\n",
              "      <th>Price/Book</th>\n",
              "      <th>SEC Filings</th>\n",
              "    </tr>\n",
              "  </thead>\n",
              "  <tbody>\n",
              "    <tr>\n",
              "      <th>0</th>\n",
              "      <td>MMM</td>\n",
              "      <td>3M Co.</td>\n",
              "      <td>Industrials</td>\n",
              "      <td>141.14</td>\n",
              "      <td>2.12</td>\n",
              "      <td>20.33</td>\n",
              "      <td>6.900</td>\n",
              "      <td>26.668</td>\n",
              "      <td>107.15</td>\n",
              "      <td>143.37</td>\n",
              "      <td>92.345</td>\n",
              "      <td>8.1210</td>\n",
              "      <td>2.95</td>\n",
              "      <td>5.26</td>\n",
              "      <td>http://www.sec.gov/cgi-bin/browse-edgar?action...</td>\n",
              "    </tr>\n",
              "    <tr>\n",
              "      <th>1</th>\n",
              "      <td>ABT</td>\n",
              "      <td>Abbott Laboratories</td>\n",
              "      <td>Health Care</td>\n",
              "      <td>39.60</td>\n",
              "      <td>1.82</td>\n",
              "      <td>25.93</td>\n",
              "      <td>1.529</td>\n",
              "      <td>15.573</td>\n",
              "      <td>32.70</td>\n",
              "      <td>40.49</td>\n",
              "      <td>59.477</td>\n",
              "      <td>4.3590</td>\n",
              "      <td>2.74</td>\n",
              "      <td>2.55</td>\n",
              "      <td>http://www.sec.gov/cgi-bin/browse-edgar?action...</td>\n",
              "    </tr>\n",
              "    <tr>\n",
              "      <th>2</th>\n",
              "      <td>ABBV</td>\n",
              "      <td>AbbVie Inc.</td>\n",
              "      <td>Health Care</td>\n",
              "      <td>53.95</td>\n",
              "      <td>3.02</td>\n",
              "      <td>20.87</td>\n",
              "      <td>2.570</td>\n",
              "      <td>2.954</td>\n",
              "      <td>40.10</td>\n",
              "      <td>54.78</td>\n",
              "      <td>85.784</td>\n",
              "      <td>7.1900</td>\n",
              "      <td>4.48</td>\n",
              "      <td>18.16</td>\n",
              "      <td>http://www.sec.gov/cgi-bin/browse-edgar?action...</td>\n",
              "    </tr>\n",
              "    <tr>\n",
              "      <th>3</th>\n",
              "      <td>ACN</td>\n",
              "      <td>Accenture</td>\n",
              "      <td>Information Technology</td>\n",
              "      <td>79.79</td>\n",
              "      <td>2.34</td>\n",
              "      <td>19.53</td>\n",
              "      <td>4.068</td>\n",
              "      <td>8.326</td>\n",
              "      <td>69.00</td>\n",
              "      <td>85.88</td>\n",
              "      <td>50.513</td>\n",
              "      <td>4.4230</td>\n",
              "      <td>1.75</td>\n",
              "      <td>9.54</td>\n",
              "      <td>http://www.sec.gov/cgi-bin/browse-edgar?action...</td>\n",
              "    </tr>\n",
              "    <tr>\n",
              "      <th>4</th>\n",
              "      <td>ACE</td>\n",
              "      <td>ACE Limited</td>\n",
              "      <td>Financials</td>\n",
              "      <td>102.91</td>\n",
              "      <td>2.21</td>\n",
              "      <td>10.00</td>\n",
              "      <td>10.293</td>\n",
              "      <td>86.897</td>\n",
              "      <td>84.73</td>\n",
              "      <td>104.07</td>\n",
              "      <td>34.753</td>\n",
              "      <td>4.2750</td>\n",
              "      <td>1.79</td>\n",
              "      <td>1.18</td>\n",
              "      <td>http://www.sec.gov/cgi-bin/browse-edgar?action...</td>\n",
              "    </tr>\n",
              "    <tr>\n",
              "      <th>...</th>\n",
              "      <td>...</td>\n",
              "      <td>...</td>\n",
              "      <td>...</td>\n",
              "      <td>...</td>\n",
              "      <td>...</td>\n",
              "      <td>...</td>\n",
              "      <td>...</td>\n",
              "      <td>...</td>\n",
              "      <td>...</td>\n",
              "      <td>...</td>\n",
              "      <td>...</td>\n",
              "      <td>...</td>\n",
              "      <td>...</td>\n",
              "      <td>...</td>\n",
              "      <td>...</td>\n",
              "    </tr>\n",
              "    <tr>\n",
              "      <th>495</th>\n",
              "      <td>YHOO</td>\n",
              "      <td>Yahoo Inc.</td>\n",
              "      <td>Information Technology</td>\n",
              "      <td>35.02</td>\n",
              "      <td>NaN</td>\n",
              "      <td>28.94</td>\n",
              "      <td>1.199</td>\n",
              "      <td>12.768</td>\n",
              "      <td>23.82</td>\n",
              "      <td>41.72</td>\n",
              "      <td>35.258</td>\n",
              "      <td>0.8873</td>\n",
              "      <td>7.48</td>\n",
              "      <td>2.72</td>\n",
              "      <td>http://www.sec.gov/cgi-bin/browse-edgar?action...</td>\n",
              "    </tr>\n",
              "    <tr>\n",
              "      <th>496</th>\n",
              "      <td>YUM</td>\n",
              "      <td>Yum! Brands Inc</td>\n",
              "      <td>Consumer Discretionary</td>\n",
              "      <td>74.77</td>\n",
              "      <td>1.93</td>\n",
              "      <td>29.86</td>\n",
              "      <td>2.507</td>\n",
              "      <td>5.147</td>\n",
              "      <td>64.08</td>\n",
              "      <td>79.70</td>\n",
              "      <td>33.002</td>\n",
              "      <td>2.8640</td>\n",
              "      <td>2.49</td>\n",
              "      <td>14.55</td>\n",
              "      <td>http://www.sec.gov/cgi-bin/browse-edgar?action...</td>\n",
              "    </tr>\n",
              "    <tr>\n",
              "      <th>497</th>\n",
              "      <td>ZMH</td>\n",
              "      <td>Zimmer Holdings</td>\n",
              "      <td>Health Care</td>\n",
              "      <td>101.84</td>\n",
              "      <td>0.81</td>\n",
              "      <td>22.92</td>\n",
              "      <td>4.441</td>\n",
              "      <td>37.181</td>\n",
              "      <td>74.55</td>\n",
              "      <td>108.33</td>\n",
              "      <td>17.091</td>\n",
              "      <td>1.6890</td>\n",
              "      <td>3.68</td>\n",
              "      <td>2.74</td>\n",
              "      <td>http://www.sec.gov/cgi-bin/browse-edgar?action...</td>\n",
              "    </tr>\n",
              "    <tr>\n",
              "      <th>498</th>\n",
              "      <td>ZION</td>\n",
              "      <td>Zions Bancorp</td>\n",
              "      <td>Financials</td>\n",
              "      <td>28.43</td>\n",
              "      <td>0.56</td>\n",
              "      <td>18.82</td>\n",
              "      <td>1.511</td>\n",
              "      <td>30.191</td>\n",
              "      <td>26.39</td>\n",
              "      <td>33.33</td>\n",
              "      <td>5.257</td>\n",
              "      <td>0.0000</td>\n",
              "      <td>2.49</td>\n",
              "      <td>0.94</td>\n",
              "      <td>http://www.sec.gov/cgi-bin/browse-edgar?action...</td>\n",
              "    </tr>\n",
              "    <tr>\n",
              "      <th>499</th>\n",
              "      <td>ZTS</td>\n",
              "      <td>Zoetis Inc</td>\n",
              "      <td>Health Care</td>\n",
              "      <td>30.53</td>\n",
              "      <td>0.90</td>\n",
              "      <td>29.22</td>\n",
              "      <td>1.038</td>\n",
              "      <td>2.150</td>\n",
              "      <td>28.14</td>\n",
              "      <td>34.28</td>\n",
              "      <td>15.296</td>\n",
              "      <td>1.2920</td>\n",
              "      <td>3.33</td>\n",
              "      <td>14.11</td>\n",
              "      <td>http://www.sec.gov/cgi-bin/browse-edgar?action...</td>\n",
              "    </tr>\n",
              "  </tbody>\n",
              "</table>\n",
              "<p>500 rows × 15 columns</p>\n",
              "</div>"
            ],
            "text/plain": [
              "    Symbol  ...                                        SEC Filings\n",
              "0      MMM  ...  http://www.sec.gov/cgi-bin/browse-edgar?action...\n",
              "1      ABT  ...  http://www.sec.gov/cgi-bin/browse-edgar?action...\n",
              "2     ABBV  ...  http://www.sec.gov/cgi-bin/browse-edgar?action...\n",
              "3      ACN  ...  http://www.sec.gov/cgi-bin/browse-edgar?action...\n",
              "4      ACE  ...  http://www.sec.gov/cgi-bin/browse-edgar?action...\n",
              "..     ...  ...                                                ...\n",
              "495   YHOO  ...  http://www.sec.gov/cgi-bin/browse-edgar?action...\n",
              "496    YUM  ...  http://www.sec.gov/cgi-bin/browse-edgar?action...\n",
              "497    ZMH  ...  http://www.sec.gov/cgi-bin/browse-edgar?action...\n",
              "498   ZION  ...  http://www.sec.gov/cgi-bin/browse-edgar?action...\n",
              "499    ZTS  ...  http://www.sec.gov/cgi-bin/browse-edgar?action...\n",
              "\n",
              "[500 rows x 15 columns]"
            ]
          },
          "metadata": {
            "tags": []
          },
          "execution_count": 18
        }
      ]
    },
    {
      "cell_type": "markdown",
      "metadata": {
        "hidden": true,
        "id": "6uy3GbHWOYOe"
      },
      "source": [
        "количество строк"
      ]
    },
    {
      "cell_type": "code",
      "metadata": {
        "hidden": true,
        "colab": {
          "base_uri": "https://localhost:8080/",
          "height": 298
        },
        "id": "PVf6gzPTOYOf",
        "outputId": "5de85a97-32d1-4956-9ead-d4d3f30c7a3f"
      },
      "source": [
        "pd.read_csv(filepath_or_buffer = \"sp500.csv\",\n",
        "           sep = ',',\n",
        "           nrows = 3)"
      ],
      "execution_count": 19,
      "outputs": [
        {
          "output_type": "execute_result",
          "data": {
            "text/html": [
              "<div>\n",
              "<style scoped>\n",
              "    .dataframe tbody tr th:only-of-type {\n",
              "        vertical-align: middle;\n",
              "    }\n",
              "\n",
              "    .dataframe tbody tr th {\n",
              "        vertical-align: top;\n",
              "    }\n",
              "\n",
              "    .dataframe thead th {\n",
              "        text-align: right;\n",
              "    }\n",
              "</style>\n",
              "<table border=\"1\" class=\"dataframe\">\n",
              "  <thead>\n",
              "    <tr style=\"text-align: right;\">\n",
              "      <th></th>\n",
              "      <th>Symbol</th>\n",
              "      <th>Name</th>\n",
              "      <th>Sector</th>\n",
              "      <th>Price</th>\n",
              "      <th>Dividend Yield</th>\n",
              "      <th>Price/Earnings</th>\n",
              "      <th>Earnings/Share</th>\n",
              "      <th>Book Value</th>\n",
              "      <th>52 week low</th>\n",
              "      <th>52 week high</th>\n",
              "      <th>Market Cap</th>\n",
              "      <th>EBITDA</th>\n",
              "      <th>Price/Sales</th>\n",
              "      <th>Price/Book</th>\n",
              "      <th>SEC Filings</th>\n",
              "    </tr>\n",
              "  </thead>\n",
              "  <tbody>\n",
              "    <tr>\n",
              "      <th>0</th>\n",
              "      <td>MMM</td>\n",
              "      <td>3M Co.</td>\n",
              "      <td>Industrials</td>\n",
              "      <td>141.14</td>\n",
              "      <td>2.12</td>\n",
              "      <td>20.33</td>\n",
              "      <td>6.900</td>\n",
              "      <td>26.668</td>\n",
              "      <td>107.15</td>\n",
              "      <td>143.37</td>\n",
              "      <td>92.345</td>\n",
              "      <td>8.121</td>\n",
              "      <td>2.95</td>\n",
              "      <td>5.26</td>\n",
              "      <td>http://www.sec.gov/cgi-bin/browse-edgar?action...</td>\n",
              "    </tr>\n",
              "    <tr>\n",
              "      <th>1</th>\n",
              "      <td>ABT</td>\n",
              "      <td>Abbott Laboratories</td>\n",
              "      <td>Health Care</td>\n",
              "      <td>39.60</td>\n",
              "      <td>1.82</td>\n",
              "      <td>25.93</td>\n",
              "      <td>1.529</td>\n",
              "      <td>15.573</td>\n",
              "      <td>32.70</td>\n",
              "      <td>40.49</td>\n",
              "      <td>59.477</td>\n",
              "      <td>4.359</td>\n",
              "      <td>2.74</td>\n",
              "      <td>2.55</td>\n",
              "      <td>http://www.sec.gov/cgi-bin/browse-edgar?action...</td>\n",
              "    </tr>\n",
              "    <tr>\n",
              "      <th>2</th>\n",
              "      <td>ABBV</td>\n",
              "      <td>AbbVie Inc.</td>\n",
              "      <td>Health Care</td>\n",
              "      <td>53.95</td>\n",
              "      <td>3.02</td>\n",
              "      <td>20.87</td>\n",
              "      <td>2.570</td>\n",
              "      <td>2.954</td>\n",
              "      <td>40.10</td>\n",
              "      <td>54.78</td>\n",
              "      <td>85.784</td>\n",
              "      <td>7.190</td>\n",
              "      <td>4.48</td>\n",
              "      <td>18.16</td>\n",
              "      <td>http://www.sec.gov/cgi-bin/browse-edgar?action...</td>\n",
              "    </tr>\n",
              "  </tbody>\n",
              "</table>\n",
              "</div>"
            ],
            "text/plain": [
              "  Symbol  ...                                        SEC Filings\n",
              "0    MMM  ...  http://www.sec.gov/cgi-bin/browse-edgar?action...\n",
              "1    ABT  ...  http://www.sec.gov/cgi-bin/browse-edgar?action...\n",
              "2   ABBV  ...  http://www.sec.gov/cgi-bin/browse-edgar?action...\n",
              "\n",
              "[3 rows x 15 columns]"
            ]
          },
          "metadata": {
            "tags": []
          },
          "execution_count": 19
        }
      ]
    },
    {
      "cell_type": "markdown",
      "metadata": {
        "hidden": true,
        "id": "3-iHC6GaOYOf"
      },
      "source": [
        "столбцы"
      ]
    },
    {
      "cell_type": "code",
      "metadata": {
        "hidden": true,
        "colab": {
          "base_uri": "https://localhost:8080/",
          "height": 142
        },
        "id": "OTKEhLDSOYOf",
        "outputId": "17900e6d-03c9-4f7c-b5b8-1399db929f48"
      },
      "source": [
        "pd.read_csv(filepath_or_buffer = \"sp500.csv\",\n",
        "           sep = ',',\n",
        "           nrows = 3,\n",
        "           usecols=['Symbol', 'Sector', 'Price', 'Book Value'])"
      ],
      "execution_count": 20,
      "outputs": [
        {
          "output_type": "execute_result",
          "data": {
            "text/html": [
              "<div>\n",
              "<style scoped>\n",
              "    .dataframe tbody tr th:only-of-type {\n",
              "        vertical-align: middle;\n",
              "    }\n",
              "\n",
              "    .dataframe tbody tr th {\n",
              "        vertical-align: top;\n",
              "    }\n",
              "\n",
              "    .dataframe thead th {\n",
              "        text-align: right;\n",
              "    }\n",
              "</style>\n",
              "<table border=\"1\" class=\"dataframe\">\n",
              "  <thead>\n",
              "    <tr style=\"text-align: right;\">\n",
              "      <th></th>\n",
              "      <th>Symbol</th>\n",
              "      <th>Sector</th>\n",
              "      <th>Price</th>\n",
              "      <th>Book Value</th>\n",
              "    </tr>\n",
              "  </thead>\n",
              "  <tbody>\n",
              "    <tr>\n",
              "      <th>0</th>\n",
              "      <td>MMM</td>\n",
              "      <td>Industrials</td>\n",
              "      <td>141.14</td>\n",
              "      <td>26.668</td>\n",
              "    </tr>\n",
              "    <tr>\n",
              "      <th>1</th>\n",
              "      <td>ABT</td>\n",
              "      <td>Health Care</td>\n",
              "      <td>39.60</td>\n",
              "      <td>15.573</td>\n",
              "    </tr>\n",
              "    <tr>\n",
              "      <th>2</th>\n",
              "      <td>ABBV</td>\n",
              "      <td>Health Care</td>\n",
              "      <td>53.95</td>\n",
              "      <td>2.954</td>\n",
              "    </tr>\n",
              "  </tbody>\n",
              "</table>\n",
              "</div>"
            ],
            "text/plain": [
              "  Symbol       Sector   Price  Book Value\n",
              "0    MMM  Industrials  141.14      26.668\n",
              "1    ABT  Health Care   39.60      15.573\n",
              "2   ABBV  Health Care   53.95       2.954"
            ]
          },
          "metadata": {
            "tags": []
          },
          "execution_count": 20
        }
      ]
    },
    {
      "cell_type": "markdown",
      "metadata": {
        "hidden": true,
        "id": "y5qttHZEOYOg"
      },
      "source": [
        "индекс"
      ]
    },
    {
      "cell_type": "code",
      "metadata": {
        "hidden": true,
        "colab": {
          "base_uri": "https://localhost:8080/",
          "height": 173
        },
        "id": "Hx84Rw3GOYOg",
        "outputId": "f68cb4c5-9753-4e03-bc98-595457099833"
      },
      "source": [
        "pd.read_csv(filepath_or_buffer = \"sp500.csv\",\n",
        "           sep = ',',\n",
        "           nrows = 3,\n",
        "           usecols=['Symbol', 'Sector', 'Price', 'Book Value'],\n",
        "           index_col='Symbol')"
      ],
      "execution_count": 21,
      "outputs": [
        {
          "output_type": "execute_result",
          "data": {
            "text/html": [
              "<div>\n",
              "<style scoped>\n",
              "    .dataframe tbody tr th:only-of-type {\n",
              "        vertical-align: middle;\n",
              "    }\n",
              "\n",
              "    .dataframe tbody tr th {\n",
              "        vertical-align: top;\n",
              "    }\n",
              "\n",
              "    .dataframe thead th {\n",
              "        text-align: right;\n",
              "    }\n",
              "</style>\n",
              "<table border=\"1\" class=\"dataframe\">\n",
              "  <thead>\n",
              "    <tr style=\"text-align: right;\">\n",
              "      <th></th>\n",
              "      <th>Sector</th>\n",
              "      <th>Price</th>\n",
              "      <th>Book Value</th>\n",
              "    </tr>\n",
              "    <tr>\n",
              "      <th>Symbol</th>\n",
              "      <th></th>\n",
              "      <th></th>\n",
              "      <th></th>\n",
              "    </tr>\n",
              "  </thead>\n",
              "  <tbody>\n",
              "    <tr>\n",
              "      <th>MMM</th>\n",
              "      <td>Industrials</td>\n",
              "      <td>141.14</td>\n",
              "      <td>26.668</td>\n",
              "    </tr>\n",
              "    <tr>\n",
              "      <th>ABT</th>\n",
              "      <td>Health Care</td>\n",
              "      <td>39.60</td>\n",
              "      <td>15.573</td>\n",
              "    </tr>\n",
              "    <tr>\n",
              "      <th>ABBV</th>\n",
              "      <td>Health Care</td>\n",
              "      <td>53.95</td>\n",
              "      <td>2.954</td>\n",
              "    </tr>\n",
              "  </tbody>\n",
              "</table>\n",
              "</div>"
            ],
            "text/plain": [
              "             Sector   Price  Book Value\n",
              "Symbol                                 \n",
              "MMM     Industrials  141.14      26.668\n",
              "ABT     Health Care   39.60      15.573\n",
              "ABBV    Health Care   53.95       2.954"
            ]
          },
          "metadata": {
            "tags": []
          },
          "execution_count": 21
        }
      ]
    },
    {
      "cell_type": "markdown",
      "metadata": {
        "hidden": true,
        "id": "DazzRPS6OYOh"
      },
      "source": [
        "итератор"
      ]
    },
    {
      "cell_type": "code",
      "metadata": {
        "hidden": true,
        "id": "CV0CPjZ9OYOh"
      },
      "source": [
        "df_chunk = pd.read_csv(filepath_or_buffer = \"sp500.csv\",\n",
        "                       sep = ',',\n",
        "                       chunksize=50,\n",
        "                       usecols=['Symbol', 'Sector', 'Price', 'Book Value'],\n",
        "                       index_col='Symbol')"
      ],
      "execution_count": 22,
      "outputs": []
    },
    {
      "cell_type": "code",
      "metadata": {
        "hidden": true,
        "colab": {
          "base_uri": "https://localhost:8080/"
        },
        "id": "j7YW2ouwOYOh",
        "outputId": "73696a55-c98f-431e-e10e-3c75d2622dc0"
      },
      "source": [
        "for df_tmp in df_chunk:\n",
        "    print('DataFrame part:', df_tmp.shape)   "
      ],
      "execution_count": 23,
      "outputs": [
        {
          "output_type": "stream",
          "text": [
            "DataFrame part: (50, 3)\n",
            "DataFrame part: (50, 3)\n",
            "DataFrame part: (50, 3)\n",
            "DataFrame part: (50, 3)\n",
            "DataFrame part: (50, 3)\n",
            "DataFrame part: (50, 3)\n",
            "DataFrame part: (50, 3)\n",
            "DataFrame part: (50, 3)\n",
            "DataFrame part: (50, 3)\n",
            "DataFrame part: (50, 3)\n"
          ],
          "name": "stdout"
        }
      ]
    },
    {
      "cell_type": "code",
      "metadata": {
        "hidden": true,
        "colab": {
          "base_uri": "https://localhost:8080/",
          "height": 450
        },
        "id": "QDTtJndHOYOi",
        "outputId": "552e3df5-f64a-4cf8-a61e-1b386171308b"
      },
      "source": [
        "sp500 = pd.read_csv(filepath_or_buffer = \"sp500.csv\",\n",
        "                    sep = ',',\n",
        "                    usecols=['Symbol', 'Sector', 'Price', 'Book Value'],\n",
        "                    index_col='Symbol')\n",
        "sp500"
      ],
      "execution_count": 24,
      "outputs": [
        {
          "output_type": "execute_result",
          "data": {
            "text/html": [
              "<div>\n",
              "<style scoped>\n",
              "    .dataframe tbody tr th:only-of-type {\n",
              "        vertical-align: middle;\n",
              "    }\n",
              "\n",
              "    .dataframe tbody tr th {\n",
              "        vertical-align: top;\n",
              "    }\n",
              "\n",
              "    .dataframe thead th {\n",
              "        text-align: right;\n",
              "    }\n",
              "</style>\n",
              "<table border=\"1\" class=\"dataframe\">\n",
              "  <thead>\n",
              "    <tr style=\"text-align: right;\">\n",
              "      <th></th>\n",
              "      <th>Sector</th>\n",
              "      <th>Price</th>\n",
              "      <th>Book Value</th>\n",
              "    </tr>\n",
              "    <tr>\n",
              "      <th>Symbol</th>\n",
              "      <th></th>\n",
              "      <th></th>\n",
              "      <th></th>\n",
              "    </tr>\n",
              "  </thead>\n",
              "  <tbody>\n",
              "    <tr>\n",
              "      <th>MMM</th>\n",
              "      <td>Industrials</td>\n",
              "      <td>141.14</td>\n",
              "      <td>26.668</td>\n",
              "    </tr>\n",
              "    <tr>\n",
              "      <th>ABT</th>\n",
              "      <td>Health Care</td>\n",
              "      <td>39.60</td>\n",
              "      <td>15.573</td>\n",
              "    </tr>\n",
              "    <tr>\n",
              "      <th>ABBV</th>\n",
              "      <td>Health Care</td>\n",
              "      <td>53.95</td>\n",
              "      <td>2.954</td>\n",
              "    </tr>\n",
              "    <tr>\n",
              "      <th>ACN</th>\n",
              "      <td>Information Technology</td>\n",
              "      <td>79.79</td>\n",
              "      <td>8.326</td>\n",
              "    </tr>\n",
              "    <tr>\n",
              "      <th>ACE</th>\n",
              "      <td>Financials</td>\n",
              "      <td>102.91</td>\n",
              "      <td>86.897</td>\n",
              "    </tr>\n",
              "    <tr>\n",
              "      <th>...</th>\n",
              "      <td>...</td>\n",
              "      <td>...</td>\n",
              "      <td>...</td>\n",
              "    </tr>\n",
              "    <tr>\n",
              "      <th>YHOO</th>\n",
              "      <td>Information Technology</td>\n",
              "      <td>35.02</td>\n",
              "      <td>12.768</td>\n",
              "    </tr>\n",
              "    <tr>\n",
              "      <th>YUM</th>\n",
              "      <td>Consumer Discretionary</td>\n",
              "      <td>74.77</td>\n",
              "      <td>5.147</td>\n",
              "    </tr>\n",
              "    <tr>\n",
              "      <th>ZMH</th>\n",
              "      <td>Health Care</td>\n",
              "      <td>101.84</td>\n",
              "      <td>37.181</td>\n",
              "    </tr>\n",
              "    <tr>\n",
              "      <th>ZION</th>\n",
              "      <td>Financials</td>\n",
              "      <td>28.43</td>\n",
              "      <td>30.191</td>\n",
              "    </tr>\n",
              "    <tr>\n",
              "      <th>ZTS</th>\n",
              "      <td>Health Care</td>\n",
              "      <td>30.53</td>\n",
              "      <td>2.150</td>\n",
              "    </tr>\n",
              "  </tbody>\n",
              "</table>\n",
              "<p>500 rows × 3 columns</p>\n",
              "</div>"
            ],
            "text/plain": [
              "                        Sector   Price  Book Value\n",
              "Symbol                                            \n",
              "MMM                Industrials  141.14      26.668\n",
              "ABT                Health Care   39.60      15.573\n",
              "ABBV               Health Care   53.95       2.954\n",
              "ACN     Information Technology   79.79       8.326\n",
              "ACE                 Financials  102.91      86.897\n",
              "...                        ...     ...         ...\n",
              "YHOO    Information Technology   35.02      12.768\n",
              "YUM     Consumer Discretionary   74.77       5.147\n",
              "ZMH                Health Care  101.84      37.181\n",
              "ZION                Financials   28.43      30.191\n",
              "ZTS                Health Care   30.53       2.150\n",
              "\n",
              "[500 rows x 3 columns]"
            ]
          },
          "metadata": {
            "tags": []
          },
          "execution_count": 24
        }
      ]
    },
    {
      "cell_type": "markdown",
      "metadata": {
        "heading_collapsed": true,
        "id": "ByCtVz1mOYOi"
      },
      "source": [
        "### Свойства"
      ]
    },
    {
      "cell_type": "markdown",
      "metadata": {
        "heading_collapsed": true,
        "hidden": true,
        "id": "HSCN9LAGOYOj"
      },
      "source": [
        "#### создаем Series для примеров"
      ]
    },
    {
      "cell_type": "code",
      "metadata": {
        "hidden": true,
        "colab": {
          "base_uri": "https://localhost:8080/"
        },
        "id": "lf50_p6pOYOj",
        "outputId": "ddb565db-aa25-4b2d-e0df-5d2b9a01da4e"
      },
      "source": [
        "Simpsons = pd.Series({'Homer': 120,\n",
        "                      'Marge': 60,\n",
        "                      'Bart': 35,\n",
        "                      'Lisa': 30,\n",
        "                      'Maggie': 7})\n",
        "\n",
        "Simpsons"
      ],
      "execution_count": 25,
      "outputs": [
        {
          "output_type": "execute_result",
          "data": {
            "text/plain": [
              "Homer     120\n",
              "Marge      60\n",
              "Bart       35\n",
              "Lisa       30\n",
              "Maggie      7\n",
              "dtype: int64"
            ]
          },
          "metadata": {
            "tags": []
          },
          "execution_count": 25
        }
      ]
    },
    {
      "cell_type": "code",
      "metadata": {
        "hidden": true,
        "colab": {
          "base_uri": "https://localhost:8080/"
        },
        "id": "GNCiKte-OYOk",
        "outputId": "3eba080a-0df9-4e46-8f77-edf9e6374f8d"
      },
      "source": [
        "np.random.seed(123)\n",
        "numbers = pd.Series(data = np.random.normal(size=10),\n",
        "                    index = np.arange(25,35))\n",
        "numbers"
      ],
      "execution_count": 26,
      "outputs": [
        {
          "output_type": "execute_result",
          "data": {
            "text/plain": [
              "25   -1.085631\n",
              "26    0.997345\n",
              "27    0.282978\n",
              "28   -1.506295\n",
              "29   -0.578600\n",
              "30    1.651437\n",
              "31   -2.426679\n",
              "32   -0.428913\n",
              "33    1.265936\n",
              "34   -0.866740\n",
              "dtype: float64"
            ]
          },
          "metadata": {
            "tags": []
          },
          "execution_count": 26
        }
      ]
    },
    {
      "cell_type": "markdown",
      "metadata": {
        "heading_collapsed": true,
        "hidden": true,
        "id": "lphNzFBxOYOk"
      },
      "source": [
        "#### тип данных"
      ]
    },
    {
      "cell_type": "code",
      "metadata": {
        "hidden": true,
        "colab": {
          "base_uri": "https://localhost:8080/"
        },
        "id": "WIFeYbdnOYOl",
        "outputId": "3eebef31-e13f-4242-d96b-c694c73bb410"
      },
      "source": [
        "Simpsons.dtype"
      ],
      "execution_count": 27,
      "outputs": [
        {
          "output_type": "execute_result",
          "data": {
            "text/plain": [
              "dtype('int64')"
            ]
          },
          "metadata": {
            "tags": []
          },
          "execution_count": 27
        }
      ]
    },
    {
      "cell_type": "code",
      "metadata": {
        "hidden": true,
        "colab": {
          "base_uri": "https://localhost:8080/"
        },
        "id": "BZopnVDuOYOl",
        "outputId": "dea526e2-05c3-4ec5-9689-821f9b9c8a0c"
      },
      "source": [
        "sp500.dtypes"
      ],
      "execution_count": 28,
      "outputs": [
        {
          "output_type": "execute_result",
          "data": {
            "text/plain": [
              "Sector         object\n",
              "Price         float64\n",
              "Book Value    float64\n",
              "dtype: object"
            ]
          },
          "metadata": {
            "tags": []
          },
          "execution_count": 28
        }
      ]
    },
    {
      "cell_type": "markdown",
      "metadata": {
        "heading_collapsed": true,
        "hidden": true,
        "id": "xezYFQ4xOYOl"
      },
      "source": [
        "#### количество элементов"
      ]
    },
    {
      "cell_type": "markdown",
      "metadata": {
        "hidden": true,
        "id": "NDz7xmB3OYOm"
      },
      "source": [
        "Series:"
      ]
    },
    {
      "cell_type": "code",
      "metadata": {
        "hidden": true,
        "colab": {
          "base_uri": "https://localhost:8080/"
        },
        "id": "eSuseeJkOYOm",
        "outputId": "56721471-6400-47c1-f1a7-a5e75b5c5fff"
      },
      "source": [
        "print('Первый способ:', len(Simpsons))\n",
        "print('Второй способ:', Simpsons.size)\n",
        "print('Третий способ:', Simpsons.shape)"
      ],
      "execution_count": 29,
      "outputs": [
        {
          "output_type": "stream",
          "text": [
            "Первый способ: 5\n",
            "Второй способ: 5\n",
            "Третий способ: (5,)\n"
          ],
          "name": "stdout"
        }
      ]
    },
    {
      "cell_type": "markdown",
      "metadata": {
        "hidden": true,
        "id": "kMu1NUv3OYOm"
      },
      "source": [
        "DataFrame:"
      ]
    },
    {
      "cell_type": "code",
      "metadata": {
        "hidden": true,
        "colab": {
          "base_uri": "https://localhost:8080/"
        },
        "id": "5raaDjzWOYOn",
        "outputId": "4e8c90b8-7e03-4550-f192-34d124f7663b"
      },
      "source": [
        "print('Первый способ:', len(sp500))\n",
        "print('Второй способ:', sp500.size)\n",
        "print('Третий способ:', sp500.shape)"
      ],
      "execution_count": 30,
      "outputs": [
        {
          "output_type": "stream",
          "text": [
            "Первый способ: 500\n",
            "Второй способ: 1500\n",
            "Третий способ: (500, 3)\n"
          ],
          "name": "stdout"
        }
      ]
    },
    {
      "cell_type": "markdown",
      "metadata": {
        "heading_collapsed": true,
        "hidden": true,
        "id": "8-Fdcm5tOYOn"
      },
      "source": [
        "#### количество уникальных элементов"
      ]
    },
    {
      "cell_type": "code",
      "metadata": {
        "hidden": true,
        "colab": {
          "base_uri": "https://localhost:8080/"
        },
        "id": "U40JiNNmOYOn",
        "outputId": "f24d6110-ac52-419a-98c9-5f593f840546"
      },
      "source": [
        "Simpsons.nunique()"
      ],
      "execution_count": 31,
      "outputs": [
        {
          "output_type": "execute_result",
          "data": {
            "text/plain": [
              "5"
            ]
          },
          "metadata": {
            "tags": []
          },
          "execution_count": 31
        }
      ]
    },
    {
      "cell_type": "code",
      "metadata": {
        "hidden": true,
        "colab": {
          "base_uri": "https://localhost:8080/"
        },
        "id": "orbZC_JJOYOo",
        "outputId": "0aa91527-8955-4ca2-9508-d3b92dcb2d05"
      },
      "source": [
        "sp500.nunique()"
      ],
      "execution_count": 32,
      "outputs": [
        {
          "output_type": "execute_result",
          "data": {
            "text/plain": [
              "Sector         13\n",
              "Price         495\n",
              "Book Value    495\n",
              "dtype: int64"
            ]
          },
          "metadata": {
            "tags": []
          },
          "execution_count": 32
        }
      ]
    },
    {
      "cell_type": "markdown",
      "metadata": {
        "heading_collapsed": true,
        "hidden": true,
        "id": "9zijiP7POYOo"
      },
      "source": [
        "#### индекс и значения"
      ]
    },
    {
      "cell_type": "markdown",
      "metadata": {
        "hidden": true,
        "id": "GDZtUxYZOYOo"
      },
      "source": [
        "Series:"
      ]
    },
    {
      "cell_type": "code",
      "metadata": {
        "hidden": true,
        "colab": {
          "base_uri": "https://localhost:8080/"
        },
        "id": "vFEkFY0uOYOp",
        "outputId": "4880ba93-362a-4640-9951-cc76ec337973"
      },
      "source": [
        "Simpsons.index"
      ],
      "execution_count": 33,
      "outputs": [
        {
          "output_type": "execute_result",
          "data": {
            "text/plain": [
              "Index(['Homer', 'Marge', 'Bart', 'Lisa', 'Maggie'], dtype='object')"
            ]
          },
          "metadata": {
            "tags": []
          },
          "execution_count": 33
        }
      ]
    },
    {
      "cell_type": "code",
      "metadata": {
        "hidden": true,
        "colab": {
          "base_uri": "https://localhost:8080/"
        },
        "id": "oI-OiwFTOYOp",
        "outputId": "86f49817-f2c3-4c1c-ba5a-058920304df8"
      },
      "source": [
        "Simpsons.values"
      ],
      "execution_count": 34,
      "outputs": [
        {
          "output_type": "execute_result",
          "data": {
            "text/plain": [
              "array([120,  60,  35,  30,   7])"
            ]
          },
          "metadata": {
            "tags": []
          },
          "execution_count": 34
        }
      ]
    },
    {
      "cell_type": "markdown",
      "metadata": {
        "hidden": true,
        "id": "Qf52UHmdOYOp"
      },
      "source": [
        "DataFrame:"
      ]
    },
    {
      "cell_type": "code",
      "metadata": {
        "hidden": true,
        "colab": {
          "base_uri": "https://localhost:8080/"
        },
        "id": "KRR1d_qyOYOq",
        "outputId": "aabcf3e4-15d9-4b77-c220-4764761261d1"
      },
      "source": [
        "sp500.index"
      ],
      "execution_count": 35,
      "outputs": [
        {
          "output_type": "execute_result",
          "data": {
            "text/plain": [
              "Index(['MMM', 'ABT', 'ABBV', 'ACN', 'ACE', 'ACT', 'ADBE', 'AES', 'AET', 'AFL',\n",
              "       ...\n",
              "       'XEL', 'XRX', 'XLNX', 'XL', 'XYL', 'YHOO', 'YUM', 'ZMH', 'ZION', 'ZTS'],\n",
              "      dtype='object', name='Symbol', length=500)"
            ]
          },
          "metadata": {
            "tags": []
          },
          "execution_count": 35
        }
      ]
    },
    {
      "cell_type": "code",
      "metadata": {
        "hidden": true,
        "colab": {
          "base_uri": "https://localhost:8080/"
        },
        "id": "9cZz34_XOYOq",
        "outputId": "c7df1613-b7bb-4e29-cf86-b5ceb064b439"
      },
      "source": [
        "sp500.values"
      ],
      "execution_count": 36,
      "outputs": [
        {
          "output_type": "execute_result",
          "data": {
            "text/plain": [
              "array([['Industrials', 141.14, 26.668000000000003],\n",
              "       ['Health Care', 39.6, 15.573],\n",
              "       ['Health Care', 53.95, 2.9539999999999997],\n",
              "       ...,\n",
              "       ['Health Care', 101.84, 37.181],\n",
              "       ['Financials', 28.43, 30.191],\n",
              "       ['Health Care', 30.53, 2.15]], dtype=object)"
            ]
          },
          "metadata": {
            "tags": []
          },
          "execution_count": 36
        }
      ]
    },
    {
      "cell_type": "code",
      "metadata": {
        "hidden": true,
        "colab": {
          "base_uri": "https://localhost:8080/"
        },
        "id": "u2sH8j-4OYOq",
        "outputId": "e5318707-a9ef-4624-c56c-3f0e2614234f"
      },
      "source": [
        "sp500.columns"
      ],
      "execution_count": 37,
      "outputs": [
        {
          "output_type": "execute_result",
          "data": {
            "text/plain": [
              "Index(['Sector', 'Price', 'Book Value'], dtype='object')"
            ]
          },
          "metadata": {
            "tags": []
          },
          "execution_count": 37
        }
      ]
    },
    {
      "cell_type": "markdown",
      "metadata": {
        "hidden": true,
        "id": "maoE-rwGOYOr"
      },
      "source": [
        "#### присвоение / изменение имени"
      ]
    },
    {
      "cell_type": "markdown",
      "metadata": {
        "heading_collapsed": true,
        "hidden": true,
        "id": "ZdPYZYFUOYOr"
      },
      "source": [
        "#####  объекта Series"
      ]
    },
    {
      "cell_type": "code",
      "metadata": {
        "hidden": true,
        "colab": {
          "base_uri": "https://localhost:8080/"
        },
        "id": "v0RX9nKGOYOs",
        "outputId": "6b925583-443c-4cae-8084-d38723eac194"
      },
      "source": [
        "Simpsons.name = 'Simpsons weight'\n",
        "Simpsons"
      ],
      "execution_count": 38,
      "outputs": [
        {
          "output_type": "execute_result",
          "data": {
            "text/plain": [
              "Homer     120\n",
              "Marge      60\n",
              "Bart       35\n",
              "Lisa       30\n",
              "Maggie      7\n",
              "Name: Simpsons weight, dtype: int64"
            ]
          },
          "metadata": {
            "tags": []
          },
          "execution_count": 38
        }
      ]
    },
    {
      "cell_type": "markdown",
      "metadata": {
        "heading_collapsed": true,
        "hidden": true,
        "id": "wpe_ulTPOYOs"
      },
      "source": [
        "##### индекса"
      ]
    },
    {
      "cell_type": "code",
      "metadata": {
        "hidden": true,
        "colab": {
          "base_uri": "https://localhost:8080/"
        },
        "id": "FoUzDn5sOYOt",
        "outputId": "10c1670c-477c-4b8b-b5ae-9073937f8b29"
      },
      "source": [
        "Simpsons.index.name = 'First name'\n",
        "Simpsons"
      ],
      "execution_count": 39,
      "outputs": [
        {
          "output_type": "execute_result",
          "data": {
            "text/plain": [
              "First name\n",
              "Homer     120\n",
              "Marge      60\n",
              "Bart       35\n",
              "Lisa       30\n",
              "Maggie      7\n",
              "Name: Simpsons weight, dtype: int64"
            ]
          },
          "metadata": {
            "tags": []
          },
          "execution_count": 39
        }
      ]
    },
    {
      "cell_type": "markdown",
      "metadata": {
        "heading_collapsed": true,
        "hidden": true,
        "id": "oaaoKuw7OYOt"
      },
      "source": [
        "##### столбца"
      ]
    },
    {
      "cell_type": "code",
      "metadata": {
        "hidden": true,
        "id": "eHAVNe4aOYOu"
      },
      "source": [
        "sp500_copy = sp500.rename(columns = {'Book Value': 'BookValue'})"
      ],
      "execution_count": 40,
      "outputs": []
    },
    {
      "cell_type": "markdown",
      "metadata": {
        "hidden": true,
        "id": "If9WElq-OYOu"
      },
      "source": [
        "проверяем, не изменились ли имена столбцов в исходном датафрейме"
      ]
    },
    {
      "cell_type": "code",
      "metadata": {
        "hidden": true,
        "colab": {
          "base_uri": "https://localhost:8080/"
        },
        "id": "cYxrJAX2OYOu",
        "outputId": "ac05f166-d92f-48cb-8702-cf68b1bc5c07"
      },
      "source": [
        "sp500.columns"
      ],
      "execution_count": 41,
      "outputs": [
        {
          "output_type": "execute_result",
          "data": {
            "text/plain": [
              "Index(['Sector', 'Price', 'Book Value'], dtype='object')"
            ]
          },
          "metadata": {
            "tags": []
          },
          "execution_count": 41
        }
      ]
    },
    {
      "cell_type": "code",
      "metadata": {
        "hidden": true,
        "colab": {
          "base_uri": "https://localhost:8080/"
        },
        "id": "5R_wdkNSOYOv",
        "outputId": "44af7238-ece0-47aa-d935-d3b8a3da6b70"
      },
      "source": [
        "sp500_copy.columns"
      ],
      "execution_count": 42,
      "outputs": [
        {
          "output_type": "execute_result",
          "data": {
            "text/plain": [
              "Index(['Sector', 'Price', 'BookValue'], dtype='object')"
            ]
          },
          "metadata": {
            "tags": []
          },
          "execution_count": 42
        }
      ]
    },
    {
      "cell_type": "markdown",
      "metadata": {
        "hidden": true,
        "id": "ONLJSV5YOYOv"
      },
      "source": [
        "этот программный код переименовывает столбец на месте"
      ]
    },
    {
      "cell_type": "code",
      "metadata": {
        "hidden": true,
        "id": "x2scoilLOYOv"
      },
      "source": [
        "sp500_copy.rename(columns = {'Book Value': 'BookValue'},\n",
        "            inplace=True)"
      ],
      "execution_count": 43,
      "outputs": []
    },
    {
      "cell_type": "markdown",
      "metadata": {
        "hidden": true,
        "id": "MQxkknROOYOw"
      },
      "source": [
        "смотрим изменилось ли имя столбца"
      ]
    },
    {
      "cell_type": "code",
      "metadata": {
        "hidden": true,
        "colab": {
          "base_uri": "https://localhost:8080/"
        },
        "id": "BgIBJNc3OYOw",
        "outputId": "e9a05c4e-1132-49ec-b3ba-cfdcfccf0462"
      },
      "source": [
        "sp500_copy.columns"
      ],
      "execution_count": 44,
      "outputs": [
        {
          "output_type": "execute_result",
          "data": {
            "text/plain": [
              "Index(['Sector', 'Price', 'BookValue'], dtype='object')"
            ]
          },
          "metadata": {
            "tags": []
          },
          "execution_count": 44
        }
      ]
    },
    {
      "cell_type": "markdown",
      "metadata": {
        "heading_collapsed": true,
        "id": "hnWrk0eSOYOw"
      },
      "source": [
        "### Вывод значений"
      ]
    },
    {
      "cell_type": "markdown",
      "metadata": {
        "heading_collapsed": true,
        "hidden": true,
        "id": "KD3wb4fMOYOx"
      },
      "source": [
        "#### первые / последние строки"
      ]
    },
    {
      "cell_type": "code",
      "metadata": {
        "hidden": true,
        "colab": {
          "base_uri": "https://localhost:8080/",
          "height": 235
        },
        "id": "gqMVMMNFOYOx",
        "outputId": "df4fd221-2a6a-46b2-a211-572504446276"
      },
      "source": [
        "sp500.head()"
      ],
      "execution_count": 45,
      "outputs": [
        {
          "output_type": "execute_result",
          "data": {
            "text/html": [
              "<div>\n",
              "<style scoped>\n",
              "    .dataframe tbody tr th:only-of-type {\n",
              "        vertical-align: middle;\n",
              "    }\n",
              "\n",
              "    .dataframe tbody tr th {\n",
              "        vertical-align: top;\n",
              "    }\n",
              "\n",
              "    .dataframe thead th {\n",
              "        text-align: right;\n",
              "    }\n",
              "</style>\n",
              "<table border=\"1\" class=\"dataframe\">\n",
              "  <thead>\n",
              "    <tr style=\"text-align: right;\">\n",
              "      <th></th>\n",
              "      <th>Sector</th>\n",
              "      <th>Price</th>\n",
              "      <th>Book Value</th>\n",
              "    </tr>\n",
              "    <tr>\n",
              "      <th>Symbol</th>\n",
              "      <th></th>\n",
              "      <th></th>\n",
              "      <th></th>\n",
              "    </tr>\n",
              "  </thead>\n",
              "  <tbody>\n",
              "    <tr>\n",
              "      <th>MMM</th>\n",
              "      <td>Industrials</td>\n",
              "      <td>141.14</td>\n",
              "      <td>26.668</td>\n",
              "    </tr>\n",
              "    <tr>\n",
              "      <th>ABT</th>\n",
              "      <td>Health Care</td>\n",
              "      <td>39.60</td>\n",
              "      <td>15.573</td>\n",
              "    </tr>\n",
              "    <tr>\n",
              "      <th>ABBV</th>\n",
              "      <td>Health Care</td>\n",
              "      <td>53.95</td>\n",
              "      <td>2.954</td>\n",
              "    </tr>\n",
              "    <tr>\n",
              "      <th>ACN</th>\n",
              "      <td>Information Technology</td>\n",
              "      <td>79.79</td>\n",
              "      <td>8.326</td>\n",
              "    </tr>\n",
              "    <tr>\n",
              "      <th>ACE</th>\n",
              "      <td>Financials</td>\n",
              "      <td>102.91</td>\n",
              "      <td>86.897</td>\n",
              "    </tr>\n",
              "  </tbody>\n",
              "</table>\n",
              "</div>"
            ],
            "text/plain": [
              "                        Sector   Price  Book Value\n",
              "Symbol                                            \n",
              "MMM                Industrials  141.14      26.668\n",
              "ABT                Health Care   39.60      15.573\n",
              "ABBV               Health Care   53.95       2.954\n",
              "ACN     Information Technology   79.79       8.326\n",
              "ACE                 Financials  102.91      86.897"
            ]
          },
          "metadata": {
            "tags": []
          },
          "execution_count": 45
        }
      ]
    },
    {
      "cell_type": "code",
      "metadata": {
        "hidden": true,
        "colab": {
          "base_uri": "https://localhost:8080/"
        },
        "id": "xLYcl4fROYOx",
        "outputId": "3ca08a3b-c1d5-48d0-8956-2a31716cfaa1"
      },
      "source": [
        "Simpsons.tail(3)"
      ],
      "execution_count": 46,
      "outputs": [
        {
          "output_type": "execute_result",
          "data": {
            "text/plain": [
              "First name\n",
              "Bart      35\n",
              "Lisa      30\n",
              "Maggie     7\n",
              "Name: Simpsons weight, dtype: int64"
            ]
          },
          "metadata": {
            "tags": []
          },
          "execution_count": 46
        }
      ]
    },
    {
      "cell_type": "markdown",
      "metadata": {
        "heading_collapsed": true,
        "hidden": true,
        "id": "8Jv6AjMnOYOy"
      },
      "source": [
        "#### столбцы "
      ]
    },
    {
      "cell_type": "markdown",
      "metadata": {
        "hidden": true,
        "id": "7EBunrZbOYOy"
      },
      "source": [
        "извлекаем столбец Sector"
      ]
    },
    {
      "cell_type": "code",
      "metadata": {
        "hidden": true,
        "colab": {
          "base_uri": "https://localhost:8080/"
        },
        "id": "QD69osrhOYOy",
        "outputId": "19c625d4-36b9-4e16-e56d-f38644f5d049"
      },
      "source": [
        "sp500['Sector'].head()"
      ],
      "execution_count": 47,
      "outputs": [
        {
          "output_type": "execute_result",
          "data": {
            "text/plain": [
              "Symbol\n",
              "MMM                Industrials\n",
              "ABT                Health Care\n",
              "ABBV               Health Care\n",
              "ACN     Information Technology\n",
              "ACE                 Financials\n",
              "Name: Sector, dtype: object"
            ]
          },
          "metadata": {
            "tags": []
          },
          "execution_count": 47
        }
      ]
    },
    {
      "cell_type": "markdown",
      "metadata": {
        "hidden": true,
        "id": "8StW2pvhOYOz"
      },
      "source": [
        "тип столбца датафрейма:"
      ]
    },
    {
      "cell_type": "code",
      "metadata": {
        "hidden": true,
        "colab": {
          "base_uri": "https://localhost:8080/"
        },
        "id": "X4kBl_uhOYOz",
        "outputId": "537b41ed-f851-4cf7-96c3-bfa479585855"
      },
      "source": [
        "type(sp500['Sector'])"
      ],
      "execution_count": 48,
      "outputs": [
        {
          "output_type": "execute_result",
          "data": {
            "text/plain": [
              "pandas.core.series.Series"
            ]
          },
          "metadata": {
            "tags": []
          },
          "execution_count": 48
        }
      ]
    },
    {
      "cell_type": "markdown",
      "metadata": {
        "hidden": true,
        "id": "7dlsoIuvOYOz"
      },
      "source": [
        "извлекаем столбцы Price и Book Value"
      ]
    },
    {
      "cell_type": "code",
      "metadata": {
        "hidden": true,
        "colab": {
          "base_uri": "https://localhost:8080/",
          "height": 235
        },
        "id": "jYVgIOZROYO0",
        "outputId": "d88ab1da-4192-4b99-b5bf-f98315e5e926"
      },
      "source": [
        "sp500[['Price', 'Book Value']].head()"
      ],
      "execution_count": 49,
      "outputs": [
        {
          "output_type": "execute_result",
          "data": {
            "text/html": [
              "<div>\n",
              "<style scoped>\n",
              "    .dataframe tbody tr th:only-of-type {\n",
              "        vertical-align: middle;\n",
              "    }\n",
              "\n",
              "    .dataframe tbody tr th {\n",
              "        vertical-align: top;\n",
              "    }\n",
              "\n",
              "    .dataframe thead th {\n",
              "        text-align: right;\n",
              "    }\n",
              "</style>\n",
              "<table border=\"1\" class=\"dataframe\">\n",
              "  <thead>\n",
              "    <tr style=\"text-align: right;\">\n",
              "      <th></th>\n",
              "      <th>Price</th>\n",
              "      <th>Book Value</th>\n",
              "    </tr>\n",
              "    <tr>\n",
              "      <th>Symbol</th>\n",
              "      <th></th>\n",
              "      <th></th>\n",
              "    </tr>\n",
              "  </thead>\n",
              "  <tbody>\n",
              "    <tr>\n",
              "      <th>MMM</th>\n",
              "      <td>141.14</td>\n",
              "      <td>26.668</td>\n",
              "    </tr>\n",
              "    <tr>\n",
              "      <th>ABT</th>\n",
              "      <td>39.60</td>\n",
              "      <td>15.573</td>\n",
              "    </tr>\n",
              "    <tr>\n",
              "      <th>ABBV</th>\n",
              "      <td>53.95</td>\n",
              "      <td>2.954</td>\n",
              "    </tr>\n",
              "    <tr>\n",
              "      <th>ACN</th>\n",
              "      <td>79.79</td>\n",
              "      <td>8.326</td>\n",
              "    </tr>\n",
              "    <tr>\n",
              "      <th>ACE</th>\n",
              "      <td>102.91</td>\n",
              "      <td>86.897</td>\n",
              "    </tr>\n",
              "  </tbody>\n",
              "</table>\n",
              "</div>"
            ],
            "text/plain": [
              "         Price  Book Value\n",
              "Symbol                    \n",
              "MMM     141.14      26.668\n",
              "ABT      39.60      15.573\n",
              "ABBV     53.95       2.954\n",
              "ACN      79.79       8.326\n",
              "ACE     102.91      86.897"
            ]
          },
          "metadata": {
            "tags": []
          },
          "execution_count": 49
        }
      ]
    },
    {
      "cell_type": "markdown",
      "metadata": {
        "hidden": true,
        "id": "-NClW-GSOYO0"
      },
      "source": [
        "покажем, что результат является объектом DataFrame"
      ]
    },
    {
      "cell_type": "code",
      "metadata": {
        "hidden": true,
        "colab": {
          "base_uri": "https://localhost:8080/"
        },
        "id": "lXyEOZTmOYO0",
        "outputId": "f37c3a07-b38d-4bcb-b42c-4723d634757e"
      },
      "source": [
        "type(sp500[['Price', 'Book Value']])"
      ],
      "execution_count": 50,
      "outputs": [
        {
          "output_type": "execute_result",
          "data": {
            "text/plain": [
              "pandas.core.frame.DataFrame"
            ]
          },
          "metadata": {
            "tags": []
          },
          "execution_count": 50
        }
      ]
    },
    {
      "cell_type": "markdown",
      "metadata": {
        "hidden": true,
        "id": "TJSC3VjYOYO1"
      },
      "source": [
        "атрибутивный доступ к столбцу по имени"
      ]
    },
    {
      "cell_type": "code",
      "metadata": {
        "hidden": true,
        "colab": {
          "base_uri": "https://localhost:8080/"
        },
        "id": "xrXShhPLOYO1",
        "outputId": "5c70231b-7b00-4aeb-8b58-443816ea7a38"
      },
      "source": [
        "sp500.Price.head()"
      ],
      "execution_count": 51,
      "outputs": [
        {
          "output_type": "execute_result",
          "data": {
            "text/plain": [
              "Symbol\n",
              "MMM     141.14\n",
              "ABT      39.60\n",
              "ABBV     53.95\n",
              "ACN      79.79\n",
              "ACE     102.91\n",
              "Name: Price, dtype: float64"
            ]
          },
          "metadata": {
            "tags": []
          },
          "execution_count": 51
        }
      ]
    },
    {
      "cell_type": "markdown",
      "metadata": {
        "heading_collapsed": true,
        "hidden": true,
        "id": "PU3W5etCOYO2"
      },
      "source": [
        "#### строки"
      ]
    },
    {
      "cell_type": "markdown",
      "metadata": {
        "heading_collapsed": true,
        "hidden": true,
        "id": "ZnNLejslOYO2"
      },
      "source": [
        "##### по метке "
      ]
    },
    {
      "cell_type": "markdown",
      "metadata": {
        "hidden": true,
        "id": "2qF_S6TsOYO2"
      },
      "source": [
        "**Series**"
      ]
    },
    {
      "cell_type": "code",
      "metadata": {
        "hidden": true,
        "id": "kRq1oRSxOYO3"
      },
      "source": [
        "numbers.loc[[25,33]]"
      ],
      "execution_count": null,
      "outputs": []
    },
    {
      "cell_type": "markdown",
      "metadata": {
        "hidden": true,
        "id": "5h8fBpkZOYO3"
      },
      "source": [
        "ошибка - нет метки"
      ]
    },
    {
      "cell_type": "code",
      "metadata": {
        "hidden": true,
        "id": "tkc_hiIgOYO3"
      },
      "source": [
        "numbers.loc[0]"
      ],
      "execution_count": null,
      "outputs": []
    },
    {
      "cell_type": "markdown",
      "metadata": {
        "hidden": true,
        "id": "bef9qcuKOYO4"
      },
      "source": [
        "**DataFrame**"
      ]
    },
    {
      "cell_type": "markdown",
      "metadata": {
        "hidden": true,
        "id": "oOc3dgcoOYO4"
      },
      "source": [
        "получаем строку с меткой индекса MMM,которая возвращается в виде объекта Series"
      ]
    },
    {
      "cell_type": "code",
      "metadata": {
        "hidden": true,
        "colab": {
          "base_uri": "https://localhost:8080/"
        },
        "id": "dgyyQm99OYO4",
        "outputId": "4119c18c-b9c7-4017-a321-13ac6d3e8410"
      },
      "source": [
        "sp500.loc['MMM']"
      ],
      "execution_count": 54,
      "outputs": [
        {
          "output_type": "execute_result",
          "data": {
            "text/plain": [
              "Sector        Industrials\n",
              "Price              141.14\n",
              "Book Value         26.668\n",
              "Name: MMM, dtype: object"
            ]
          },
          "metadata": {
            "tags": []
          },
          "execution_count": 54
        }
      ]
    },
    {
      "cell_type": "code",
      "metadata": {
        "hidden": true,
        "colab": {
          "base_uri": "https://localhost:8080/"
        },
        "id": "Z9Jf0XciOYO5",
        "outputId": "8f404cfa-f78c-4ad0-90bf-17e756eef6bd"
      },
      "source": [
        "type(sp500.loc['MMM'])"
      ],
      "execution_count": 55,
      "outputs": [
        {
          "output_type": "execute_result",
          "data": {
            "text/plain": [
              "pandas.core.series.Series"
            ]
          },
          "metadata": {
            "tags": []
          },
          "execution_count": 55
        }
      ]
    },
    {
      "cell_type": "markdown",
      "metadata": {
        "hidden": true,
        "id": "7w04Sd_gOYO5"
      },
      "source": [
        "получаем строки MMM и MSFT результатом будет объект DataFrame"
      ]
    },
    {
      "cell_type": "code",
      "metadata": {
        "hidden": true,
        "colab": {
          "base_uri": "https://localhost:8080/",
          "height": 142
        },
        "id": "8vBXlggjOYO6",
        "outputId": "406af599-88d5-40ec-8d5d-7fd85e47099a"
      },
      "source": [
        "sp500.loc[['MMM', 'MSFT']]"
      ],
      "execution_count": 56,
      "outputs": [
        {
          "output_type": "execute_result",
          "data": {
            "text/html": [
              "<div>\n",
              "<style scoped>\n",
              "    .dataframe tbody tr th:only-of-type {\n",
              "        vertical-align: middle;\n",
              "    }\n",
              "\n",
              "    .dataframe tbody tr th {\n",
              "        vertical-align: top;\n",
              "    }\n",
              "\n",
              "    .dataframe thead th {\n",
              "        text-align: right;\n",
              "    }\n",
              "</style>\n",
              "<table border=\"1\" class=\"dataframe\">\n",
              "  <thead>\n",
              "    <tr style=\"text-align: right;\">\n",
              "      <th></th>\n",
              "      <th>Sector</th>\n",
              "      <th>Price</th>\n",
              "      <th>Book Value</th>\n",
              "    </tr>\n",
              "    <tr>\n",
              "      <th>Symbol</th>\n",
              "      <th></th>\n",
              "      <th></th>\n",
              "      <th></th>\n",
              "    </tr>\n",
              "  </thead>\n",
              "  <tbody>\n",
              "    <tr>\n",
              "      <th>MMM</th>\n",
              "      <td>Industrials</td>\n",
              "      <td>141.14</td>\n",
              "      <td>26.668</td>\n",
              "    </tr>\n",
              "    <tr>\n",
              "      <th>MSFT</th>\n",
              "      <td>Information Technology</td>\n",
              "      <td>40.12</td>\n",
              "      <td>10.584</td>\n",
              "    </tr>\n",
              "  </tbody>\n",
              "</table>\n",
              "</div>"
            ],
            "text/plain": [
              "                        Sector   Price  Book Value\n",
              "Symbol                                            \n",
              "MMM                Industrials  141.14      26.668\n",
              "MSFT    Information Technology   40.12      10.584"
            ]
          },
          "metadata": {
            "tags": []
          },
          "execution_count": 56
        }
      ]
    },
    {
      "cell_type": "code",
      "metadata": {
        "hidden": true,
        "colab": {
          "base_uri": "https://localhost:8080/"
        },
        "id": "pHZgG6j_OYO6",
        "outputId": "b27df0a1-c6d6-4beb-c32f-d347e72877aa"
      },
      "source": [
        "type(sp500.loc[['MMM', 'MSFT']])"
      ],
      "execution_count": 57,
      "outputs": [
        {
          "output_type": "execute_result",
          "data": {
            "text/plain": [
              "pandas.core.frame.DataFrame"
            ]
          },
          "metadata": {
            "tags": []
          },
          "execution_count": 57
        }
      ]
    },
    {
      "cell_type": "markdown",
      "metadata": {
        "heading_collapsed": true,
        "hidden": true,
        "id": "650EWwQTOYO7"
      },
      "source": [
        "##### по позиции"
      ]
    },
    {
      "cell_type": "markdown",
      "metadata": {
        "hidden": true,
        "id": "3Fht2AtIOYO7"
      },
      "source": [
        "**Series** "
      ]
    },
    {
      "cell_type": "code",
      "metadata": {
        "hidden": true,
        "colab": {
          "base_uri": "https://localhost:8080/"
        },
        "id": "jPEgGrPHOYO8",
        "outputId": "912a7754-fa61-48db-8f00-56f3c4d684a1"
      },
      "source": [
        "numbers"
      ],
      "execution_count": 58,
      "outputs": [
        {
          "output_type": "execute_result",
          "data": {
            "text/plain": [
              "25   -1.085631\n",
              "26    0.997345\n",
              "27    0.282978\n",
              "28   -1.506295\n",
              "29   -0.578600\n",
              "30    1.651437\n",
              "31   -2.426679\n",
              "32   -0.428913\n",
              "33    1.265936\n",
              "34   -0.866740\n",
              "dtype: float64"
            ]
          },
          "metadata": {
            "tags": []
          },
          "execution_count": 58
        }
      ]
    },
    {
      "cell_type": "markdown",
      "metadata": {
        "hidden": true,
        "id": "Elt6A4PPOYO8"
      },
      "source": [
        "по позиции"
      ]
    },
    {
      "cell_type": "code",
      "metadata": {
        "hidden": true,
        "colab": {
          "base_uri": "https://localhost:8080/"
        },
        "id": "J_YAB02mOYO9",
        "outputId": "ed8a753a-086f-4a09-d34f-77c87409925d"
      },
      "source": [
        "numbers.iloc[[5,-5]]"
      ],
      "execution_count": 59,
      "outputs": [
        {
          "output_type": "execute_result",
          "data": {
            "text/plain": [
              "30    1.651437\n",
              "30    1.651437\n",
              "dtype: float64"
            ]
          },
          "metadata": {
            "tags": []
          },
          "execution_count": 59
        }
      ]
    },
    {
      "cell_type": "markdown",
      "metadata": {
        "hidden": true,
        "id": "klh2imZEOYO9"
      },
      "source": [
        "ошибка:"
      ]
    },
    {
      "cell_type": "code",
      "metadata": {
        "hidden": true,
        "id": "XEjVnqW4OYO9"
      },
      "source": [
        "numbers.iloc[10]"
      ],
      "execution_count": null,
      "outputs": []
    },
    {
      "cell_type": "markdown",
      "metadata": {
        "hidden": true,
        "id": "8-KLMNgXOYO-"
      },
      "source": [
        "**DataFrame**"
      ]
    },
    {
      "cell_type": "markdown",
      "metadata": {
        "hidden": true,
        "id": "WNKjVUiTOYO-"
      },
      "source": [
        "получаем строки, имеющие позиции 0 и 2"
      ]
    },
    {
      "cell_type": "code",
      "metadata": {
        "hidden": true,
        "colab": {
          "base_uri": "https://localhost:8080/",
          "height": 142
        },
        "id": "JiqM_aC3OYO-",
        "outputId": "54361afd-7b6d-472e-aadf-52ff60847a15"
      },
      "source": [
        "sp500.iloc[[0, 2]]"
      ],
      "execution_count": 61,
      "outputs": [
        {
          "output_type": "execute_result",
          "data": {
            "text/html": [
              "<div>\n",
              "<style scoped>\n",
              "    .dataframe tbody tr th:only-of-type {\n",
              "        vertical-align: middle;\n",
              "    }\n",
              "\n",
              "    .dataframe tbody tr th {\n",
              "        vertical-align: top;\n",
              "    }\n",
              "\n",
              "    .dataframe thead th {\n",
              "        text-align: right;\n",
              "    }\n",
              "</style>\n",
              "<table border=\"1\" class=\"dataframe\">\n",
              "  <thead>\n",
              "    <tr style=\"text-align: right;\">\n",
              "      <th></th>\n",
              "      <th>Sector</th>\n",
              "      <th>Price</th>\n",
              "      <th>Book Value</th>\n",
              "    </tr>\n",
              "    <tr>\n",
              "      <th>Symbol</th>\n",
              "      <th></th>\n",
              "      <th></th>\n",
              "      <th></th>\n",
              "    </tr>\n",
              "  </thead>\n",
              "  <tbody>\n",
              "    <tr>\n",
              "      <th>MMM</th>\n",
              "      <td>Industrials</td>\n",
              "      <td>141.14</td>\n",
              "      <td>26.668</td>\n",
              "    </tr>\n",
              "    <tr>\n",
              "      <th>ABBV</th>\n",
              "      <td>Health Care</td>\n",
              "      <td>53.95</td>\n",
              "      <td>2.954</td>\n",
              "    </tr>\n",
              "  </tbody>\n",
              "</table>\n",
              "</div>"
            ],
            "text/plain": [
              "             Sector   Price  Book Value\n",
              "Symbol                                 \n",
              "MMM     Industrials  141.14      26.668\n",
              "ABBV    Health Care   53.95       2.954"
            ]
          },
          "metadata": {
            "tags": []
          },
          "execution_count": 61
        }
      ]
    },
    {
      "cell_type": "markdown",
      "metadata": {
        "hidden": true,
        "id": "9aFu5begOYO_"
      },
      "source": [
        "получаем позиции меток MMM и A в индексе"
      ]
    },
    {
      "cell_type": "code",
      "metadata": {
        "hidden": true,
        "colab": {
          "base_uri": "https://localhost:8080/"
        },
        "id": "ufGKyJ-XOYPA",
        "outputId": "e60dfe13-8bfd-4d14-f71c-304779368f9e"
      },
      "source": [
        "i1 = sp500.index.get_loc('MMM')\n",
        "i2 = sp500.index.get_loc('A')\n",
        "(i1, i2)"
      ],
      "execution_count": 62,
      "outputs": [
        {
          "output_type": "execute_result",
          "data": {
            "text/plain": [
              "(0, 10)"
            ]
          },
          "metadata": {
            "tags": []
          },
          "execution_count": 62
        }
      ]
    },
    {
      "cell_type": "markdown",
      "metadata": {
        "hidden": true,
        "id": "isIdxqb9OYPA"
      },
      "source": [
        "и извлекаем строки"
      ]
    },
    {
      "cell_type": "code",
      "metadata": {
        "hidden": true,
        "colab": {
          "base_uri": "https://localhost:8080/",
          "height": 142
        },
        "id": "xMmMvIAQOYPB",
        "outputId": "64f80759-4484-4c02-f108-51ed663f89ca"
      },
      "source": [
        "sp500.iloc[[i1, i2]]"
      ],
      "execution_count": 63,
      "outputs": [
        {
          "output_type": "execute_result",
          "data": {
            "text/html": [
              "<div>\n",
              "<style scoped>\n",
              "    .dataframe tbody tr th:only-of-type {\n",
              "        vertical-align: middle;\n",
              "    }\n",
              "\n",
              "    .dataframe tbody tr th {\n",
              "        vertical-align: top;\n",
              "    }\n",
              "\n",
              "    .dataframe thead th {\n",
              "        text-align: right;\n",
              "    }\n",
              "</style>\n",
              "<table border=\"1\" class=\"dataframe\">\n",
              "  <thead>\n",
              "    <tr style=\"text-align: right;\">\n",
              "      <th></th>\n",
              "      <th>Sector</th>\n",
              "      <th>Price</th>\n",
              "      <th>Book Value</th>\n",
              "    </tr>\n",
              "    <tr>\n",
              "      <th>Symbol</th>\n",
              "      <th></th>\n",
              "      <th></th>\n",
              "      <th></th>\n",
              "    </tr>\n",
              "  </thead>\n",
              "  <tbody>\n",
              "    <tr>\n",
              "      <th>MMM</th>\n",
              "      <td>Industrials</td>\n",
              "      <td>141.14</td>\n",
              "      <td>26.668</td>\n",
              "    </tr>\n",
              "    <tr>\n",
              "      <th>A</th>\n",
              "      <td>Health Care</td>\n",
              "      <td>56.18</td>\n",
              "      <td>16.928</td>\n",
              "    </tr>\n",
              "  </tbody>\n",
              "</table>\n",
              "</div>"
            ],
            "text/plain": [
              "             Sector   Price  Book Value\n",
              "Symbol                                 \n",
              "MMM     Industrials  141.14      26.668\n",
              "A       Health Care   56.18      16.928"
            ]
          },
          "metadata": {
            "tags": []
          },
          "execution_count": 63
        }
      ]
    },
    {
      "cell_type": "markdown",
      "metadata": {
        "heading_collapsed": true,
        "hidden": true,
        "id": "CqXFExOAOYPB"
      },
      "source": [
        "#### поиск скалярного значения"
      ]
    },
    {
      "cell_type": "markdown",
      "metadata": {
        "hidden": true,
        "id": "dwDgyQhpOYPB"
      },
      "source": [
        "ищем скалярное значение по метке строки и метке (имени) столбца"
      ]
    },
    {
      "cell_type": "code",
      "metadata": {
        "hidden": true,
        "colab": {
          "base_uri": "https://localhost:8080/"
        },
        "id": "4OH7z3C0OYPC",
        "outputId": "daea6fe2-2d69-4247-848e-b9217c1e9c69"
      },
      "source": [
        "sp500.at['MMM', 'Price']"
      ],
      "execution_count": 64,
      "outputs": [
        {
          "output_type": "execute_result",
          "data": {
            "text/plain": [
              "141.14"
            ]
          },
          "metadata": {
            "tags": []
          },
          "execution_count": 64
        }
      ]
    },
    {
      "cell_type": "markdown",
      "metadata": {
        "hidden": true,
        "id": "FGvGnR6MOYPC"
      },
      "source": [
        "ищем скалярное значение по позиции строки и позиции столбца; извлекаем значение в строке 0, столбце 1"
      ]
    },
    {
      "cell_type": "code",
      "metadata": {
        "hidden": true,
        "colab": {
          "base_uri": "https://localhost:8080/"
        },
        "id": "Uk90zyHiOYPC",
        "outputId": "a81889bc-c94a-489c-ce99-0d0b21e276ef"
      },
      "source": [
        "sp500.iat[0, 1]"
      ],
      "execution_count": 65,
      "outputs": [
        {
          "output_type": "execute_result",
          "data": {
            "text/plain": [
              "141.14"
            ]
          },
          "metadata": {
            "tags": []
          },
          "execution_count": 65
        }
      ]
    },
    {
      "cell_type": "markdown",
      "metadata": {
        "heading_collapsed": true,
        "hidden": true,
        "id": "JNRlsbADOYPD"
      },
      "source": [
        "#### одновременный отбор строк и столбцов"
      ]
    },
    {
      "cell_type": "markdown",
      "metadata": {
        "hidden": true,
        "id": "toZhbkHROYPD"
      },
      "source": [
        "отбираем строки с метками индекса ABT и ZTS для столбцов Sector и Price"
      ]
    },
    {
      "cell_type": "code",
      "metadata": {
        "hidden": true,
        "colab": {
          "base_uri": "https://localhost:8080/",
          "height": 142
        },
        "id": "upPHrN4xOYPD",
        "outputId": "8389980d-cd2c-40f7-f424-a9711464dda0"
      },
      "source": [
        "sp500.loc[['ABT', 'ZTS']][['Sector', 'Price']]"
      ],
      "execution_count": 66,
      "outputs": [
        {
          "output_type": "execute_result",
          "data": {
            "text/html": [
              "<div>\n",
              "<style scoped>\n",
              "    .dataframe tbody tr th:only-of-type {\n",
              "        vertical-align: middle;\n",
              "    }\n",
              "\n",
              "    .dataframe tbody tr th {\n",
              "        vertical-align: top;\n",
              "    }\n",
              "\n",
              "    .dataframe thead th {\n",
              "        text-align: right;\n",
              "    }\n",
              "</style>\n",
              "<table border=\"1\" class=\"dataframe\">\n",
              "  <thead>\n",
              "    <tr style=\"text-align: right;\">\n",
              "      <th></th>\n",
              "      <th>Sector</th>\n",
              "      <th>Price</th>\n",
              "    </tr>\n",
              "    <tr>\n",
              "      <th>Symbol</th>\n",
              "      <th></th>\n",
              "      <th></th>\n",
              "    </tr>\n",
              "  </thead>\n",
              "  <tbody>\n",
              "    <tr>\n",
              "      <th>ABT</th>\n",
              "      <td>Health Care</td>\n",
              "      <td>39.60</td>\n",
              "    </tr>\n",
              "    <tr>\n",
              "      <th>ZTS</th>\n",
              "      <td>Health Care</td>\n",
              "      <td>30.53</td>\n",
              "    </tr>\n",
              "  </tbody>\n",
              "</table>\n",
              "</div>"
            ],
            "text/plain": [
              "             Sector  Price\n",
              "Symbol                    \n",
              "ABT     Health Care  39.60\n",
              "ZTS     Health Care  30.53"
            ]
          },
          "metadata": {
            "tags": []
          },
          "execution_count": 66
        }
      ]
    },
    {
      "cell_type": "code",
      "metadata": {
        "hidden": true,
        "colab": {
          "base_uri": "https://localhost:8080/",
          "height": 142
        },
        "id": "_XRpz1_yOYPE",
        "outputId": "0c335db2-189d-479f-82e1-56821372e3ba"
      },
      "source": [
        "sp500.loc[['ABT', 'ZTS'],['Sector', 'Price']]"
      ],
      "execution_count": 67,
      "outputs": [
        {
          "output_type": "execute_result",
          "data": {
            "text/html": [
              "<div>\n",
              "<style scoped>\n",
              "    .dataframe tbody tr th:only-of-type {\n",
              "        vertical-align: middle;\n",
              "    }\n",
              "\n",
              "    .dataframe tbody tr th {\n",
              "        vertical-align: top;\n",
              "    }\n",
              "\n",
              "    .dataframe thead th {\n",
              "        text-align: right;\n",
              "    }\n",
              "</style>\n",
              "<table border=\"1\" class=\"dataframe\">\n",
              "  <thead>\n",
              "    <tr style=\"text-align: right;\">\n",
              "      <th></th>\n",
              "      <th>Sector</th>\n",
              "      <th>Price</th>\n",
              "    </tr>\n",
              "    <tr>\n",
              "      <th>Symbol</th>\n",
              "      <th></th>\n",
              "      <th></th>\n",
              "    </tr>\n",
              "  </thead>\n",
              "  <tbody>\n",
              "    <tr>\n",
              "      <th>ABT</th>\n",
              "      <td>Health Care</td>\n",
              "      <td>39.60</td>\n",
              "    </tr>\n",
              "    <tr>\n",
              "      <th>ZTS</th>\n",
              "      <td>Health Care</td>\n",
              "      <td>30.53</td>\n",
              "    </tr>\n",
              "  </tbody>\n",
              "</table>\n",
              "</div>"
            ],
            "text/plain": [
              "             Sector  Price\n",
              "Symbol                    \n",
              "ABT     Health Care  39.60\n",
              "ZTS     Health Care  30.53"
            ]
          },
          "metadata": {
            "tags": []
          },
          "execution_count": 67
        }
      ]
    },
    {
      "cell_type": "markdown",
      "metadata": {
        "hidden": true,
        "id": "SXFpJUuhOYPE"
      },
      "source": [
        "определение номера позиций заданных меток"
      ]
    },
    {
      "cell_type": "code",
      "metadata": {
        "hidden": true,
        "colab": {
          "base_uri": "https://localhost:8080/"
        },
        "id": "7LgxubhzOYPE",
        "outputId": "4de49ce7-f05c-4107-cf76-f0958c6e6682"
      },
      "source": [
        "print(sp500.index.get_loc('ABT'),sp500.index.get_loc('ZTS')) "
      ],
      "execution_count": 68,
      "outputs": [
        {
          "output_type": "stream",
          "text": [
            "1 499\n"
          ],
          "name": "stdout"
        }
      ]
    },
    {
      "cell_type": "markdown",
      "metadata": {
        "hidden": true,
        "id": "wv7xEKV_OYPF"
      },
      "source": [
        "отбор строк и столбцов по номеру позиций"
      ]
    },
    {
      "cell_type": "code",
      "metadata": {
        "hidden": true,
        "colab": {
          "base_uri": "https://localhost:8080/",
          "height": 142
        },
        "id": "Li2wQY3YOYPF",
        "outputId": "9970e9d2-9c81-4533-abd8-9320a720b224"
      },
      "source": [
        "sp500.iloc[[1,499],[0,1]]"
      ],
      "execution_count": 69,
      "outputs": [
        {
          "output_type": "execute_result",
          "data": {
            "text/html": [
              "<div>\n",
              "<style scoped>\n",
              "    .dataframe tbody tr th:only-of-type {\n",
              "        vertical-align: middle;\n",
              "    }\n",
              "\n",
              "    .dataframe tbody tr th {\n",
              "        vertical-align: top;\n",
              "    }\n",
              "\n",
              "    .dataframe thead th {\n",
              "        text-align: right;\n",
              "    }\n",
              "</style>\n",
              "<table border=\"1\" class=\"dataframe\">\n",
              "  <thead>\n",
              "    <tr style=\"text-align: right;\">\n",
              "      <th></th>\n",
              "      <th>Sector</th>\n",
              "      <th>Price</th>\n",
              "    </tr>\n",
              "    <tr>\n",
              "      <th>Symbol</th>\n",
              "      <th></th>\n",
              "      <th></th>\n",
              "    </tr>\n",
              "  </thead>\n",
              "  <tbody>\n",
              "    <tr>\n",
              "      <th>ABT</th>\n",
              "      <td>Health Care</td>\n",
              "      <td>39.60</td>\n",
              "    </tr>\n",
              "    <tr>\n",
              "      <th>ZTS</th>\n",
              "      <td>Health Care</td>\n",
              "      <td>30.53</td>\n",
              "    </tr>\n",
              "  </tbody>\n",
              "</table>\n",
              "</div>"
            ],
            "text/plain": [
              "             Sector  Price\n",
              "Symbol                    \n",
              "ABT     Health Care  39.60\n",
              "ZTS     Health Care  30.53"
            ]
          },
          "metadata": {
            "tags": []
          },
          "execution_count": 69
        }
      ]
    },
    {
      "cell_type": "markdown",
      "metadata": {
        "heading_collapsed": true,
        "hidden": true,
        "id": "0NBwrDR0OYPF"
      },
      "source": [
        "#### транспонирование"
      ]
    },
    {
      "cell_type": "code",
      "metadata": {
        "hidden": true,
        "colab": {
          "base_uri": "https://localhost:8080/",
          "height": 235
        },
        "id": "in9AyWFVOYPG",
        "outputId": "d9d651f5-3b8c-478f-94e7-7857163f9e51"
      },
      "source": [
        "sp500.head()"
      ],
      "execution_count": 70,
      "outputs": [
        {
          "output_type": "execute_result",
          "data": {
            "text/html": [
              "<div>\n",
              "<style scoped>\n",
              "    .dataframe tbody tr th:only-of-type {\n",
              "        vertical-align: middle;\n",
              "    }\n",
              "\n",
              "    .dataframe tbody tr th {\n",
              "        vertical-align: top;\n",
              "    }\n",
              "\n",
              "    .dataframe thead th {\n",
              "        text-align: right;\n",
              "    }\n",
              "</style>\n",
              "<table border=\"1\" class=\"dataframe\">\n",
              "  <thead>\n",
              "    <tr style=\"text-align: right;\">\n",
              "      <th></th>\n",
              "      <th>Sector</th>\n",
              "      <th>Price</th>\n",
              "      <th>Book Value</th>\n",
              "    </tr>\n",
              "    <tr>\n",
              "      <th>Symbol</th>\n",
              "      <th></th>\n",
              "      <th></th>\n",
              "      <th></th>\n",
              "    </tr>\n",
              "  </thead>\n",
              "  <tbody>\n",
              "    <tr>\n",
              "      <th>MMM</th>\n",
              "      <td>Industrials</td>\n",
              "      <td>141.14</td>\n",
              "      <td>26.668</td>\n",
              "    </tr>\n",
              "    <tr>\n",
              "      <th>ABT</th>\n",
              "      <td>Health Care</td>\n",
              "      <td>39.60</td>\n",
              "      <td>15.573</td>\n",
              "    </tr>\n",
              "    <tr>\n",
              "      <th>ABBV</th>\n",
              "      <td>Health Care</td>\n",
              "      <td>53.95</td>\n",
              "      <td>2.954</td>\n",
              "    </tr>\n",
              "    <tr>\n",
              "      <th>ACN</th>\n",
              "      <td>Information Technology</td>\n",
              "      <td>79.79</td>\n",
              "      <td>8.326</td>\n",
              "    </tr>\n",
              "    <tr>\n",
              "      <th>ACE</th>\n",
              "      <td>Financials</td>\n",
              "      <td>102.91</td>\n",
              "      <td>86.897</td>\n",
              "    </tr>\n",
              "  </tbody>\n",
              "</table>\n",
              "</div>"
            ],
            "text/plain": [
              "                        Sector   Price  Book Value\n",
              "Symbol                                            \n",
              "MMM                Industrials  141.14      26.668\n",
              "ABT                Health Care   39.60      15.573\n",
              "ABBV               Health Care   53.95       2.954\n",
              "ACN     Information Technology   79.79       8.326\n",
              "ACE                 Financials  102.91      86.897"
            ]
          },
          "metadata": {
            "tags": []
          },
          "execution_count": 70
        }
      ]
    },
    {
      "cell_type": "code",
      "metadata": {
        "hidden": true,
        "colab": {
          "base_uri": "https://localhost:8080/",
          "height": 225
        },
        "id": "4TfrvMUkOYPG",
        "outputId": "104631b5-db4d-4e1e-d79b-cd9094c820e1"
      },
      "source": [
        "sp500.T.head()"
      ],
      "execution_count": 71,
      "outputs": [
        {
          "output_type": "execute_result",
          "data": {
            "text/html": [
              "<div>\n",
              "<style scoped>\n",
              "    .dataframe tbody tr th:only-of-type {\n",
              "        vertical-align: middle;\n",
              "    }\n",
              "\n",
              "    .dataframe tbody tr th {\n",
              "        vertical-align: top;\n",
              "    }\n",
              "\n",
              "    .dataframe thead th {\n",
              "        text-align: right;\n",
              "    }\n",
              "</style>\n",
              "<table border=\"1\" class=\"dataframe\">\n",
              "  <thead>\n",
              "    <tr style=\"text-align: right;\">\n",
              "      <th>Symbol</th>\n",
              "      <th>MMM</th>\n",
              "      <th>ABT</th>\n",
              "      <th>ABBV</th>\n",
              "      <th>ACN</th>\n",
              "      <th>ACE</th>\n",
              "      <th>ACT</th>\n",
              "      <th>ADBE</th>\n",
              "      <th>AES</th>\n",
              "      <th>AET</th>\n",
              "      <th>AFL</th>\n",
              "      <th>A</th>\n",
              "      <th>GAS</th>\n",
              "      <th>APD</th>\n",
              "      <th>ARG</th>\n",
              "      <th>AKAM</th>\n",
              "      <th>AA</th>\n",
              "      <th>ALXN</th>\n",
              "      <th>ATI</th>\n",
              "      <th>ALLE</th>\n",
              "      <th>AGN</th>\n",
              "      <th>ADS</th>\n",
              "      <th>ALL</th>\n",
              "      <th>ALTR</th>\n",
              "      <th>MO</th>\n",
              "      <th>AMZN</th>\n",
              "      <th>AEE</th>\n",
              "      <th>AEP</th>\n",
              "      <th>AXP</th>\n",
              "      <th>AIG</th>\n",
              "      <th>AMT</th>\n",
              "      <th>AMP</th>\n",
              "      <th>ABC</th>\n",
              "      <th>AME</th>\n",
              "      <th>AMGN</th>\n",
              "      <th>APH</th>\n",
              "      <th>APC</th>\n",
              "      <th>ADI</th>\n",
              "      <th>AON</th>\n",
              "      <th>APA</th>\n",
              "      <th>AIV</th>\n",
              "      <th>...</th>\n",
              "      <th>UNM</th>\n",
              "      <th>URBN</th>\n",
              "      <th>USB</th>\n",
              "      <th>VLO</th>\n",
              "      <th>VAR</th>\n",
              "      <th>VTR</th>\n",
              "      <th>VRSN</th>\n",
              "      <th>VZ</th>\n",
              "      <th>VRTX</th>\n",
              "      <th>VFC</th>\n",
              "      <th>VIAB</th>\n",
              "      <th>V</th>\n",
              "      <th>VNO</th>\n",
              "      <th>VMC</th>\n",
              "      <th>WMT</th>\n",
              "      <th>WAG</th>\n",
              "      <th>DIS</th>\n",
              "      <th>WM</th>\n",
              "      <th>WAT</th>\n",
              "      <th>WLP</th>\n",
              "      <th>WFC</th>\n",
              "      <th>WDC</th>\n",
              "      <th>WU</th>\n",
              "      <th>WY</th>\n",
              "      <th>WHR</th>\n",
              "      <th>WFM</th>\n",
              "      <th>WIN</th>\n",
              "      <th>WEC</th>\n",
              "      <th>WYN</th>\n",
              "      <th>WYNN</th>\n",
              "      <th>XEL</th>\n",
              "      <th>XRX</th>\n",
              "      <th>XLNX</th>\n",
              "      <th>XL</th>\n",
              "      <th>XYL</th>\n",
              "      <th>YHOO</th>\n",
              "      <th>YUM</th>\n",
              "      <th>ZMH</th>\n",
              "      <th>ZION</th>\n",
              "      <th>ZTS</th>\n",
              "    </tr>\n",
              "  </thead>\n",
              "  <tbody>\n",
              "    <tr>\n",
              "      <th>Sector</th>\n",
              "      <td>Industrials</td>\n",
              "      <td>Health Care</td>\n",
              "      <td>Health Care</td>\n",
              "      <td>Information Technology</td>\n",
              "      <td>Financials</td>\n",
              "      <td>Health Care</td>\n",
              "      <td>Information Technology</td>\n",
              "      <td>Utilities</td>\n",
              "      <td>Health Care</td>\n",
              "      <td>Financials</td>\n",
              "      <td>Health Care</td>\n",
              "      <td>Utilities</td>\n",
              "      <td>Materials</td>\n",
              "      <td>Materials</td>\n",
              "      <td>Information Technology</td>\n",
              "      <td>Materials</td>\n",
              "      <td>Health Care</td>\n",
              "      <td>Materials</td>\n",
              "      <td>Industrials</td>\n",
              "      <td>Health Care</td>\n",
              "      <td>Information Technology</td>\n",
              "      <td>Financials</td>\n",
              "      <td>Information Technology</td>\n",
              "      <td>Consumer Staples</td>\n",
              "      <td>Consumer Discretionary</td>\n",
              "      <td>Utilities</td>\n",
              "      <td>Utilities</td>\n",
              "      <td>Financials</td>\n",
              "      <td>Financials</td>\n",
              "      <td>Financials</td>\n",
              "      <td>Financials</td>\n",
              "      <td>Health Care</td>\n",
              "      <td>Information Technology</td>\n",
              "      <td>Health Care</td>\n",
              "      <td>Industrials</td>\n",
              "      <td>Energy</td>\n",
              "      <td>Information Technology</td>\n",
              "      <td>Financials</td>\n",
              "      <td>Energy</td>\n",
              "      <td>Financials</td>\n",
              "      <td>...</td>\n",
              "      <td>Financials</td>\n",
              "      <td>Consumer Discretionary</td>\n",
              "      <td>Financials</td>\n",
              "      <td>Energy</td>\n",
              "      <td>Health Care</td>\n",
              "      <td>Financials</td>\n",
              "      <td>Information Technology</td>\n",
              "      <td>Telecommunications Services</td>\n",
              "      <td>Health Care</td>\n",
              "      <td>Consumer Discretionary</td>\n",
              "      <td>Consumer Discretionary</td>\n",
              "      <td>Information Technology</td>\n",
              "      <td>Financials</td>\n",
              "      <td>Materials</td>\n",
              "      <td>Consumer Staples</td>\n",
              "      <td>Consumer Staples</td>\n",
              "      <td>Consumer Discretionary</td>\n",
              "      <td>Industrials</td>\n",
              "      <td>Health Care</td>\n",
              "      <td>Health Care</td>\n",
              "      <td>Financials</td>\n",
              "      <td>Information Technology</td>\n",
              "      <td>Information Technology</td>\n",
              "      <td>Financials</td>\n",
              "      <td>Consumer Discretionary</td>\n",
              "      <td>Consumer Staples</td>\n",
              "      <td>Telecommunications Services</td>\n",
              "      <td>Utilities</td>\n",
              "      <td>Consumer Discretionary</td>\n",
              "      <td>Consumer Discretionary</td>\n",
              "      <td>Utilities</td>\n",
              "      <td>Information Technology</td>\n",
              "      <td>Information Technology</td>\n",
              "      <td>Financials</td>\n",
              "      <td>Industrials</td>\n",
              "      <td>Information Technology</td>\n",
              "      <td>Consumer Discretionary</td>\n",
              "      <td>Health Care</td>\n",
              "      <td>Financials</td>\n",
              "      <td>Health Care</td>\n",
              "    </tr>\n",
              "    <tr>\n",
              "      <th>Price</th>\n",
              "      <td>141.14</td>\n",
              "      <td>39.6</td>\n",
              "      <td>53.95</td>\n",
              "      <td>79.79</td>\n",
              "      <td>102.91</td>\n",
              "      <td>213.77</td>\n",
              "      <td>64.3</td>\n",
              "      <td>13.61</td>\n",
              "      <td>76.39</td>\n",
              "      <td>61.31</td>\n",
              "      <td>56.18</td>\n",
              "      <td>52.98</td>\n",
              "      <td>118.74</td>\n",
              "      <td>105.66</td>\n",
              "      <td>53.65</td>\n",
              "      <td>13.52</td>\n",
              "      <td>162.3</td>\n",
              "      <td>40.99</td>\n",
              "      <td>52.46</td>\n",
              "      <td>166.92</td>\n",
              "      <td>248.88</td>\n",
              "      <td>58.38</td>\n",
              "      <td>33.31</td>\n",
              "      <td>40.68</td>\n",
              "      <td>312.24</td>\n",
              "      <td>38.64</td>\n",
              "      <td>51.41</td>\n",
              "      <td>88.78</td>\n",
              "      <td>53.6</td>\n",
              "      <td>88.41</td>\n",
              "      <td>110.93</td>\n",
              "      <td>71.64</td>\n",
              "      <td>52.49</td>\n",
              "      <td>114.33</td>\n",
              "      <td>95.71</td>\n",
              "      <td>101.35</td>\n",
              "      <td>52.39</td>\n",
              "      <td>88.43</td>\n",
              "      <td>90.18</td>\n",
              "      <td>31.24</td>\n",
              "      <td>...</td>\n",
              "      <td>33.46</td>\n",
              "      <td>32.54</td>\n",
              "      <td>41.45</td>\n",
              "      <td>54.54</td>\n",
              "      <td>80.92</td>\n",
              "      <td>67.03</td>\n",
              "      <td>49.92</td>\n",
              "      <td>49.74</td>\n",
              "      <td>71.04</td>\n",
              "      <td>62.72</td>\n",
              "      <td>84.99</td>\n",
              "      <td>212.07</td>\n",
              "      <td>105.32</td>\n",
              "      <td>61.19</td>\n",
              "      <td>75.61</td>\n",
              "      <td>69.79</td>\n",
              "      <td>83.32</td>\n",
              "      <td>43.37</td>\n",
              "      <td>100.54</td>\n",
              "      <td>108.82</td>\n",
              "      <td>50.16</td>\n",
              "      <td>84.83</td>\n",
              "      <td>15.77</td>\n",
              "      <td>30.87</td>\n",
              "      <td>147.26</td>\n",
              "      <td>37.78</td>\n",
              "      <td>9.38</td>\n",
              "      <td>45.13</td>\n",
              "      <td>72.22</td>\n",
              "      <td>207.86</td>\n",
              "      <td>30.24</td>\n",
              "      <td>12.06</td>\n",
              "      <td>46.03</td>\n",
              "      <td>32.47</td>\n",
              "      <td>38.42</td>\n",
              "      <td>35.02</td>\n",
              "      <td>74.77</td>\n",
              "      <td>101.84</td>\n",
              "      <td>28.43</td>\n",
              "      <td>30.53</td>\n",
              "    </tr>\n",
              "    <tr>\n",
              "      <th>Book Value</th>\n",
              "      <td>26.668</td>\n",
              "      <td>15.573</td>\n",
              "      <td>2.954</td>\n",
              "      <td>8.326</td>\n",
              "      <td>86.897</td>\n",
              "      <td>55.188</td>\n",
              "      <td>13.262</td>\n",
              "      <td>5.781</td>\n",
              "      <td>40.021</td>\n",
              "      <td>34.527</td>\n",
              "      <td>16.928</td>\n",
              "      <td>32.462</td>\n",
              "      <td>34.723</td>\n",
              "      <td>24.882</td>\n",
              "      <td>15.193</td>\n",
              "      <td>9.67</td>\n",
              "      <td>13.628</td>\n",
              "      <td>26.401</td>\n",
              "      <td>0</td>\n",
              "      <td>22.207</td>\n",
              "      <td>17.392</td>\n",
              "      <td>47.465</td>\n",
              "      <td>11.026</td>\n",
              "      <td>2.072</td>\n",
              "      <td>22.452</td>\n",
              "      <td>26.847</td>\n",
              "      <td>33.635</td>\n",
              "      <td>18.846</td>\n",
              "      <td>71.775</td>\n",
              "      <td>9.279</td>\n",
              "      <td>43.786</td>\n",
              "      <td>9.43</td>\n",
              "      <td>13.341</td>\n",
              "      <td>30.045</td>\n",
              "      <td>18.315</td>\n",
              "      <td>37.876</td>\n",
              "      <td>15.698</td>\n",
              "      <td>26.801</td>\n",
              "      <td>84.811</td>\n",
              "      <td>6.331</td>\n",
              "      <td>...</td>\n",
              "      <td>34.771</td>\n",
              "      <td>10.072</td>\n",
              "      <td>20.482</td>\n",
              "      <td>37.335</td>\n",
              "      <td>16.141</td>\n",
              "      <td>29.665</td>\n",
              "      <td>-3.467</td>\n",
              "      <td>3.069</td>\n",
              "      <td>5.211</td>\n",
              "      <td>13.285</td>\n",
              "      <td>10.253</td>\n",
              "      <td>43.391</td>\n",
              "      <td>28.243</td>\n",
              "      <td>30.819</td>\n",
              "      <td>22.607</td>\n",
              "      <td>21.779</td>\n",
              "      <td>26.405</td>\n",
              "      <td>12.33</td>\n",
              "      <td>21.46</td>\n",
              "      <td>86.358</td>\n",
              "      <td>30.479</td>\n",
              "      <td>37.311</td>\n",
              "      <td>1.981</td>\n",
              "      <td>11.69</td>\n",
              "      <td>66.221</td>\n",
              "      <td>10.867</td>\n",
              "      <td>1.199</td>\n",
              "      <td>19.165</td>\n",
              "      <td>11.984</td>\n",
              "      <td>-0.719</td>\n",
              "      <td>19.45</td>\n",
              "      <td>10.471</td>\n",
              "      <td>10.247</td>\n",
              "      <td>37.451</td>\n",
              "      <td>12.127</td>\n",
              "      <td>12.768</td>\n",
              "      <td>5.147</td>\n",
              "      <td>37.181</td>\n",
              "      <td>30.191</td>\n",
              "      <td>2.15</td>\n",
              "    </tr>\n",
              "  </tbody>\n",
              "</table>\n",
              "<p>3 rows × 500 columns</p>\n",
              "</div>"
            ],
            "text/plain": [
              "Symbol              MMM          ABT  ...        ZION          ZTS\n",
              "Sector      Industrials  Health Care  ...  Financials  Health Care\n",
              "Price            141.14         39.6  ...       28.43        30.53\n",
              "Book Value       26.668       15.573  ...      30.191         2.15\n",
              "\n",
              "[3 rows x 500 columns]"
            ]
          },
          "metadata": {
            "tags": []
          },
          "execution_count": 71
        }
      ]
    },
    {
      "cell_type": "markdown",
      "metadata": {
        "heading_collapsed": true,
        "hidden": true,
        "id": "BTWu3bfoOYPG"
      },
      "source": [
        "#### переиндексация"
      ]
    },
    {
      "cell_type": "markdown",
      "metadata": {
        "hidden": true,
        "id": "KlDYYZArOYPG"
      },
      "source": [
        "ошибка:"
      ]
    },
    {
      "cell_type": "code",
      "metadata": {
        "hidden": true,
        "id": "UqN5WL6uOYPH"
      },
      "source": [
        "sp500.loc[['MMM', 'ABBV', 'NEW VALUE']]"
      ],
      "execution_count": null,
      "outputs": []
    },
    {
      "cell_type": "markdown",
      "metadata": {
        "hidden": true,
        "id": "NVQ6H2VHOYPH"
      },
      "source": [
        "делаем переиндексацию, задав метки MMM, ABBV и NEW VALUE"
      ]
    },
    {
      "cell_type": "code",
      "metadata": {
        "hidden": true,
        "id": "ZPi3tv9rOYPH"
      },
      "source": [
        "reindexed = sp500.reindex(index=['MMM', 'ABBV', 'NEW VALUE'])"
      ],
      "execution_count": 73,
      "outputs": []
    },
    {
      "cell_type": "markdown",
      "metadata": {
        "hidden": true,
        "id": "BjcfPVi-OYPI"
      },
      "source": [
        "обратите внимание, что все индексы, кромя перечисленных при вызове, удалены, а *NEW VALUE* содержит значения *NaN*"
      ]
    },
    {
      "cell_type": "code",
      "metadata": {
        "hidden": true,
        "colab": {
          "base_uri": "https://localhost:8080/",
          "height": 173
        },
        "id": "4bgmm2RGOYPI",
        "outputId": "34ae18f8-2cb6-4ebf-c612-4ed6b06b8d8e"
      },
      "source": [
        "reindexed"
      ],
      "execution_count": 74,
      "outputs": [
        {
          "output_type": "execute_result",
          "data": {
            "text/html": [
              "<div>\n",
              "<style scoped>\n",
              "    .dataframe tbody tr th:only-of-type {\n",
              "        vertical-align: middle;\n",
              "    }\n",
              "\n",
              "    .dataframe tbody tr th {\n",
              "        vertical-align: top;\n",
              "    }\n",
              "\n",
              "    .dataframe thead th {\n",
              "        text-align: right;\n",
              "    }\n",
              "</style>\n",
              "<table border=\"1\" class=\"dataframe\">\n",
              "  <thead>\n",
              "    <tr style=\"text-align: right;\">\n",
              "      <th></th>\n",
              "      <th>Sector</th>\n",
              "      <th>Price</th>\n",
              "      <th>Book Value</th>\n",
              "    </tr>\n",
              "    <tr>\n",
              "      <th>Symbol</th>\n",
              "      <th></th>\n",
              "      <th></th>\n",
              "      <th></th>\n",
              "    </tr>\n",
              "  </thead>\n",
              "  <tbody>\n",
              "    <tr>\n",
              "      <th>MMM</th>\n",
              "      <td>Industrials</td>\n",
              "      <td>141.14</td>\n",
              "      <td>26.668</td>\n",
              "    </tr>\n",
              "    <tr>\n",
              "      <th>ABBV</th>\n",
              "      <td>Health Care</td>\n",
              "      <td>53.95</td>\n",
              "      <td>2.954</td>\n",
              "    </tr>\n",
              "    <tr>\n",
              "      <th>NEW VALUE</th>\n",
              "      <td>NaN</td>\n",
              "      <td>NaN</td>\n",
              "      <td>NaN</td>\n",
              "    </tr>\n",
              "  </tbody>\n",
              "</table>\n",
              "</div>"
            ],
            "text/plain": [
              "                Sector   Price  Book Value\n",
              "Symbol                                    \n",
              "MMM        Industrials  141.14      26.668\n",
              "ABBV       Health Care   53.95       2.954\n",
              "NEW VALUE          NaN     NaN         NaN"
            ]
          },
          "metadata": {
            "tags": []
          },
          "execution_count": 74
        }
      ]
    },
    {
      "cell_type": "markdown",
      "metadata": {
        "hidden": true,
        "id": "NMMYMzvjOYPI"
      },
      "source": [
        "выполняем переиндексацию столбцов"
      ]
    },
    {
      "cell_type": "code",
      "metadata": {
        "hidden": true,
        "colab": {
          "base_uri": "https://localhost:8080/",
          "height": 235
        },
        "id": "KahVftDGOYPJ",
        "outputId": "3a2f59ec-1b7f-4f4d-a56d-8b7b0f374b91"
      },
      "source": [
        "sp500.reindex(columns=['Price', 'Book Value', 'NewCol']).head()"
      ],
      "execution_count": 75,
      "outputs": [
        {
          "output_type": "execute_result",
          "data": {
            "text/html": [
              "<div>\n",
              "<style scoped>\n",
              "    .dataframe tbody tr th:only-of-type {\n",
              "        vertical-align: middle;\n",
              "    }\n",
              "\n",
              "    .dataframe tbody tr th {\n",
              "        vertical-align: top;\n",
              "    }\n",
              "\n",
              "    .dataframe thead th {\n",
              "        text-align: right;\n",
              "    }\n",
              "</style>\n",
              "<table border=\"1\" class=\"dataframe\">\n",
              "  <thead>\n",
              "    <tr style=\"text-align: right;\">\n",
              "      <th></th>\n",
              "      <th>Price</th>\n",
              "      <th>Book Value</th>\n",
              "      <th>NewCol</th>\n",
              "    </tr>\n",
              "    <tr>\n",
              "      <th>Symbol</th>\n",
              "      <th></th>\n",
              "      <th></th>\n",
              "      <th></th>\n",
              "    </tr>\n",
              "  </thead>\n",
              "  <tbody>\n",
              "    <tr>\n",
              "      <th>MMM</th>\n",
              "      <td>141.14</td>\n",
              "      <td>26.668</td>\n",
              "      <td>NaN</td>\n",
              "    </tr>\n",
              "    <tr>\n",
              "      <th>ABT</th>\n",
              "      <td>39.60</td>\n",
              "      <td>15.573</td>\n",
              "      <td>NaN</td>\n",
              "    </tr>\n",
              "    <tr>\n",
              "      <th>ABBV</th>\n",
              "      <td>53.95</td>\n",
              "      <td>2.954</td>\n",
              "      <td>NaN</td>\n",
              "    </tr>\n",
              "    <tr>\n",
              "      <th>ACN</th>\n",
              "      <td>79.79</td>\n",
              "      <td>8.326</td>\n",
              "      <td>NaN</td>\n",
              "    </tr>\n",
              "    <tr>\n",
              "      <th>ACE</th>\n",
              "      <td>102.91</td>\n",
              "      <td>86.897</td>\n",
              "      <td>NaN</td>\n",
              "    </tr>\n",
              "  </tbody>\n",
              "</table>\n",
              "</div>"
            ],
            "text/plain": [
              "         Price  Book Value  NewCol\n",
              "Symbol                            \n",
              "MMM     141.14      26.668     NaN\n",
              "ABT      39.60      15.573     NaN\n",
              "ABBV     53.95       2.954     NaN\n",
              "ACN      79.79       8.326     NaN\n",
              "ACE     102.91      86.897     NaN"
            ]
          },
          "metadata": {
            "tags": []
          },
          "execution_count": 75
        }
      ]
    },
    {
      "cell_type": "markdown",
      "metadata": {
        "hidden": true,
        "id": "atcAYOpOOYPJ"
      },
      "source": [
        "при этом можем заполнить отсутствующие значения константами вместо *NaN*"
      ]
    },
    {
      "cell_type": "code",
      "metadata": {
        "hidden": true,
        "colab": {
          "base_uri": "https://localhost:8080/",
          "height": 235
        },
        "id": "1ddnBAeAOYPJ",
        "outputId": "bb16d0b0-8d1a-48e8-8ca6-d33c55355238"
      },
      "source": [
        "sp500.reindex(columns=['Price',\n",
        "                       'Book Value',\n",
        "                       'NewCol'],\n",
        "              fill_value=0).head()"
      ],
      "execution_count": 76,
      "outputs": [
        {
          "output_type": "execute_result",
          "data": {
            "text/html": [
              "<div>\n",
              "<style scoped>\n",
              "    .dataframe tbody tr th:only-of-type {\n",
              "        vertical-align: middle;\n",
              "    }\n",
              "\n",
              "    .dataframe tbody tr th {\n",
              "        vertical-align: top;\n",
              "    }\n",
              "\n",
              "    .dataframe thead th {\n",
              "        text-align: right;\n",
              "    }\n",
              "</style>\n",
              "<table border=\"1\" class=\"dataframe\">\n",
              "  <thead>\n",
              "    <tr style=\"text-align: right;\">\n",
              "      <th></th>\n",
              "      <th>Price</th>\n",
              "      <th>Book Value</th>\n",
              "      <th>NewCol</th>\n",
              "    </tr>\n",
              "    <tr>\n",
              "      <th>Symbol</th>\n",
              "      <th></th>\n",
              "      <th></th>\n",
              "      <th></th>\n",
              "    </tr>\n",
              "  </thead>\n",
              "  <tbody>\n",
              "    <tr>\n",
              "      <th>MMM</th>\n",
              "      <td>141.14</td>\n",
              "      <td>26.668</td>\n",
              "      <td>0</td>\n",
              "    </tr>\n",
              "    <tr>\n",
              "      <th>ABT</th>\n",
              "      <td>39.60</td>\n",
              "      <td>15.573</td>\n",
              "      <td>0</td>\n",
              "    </tr>\n",
              "    <tr>\n",
              "      <th>ABBV</th>\n",
              "      <td>53.95</td>\n",
              "      <td>2.954</td>\n",
              "      <td>0</td>\n",
              "    </tr>\n",
              "    <tr>\n",
              "      <th>ACN</th>\n",
              "      <td>79.79</td>\n",
              "      <td>8.326</td>\n",
              "      <td>0</td>\n",
              "    </tr>\n",
              "    <tr>\n",
              "      <th>ACE</th>\n",
              "      <td>102.91</td>\n",
              "      <td>86.897</td>\n",
              "      <td>0</td>\n",
              "    </tr>\n",
              "  </tbody>\n",
              "</table>\n",
              "</div>"
            ],
            "text/plain": [
              "         Price  Book Value  NewCol\n",
              "Symbol                            \n",
              "MMM     141.14      26.668       0\n",
              "ABT      39.60      15.573       0\n",
              "ABBV     53.95       2.954       0\n",
              "ACN      79.79       8.326       0\n",
              "ACE     102.91      86.897       0"
            ]
          },
          "metadata": {
            "tags": []
          },
          "execution_count": 76
        }
      ]
    },
    {
      "cell_type": "markdown",
      "metadata": {
        "heading_collapsed": true,
        "hidden": true,
        "id": "pJcRWL8JOYPK"
      },
      "source": [
        "#### случайная подвыборка"
      ]
    },
    {
      "cell_type": "markdown",
      "metadata": {
        "hidden": true,
        "id": "Amhjxm2BOYPK"
      },
      "source": [
        "отбираем три случайные строки"
      ]
    },
    {
      "cell_type": "code",
      "metadata": {
        "hidden": true,
        "colab": {
          "base_uri": "https://localhost:8080/",
          "height": 173
        },
        "id": "pWwHwD2ROYPK",
        "outputId": "d507aeca-4fce-4905-d517-08f45bdbce99"
      },
      "source": [
        "sp500.sample(n=3)"
      ],
      "execution_count": 77,
      "outputs": [
        {
          "output_type": "execute_result",
          "data": {
            "text/html": [
              "<div>\n",
              "<style scoped>\n",
              "    .dataframe tbody tr th:only-of-type {\n",
              "        vertical-align: middle;\n",
              "    }\n",
              "\n",
              "    .dataframe tbody tr th {\n",
              "        vertical-align: top;\n",
              "    }\n",
              "\n",
              "    .dataframe thead th {\n",
              "        text-align: right;\n",
              "    }\n",
              "</style>\n",
              "<table border=\"1\" class=\"dataframe\">\n",
              "  <thead>\n",
              "    <tr style=\"text-align: right;\">\n",
              "      <th></th>\n",
              "      <th>Sector</th>\n",
              "      <th>Price</th>\n",
              "      <th>Book Value</th>\n",
              "    </tr>\n",
              "    <tr>\n",
              "      <th>Symbol</th>\n",
              "      <th></th>\n",
              "      <th></th>\n",
              "      <th></th>\n",
              "    </tr>\n",
              "  </thead>\n",
              "  <tbody>\n",
              "    <tr>\n",
              "      <th>ZION</th>\n",
              "      <td>Financials</td>\n",
              "      <td>28.43</td>\n",
              "      <td>30.191</td>\n",
              "    </tr>\n",
              "    <tr>\n",
              "      <th>NOV</th>\n",
              "      <td>Energy</td>\n",
              "      <td>81.90</td>\n",
              "      <td>52.925</td>\n",
              "    </tr>\n",
              "    <tr>\n",
              "      <th>STX</th>\n",
              "      <td>Information Technology</td>\n",
              "      <td>51.95</td>\n",
              "      <td>8.080</td>\n",
              "    </tr>\n",
              "  </tbody>\n",
              "</table>\n",
              "</div>"
            ],
            "text/plain": [
              "                        Sector  Price  Book Value\n",
              "Symbol                                           \n",
              "ZION                Financials  28.43      30.191\n",
              "NOV                     Energy  81.90      52.925\n",
              "STX     Information Technology  51.95       8.080"
            ]
          },
          "metadata": {
            "tags": []
          },
          "execution_count": 77
        }
      ]
    },
    {
      "cell_type": "markdown",
      "metadata": {
        "hidden": true,
        "id": "m27sUzsNOYPL"
      },
      "source": [
        "случайный отбор с возвращением"
      ]
    },
    {
      "cell_type": "code",
      "metadata": {
        "hidden": true,
        "colab": {
          "base_uri": "https://localhost:8080/",
          "height": 450
        },
        "id": "J0x7oUI1OYPL",
        "outputId": "c2991057-eb05-4104-e5e6-c64da0d8abc2"
      },
      "source": [
        "sp500.sample(frac=5, replace=True, random_state=777)"
      ],
      "execution_count": 78,
      "outputs": [
        {
          "output_type": "execute_result",
          "data": {
            "text/html": [
              "<div>\n",
              "<style scoped>\n",
              "    .dataframe tbody tr th:only-of-type {\n",
              "        vertical-align: middle;\n",
              "    }\n",
              "\n",
              "    .dataframe tbody tr th {\n",
              "        vertical-align: top;\n",
              "    }\n",
              "\n",
              "    .dataframe thead th {\n",
              "        text-align: right;\n",
              "    }\n",
              "</style>\n",
              "<table border=\"1\" class=\"dataframe\">\n",
              "  <thead>\n",
              "    <tr style=\"text-align: right;\">\n",
              "      <th></th>\n",
              "      <th>Sector</th>\n",
              "      <th>Price</th>\n",
              "      <th>Book Value</th>\n",
              "    </tr>\n",
              "    <tr>\n",
              "      <th>Symbol</th>\n",
              "      <th></th>\n",
              "      <th></th>\n",
              "      <th></th>\n",
              "    </tr>\n",
              "  </thead>\n",
              "  <tbody>\n",
              "    <tr>\n",
              "      <th>CLF</th>\n",
              "      <td>Materials</td>\n",
              "      <td>16.34</td>\n",
              "      <td>34.523</td>\n",
              "    </tr>\n",
              "    <tr>\n",
              "      <th>MHK</th>\n",
              "      <td>Consumer Discretionary</td>\n",
              "      <td>136.41</td>\n",
              "      <td>61.582</td>\n",
              "    </tr>\n",
              "    <tr>\n",
              "      <th>BDX</th>\n",
              "      <td>Health Care</td>\n",
              "      <td>115.70</td>\n",
              "      <td>27.510</td>\n",
              "    </tr>\n",
              "    <tr>\n",
              "      <th>HOT</th>\n",
              "      <td>Consumer Discretionary</td>\n",
              "      <td>78.73</td>\n",
              "      <td>17.218</td>\n",
              "    </tr>\n",
              "    <tr>\n",
              "      <th>CELG</th>\n",
              "      <td>Health Care</td>\n",
              "      <td>150.13</td>\n",
              "      <td>11.200</td>\n",
              "    </tr>\n",
              "    <tr>\n",
              "      <th>...</th>\n",
              "      <td>...</td>\n",
              "      <td>...</td>\n",
              "      <td>...</td>\n",
              "    </tr>\n",
              "    <tr>\n",
              "      <th>BTU</th>\n",
              "      <td>Energy</td>\n",
              "      <td>17.22</td>\n",
              "      <td>14.644</td>\n",
              "    </tr>\n",
              "    <tr>\n",
              "      <th>MCO</th>\n",
              "      <td>Financials</td>\n",
              "      <td>82.50</td>\n",
              "      <td>1.803</td>\n",
              "    </tr>\n",
              "    <tr>\n",
              "      <th>LRCX</th>\n",
              "      <td>Information Technology</td>\n",
              "      <td>60.61</td>\n",
              "      <td>29.677</td>\n",
              "    </tr>\n",
              "    <tr>\n",
              "      <th>CI</th>\n",
              "      <td>Health Care</td>\n",
              "      <td>89.24</td>\n",
              "      <td>39.304</td>\n",
              "    </tr>\n",
              "    <tr>\n",
              "      <th>MCO</th>\n",
              "      <td>Financials</td>\n",
              "      <td>82.50</td>\n",
              "      <td>1.803</td>\n",
              "    </tr>\n",
              "  </tbody>\n",
              "</table>\n",
              "<p>2500 rows × 3 columns</p>\n",
              "</div>"
            ],
            "text/plain": [
              "                        Sector   Price  Book Value\n",
              "Symbol                                            \n",
              "CLF                  Materials   16.34      34.523\n",
              "MHK     Consumer Discretionary  136.41      61.582\n",
              "BDX                Health Care  115.70      27.510\n",
              "HOT     Consumer Discretionary   78.73      17.218\n",
              "CELG               Health Care  150.13      11.200\n",
              "...                        ...     ...         ...\n",
              "BTU                     Energy   17.22      14.644\n",
              "MCO                 Financials   82.50       1.803\n",
              "LRCX    Information Technology   60.61      29.677\n",
              "CI                 Health Care   89.24      39.304\n",
              "MCO                 Financials   82.50       1.803\n",
              "\n",
              "[2500 rows x 3 columns]"
            ]
          },
          "metadata": {
            "tags": []
          },
          "execution_count": 78
        }
      ]
    },
    {
      "cell_type": "markdown",
      "metadata": {
        "heading_collapsed": true,
        "hidden": true,
        "id": "ysABLdQFOYPL"
      },
      "source": [
        "#### [настройки вывода](http://pandas.pydata.org/pandas-docs/stable/user_guide/options.html#available-options)"
      ]
    },
    {
      "cell_type": "code",
      "metadata": {
        "hidden": true,
        "colab": {
          "base_uri": "https://localhost:8080/"
        },
        "id": "qfC-XAkWOYPM",
        "outputId": "21313aa2-e325-4d4b-d83a-d903292825d3"
      },
      "source": [
        "pd.options.display.max_rows"
      ],
      "execution_count": 79,
      "outputs": [
        {
          "output_type": "execute_result",
          "data": {
            "text/plain": [
              "60"
            ]
          },
          "metadata": {
            "tags": []
          },
          "execution_count": 79
        }
      ]
    },
    {
      "cell_type": "code",
      "metadata": {
        "hidden": true,
        "colab": {
          "base_uri": "https://localhost:8080/",
          "height": 450
        },
        "id": "oGtovT78OYPM",
        "outputId": "7ef7ecb5-1c5a-4c92-80d1-32deff150e50"
      },
      "source": [
        "sp500"
      ],
      "execution_count": 80,
      "outputs": [
        {
          "output_type": "execute_result",
          "data": {
            "text/html": [
              "<div>\n",
              "<style scoped>\n",
              "    .dataframe tbody tr th:only-of-type {\n",
              "        vertical-align: middle;\n",
              "    }\n",
              "\n",
              "    .dataframe tbody tr th {\n",
              "        vertical-align: top;\n",
              "    }\n",
              "\n",
              "    .dataframe thead th {\n",
              "        text-align: right;\n",
              "    }\n",
              "</style>\n",
              "<table border=\"1\" class=\"dataframe\">\n",
              "  <thead>\n",
              "    <tr style=\"text-align: right;\">\n",
              "      <th></th>\n",
              "      <th>Sector</th>\n",
              "      <th>Price</th>\n",
              "      <th>Book Value</th>\n",
              "    </tr>\n",
              "    <tr>\n",
              "      <th>Symbol</th>\n",
              "      <th></th>\n",
              "      <th></th>\n",
              "      <th></th>\n",
              "    </tr>\n",
              "  </thead>\n",
              "  <tbody>\n",
              "    <tr>\n",
              "      <th>MMM</th>\n",
              "      <td>Industrials</td>\n",
              "      <td>141.14</td>\n",
              "      <td>26.668</td>\n",
              "    </tr>\n",
              "    <tr>\n",
              "      <th>ABT</th>\n",
              "      <td>Health Care</td>\n",
              "      <td>39.60</td>\n",
              "      <td>15.573</td>\n",
              "    </tr>\n",
              "    <tr>\n",
              "      <th>ABBV</th>\n",
              "      <td>Health Care</td>\n",
              "      <td>53.95</td>\n",
              "      <td>2.954</td>\n",
              "    </tr>\n",
              "    <tr>\n",
              "      <th>ACN</th>\n",
              "      <td>Information Technology</td>\n",
              "      <td>79.79</td>\n",
              "      <td>8.326</td>\n",
              "    </tr>\n",
              "    <tr>\n",
              "      <th>ACE</th>\n",
              "      <td>Financials</td>\n",
              "      <td>102.91</td>\n",
              "      <td>86.897</td>\n",
              "    </tr>\n",
              "    <tr>\n",
              "      <th>...</th>\n",
              "      <td>...</td>\n",
              "      <td>...</td>\n",
              "      <td>...</td>\n",
              "    </tr>\n",
              "    <tr>\n",
              "      <th>YHOO</th>\n",
              "      <td>Information Technology</td>\n",
              "      <td>35.02</td>\n",
              "      <td>12.768</td>\n",
              "    </tr>\n",
              "    <tr>\n",
              "      <th>YUM</th>\n",
              "      <td>Consumer Discretionary</td>\n",
              "      <td>74.77</td>\n",
              "      <td>5.147</td>\n",
              "    </tr>\n",
              "    <tr>\n",
              "      <th>ZMH</th>\n",
              "      <td>Health Care</td>\n",
              "      <td>101.84</td>\n",
              "      <td>37.181</td>\n",
              "    </tr>\n",
              "    <tr>\n",
              "      <th>ZION</th>\n",
              "      <td>Financials</td>\n",
              "      <td>28.43</td>\n",
              "      <td>30.191</td>\n",
              "    </tr>\n",
              "    <tr>\n",
              "      <th>ZTS</th>\n",
              "      <td>Health Care</td>\n",
              "      <td>30.53</td>\n",
              "      <td>2.150</td>\n",
              "    </tr>\n",
              "  </tbody>\n",
              "</table>\n",
              "<p>500 rows × 3 columns</p>\n",
              "</div>"
            ],
            "text/plain": [
              "                        Sector   Price  Book Value\n",
              "Symbol                                            \n",
              "MMM                Industrials  141.14      26.668\n",
              "ABT                Health Care   39.60      15.573\n",
              "ABBV               Health Care   53.95       2.954\n",
              "ACN     Information Technology   79.79       8.326\n",
              "ACE                 Financials  102.91      86.897\n",
              "...                        ...     ...         ...\n",
              "YHOO    Information Technology   35.02      12.768\n",
              "YUM     Consumer Discretionary   74.77       5.147\n",
              "ZMH                Health Care  101.84      37.181\n",
              "ZION                Financials   28.43      30.191\n",
              "ZTS                Health Care   30.53       2.150\n",
              "\n",
              "[500 rows x 3 columns]"
            ]
          },
          "metadata": {
            "tags": []
          },
          "execution_count": 80
        }
      ]
    },
    {
      "cell_type": "code",
      "metadata": {
        "hidden": true,
        "id": "PPidgeN7OYPM"
      },
      "source": [
        "pd.options.display.max_rows = 10"
      ],
      "execution_count": 81,
      "outputs": []
    },
    {
      "cell_type": "code",
      "metadata": {
        "hidden": true,
        "colab": {
          "base_uri": "https://localhost:8080/",
          "height": 450
        },
        "id": "jUJPn0J5OYPN",
        "outputId": "f05c4835-01ed-46a5-dc8f-df70c9fdc95b"
      },
      "source": [
        "sp500"
      ],
      "execution_count": 82,
      "outputs": [
        {
          "output_type": "execute_result",
          "data": {
            "text/html": [
              "<div>\n",
              "<style scoped>\n",
              "    .dataframe tbody tr th:only-of-type {\n",
              "        vertical-align: middle;\n",
              "    }\n",
              "\n",
              "    .dataframe tbody tr th {\n",
              "        vertical-align: top;\n",
              "    }\n",
              "\n",
              "    .dataframe thead th {\n",
              "        text-align: right;\n",
              "    }\n",
              "</style>\n",
              "<table border=\"1\" class=\"dataframe\">\n",
              "  <thead>\n",
              "    <tr style=\"text-align: right;\">\n",
              "      <th></th>\n",
              "      <th>Sector</th>\n",
              "      <th>Price</th>\n",
              "      <th>Book Value</th>\n",
              "    </tr>\n",
              "    <tr>\n",
              "      <th>Symbol</th>\n",
              "      <th></th>\n",
              "      <th></th>\n",
              "      <th></th>\n",
              "    </tr>\n",
              "  </thead>\n",
              "  <tbody>\n",
              "    <tr>\n",
              "      <th>MMM</th>\n",
              "      <td>Industrials</td>\n",
              "      <td>141.14</td>\n",
              "      <td>26.668</td>\n",
              "    </tr>\n",
              "    <tr>\n",
              "      <th>ABT</th>\n",
              "      <td>Health Care</td>\n",
              "      <td>39.60</td>\n",
              "      <td>15.573</td>\n",
              "    </tr>\n",
              "    <tr>\n",
              "      <th>ABBV</th>\n",
              "      <td>Health Care</td>\n",
              "      <td>53.95</td>\n",
              "      <td>2.954</td>\n",
              "    </tr>\n",
              "    <tr>\n",
              "      <th>ACN</th>\n",
              "      <td>Information Technology</td>\n",
              "      <td>79.79</td>\n",
              "      <td>8.326</td>\n",
              "    </tr>\n",
              "    <tr>\n",
              "      <th>ACE</th>\n",
              "      <td>Financials</td>\n",
              "      <td>102.91</td>\n",
              "      <td>86.897</td>\n",
              "    </tr>\n",
              "    <tr>\n",
              "      <th>...</th>\n",
              "      <td>...</td>\n",
              "      <td>...</td>\n",
              "      <td>...</td>\n",
              "    </tr>\n",
              "    <tr>\n",
              "      <th>YHOO</th>\n",
              "      <td>Information Technology</td>\n",
              "      <td>35.02</td>\n",
              "      <td>12.768</td>\n",
              "    </tr>\n",
              "    <tr>\n",
              "      <th>YUM</th>\n",
              "      <td>Consumer Discretionary</td>\n",
              "      <td>74.77</td>\n",
              "      <td>5.147</td>\n",
              "    </tr>\n",
              "    <tr>\n",
              "      <th>ZMH</th>\n",
              "      <td>Health Care</td>\n",
              "      <td>101.84</td>\n",
              "      <td>37.181</td>\n",
              "    </tr>\n",
              "    <tr>\n",
              "      <th>ZION</th>\n",
              "      <td>Financials</td>\n",
              "      <td>28.43</td>\n",
              "      <td>30.191</td>\n",
              "    </tr>\n",
              "    <tr>\n",
              "      <th>ZTS</th>\n",
              "      <td>Health Care</td>\n",
              "      <td>30.53</td>\n",
              "      <td>2.150</td>\n",
              "    </tr>\n",
              "  </tbody>\n",
              "</table>\n",
              "<p>500 rows × 3 columns</p>\n",
              "</div>"
            ],
            "text/plain": [
              "                        Sector   Price  Book Value\n",
              "Symbol                                            \n",
              "MMM                Industrials  141.14      26.668\n",
              "ABT                Health Care   39.60      15.573\n",
              "ABBV               Health Care   53.95       2.954\n",
              "ACN     Information Technology   79.79       8.326\n",
              "ACE                 Financials  102.91      86.897\n",
              "...                        ...     ...         ...\n",
              "YHOO    Information Technology   35.02      12.768\n",
              "YUM     Consumer Discretionary   74.77       5.147\n",
              "ZMH                Health Care  101.84      37.181\n",
              "ZION                Financials   28.43      30.191\n",
              "ZTS                Health Care   30.53       2.150\n",
              "\n",
              "[500 rows x 3 columns]"
            ]
          },
          "metadata": {
            "tags": []
          },
          "execution_count": 82
        }
      ]
    },
    {
      "cell_type": "code",
      "metadata": {
        "hidden": true,
        "colab": {
          "base_uri": "https://localhost:8080/"
        },
        "id": "aN2K-9cpOYPN",
        "outputId": "f4a05863-5437-4a2b-89c1-a5578fade07d"
      },
      "source": [
        "pd.options.display.max_rows"
      ],
      "execution_count": 83,
      "outputs": [
        {
          "output_type": "execute_result",
          "data": {
            "text/plain": [
              "10"
            ]
          },
          "metadata": {
            "tags": []
          },
          "execution_count": 83
        }
      ]
    },
    {
      "cell_type": "markdown",
      "metadata": {
        "heading_collapsed": true,
        "id": "BmrkX7MfOYPN"
      },
      "source": [
        "### Срезы данных"
      ]
    },
    {
      "cell_type": "markdown",
      "metadata": {
        "heading_collapsed": true,
        "hidden": true,
        "id": "NquTaZJlOYPO"
      },
      "source": [
        "#### Series"
      ]
    },
    {
      "cell_type": "markdown",
      "metadata": {
        "hidden": true,
        "id": "TPTd_nK4OYPO"
      },
      "source": [
        "Задаём срез по правилу: [начальная позиция: конечная позиция: величина шага], при этом:\n",
        "- Правая граница - не включается\n",
        "- Шаг может быть отрицательным\n",
        "- Позиция также может быть отрицательной - тогда отсчёт происходит \"с другого конца\"\n",
        "- Нумерация происходит от нуля"
      ]
    },
    {
      "cell_type": "code",
      "metadata": {
        "hidden": true,
        "colab": {
          "base_uri": "https://localhost:8080/"
        },
        "id": "T1uf3Rx-OYPP",
        "outputId": "6c4e4a4f-b4c2-4570-bab0-28347e3147e3"
      },
      "source": [
        "numbers"
      ],
      "execution_count": 84,
      "outputs": [
        {
          "output_type": "execute_result",
          "data": {
            "text/plain": [
              "25   -1.085631\n",
              "26    0.997345\n",
              "27    0.282978\n",
              "28   -1.506295\n",
              "29   -0.578600\n",
              "30    1.651437\n",
              "31   -2.426679\n",
              "32   -0.428913\n",
              "33    1.265936\n",
              "34   -0.866740\n",
              "dtype: float64"
            ]
          },
          "metadata": {
            "tags": []
          },
          "execution_count": 84
        }
      ]
    },
    {
      "cell_type": "markdown",
      "metadata": {
        "hidden": true,
        "id": "8a1QRGUoOYPP"
      },
      "source": [
        "срез, содержащий элементы с позициями от 1 по 5"
      ]
    },
    {
      "cell_type": "code",
      "metadata": {
        "hidden": true,
        "colab": {
          "base_uri": "https://localhost:8080/"
        },
        "id": "ScluILaUOYPP",
        "outputId": "ec173b82-1668-49f7-edc5-3b00ec8372b3"
      },
      "source": [
        "numbers.iloc[1:6]"
      ],
      "execution_count": 85,
      "outputs": [
        {
          "output_type": "execute_result",
          "data": {
            "text/plain": [
              "26    0.997345\n",
              "27    0.282978\n",
              "28   -1.506295\n",
              "29   -0.578600\n",
              "30    1.651437\n",
              "dtype: float64"
            ]
          },
          "metadata": {
            "tags": []
          },
          "execution_count": 85
        }
      ]
    },
    {
      "cell_type": "markdown",
      "metadata": {
        "hidden": true,
        "id": "MB5ZCuMaOYPQ"
      },
      "source": [
        "выбираем элементы в позициях 1, 3, 5 == выбираем элементы с 1 по 5 позицию с шагом 2"
      ]
    },
    {
      "cell_type": "code",
      "metadata": {
        "hidden": true,
        "colab": {
          "base_uri": "https://localhost:8080/"
        },
        "id": "Z8kvnenbOYPQ",
        "outputId": "012ba693-28a2-45db-a7ca-6d7f11862b75"
      },
      "source": [
        "numbers.iloc[1:6:2]"
      ],
      "execution_count": 86,
      "outputs": [
        {
          "output_type": "execute_result",
          "data": {
            "text/plain": [
              "26    0.997345\n",
              "28   -1.506295\n",
              "30    1.651437\n",
              "dtype: float64"
            ]
          },
          "metadata": {
            "tags": []
          },
          "execution_count": 86
        }
      ]
    },
    {
      "cell_type": "markdown",
      "metadata": {
        "hidden": true,
        "id": "sbbgRDwSOYPQ"
      },
      "source": [
        "можем оставить только конечную позицию"
      ]
    },
    {
      "cell_type": "code",
      "metadata": {
        "hidden": true,
        "colab": {
          "base_uri": "https://localhost:8080/"
        },
        "id": "KbuTkdp0OYPR",
        "outputId": "494979b7-9b10-4d8e-e043-99e8f697a2d1"
      },
      "source": [
        "numbers.iloc[:6]"
      ],
      "execution_count": 87,
      "outputs": [
        {
          "output_type": "execute_result",
          "data": {
            "text/plain": [
              "25   -1.085631\n",
              "26    0.997345\n",
              "27    0.282978\n",
              "28   -1.506295\n",
              "29   -0.578600\n",
              "30    1.651437\n",
              "dtype: float64"
            ]
          },
          "metadata": {
            "tags": []
          },
          "execution_count": 87
        }
      ]
    },
    {
      "cell_type": "markdown",
      "metadata": {
        "hidden": true,
        "id": "lYoRiT9oOYPR"
      },
      "source": [
        "либо оставим только начальную позицию"
      ]
    },
    {
      "cell_type": "code",
      "metadata": {
        "hidden": true,
        "colab": {
          "base_uri": "https://localhost:8080/"
        },
        "id": "S7FRciGFOYPR",
        "outputId": "8a29df36-7bdc-4e23-e526-c7f1481181f4"
      },
      "source": [
        "numbers.iloc[3:]"
      ],
      "execution_count": 88,
      "outputs": [
        {
          "output_type": "execute_result",
          "data": {
            "text/plain": [
              "28   -1.506295\n",
              "29   -0.578600\n",
              "30    1.651437\n",
              "31   -2.426679\n",
              "32   -0.428913\n",
              "33    1.265936\n",
              "34   -0.866740\n",
              "dtype: float64"
            ]
          },
          "metadata": {
            "tags": []
          },
          "execution_count": 88
        }
      ]
    },
    {
      "cell_type": "markdown",
      "metadata": {
        "hidden": true,
        "id": "DjnyxWnlOYPS"
      },
      "source": [
        "отбираем элементы Series в обратном порядке, начиная с 5"
      ]
    },
    {
      "cell_type": "code",
      "metadata": {
        "hidden": true,
        "colab": {
          "base_uri": "https://localhost:8080/"
        },
        "id": "hODB9biNOYPS",
        "outputId": "e8a9a64f-1762-4469-ea9f-d41718269bf4"
      },
      "source": [
        "numbers.iloc[5::-1]"
      ],
      "execution_count": 89,
      "outputs": [
        {
          "output_type": "execute_result",
          "data": {
            "text/plain": [
              "30    1.651437\n",
              "29   -0.578600\n",
              "28   -1.506295\n",
              "27    0.282978\n",
              "26    0.997345\n",
              "25   -1.085631\n",
              "dtype: float64"
            ]
          },
          "metadata": {
            "tags": []
          },
          "execution_count": 89
        }
      ]
    },
    {
      "cell_type": "markdown",
      "metadata": {
        "hidden": true,
        "id": "uCuHwzGJOYPS"
      },
      "source": [
        "отбор 4 последних строк"
      ]
    },
    {
      "cell_type": "code",
      "metadata": {
        "hidden": true,
        "colab": {
          "base_uri": "https://localhost:8080/"
        },
        "id": "3TVKXiRcOYPT",
        "outputId": "0f08f26c-33ac-42cc-cb71-88f6f0cda71d"
      },
      "source": [
        "numbers.iloc[-4:]"
      ],
      "execution_count": 90,
      "outputs": [
        {
          "output_type": "execute_result",
          "data": {
            "text/plain": [
              "31   -2.426679\n",
              "32   -0.428913\n",
              "33    1.265936\n",
              "34   -0.866740\n",
              "dtype: float64"
            ]
          },
          "metadata": {
            "tags": []
          },
          "execution_count": 90
        }
      ]
    },
    {
      "cell_type": "markdown",
      "metadata": {
        "heading_collapsed": true,
        "hidden": true,
        "id": "9aicvX8XOYPT"
      },
      "source": [
        "####  DataFrame"
      ]
    },
    {
      "cell_type": "code",
      "metadata": {
        "hidden": true,
        "colab": {
          "base_uri": "https://localhost:8080/",
          "height": 235
        },
        "id": "2obOs4WuOYPT",
        "outputId": "228ebd7e-ca58-41bb-c0f0-67feed65e150"
      },
      "source": [
        "sp500.iloc[:5]"
      ],
      "execution_count": 91,
      "outputs": [
        {
          "output_type": "execute_result",
          "data": {
            "text/html": [
              "<div>\n",
              "<style scoped>\n",
              "    .dataframe tbody tr th:only-of-type {\n",
              "        vertical-align: middle;\n",
              "    }\n",
              "\n",
              "    .dataframe tbody tr th {\n",
              "        vertical-align: top;\n",
              "    }\n",
              "\n",
              "    .dataframe thead th {\n",
              "        text-align: right;\n",
              "    }\n",
              "</style>\n",
              "<table border=\"1\" class=\"dataframe\">\n",
              "  <thead>\n",
              "    <tr style=\"text-align: right;\">\n",
              "      <th></th>\n",
              "      <th>Sector</th>\n",
              "      <th>Price</th>\n",
              "      <th>Book Value</th>\n",
              "    </tr>\n",
              "    <tr>\n",
              "      <th>Symbol</th>\n",
              "      <th></th>\n",
              "      <th></th>\n",
              "      <th></th>\n",
              "    </tr>\n",
              "  </thead>\n",
              "  <tbody>\n",
              "    <tr>\n",
              "      <th>MMM</th>\n",
              "      <td>Industrials</td>\n",
              "      <td>141.14</td>\n",
              "      <td>26.668</td>\n",
              "    </tr>\n",
              "    <tr>\n",
              "      <th>ABT</th>\n",
              "      <td>Health Care</td>\n",
              "      <td>39.60</td>\n",
              "      <td>15.573</td>\n",
              "    </tr>\n",
              "    <tr>\n",
              "      <th>ABBV</th>\n",
              "      <td>Health Care</td>\n",
              "      <td>53.95</td>\n",
              "      <td>2.954</td>\n",
              "    </tr>\n",
              "    <tr>\n",
              "      <th>ACN</th>\n",
              "      <td>Information Technology</td>\n",
              "      <td>79.79</td>\n",
              "      <td>8.326</td>\n",
              "    </tr>\n",
              "    <tr>\n",
              "      <th>ACE</th>\n",
              "      <td>Financials</td>\n",
              "      <td>102.91</td>\n",
              "      <td>86.897</td>\n",
              "    </tr>\n",
              "  </tbody>\n",
              "</table>\n",
              "</div>"
            ],
            "text/plain": [
              "                        Sector   Price  Book Value\n",
              "Symbol                                            \n",
              "MMM                Industrials  141.14      26.668\n",
              "ABT                Health Care   39.60      15.573\n",
              "ABBV               Health Care   53.95       2.954\n",
              "ACN     Information Technology   79.79       8.326\n",
              "ACE                 Financials  102.91      86.897"
            ]
          },
          "metadata": {
            "tags": []
          },
          "execution_count": 91
        }
      ]
    },
    {
      "cell_type": "markdown",
      "metadata": {
        "hidden": true,
        "id": "GqNCQ63SOYPU"
      },
      "source": [
        "в обратном порядке"
      ]
    },
    {
      "cell_type": "code",
      "metadata": {
        "hidden": true,
        "colab": {
          "base_uri": "https://localhost:8080/",
          "height": 235
        },
        "id": "-_6hrFgBOYPU",
        "outputId": "5627cf5b-2349-430b-b90e-6487ea10362f"
      },
      "source": [
        "sp500.iloc[4::-1]"
      ],
      "execution_count": 92,
      "outputs": [
        {
          "output_type": "execute_result",
          "data": {
            "text/html": [
              "<div>\n",
              "<style scoped>\n",
              "    .dataframe tbody tr th:only-of-type {\n",
              "        vertical-align: middle;\n",
              "    }\n",
              "\n",
              "    .dataframe tbody tr th {\n",
              "        vertical-align: top;\n",
              "    }\n",
              "\n",
              "    .dataframe thead th {\n",
              "        text-align: right;\n",
              "    }\n",
              "</style>\n",
              "<table border=\"1\" class=\"dataframe\">\n",
              "  <thead>\n",
              "    <tr style=\"text-align: right;\">\n",
              "      <th></th>\n",
              "      <th>Sector</th>\n",
              "      <th>Price</th>\n",
              "      <th>Book Value</th>\n",
              "    </tr>\n",
              "    <tr>\n",
              "      <th>Symbol</th>\n",
              "      <th></th>\n",
              "      <th></th>\n",
              "      <th></th>\n",
              "    </tr>\n",
              "  </thead>\n",
              "  <tbody>\n",
              "    <tr>\n",
              "      <th>ACE</th>\n",
              "      <td>Financials</td>\n",
              "      <td>102.91</td>\n",
              "      <td>86.897</td>\n",
              "    </tr>\n",
              "    <tr>\n",
              "      <th>ACN</th>\n",
              "      <td>Information Technology</td>\n",
              "      <td>79.79</td>\n",
              "      <td>8.326</td>\n",
              "    </tr>\n",
              "    <tr>\n",
              "      <th>ABBV</th>\n",
              "      <td>Health Care</td>\n",
              "      <td>53.95</td>\n",
              "      <td>2.954</td>\n",
              "    </tr>\n",
              "    <tr>\n",
              "      <th>ABT</th>\n",
              "      <td>Health Care</td>\n",
              "      <td>39.60</td>\n",
              "      <td>15.573</td>\n",
              "    </tr>\n",
              "    <tr>\n",
              "      <th>MMM</th>\n",
              "      <td>Industrials</td>\n",
              "      <td>141.14</td>\n",
              "      <td>26.668</td>\n",
              "    </tr>\n",
              "  </tbody>\n",
              "</table>\n",
              "</div>"
            ],
            "text/plain": [
              "                        Sector   Price  Book Value\n",
              "Symbol                                            \n",
              "ACE                 Financials  102.91      86.897\n",
              "ACN     Information Technology   79.79       8.326\n",
              "ABBV               Health Care   53.95       2.954\n",
              "ABT                Health Care   39.60      15.573\n",
              "MMM                Industrials  141.14      26.668"
            ]
          },
          "metadata": {
            "tags": []
          },
          "execution_count": 92
        }
      ]
    },
    {
      "cell_type": "markdown",
      "metadata": {
        "hidden": true,
        "id": "sPAUNhBPOYPU"
      },
      "source": [
        "строки, начиная с метки ABT и заканчивая меткой ACN"
      ]
    },
    {
      "cell_type": "code",
      "metadata": {
        "hidden": true,
        "colab": {
          "base_uri": "https://localhost:8080/",
          "height": 173
        },
        "id": "-WyPzinJOYPV",
        "outputId": "7d98c6ca-064d-420f-ad53-0db8ebbf2b4b"
      },
      "source": [
        "sp500.loc['ABT':'ACN']"
      ],
      "execution_count": 93,
      "outputs": [
        {
          "output_type": "execute_result",
          "data": {
            "text/html": [
              "<div>\n",
              "<style scoped>\n",
              "    .dataframe tbody tr th:only-of-type {\n",
              "        vertical-align: middle;\n",
              "    }\n",
              "\n",
              "    .dataframe tbody tr th {\n",
              "        vertical-align: top;\n",
              "    }\n",
              "\n",
              "    .dataframe thead th {\n",
              "        text-align: right;\n",
              "    }\n",
              "</style>\n",
              "<table border=\"1\" class=\"dataframe\">\n",
              "  <thead>\n",
              "    <tr style=\"text-align: right;\">\n",
              "      <th></th>\n",
              "      <th>Sector</th>\n",
              "      <th>Price</th>\n",
              "      <th>Book Value</th>\n",
              "    </tr>\n",
              "    <tr>\n",
              "      <th>Symbol</th>\n",
              "      <th></th>\n",
              "      <th></th>\n",
              "      <th></th>\n",
              "    </tr>\n",
              "  </thead>\n",
              "  <tbody>\n",
              "    <tr>\n",
              "      <th>ABT</th>\n",
              "      <td>Health Care</td>\n",
              "      <td>39.60</td>\n",
              "      <td>15.573</td>\n",
              "    </tr>\n",
              "    <tr>\n",
              "      <th>ABBV</th>\n",
              "      <td>Health Care</td>\n",
              "      <td>53.95</td>\n",
              "      <td>2.954</td>\n",
              "    </tr>\n",
              "    <tr>\n",
              "      <th>ACN</th>\n",
              "      <td>Information Technology</td>\n",
              "      <td>79.79</td>\n",
              "      <td>8.326</td>\n",
              "    </tr>\n",
              "  </tbody>\n",
              "</table>\n",
              "</div>"
            ],
            "text/plain": [
              "                        Sector  Price  Book Value\n",
              "Symbol                                           \n",
              "ABT                Health Care  39.60      15.573\n",
              "ABBV               Health Care  53.95       2.954\n",
              "ACN     Information Technology  79.79       8.326"
            ]
          },
          "metadata": {
            "tags": []
          },
          "execution_count": 93
        }
      ]
    },
    {
      "cell_type": "markdown",
      "metadata": {
        "heading_collapsed": true,
        "id": "Ron8oEGKOYPV"
      },
      "source": [
        "### Копирование и ссылки"
      ]
    },
    {
      "cell_type": "code",
      "metadata": {
        "hidden": true,
        "colab": {
          "base_uri": "https://localhost:8080/"
        },
        "id": "8VWeEz0EOYPV",
        "outputId": "cf7677c3-51e5-4b22-f1a8-11d385703caa"
      },
      "source": [
        "numbers"
      ],
      "execution_count": 94,
      "outputs": [
        {
          "output_type": "execute_result",
          "data": {
            "text/plain": [
              "25   -1.085631\n",
              "26    0.997345\n",
              "27    0.282978\n",
              "28   -1.506295\n",
              "29   -0.578600\n",
              "30    1.651437\n",
              "31   -2.426679\n",
              "32   -0.428913\n",
              "33    1.265936\n",
              "34   -0.866740\n",
              "dtype: float64"
            ]
          },
          "metadata": {
            "tags": []
          },
          "execution_count": 94
        }
      ]
    },
    {
      "cell_type": "markdown",
      "metadata": {
        "hidden": true,
        "id": "K_u5tFM4OYPV"
      },
      "source": [
        "элементы с 1 по 4"
      ]
    },
    {
      "cell_type": "code",
      "metadata": {
        "hidden": true,
        "colab": {
          "base_uri": "https://localhost:8080/"
        },
        "id": "LTheJS0DOYPW",
        "outputId": "26710600-f4a3-4bfb-ad1a-d329a408b272"
      },
      "source": [
        "numbers.iloc[[1,2,3,4]]"
      ],
      "execution_count": 95,
      "outputs": [
        {
          "output_type": "execute_result",
          "data": {
            "text/plain": [
              "26    0.997345\n",
              "27    0.282978\n",
              "28   -1.506295\n",
              "29   -0.578600\n",
              "dtype: float64"
            ]
          },
          "metadata": {
            "tags": []
          },
          "execution_count": 95
        }
      ]
    },
    {
      "cell_type": "markdown",
      "metadata": {
        "hidden": true,
        "id": "QU5d988mOYPW"
      },
      "source": [
        "сохранили в переменную n"
      ]
    },
    {
      "cell_type": "code",
      "metadata": {
        "hidden": true,
        "id": "OSA4JVpiOYPW"
      },
      "source": [
        "n = numbers.iloc[[1,2,3,4]]"
      ],
      "execution_count": 96,
      "outputs": []
    },
    {
      "cell_type": "code",
      "metadata": {
        "hidden": true,
        "colab": {
          "base_uri": "https://localhost:8080/"
        },
        "id": "z9J1xAk3OYPX",
        "outputId": "0698ed1e-4fe3-488b-8f31-d0ece22137f8"
      },
      "source": [
        "n"
      ],
      "execution_count": 97,
      "outputs": [
        {
          "output_type": "execute_result",
          "data": {
            "text/plain": [
              "26    0.997345\n",
              "27    0.282978\n",
              "28   -1.506295\n",
              "29   -0.578600\n",
              "dtype: float64"
            ]
          },
          "metadata": {
            "tags": []
          },
          "execution_count": 97
        }
      ]
    },
    {
      "cell_type": "markdown",
      "metadata": {
        "hidden": true,
        "id": "CqGR9cvcOYPX"
      },
      "source": [
        "присваиваем значение 0 всем элементам"
      ]
    },
    {
      "cell_type": "code",
      "metadata": {
        "hidden": true,
        "colab": {
          "base_uri": "https://localhost:8080/"
        },
        "id": "KSPNLwzCOYPY",
        "outputId": "9d76413a-a17f-4fce-8aa9-99824f589414"
      },
      "source": [
        "n.loc[:] = 0\n",
        "n"
      ],
      "execution_count": 98,
      "outputs": [
        {
          "output_type": "execute_result",
          "data": {
            "text/plain": [
              "26    0.0\n",
              "27    0.0\n",
              "28    0.0\n",
              "29    0.0\n",
              "dtype: float64"
            ]
          },
          "metadata": {
            "tags": []
          },
          "execution_count": 98
        }
      ]
    },
    {
      "cell_type": "markdown",
      "metadata": {
        "hidden": true,
        "id": "UaDjgUYpOYPY"
      },
      "source": [
        "что-нибудь произошло с numbers?"
      ]
    },
    {
      "cell_type": "code",
      "metadata": {
        "hidden": true,
        "colab": {
          "base_uri": "https://localhost:8080/"
        },
        "id": "9zMPdQpMOYPY",
        "outputId": "35bf73c1-6d47-43f0-9986-110910e4327a"
      },
      "source": [
        "numbers"
      ],
      "execution_count": 99,
      "outputs": [
        {
          "output_type": "execute_result",
          "data": {
            "text/plain": [
              "25   -1.085631\n",
              "26    0.997345\n",
              "27    0.282978\n",
              "28   -1.506295\n",
              "29   -0.578600\n",
              "30    1.651437\n",
              "31   -2.426679\n",
              "32   -0.428913\n",
              "33    1.265936\n",
              "34   -0.866740\n",
              "dtype: float64"
            ]
          },
          "metadata": {
            "tags": []
          },
          "execution_count": 99
        }
      ]
    },
    {
      "cell_type": "markdown",
      "metadata": {
        "hidden": true,
        "id": "r1nxyx3OOYPZ"
      },
      "source": [
        "еще раз сохраним первые 4 элемента"
      ]
    },
    {
      "cell_type": "code",
      "metadata": {
        "hidden": true,
        "colab": {
          "base_uri": "https://localhost:8080/"
        },
        "id": "zNpkeePpOYPZ",
        "outputId": "6bed18ff-37a1-4727-f647-e2081497c643"
      },
      "source": [
        "n = numbers.iloc[[1,2,3,4]]\n",
        "n"
      ],
      "execution_count": 100,
      "outputs": [
        {
          "output_type": "execute_result",
          "data": {
            "text/plain": [
              "26    0.997345\n",
              "27    0.282978\n",
              "28   -1.506295\n",
              "29   -0.578600\n",
              "dtype: float64"
            ]
          },
          "metadata": {
            "tags": []
          },
          "execution_count": 100
        }
      ]
    },
    {
      "cell_type": "markdown",
      "metadata": {
        "hidden": true,
        "id": "F1Q-fhM0OYPZ"
      },
      "source": [
        "создаем переменную k = срез с 1 по 4 элемент"
      ]
    },
    {
      "cell_type": "code",
      "metadata": {
        "hidden": true,
        "colab": {
          "base_uri": "https://localhost:8080/"
        },
        "id": "tyQoQ6nnOYPa",
        "outputId": "c5919e00-1c9b-4879-bafe-4d069ebb5f19"
      },
      "source": [
        "k = numbers[1:5]\n",
        "k.loc[:] = 0\n",
        "k"
      ],
      "execution_count": 101,
      "outputs": [
        {
          "output_type": "execute_result",
          "data": {
            "text/plain": [
              "26    0.0\n",
              "27    0.0\n",
              "28    0.0\n",
              "29    0.0\n",
              "dtype: float64"
            ]
          },
          "metadata": {
            "tags": []
          },
          "execution_count": 101
        }
      ]
    },
    {
      "cell_type": "code",
      "metadata": {
        "hidden": true,
        "colab": {
          "base_uri": "https://localhost:8080/"
        },
        "id": "Hp72QBTsOYPa",
        "outputId": "16c92cac-0065-4e3e-d356-466e5be4b2c4"
      },
      "source": [
        "numbers"
      ],
      "execution_count": 102,
      "outputs": [
        {
          "output_type": "execute_result",
          "data": {
            "text/plain": [
              "25   -1.085631\n",
              "26    0.000000\n",
              "27    0.000000\n",
              "28    0.000000\n",
              "29    0.000000\n",
              "30    1.651437\n",
              "31   -2.426679\n",
              "32   -0.428913\n",
              "33    1.265936\n",
              "34   -0.866740\n",
              "dtype: float64"
            ]
          },
          "metadata": {
            "tags": []
          },
          "execution_count": 102
        }
      ]
    },
    {
      "cell_type": "markdown",
      "metadata": {
        "hidden": true,
        "id": "z8ek_XVWOYPa"
      },
      "source": [
        "воcстановили numbers"
      ]
    },
    {
      "cell_type": "code",
      "metadata": {
        "hidden": true,
        "colab": {
          "base_uri": "https://localhost:8080/"
        },
        "id": "HAxNo9MuOYPb",
        "outputId": "9218b350-2e88-4972-b6cd-99ff766fb3b9"
      },
      "source": [
        "numbers[1:5] = n\n",
        "numbers"
      ],
      "execution_count": 103,
      "outputs": [
        {
          "output_type": "execute_result",
          "data": {
            "text/plain": [
              "25   -1.085631\n",
              "26    0.997345\n",
              "27    0.282978\n",
              "28   -1.506295\n",
              "29   -0.578600\n",
              "30    1.651437\n",
              "31   -2.426679\n",
              "32   -0.428913\n",
              "33    1.265936\n",
              "34   -0.866740\n",
              "dtype: float64"
            ]
          },
          "metadata": {
            "tags": []
          },
          "execution_count": 103
        }
      ]
    },
    {
      "cell_type": "markdown",
      "metadata": {
        "heading_collapsed": true,
        "id": "ac-N3xcpOYPb"
      },
      "source": [
        "###  Удаление "
      ]
    },
    {
      "cell_type": "markdown",
      "metadata": {
        "heading_collapsed": true,
        "hidden": true,
        "id": "A8GCbS1sOYPb"
      },
      "source": [
        "#### del"
      ]
    },
    {
      "cell_type": "markdown",
      "metadata": {
        "hidden": true,
        "id": "7DdakDyNOYPd"
      },
      "source": [
        "Series"
      ]
    },
    {
      "cell_type": "code",
      "metadata": {
        "hidden": true,
        "colab": {
          "base_uri": "https://localhost:8080/"
        },
        "id": "5jgOLdpdOYPe",
        "outputId": "689fa7bb-fa09-47cb-ed5a-a6e5d478f5c0"
      },
      "source": [
        "Simpsons"
      ],
      "execution_count": 104,
      "outputs": [
        {
          "output_type": "execute_result",
          "data": {
            "text/plain": [
              "First name\n",
              "Homer     120\n",
              "Marge      60\n",
              "Bart       35\n",
              "Lisa       30\n",
              "Maggie      7\n",
              "Name: Simpsons weight, dtype: int64"
            ]
          },
          "metadata": {
            "tags": []
          },
          "execution_count": 104
        }
      ]
    },
    {
      "cell_type": "code",
      "metadata": {
        "hidden": true,
        "colab": {
          "base_uri": "https://localhost:8080/"
        },
        "id": "Nye7A3oWOYPe",
        "outputId": "02da9999-d7b0-4478-faa1-7832eeb51375"
      },
      "source": [
        "Simpsons_copy = Simpsons.copy()\n",
        "del Simpsons_copy['Maggie']\n",
        "Simpsons_copy"
      ],
      "execution_count": 105,
      "outputs": [
        {
          "output_type": "execute_result",
          "data": {
            "text/plain": [
              "First name\n",
              "Homer    120\n",
              "Marge     60\n",
              "Bart      35\n",
              "Lisa      30\n",
              "Name: Simpsons weight, dtype: int64"
            ]
          },
          "metadata": {
            "tags": []
          },
          "execution_count": 105
        }
      ]
    },
    {
      "cell_type": "markdown",
      "metadata": {
        "hidden": true,
        "id": "HFuiffCJOYPe"
      },
      "source": [
        "DataFrame"
      ]
    },
    {
      "cell_type": "code",
      "metadata": {
        "hidden": true,
        "colab": {
          "base_uri": "https://localhost:8080/",
          "height": 235
        },
        "id": "l6q9rBhgOYPf",
        "outputId": "1a08259b-0b7e-44cf-ef4c-110fb7f1accc"
      },
      "source": [
        "sp500.head()"
      ],
      "execution_count": 106,
      "outputs": [
        {
          "output_type": "execute_result",
          "data": {
            "text/html": [
              "<div>\n",
              "<style scoped>\n",
              "    .dataframe tbody tr th:only-of-type {\n",
              "        vertical-align: middle;\n",
              "    }\n",
              "\n",
              "    .dataframe tbody tr th {\n",
              "        vertical-align: top;\n",
              "    }\n",
              "\n",
              "    .dataframe thead th {\n",
              "        text-align: right;\n",
              "    }\n",
              "</style>\n",
              "<table border=\"1\" class=\"dataframe\">\n",
              "  <thead>\n",
              "    <tr style=\"text-align: right;\">\n",
              "      <th></th>\n",
              "      <th>Sector</th>\n",
              "      <th>Price</th>\n",
              "      <th>Book Value</th>\n",
              "    </tr>\n",
              "    <tr>\n",
              "      <th>Symbol</th>\n",
              "      <th></th>\n",
              "      <th></th>\n",
              "      <th></th>\n",
              "    </tr>\n",
              "  </thead>\n",
              "  <tbody>\n",
              "    <tr>\n",
              "      <th>MMM</th>\n",
              "      <td>Industrials</td>\n",
              "      <td>141.14</td>\n",
              "      <td>26.668</td>\n",
              "    </tr>\n",
              "    <tr>\n",
              "      <th>ABT</th>\n",
              "      <td>Health Care</td>\n",
              "      <td>39.60</td>\n",
              "      <td>15.573</td>\n",
              "    </tr>\n",
              "    <tr>\n",
              "      <th>ABBV</th>\n",
              "      <td>Health Care</td>\n",
              "      <td>53.95</td>\n",
              "      <td>2.954</td>\n",
              "    </tr>\n",
              "    <tr>\n",
              "      <th>ACN</th>\n",
              "      <td>Information Technology</td>\n",
              "      <td>79.79</td>\n",
              "      <td>8.326</td>\n",
              "    </tr>\n",
              "    <tr>\n",
              "      <th>ACE</th>\n",
              "      <td>Financials</td>\n",
              "      <td>102.91</td>\n",
              "      <td>86.897</td>\n",
              "    </tr>\n",
              "  </tbody>\n",
              "</table>\n",
              "</div>"
            ],
            "text/plain": [
              "                        Sector   Price  Book Value\n",
              "Symbol                                            \n",
              "MMM                Industrials  141.14      26.668\n",
              "ABT                Health Care   39.60      15.573\n",
              "ABBV               Health Care   53.95       2.954\n",
              "ACN     Information Technology   79.79       8.326\n",
              "ACE                 Financials  102.91      86.897"
            ]
          },
          "metadata": {
            "tags": []
          },
          "execution_count": 106
        }
      ]
    },
    {
      "cell_type": "code",
      "metadata": {
        "hidden": true,
        "colab": {
          "base_uri": "https://localhost:8080/",
          "height": 142
        },
        "id": "6diSC65rOYPf",
        "outputId": "a3e88207-852e-48bc-f0db-c143bbf782b9"
      },
      "source": [
        "sp500_copy = sp500.copy()\n",
        "del sp500_copy['Price']\n",
        "sp500_copy.iloc[:2]"
      ],
      "execution_count": 107,
      "outputs": [
        {
          "output_type": "execute_result",
          "data": {
            "text/html": [
              "<div>\n",
              "<style scoped>\n",
              "    .dataframe tbody tr th:only-of-type {\n",
              "        vertical-align: middle;\n",
              "    }\n",
              "\n",
              "    .dataframe tbody tr th {\n",
              "        vertical-align: top;\n",
              "    }\n",
              "\n",
              "    .dataframe thead th {\n",
              "        text-align: right;\n",
              "    }\n",
              "</style>\n",
              "<table border=\"1\" class=\"dataframe\">\n",
              "  <thead>\n",
              "    <tr style=\"text-align: right;\">\n",
              "      <th></th>\n",
              "      <th>Sector</th>\n",
              "      <th>Book Value</th>\n",
              "    </tr>\n",
              "    <tr>\n",
              "      <th>Symbol</th>\n",
              "      <th></th>\n",
              "      <th></th>\n",
              "    </tr>\n",
              "  </thead>\n",
              "  <tbody>\n",
              "    <tr>\n",
              "      <th>MMM</th>\n",
              "      <td>Industrials</td>\n",
              "      <td>26.668</td>\n",
              "    </tr>\n",
              "    <tr>\n",
              "      <th>ABT</th>\n",
              "      <td>Health Care</td>\n",
              "      <td>15.573</td>\n",
              "    </tr>\n",
              "  </tbody>\n",
              "</table>\n",
              "</div>"
            ],
            "text/plain": [
              "             Sector  Book Value\n",
              "Symbol                         \n",
              "MMM     Industrials      26.668\n",
              "ABT     Health Care      15.573"
            ]
          },
          "metadata": {
            "tags": []
          },
          "execution_count": 107
        }
      ]
    },
    {
      "cell_type": "markdown",
      "metadata": {
        "heading_collapsed": true,
        "hidden": true,
        "id": "HqDj2qs0OYPg"
      },
      "source": [
        "#### pop "
      ]
    },
    {
      "cell_type": "code",
      "metadata": {
        "hidden": true,
        "id": "F1tIqLChOYPg"
      },
      "source": [
        "sp500_copy = sp500.copy()"
      ],
      "execution_count": 108,
      "outputs": []
    },
    {
      "cell_type": "code",
      "metadata": {
        "hidden": true,
        "colab": {
          "base_uri": "https://localhost:8080/",
          "height": 173
        },
        "id": "AvRuqUKOOYPg",
        "outputId": "63644dc7-ca53-412d-ed9f-7b88cc0ae1f1"
      },
      "source": [
        "sp500_copy.head(3)"
      ],
      "execution_count": 109,
      "outputs": [
        {
          "output_type": "execute_result",
          "data": {
            "text/html": [
              "<div>\n",
              "<style scoped>\n",
              "    .dataframe tbody tr th:only-of-type {\n",
              "        vertical-align: middle;\n",
              "    }\n",
              "\n",
              "    .dataframe tbody tr th {\n",
              "        vertical-align: top;\n",
              "    }\n",
              "\n",
              "    .dataframe thead th {\n",
              "        text-align: right;\n",
              "    }\n",
              "</style>\n",
              "<table border=\"1\" class=\"dataframe\">\n",
              "  <thead>\n",
              "    <tr style=\"text-align: right;\">\n",
              "      <th></th>\n",
              "      <th>Sector</th>\n",
              "      <th>Price</th>\n",
              "      <th>Book Value</th>\n",
              "    </tr>\n",
              "    <tr>\n",
              "      <th>Symbol</th>\n",
              "      <th></th>\n",
              "      <th></th>\n",
              "      <th></th>\n",
              "    </tr>\n",
              "  </thead>\n",
              "  <tbody>\n",
              "    <tr>\n",
              "      <th>MMM</th>\n",
              "      <td>Industrials</td>\n",
              "      <td>141.14</td>\n",
              "      <td>26.668</td>\n",
              "    </tr>\n",
              "    <tr>\n",
              "      <th>ABT</th>\n",
              "      <td>Health Care</td>\n",
              "      <td>39.60</td>\n",
              "      <td>15.573</td>\n",
              "    </tr>\n",
              "    <tr>\n",
              "      <th>ABBV</th>\n",
              "      <td>Health Care</td>\n",
              "      <td>53.95</td>\n",
              "      <td>2.954</td>\n",
              "    </tr>\n",
              "  </tbody>\n",
              "</table>\n",
              "</div>"
            ],
            "text/plain": [
              "             Sector   Price  Book Value\n",
              "Symbol                                 \n",
              "MMM     Industrials  141.14      26.668\n",
              "ABT     Health Care   39.60      15.573\n",
              "ABBV    Health Care   53.95       2.954"
            ]
          },
          "metadata": {
            "tags": []
          },
          "execution_count": 109
        }
      ]
    },
    {
      "cell_type": "markdown",
      "metadata": {
        "hidden": true,
        "id": "FQtKniXSOYPh"
      },
      "source": [
        "эта строка удалит столбец Sector и возвратит его как серию"
      ]
    },
    {
      "cell_type": "code",
      "metadata": {
        "hidden": true,
        "id": "4sTHA4hGOYPh"
      },
      "source": [
        "popped_column = sp500_copy.pop('Sector')"
      ],
      "execution_count": 110,
      "outputs": []
    },
    {
      "cell_type": "markdown",
      "metadata": {
        "hidden": true,
        "id": "v-fZHm4pOYPh"
      },
      "source": [
        "столбец Sector удален на месте"
      ]
    },
    {
      "cell_type": "code",
      "metadata": {
        "hidden": true,
        "colab": {
          "base_uri": "https://localhost:8080/",
          "height": 173
        },
        "id": "BWdNtA-pOYPi",
        "outputId": "66c98b95-fc22-449e-bb73-92687f8abb9b"
      },
      "source": [
        "sp500_copy.head(3)"
      ],
      "execution_count": 111,
      "outputs": [
        {
          "output_type": "execute_result",
          "data": {
            "text/html": [
              "<div>\n",
              "<style scoped>\n",
              "    .dataframe tbody tr th:only-of-type {\n",
              "        vertical-align: middle;\n",
              "    }\n",
              "\n",
              "    .dataframe tbody tr th {\n",
              "        vertical-align: top;\n",
              "    }\n",
              "\n",
              "    .dataframe thead th {\n",
              "        text-align: right;\n",
              "    }\n",
              "</style>\n",
              "<table border=\"1\" class=\"dataframe\">\n",
              "  <thead>\n",
              "    <tr style=\"text-align: right;\">\n",
              "      <th></th>\n",
              "      <th>Price</th>\n",
              "      <th>Book Value</th>\n",
              "    </tr>\n",
              "    <tr>\n",
              "      <th>Symbol</th>\n",
              "      <th></th>\n",
              "      <th></th>\n",
              "    </tr>\n",
              "  </thead>\n",
              "  <tbody>\n",
              "    <tr>\n",
              "      <th>MMM</th>\n",
              "      <td>141.14</td>\n",
              "      <td>26.668</td>\n",
              "    </tr>\n",
              "    <tr>\n",
              "      <th>ABT</th>\n",
              "      <td>39.60</td>\n",
              "      <td>15.573</td>\n",
              "    </tr>\n",
              "    <tr>\n",
              "      <th>ABBV</th>\n",
              "      <td>53.95</td>\n",
              "      <td>2.954</td>\n",
              "    </tr>\n",
              "  </tbody>\n",
              "</table>\n",
              "</div>"
            ],
            "text/plain": [
              "         Price  Book Value\n",
              "Symbol                    \n",
              "MMM     141.14      26.668\n",
              "ABT      39.60      15.573\n",
              "ABBV     53.95       2.954"
            ]
          },
          "metadata": {
            "tags": []
          },
          "execution_count": 111
        }
      ]
    },
    {
      "cell_type": "markdown",
      "metadata": {
        "hidden": true,
        "id": "bZwWbfn5OYPi"
      },
      "source": [
        "и у нас есть столбец Sector, полученный в результате применения pop"
      ]
    },
    {
      "cell_type": "code",
      "metadata": {
        "hidden": true,
        "colab": {
          "base_uri": "https://localhost:8080/"
        },
        "id": "3ZKIRuJMOYPj",
        "outputId": "b0ee560b-17c4-42af-c255-5a6cc5172508"
      },
      "source": [
        "popped_column.head(3)"
      ],
      "execution_count": 112,
      "outputs": [
        {
          "output_type": "execute_result",
          "data": {
            "text/plain": [
              "Symbol\n",
              "MMM     Industrials\n",
              "ABT     Health Care\n",
              "ABBV    Health Care\n",
              "Name: Sector, dtype: object"
            ]
          },
          "metadata": {
            "tags": []
          },
          "execution_count": 112
        }
      ]
    },
    {
      "cell_type": "markdown",
      "metadata": {
        "hidden": true,
        "id": "biCtuOGIOYPj"
      },
      "source": [
        "Для Series применение .pop идентично"
      ]
    },
    {
      "cell_type": "markdown",
      "metadata": {
        "heading_collapsed": true,
        "hidden": true,
        "id": "Zvg7la7IOYPk"
      },
      "source": [
        "#### drop "
      ]
    },
    {
      "cell_type": "code",
      "metadata": {
        "hidden": true,
        "id": "NU0_tbmCOYPk"
      },
      "source": [
        "sp500_copy = sp500.copy()"
      ],
      "execution_count": 113,
      "outputs": []
    },
    {
      "cell_type": "code",
      "metadata": {
        "hidden": true,
        "colab": {
          "base_uri": "https://localhost:8080/",
          "height": 173
        },
        "id": "ECZY5nIrOYPl",
        "outputId": "305ccc33-52d7-4200-f235-a9ad4e416424"
      },
      "source": [
        "sp500_copy.head(3)"
      ],
      "execution_count": 114,
      "outputs": [
        {
          "output_type": "execute_result",
          "data": {
            "text/html": [
              "<div>\n",
              "<style scoped>\n",
              "    .dataframe tbody tr th:only-of-type {\n",
              "        vertical-align: middle;\n",
              "    }\n",
              "\n",
              "    .dataframe tbody tr th {\n",
              "        vertical-align: top;\n",
              "    }\n",
              "\n",
              "    .dataframe thead th {\n",
              "        text-align: right;\n",
              "    }\n",
              "</style>\n",
              "<table border=\"1\" class=\"dataframe\">\n",
              "  <thead>\n",
              "    <tr style=\"text-align: right;\">\n",
              "      <th></th>\n",
              "      <th>Sector</th>\n",
              "      <th>Price</th>\n",
              "      <th>Book Value</th>\n",
              "    </tr>\n",
              "    <tr>\n",
              "      <th>Symbol</th>\n",
              "      <th></th>\n",
              "      <th></th>\n",
              "      <th></th>\n",
              "    </tr>\n",
              "  </thead>\n",
              "  <tbody>\n",
              "    <tr>\n",
              "      <th>MMM</th>\n",
              "      <td>Industrials</td>\n",
              "      <td>141.14</td>\n",
              "      <td>26.668</td>\n",
              "    </tr>\n",
              "    <tr>\n",
              "      <th>ABT</th>\n",
              "      <td>Health Care</td>\n",
              "      <td>39.60</td>\n",
              "      <td>15.573</td>\n",
              "    </tr>\n",
              "    <tr>\n",
              "      <th>ABBV</th>\n",
              "      <td>Health Care</td>\n",
              "      <td>53.95</td>\n",
              "      <td>2.954</td>\n",
              "    </tr>\n",
              "  </tbody>\n",
              "</table>\n",
              "</div>"
            ],
            "text/plain": [
              "             Sector   Price  Book Value\n",
              "Symbol                                 \n",
              "MMM     Industrials  141.14      26.668\n",
              "ABT     Health Care   39.60      15.573\n",
              "ABBV    Health Care   53.95       2.954"
            ]
          },
          "metadata": {
            "tags": []
          },
          "execution_count": 114
        }
      ]
    },
    {
      "cell_type": "markdown",
      "metadata": {
        "hidden": true,
        "id": "ggzlhl10OYPl"
      },
      "source": [
        "- эта строка вернет новый датафрейм с удаленным столбцом 'Sector’\n",
        "- копия датафрейма не изменится"
      ]
    },
    {
      "cell_type": "code",
      "metadata": {
        "hidden": true,
        "colab": {
          "base_uri": "https://localhost:8080/",
          "height": 173
        },
        "id": "Ccuz_lmnOYPl",
        "outputId": "dd02c74d-f43e-4d7f-91a2-3b089a20fe4d"
      },
      "source": [
        "sp500_copy_after_drop = sp500_copy.drop(['Sector'], axis = 1)\n",
        "sp500_copy_after_drop.head(3)"
      ],
      "execution_count": 115,
      "outputs": [
        {
          "output_type": "execute_result",
          "data": {
            "text/html": [
              "<div>\n",
              "<style scoped>\n",
              "    .dataframe tbody tr th:only-of-type {\n",
              "        vertical-align: middle;\n",
              "    }\n",
              "\n",
              "    .dataframe tbody tr th {\n",
              "        vertical-align: top;\n",
              "    }\n",
              "\n",
              "    .dataframe thead th {\n",
              "        text-align: right;\n",
              "    }\n",
              "</style>\n",
              "<table border=\"1\" class=\"dataframe\">\n",
              "  <thead>\n",
              "    <tr style=\"text-align: right;\">\n",
              "      <th></th>\n",
              "      <th>Price</th>\n",
              "      <th>Book Value</th>\n",
              "    </tr>\n",
              "    <tr>\n",
              "      <th>Symbol</th>\n",
              "      <th></th>\n",
              "      <th></th>\n",
              "    </tr>\n",
              "  </thead>\n",
              "  <tbody>\n",
              "    <tr>\n",
              "      <th>MMM</th>\n",
              "      <td>141.14</td>\n",
              "      <td>26.668</td>\n",
              "    </tr>\n",
              "    <tr>\n",
              "      <th>ABT</th>\n",
              "      <td>39.60</td>\n",
              "      <td>15.573</td>\n",
              "    </tr>\n",
              "    <tr>\n",
              "      <th>ABBV</th>\n",
              "      <td>53.95</td>\n",
              "      <td>2.954</td>\n",
              "    </tr>\n",
              "  </tbody>\n",
              "</table>\n",
              "</div>"
            ],
            "text/plain": [
              "         Price  Book Value\n",
              "Symbol                    \n",
              "MMM     141.14      26.668\n",
              "ABT      39.60      15.573\n",
              "ABBV     53.95       2.954"
            ]
          },
          "metadata": {
            "tags": []
          },
          "execution_count": 115
        }
      ]
    },
    {
      "cell_type": "code",
      "metadata": {
        "hidden": true,
        "colab": {
          "base_uri": "https://localhost:8080/",
          "height": 173
        },
        "id": "cbpPCPSAOYPm",
        "outputId": "69a83423-9358-4800-c974-7448bb32f4b6"
      },
      "source": [
        "sp500_copy.head(3)"
      ],
      "execution_count": 116,
      "outputs": [
        {
          "output_type": "execute_result",
          "data": {
            "text/html": [
              "<div>\n",
              "<style scoped>\n",
              "    .dataframe tbody tr th:only-of-type {\n",
              "        vertical-align: middle;\n",
              "    }\n",
              "\n",
              "    .dataframe tbody tr th {\n",
              "        vertical-align: top;\n",
              "    }\n",
              "\n",
              "    .dataframe thead th {\n",
              "        text-align: right;\n",
              "    }\n",
              "</style>\n",
              "<table border=\"1\" class=\"dataframe\">\n",
              "  <thead>\n",
              "    <tr style=\"text-align: right;\">\n",
              "      <th></th>\n",
              "      <th>Sector</th>\n",
              "      <th>Price</th>\n",
              "      <th>Book Value</th>\n",
              "    </tr>\n",
              "    <tr>\n",
              "      <th>Symbol</th>\n",
              "      <th></th>\n",
              "      <th></th>\n",
              "      <th></th>\n",
              "    </tr>\n",
              "  </thead>\n",
              "  <tbody>\n",
              "    <tr>\n",
              "      <th>MMM</th>\n",
              "      <td>Industrials</td>\n",
              "      <td>141.14</td>\n",
              "      <td>26.668</td>\n",
              "    </tr>\n",
              "    <tr>\n",
              "      <th>ABT</th>\n",
              "      <td>Health Care</td>\n",
              "      <td>39.60</td>\n",
              "      <td>15.573</td>\n",
              "    </tr>\n",
              "    <tr>\n",
              "      <th>ABBV</th>\n",
              "      <td>Health Care</td>\n",
              "      <td>53.95</td>\n",
              "      <td>2.954</td>\n",
              "    </tr>\n",
              "  </tbody>\n",
              "</table>\n",
              "</div>"
            ],
            "text/plain": [
              "             Sector   Price  Book Value\n",
              "Symbol                                 \n",
              "MMM     Industrials  141.14      26.668\n",
              "ABT     Health Care   39.60      15.573\n",
              "ABBV    Health Care   53.95       2.954"
            ]
          },
          "metadata": {
            "tags": []
          },
          "execution_count": 116
        }
      ]
    },
    {
      "cell_type": "markdown",
      "metadata": {
        "hidden": true,
        "id": "a3Gub7aGOYPm"
      },
      "source": [
        "получаем копию первых 5 строк датафрейма data"
      ]
    },
    {
      "cell_type": "code",
      "metadata": {
        "hidden": true,
        "colab": {
          "base_uri": "https://localhost:8080/",
          "height": 235
        },
        "id": "xz9YL4XdOYPm",
        "outputId": "80074256-db41-4b22-dee7-1810ae40097d"
      },
      "source": [
        "sp500_part_copy = sp500.iloc[:5].copy()\n",
        "sp500_part_copy"
      ],
      "execution_count": 117,
      "outputs": [
        {
          "output_type": "execute_result",
          "data": {
            "text/html": [
              "<div>\n",
              "<style scoped>\n",
              "    .dataframe tbody tr th:only-of-type {\n",
              "        vertical-align: middle;\n",
              "    }\n",
              "\n",
              "    .dataframe tbody tr th {\n",
              "        vertical-align: top;\n",
              "    }\n",
              "\n",
              "    .dataframe thead th {\n",
              "        text-align: right;\n",
              "    }\n",
              "</style>\n",
              "<table border=\"1\" class=\"dataframe\">\n",
              "  <thead>\n",
              "    <tr style=\"text-align: right;\">\n",
              "      <th></th>\n",
              "      <th>Sector</th>\n",
              "      <th>Price</th>\n",
              "      <th>Book Value</th>\n",
              "    </tr>\n",
              "    <tr>\n",
              "      <th>Symbol</th>\n",
              "      <th></th>\n",
              "      <th></th>\n",
              "      <th></th>\n",
              "    </tr>\n",
              "  </thead>\n",
              "  <tbody>\n",
              "    <tr>\n",
              "      <th>MMM</th>\n",
              "      <td>Industrials</td>\n",
              "      <td>141.14</td>\n",
              "      <td>26.668</td>\n",
              "    </tr>\n",
              "    <tr>\n",
              "      <th>ABT</th>\n",
              "      <td>Health Care</td>\n",
              "      <td>39.60</td>\n",
              "      <td>15.573</td>\n",
              "    </tr>\n",
              "    <tr>\n",
              "      <th>ABBV</th>\n",
              "      <td>Health Care</td>\n",
              "      <td>53.95</td>\n",
              "      <td>2.954</td>\n",
              "    </tr>\n",
              "    <tr>\n",
              "      <th>ACN</th>\n",
              "      <td>Information Technology</td>\n",
              "      <td>79.79</td>\n",
              "      <td>8.326</td>\n",
              "    </tr>\n",
              "    <tr>\n",
              "      <th>ACE</th>\n",
              "      <td>Financials</td>\n",
              "      <td>102.91</td>\n",
              "      <td>86.897</td>\n",
              "    </tr>\n",
              "  </tbody>\n",
              "</table>\n",
              "</div>"
            ],
            "text/plain": [
              "                        Sector   Price  Book Value\n",
              "Symbol                                            \n",
              "MMM                Industrials  141.14      26.668\n",
              "ABT                Health Care   39.60      15.573\n",
              "ABBV               Health Care   53.95       2.954\n",
              "ACN     Information Technology   79.79       8.326\n",
              "ACE                 Financials  102.91      86.897"
            ]
          },
          "metadata": {
            "tags": []
          },
          "execution_count": 117
        }
      ]
    },
    {
      "cell_type": "markdown",
      "metadata": {
        "hidden": true,
        "id": "Cjlg474OOYPn"
      },
      "source": [
        "удаляем строки с метками ABT и ACN"
      ]
    },
    {
      "cell_type": "code",
      "metadata": {
        "hidden": true,
        "colab": {
          "base_uri": "https://localhost:8080/",
          "height": 173
        },
        "id": "0cKnLTN5OYPn",
        "outputId": "8894c093-a84c-479e-85fd-c1221e8fd8e3"
      },
      "source": [
        "sp500_part_copy = sp500_part_copy.drop(['ABT', 'ACN'], axis=0)\n",
        "sp500_part_copy.head(5)"
      ],
      "execution_count": 118,
      "outputs": [
        {
          "output_type": "execute_result",
          "data": {
            "text/html": [
              "<div>\n",
              "<style scoped>\n",
              "    .dataframe tbody tr th:only-of-type {\n",
              "        vertical-align: middle;\n",
              "    }\n",
              "\n",
              "    .dataframe tbody tr th {\n",
              "        vertical-align: top;\n",
              "    }\n",
              "\n",
              "    .dataframe thead th {\n",
              "        text-align: right;\n",
              "    }\n",
              "</style>\n",
              "<table border=\"1\" class=\"dataframe\">\n",
              "  <thead>\n",
              "    <tr style=\"text-align: right;\">\n",
              "      <th></th>\n",
              "      <th>Sector</th>\n",
              "      <th>Price</th>\n",
              "      <th>Book Value</th>\n",
              "    </tr>\n",
              "    <tr>\n",
              "      <th>Symbol</th>\n",
              "      <th></th>\n",
              "      <th></th>\n",
              "      <th></th>\n",
              "    </tr>\n",
              "  </thead>\n",
              "  <tbody>\n",
              "    <tr>\n",
              "      <th>MMM</th>\n",
              "      <td>Industrials</td>\n",
              "      <td>141.14</td>\n",
              "      <td>26.668</td>\n",
              "    </tr>\n",
              "    <tr>\n",
              "      <th>ABBV</th>\n",
              "      <td>Health Care</td>\n",
              "      <td>53.95</td>\n",
              "      <td>2.954</td>\n",
              "    </tr>\n",
              "    <tr>\n",
              "      <th>ACE</th>\n",
              "      <td>Financials</td>\n",
              "      <td>102.91</td>\n",
              "      <td>86.897</td>\n",
              "    </tr>\n",
              "  </tbody>\n",
              "</table>\n",
              "</div>"
            ],
            "text/plain": [
              "             Sector   Price  Book Value\n",
              "Symbol                                 \n",
              "MMM     Industrials  141.14      26.668\n",
              "ABBV    Health Care   53.95       2.954\n",
              "ACE      Financials  102.91      86.897"
            ]
          },
          "metadata": {
            "tags": []
          },
          "execution_count": 118
        }
      ]
    },
    {
      "cell_type": "markdown",
      "metadata": {
        "hidden": true,
        "id": "WTb_AVGfOYPo"
      },
      "source": [
        "Для Series применение .drop идентично"
      ]
    },
    {
      "cell_type": "markdown",
      "metadata": {
        "heading_collapsed": true,
        "id": "dtdxClW8OYPo"
      },
      "source": [
        "### Фильтрация по условию"
      ]
    },
    {
      "cell_type": "markdown",
      "metadata": {
        "heading_collapsed": true,
        "hidden": true,
        "id": "BpydmZd2OYPo"
      },
      "source": [
        "#### Series "
      ]
    },
    {
      "cell_type": "code",
      "metadata": {
        "hidden": true,
        "colab": {
          "base_uri": "https://localhost:8080/"
        },
        "id": "yFdBK9g8OYPo",
        "outputId": "e7f8989e-373b-4a3f-a81f-de7005375df4"
      },
      "source": [
        "numbers"
      ],
      "execution_count": 119,
      "outputs": [
        {
          "output_type": "execute_result",
          "data": {
            "text/plain": [
              "25   -1.085631\n",
              "26    0.997345\n",
              "27    0.282978\n",
              "28   -1.506295\n",
              "29   -0.578600\n",
              "30    1.651437\n",
              "31   -2.426679\n",
              "32   -0.428913\n",
              "33    1.265936\n",
              "34   -0.866740\n",
              "dtype: float64"
            ]
          },
          "metadata": {
            "tags": []
          },
          "execution_count": 119
        }
      ]
    },
    {
      "cell_type": "markdown",
      "metadata": {
        "hidden": true,
        "id": "1sfAuhL_OYPp"
      },
      "source": [
        "какие строки имеют значения больше 0 и меньше 1?"
      ]
    },
    {
      "cell_type": "code",
      "metadata": {
        "hidden": true,
        "colab": {
          "base_uri": "https://localhost:8080/"
        },
        "id": "R9aktvWAOYPp",
        "outputId": "4615a86f-f7a1-4f86-9943-f3ed52c90a6b"
      },
      "source": [
        "logical_results = (numbers > 0) & (numbers < 1)\n",
        "logical_results"
      ],
      "execution_count": 120,
      "outputs": [
        {
          "output_type": "execute_result",
          "data": {
            "text/plain": [
              "25    False\n",
              "26     True\n",
              "27     True\n",
              "28    False\n",
              "29    False\n",
              "30    False\n",
              "31    False\n",
              "32    False\n",
              "33    False\n",
              "34    False\n",
              "dtype: bool"
            ]
          },
          "metadata": {
            "tags": []
          },
          "execution_count": 120
        }
      ]
    },
    {
      "cell_type": "markdown",
      "metadata": {
        "hidden": true,
        "id": "MXkwMHBKOYPp"
      },
      "source": [
        "Скобки!!! Следующий программный код приведет к выдаче исключения\n",
        "```python\n",
        "numbers > 0 & numbers < 1 \n",
        "```"
      ]
    },
    {
      "cell_type": "markdown",
      "metadata": {
        "hidden": true,
        "id": "6Tue_za9OYPq"
      },
      "source": [
        "тип полученного результата - Series, который можно использовать для отбора интерсующих нас значений"
      ]
    },
    {
      "cell_type": "code",
      "metadata": {
        "hidden": true,
        "colab": {
          "base_uri": "https://localhost:8080/"
        },
        "id": "YJh756hdOYPq",
        "outputId": "b74e403c-d018-49d6-bdf8-e9774be9257e"
      },
      "source": [
        "type(logical_results)"
      ],
      "execution_count": 121,
      "outputs": [
        {
          "output_type": "execute_result",
          "data": {
            "text/plain": [
              "pandas.core.series.Series"
            ]
          },
          "metadata": {
            "tags": []
          },
          "execution_count": 121
        }
      ]
    },
    {
      "cell_type": "markdown",
      "metadata": {
        "hidden": true,
        "id": "t3KMzfvUOYPq"
      },
      "source": [
        "отбираем строки со значением True"
      ]
    },
    {
      "cell_type": "code",
      "metadata": {
        "hidden": true,
        "colab": {
          "base_uri": "https://localhost:8080/"
        },
        "id": "8l6l_OPhOYPr",
        "outputId": "fad75f83-d14a-4084-ef75-7ebf0e555569"
      },
      "source": [
        "numbers[logical_results]"
      ],
      "execution_count": 122,
      "outputs": [
        {
          "output_type": "execute_result",
          "data": {
            "text/plain": [
              "26    0.997345\n",
              "27    0.282978\n",
              "dtype: float64"
            ]
          },
          "metadata": {
            "tags": []
          },
          "execution_count": 122
        }
      ]
    },
    {
      "cell_type": "markdown",
      "metadata": {
        "hidden": true,
        "id": "E9bwSDJbOYPr"
      },
      "source": [
        "использование метода .where"
      ]
    },
    {
      "cell_type": "code",
      "metadata": {
        "hidden": true,
        "colab": {
          "base_uri": "https://localhost:8080/"
        },
        "id": "QbwNOpHJOYPr",
        "outputId": "d0a7b952-58fa-4e0f-c8f9-d8d5909a2d9a"
      },
      "source": [
        "numbers.where((numbers > 0) & (numbers < 1))"
      ],
      "execution_count": 123,
      "outputs": [
        {
          "output_type": "execute_result",
          "data": {
            "text/plain": [
              "25         NaN\n",
              "26    0.997345\n",
              "27    0.282978\n",
              "28         NaN\n",
              "29         NaN\n",
              "30         NaN\n",
              "31         NaN\n",
              "32         NaN\n",
              "33         NaN\n",
              "34         NaN\n",
              "dtype: float64"
            ]
          },
          "metadata": {
            "tags": []
          },
          "execution_count": 123
        }
      ]
    },
    {
      "cell_type": "code",
      "metadata": {
        "hidden": true,
        "colab": {
          "base_uri": "https://localhost:8080/"
        },
        "id": "tmHWkVCGOYPs",
        "outputId": "d64cf3f0-e1a2-473e-80a9-2938180fcb67"
      },
      "source": [
        "numbers.where((numbers > 0) & (numbers < 1), other = -1)"
      ],
      "execution_count": 124,
      "outputs": [
        {
          "output_type": "execute_result",
          "data": {
            "text/plain": [
              "25   -1.000000\n",
              "26    0.997345\n",
              "27    0.282978\n",
              "28   -1.000000\n",
              "29   -1.000000\n",
              "30   -1.000000\n",
              "31   -1.000000\n",
              "32   -1.000000\n",
              "33   -1.000000\n",
              "34   -1.000000\n",
              "dtype: float64"
            ]
          },
          "metadata": {
            "tags": []
          },
          "execution_count": 124
        }
      ]
    },
    {
      "cell_type": "markdown",
      "metadata": {
        "hidden": true,
        "id": "TvnfPEmqOYPs"
      },
      "source": [
        "все ли элементы >= 0?"
      ]
    },
    {
      "cell_type": "code",
      "metadata": {
        "hidden": true,
        "colab": {
          "base_uri": "https://localhost:8080/"
        },
        "id": "ZCjpSO3NOYPs",
        "outputId": "8e9e5ddc-1ede-432b-8b12-82dafcd3a741"
      },
      "source": [
        "(numbers >= 0).all()"
      ],
      "execution_count": 125,
      "outputs": [
        {
          "output_type": "execute_result",
          "data": {
            "text/plain": [
              "False"
            ]
          },
          "metadata": {
            "tags": []
          },
          "execution_count": 125
        }
      ]
    },
    {
      "cell_type": "markdown",
      "metadata": {
        "hidden": true,
        "id": "R0F_jZf5OYPt"
      },
      "source": [
        "есть ли элемент < 2?"
      ]
    },
    {
      "cell_type": "code",
      "metadata": {
        "hidden": true,
        "colab": {
          "base_uri": "https://localhost:8080/"
        },
        "id": "7WKNR9hiOYPt",
        "outputId": "11a07ece-a846-42b4-f73f-b949da409609"
      },
      "source": [
        "(numbers < 2).any()"
      ],
      "execution_count": 126,
      "outputs": [
        {
          "output_type": "execute_result",
          "data": {
            "text/plain": [
              "True"
            ]
          },
          "metadata": {
            "tags": []
          },
          "execution_count": 126
        }
      ]
    },
    {
      "cell_type": "markdown",
      "metadata": {
        "hidden": true,
        "id": "uTrxXBSvOYPt"
      },
      "source": [
        "сколько значений < 1?"
      ]
    },
    {
      "cell_type": "code",
      "metadata": {
        "hidden": true,
        "colab": {
          "base_uri": "https://localhost:8080/"
        },
        "id": "h7wYvVkyOYPu",
        "outputId": "10ad6b77-2d0e-46e5-b1eb-0cce8a63a9f0"
      },
      "source": [
        "numbers < 1"
      ],
      "execution_count": 127,
      "outputs": [
        {
          "output_type": "execute_result",
          "data": {
            "text/plain": [
              "25     True\n",
              "26     True\n",
              "27     True\n",
              "28     True\n",
              "29     True\n",
              "30    False\n",
              "31     True\n",
              "32     True\n",
              "33    False\n",
              "34     True\n",
              "dtype: bool"
            ]
          },
          "metadata": {
            "tags": []
          },
          "execution_count": 127
        }
      ]
    },
    {
      "cell_type": "code",
      "metadata": {
        "hidden": true,
        "colab": {
          "base_uri": "https://localhost:8080/"
        },
        "id": "keTbInDpOYPv",
        "outputId": "00316b5d-36c6-455c-ac5f-0b78d7c149f4"
      },
      "source": [
        "(numbers < 1).sum()"
      ],
      "execution_count": 128,
      "outputs": [
        {
          "output_type": "execute_result",
          "data": {
            "text/plain": [
              "8"
            ]
          },
          "metadata": {
            "tags": []
          },
          "execution_count": 128
        }
      ]
    },
    {
      "cell_type": "markdown",
      "metadata": {
        "heading_collapsed": true,
        "hidden": true,
        "id": "stBKSQcdOYPv"
      },
      "source": [
        "#### DataFrame"
      ]
    },
    {
      "cell_type": "markdown",
      "metadata": {
        "hidden": true,
        "id": "AvMupww6OYPv"
      },
      "source": [
        "какие строки имеют значения Price < 100?"
      ]
    },
    {
      "cell_type": "code",
      "metadata": {
        "hidden": true,
        "colab": {
          "base_uri": "https://localhost:8080/"
        },
        "id": "y9DASYFAOYPw",
        "outputId": "6c3e5521-2df9-4000-ad47-56586f5d414c"
      },
      "source": [
        "sp500.Price < 100"
      ],
      "execution_count": 129,
      "outputs": [
        {
          "output_type": "execute_result",
          "data": {
            "text/plain": [
              "Symbol\n",
              "MMM     False\n",
              "ABT      True\n",
              "ABBV     True\n",
              "ACN      True\n",
              "ACE     False\n",
              "        ...  \n",
              "YHOO     True\n",
              "YUM      True\n",
              "ZMH     False\n",
              "ZION     True\n",
              "ZTS      True\n",
              "Name: Price, Length: 500, dtype: bool"
            ]
          },
          "metadata": {
            "tags": []
          },
          "execution_count": 129
        }
      ]
    },
    {
      "cell_type": "markdown",
      "metadata": {
        "hidden": true,
        "id": "PpzlOJmSOYPw"
      },
      "source": [
        "теперь получим строки, в которых Price < 100"
      ]
    },
    {
      "cell_type": "code",
      "metadata": {
        "hidden": true,
        "colab": {
          "base_uri": "https://localhost:8080/",
          "height": 450
        },
        "id": "FD5mtO9LOYPw",
        "outputId": "98170e3b-0940-47d9-b9eb-19e6eace3a81"
      },
      "source": [
        "sp500[sp500.Price < 100]"
      ],
      "execution_count": 130,
      "outputs": [
        {
          "output_type": "execute_result",
          "data": {
            "text/html": [
              "<div>\n",
              "<style scoped>\n",
              "    .dataframe tbody tr th:only-of-type {\n",
              "        vertical-align: middle;\n",
              "    }\n",
              "\n",
              "    .dataframe tbody tr th {\n",
              "        vertical-align: top;\n",
              "    }\n",
              "\n",
              "    .dataframe thead th {\n",
              "        text-align: right;\n",
              "    }\n",
              "</style>\n",
              "<table border=\"1\" class=\"dataframe\">\n",
              "  <thead>\n",
              "    <tr style=\"text-align: right;\">\n",
              "      <th></th>\n",
              "      <th>Sector</th>\n",
              "      <th>Price</th>\n",
              "      <th>Book Value</th>\n",
              "    </tr>\n",
              "    <tr>\n",
              "      <th>Symbol</th>\n",
              "      <th></th>\n",
              "      <th></th>\n",
              "      <th></th>\n",
              "    </tr>\n",
              "  </thead>\n",
              "  <tbody>\n",
              "    <tr>\n",
              "      <th>ABT</th>\n",
              "      <td>Health Care</td>\n",
              "      <td>39.60</td>\n",
              "      <td>15.573</td>\n",
              "    </tr>\n",
              "    <tr>\n",
              "      <th>ABBV</th>\n",
              "      <td>Health Care</td>\n",
              "      <td>53.95</td>\n",
              "      <td>2.954</td>\n",
              "    </tr>\n",
              "    <tr>\n",
              "      <th>ACN</th>\n",
              "      <td>Information Technology</td>\n",
              "      <td>79.79</td>\n",
              "      <td>8.326</td>\n",
              "    </tr>\n",
              "    <tr>\n",
              "      <th>ADBE</th>\n",
              "      <td>Information Technology</td>\n",
              "      <td>64.30</td>\n",
              "      <td>13.262</td>\n",
              "    </tr>\n",
              "    <tr>\n",
              "      <th>AES</th>\n",
              "      <td>Utilities</td>\n",
              "      <td>13.61</td>\n",
              "      <td>5.781</td>\n",
              "    </tr>\n",
              "    <tr>\n",
              "      <th>...</th>\n",
              "      <td>...</td>\n",
              "      <td>...</td>\n",
              "      <td>...</td>\n",
              "    </tr>\n",
              "    <tr>\n",
              "      <th>XYL</th>\n",
              "      <td>Industrials</td>\n",
              "      <td>38.42</td>\n",
              "      <td>12.127</td>\n",
              "    </tr>\n",
              "    <tr>\n",
              "      <th>YHOO</th>\n",
              "      <td>Information Technology</td>\n",
              "      <td>35.02</td>\n",
              "      <td>12.768</td>\n",
              "    </tr>\n",
              "    <tr>\n",
              "      <th>YUM</th>\n",
              "      <td>Consumer Discretionary</td>\n",
              "      <td>74.77</td>\n",
              "      <td>5.147</td>\n",
              "    </tr>\n",
              "    <tr>\n",
              "      <th>ZION</th>\n",
              "      <td>Financials</td>\n",
              "      <td>28.43</td>\n",
              "      <td>30.191</td>\n",
              "    </tr>\n",
              "    <tr>\n",
              "      <th>ZTS</th>\n",
              "      <td>Health Care</td>\n",
              "      <td>30.53</td>\n",
              "      <td>2.150</td>\n",
              "    </tr>\n",
              "  </tbody>\n",
              "</table>\n",
              "<p>407 rows × 3 columns</p>\n",
              "</div>"
            ],
            "text/plain": [
              "                        Sector  Price  Book Value\n",
              "Symbol                                           \n",
              "ABT                Health Care  39.60      15.573\n",
              "ABBV               Health Care  53.95       2.954\n",
              "ACN     Information Technology  79.79       8.326\n",
              "ADBE    Information Technology  64.30      13.262\n",
              "AES                  Utilities  13.61       5.781\n",
              "...                        ...    ...         ...\n",
              "XYL                Industrials  38.42      12.127\n",
              "YHOO    Information Technology  35.02      12.768\n",
              "YUM     Consumer Discretionary  74.77       5.147\n",
              "ZION                Financials  28.43      30.191\n",
              "ZTS                Health Care  30.53       2.150\n",
              "\n",
              "[407 rows x 3 columns]"
            ]
          },
          "metadata": {
            "tags": []
          },
          "execution_count": 130
        }
      ]
    },
    {
      "cell_type": "markdown",
      "metadata": {
        "hidden": true,
        "id": "FrwQsa64OYPx"
      },
      "source": [
        "извлекаем лишь те строки, в которых значение Price < 10 и > 6"
      ]
    },
    {
      "cell_type": "code",
      "metadata": {
        "hidden": true,
        "colab": {
          "base_uri": "https://localhost:8080/"
        },
        "id": "lRiu8mTCOYPx",
        "outputId": "bdb92606-2212-45df-9598-8e4c377e9c0b"
      },
      "source": [
        "r = sp500[(sp500['Price'] < 10) & \n",
        "          (sp500.Price > 6)] ['Price']\n",
        "r"
      ],
      "execution_count": 131,
      "outputs": [
        {
          "output_type": "execute_result",
          "data": {
            "text/plain": [
              "Symbol\n",
              "HCBK    9.80\n",
              "HBAN    9.10\n",
              "SLM     8.82\n",
              "WIN     9.38\n",
              "Name: Price, dtype: float64"
            ]
          },
          "metadata": {
            "tags": []
          },
          "execution_count": 131
        }
      ]
    },
    {
      "cell_type": "markdown",
      "metadata": {
        "hidden": true,
        "id": "bzGmOhUhOYPx"
      },
      "source": [
        "извлекаем строки, в которых переменная Sector принимает значение Health Care, а переменная Price больше или равна 100.00"
      ]
    },
    {
      "cell_type": "code",
      "metadata": {
        "hidden": true,
        "colab": {
          "base_uri": "https://localhost:8080/",
          "height": 450
        },
        "id": "4VBYNN_zOYPy",
        "outputId": "45b299cf-6524-4787-b81d-49fecdc22679"
      },
      "source": [
        "r = sp500[(sp500.Sector == 'Health Care') & \n",
        "          (sp500.Price >= 100.00)] [['Price', 'Sector']]\n",
        "r"
      ],
      "execution_count": 132,
      "outputs": [
        {
          "output_type": "execute_result",
          "data": {
            "text/html": [
              "<div>\n",
              "<style scoped>\n",
              "    .dataframe tbody tr th:only-of-type {\n",
              "        vertical-align: middle;\n",
              "    }\n",
              "\n",
              "    .dataframe tbody tr th {\n",
              "        vertical-align: top;\n",
              "    }\n",
              "\n",
              "    .dataframe thead th {\n",
              "        text-align: right;\n",
              "    }\n",
              "</style>\n",
              "<table border=\"1\" class=\"dataframe\">\n",
              "  <thead>\n",
              "    <tr style=\"text-align: right;\">\n",
              "      <th></th>\n",
              "      <th>Price</th>\n",
              "      <th>Sector</th>\n",
              "    </tr>\n",
              "    <tr>\n",
              "      <th>Symbol</th>\n",
              "      <th></th>\n",
              "      <th></th>\n",
              "    </tr>\n",
              "  </thead>\n",
              "  <tbody>\n",
              "    <tr>\n",
              "      <th>ACT</th>\n",
              "      <td>213.77</td>\n",
              "      <td>Health Care</td>\n",
              "    </tr>\n",
              "    <tr>\n",
              "      <th>ALXN</th>\n",
              "      <td>162.30</td>\n",
              "      <td>Health Care</td>\n",
              "    </tr>\n",
              "    <tr>\n",
              "      <th>AGN</th>\n",
              "      <td>166.92</td>\n",
              "      <td>Health Care</td>\n",
              "    </tr>\n",
              "    <tr>\n",
              "      <th>AMGN</th>\n",
              "      <td>114.33</td>\n",
              "      <td>Health Care</td>\n",
              "    </tr>\n",
              "    <tr>\n",
              "      <th>BCR</th>\n",
              "      <td>146.62</td>\n",
              "      <td>Health Care</td>\n",
              "    </tr>\n",
              "    <tr>\n",
              "      <th>...</th>\n",
              "      <td>...</td>\n",
              "      <td>...</td>\n",
              "    </tr>\n",
              "    <tr>\n",
              "      <th>REGN</th>\n",
              "      <td>297.77</td>\n",
              "      <td>Health Care</td>\n",
              "    </tr>\n",
              "    <tr>\n",
              "      <th>TMO</th>\n",
              "      <td>115.74</td>\n",
              "      <td>Health Care</td>\n",
              "    </tr>\n",
              "    <tr>\n",
              "      <th>WAT</th>\n",
              "      <td>100.54</td>\n",
              "      <td>Health Care</td>\n",
              "    </tr>\n",
              "    <tr>\n",
              "      <th>WLP</th>\n",
              "      <td>108.82</td>\n",
              "      <td>Health Care</td>\n",
              "    </tr>\n",
              "    <tr>\n",
              "      <th>ZMH</th>\n",
              "      <td>101.84</td>\n",
              "      <td>Health Care</td>\n",
              "    </tr>\n",
              "  </tbody>\n",
              "</table>\n",
              "<p>19 rows × 2 columns</p>\n",
              "</div>"
            ],
            "text/plain": [
              "         Price       Sector\n",
              "Symbol                     \n",
              "ACT     213.77  Health Care\n",
              "ALXN    162.30  Health Care\n",
              "AGN     166.92  Health Care\n",
              "AMGN    114.33  Health Care\n",
              "BCR     146.62  Health Care\n",
              "...        ...          ...\n",
              "REGN    297.77  Health Care\n",
              "TMO     115.74  Health Care\n",
              "WAT     100.54  Health Care\n",
              "WLP     108.82  Health Care\n",
              "ZMH     101.84  Health Care\n",
              "\n",
              "[19 rows x 2 columns]"
            ]
          },
          "metadata": {
            "tags": []
          },
          "execution_count": 132
        }
      ]
    },
    {
      "cell_type": "markdown",
      "metadata": {
        "hidden": true,
        "id": "SokYU3VvOYPy"
      },
      "source": [
        "использование метода .isin"
      ]
    },
    {
      "cell_type": "code",
      "metadata": {
        "hidden": true,
        "colab": {
          "base_uri": "https://localhost:8080/"
        },
        "id": "D8Yz1mF8OYPy",
        "outputId": "d67f2f06-8ded-455c-af28-1bfbeda287cf"
      },
      "source": [
        "s_tmp = sp500.Sector.isin(['Information Technology', 'Financials'])\n",
        "s_tmp"
      ],
      "execution_count": 133,
      "outputs": [
        {
          "output_type": "execute_result",
          "data": {
            "text/plain": [
              "Symbol\n",
              "MMM     False\n",
              "ABT     False\n",
              "ABBV    False\n",
              "ACN      True\n",
              "ACE      True\n",
              "        ...  \n",
              "YHOO     True\n",
              "YUM     False\n",
              "ZMH     False\n",
              "ZION     True\n",
              "ZTS     False\n",
              "Name: Sector, Length: 500, dtype: bool"
            ]
          },
          "metadata": {
            "tags": []
          },
          "execution_count": 133
        }
      ]
    },
    {
      "cell_type": "code",
      "metadata": {
        "hidden": true,
        "colab": {
          "base_uri": "https://localhost:8080/",
          "height": 235
        },
        "id": "HHnwGidvOYPz",
        "outputId": "3c93ae10-38a8-4c96-f732-d9163324bc29"
      },
      "source": [
        "sp500[s_tmp].head()"
      ],
      "execution_count": 134,
      "outputs": [
        {
          "output_type": "execute_result",
          "data": {
            "text/html": [
              "<div>\n",
              "<style scoped>\n",
              "    .dataframe tbody tr th:only-of-type {\n",
              "        vertical-align: middle;\n",
              "    }\n",
              "\n",
              "    .dataframe tbody tr th {\n",
              "        vertical-align: top;\n",
              "    }\n",
              "\n",
              "    .dataframe thead th {\n",
              "        text-align: right;\n",
              "    }\n",
              "</style>\n",
              "<table border=\"1\" class=\"dataframe\">\n",
              "  <thead>\n",
              "    <tr style=\"text-align: right;\">\n",
              "      <th></th>\n",
              "      <th>Sector</th>\n",
              "      <th>Price</th>\n",
              "      <th>Book Value</th>\n",
              "    </tr>\n",
              "    <tr>\n",
              "      <th>Symbol</th>\n",
              "      <th></th>\n",
              "      <th></th>\n",
              "      <th></th>\n",
              "    </tr>\n",
              "  </thead>\n",
              "  <tbody>\n",
              "    <tr>\n",
              "      <th>ACN</th>\n",
              "      <td>Information Technology</td>\n",
              "      <td>79.79</td>\n",
              "      <td>8.326</td>\n",
              "    </tr>\n",
              "    <tr>\n",
              "      <th>ACE</th>\n",
              "      <td>Financials</td>\n",
              "      <td>102.91</td>\n",
              "      <td>86.897</td>\n",
              "    </tr>\n",
              "    <tr>\n",
              "      <th>ADBE</th>\n",
              "      <td>Information Technology</td>\n",
              "      <td>64.30</td>\n",
              "      <td>13.262</td>\n",
              "    </tr>\n",
              "    <tr>\n",
              "      <th>AFL</th>\n",
              "      <td>Financials</td>\n",
              "      <td>61.31</td>\n",
              "      <td>34.527</td>\n",
              "    </tr>\n",
              "    <tr>\n",
              "      <th>AKAM</th>\n",
              "      <td>Information Technology</td>\n",
              "      <td>53.65</td>\n",
              "      <td>15.193</td>\n",
              "    </tr>\n",
              "  </tbody>\n",
              "</table>\n",
              "</div>"
            ],
            "text/plain": [
              "                        Sector   Price  Book Value\n",
              "Symbol                                            \n",
              "ACN     Information Technology   79.79       8.326\n",
              "ACE                 Financials  102.91      86.897\n",
              "ADBE    Information Technology   64.30      13.262\n",
              "AFL                 Financials   61.31      34.527\n",
              "AKAM    Information Technology   53.65      15.193"
            ]
          },
          "metadata": {
            "tags": []
          },
          "execution_count": 134
        }
      ]
    },
    {
      "cell_type": "markdown",
      "metadata": {
        "hidden": true,
        "id": "DZ78E_xsOYPz"
      },
      "source": [
        "использование метода .query"
      ]
    },
    {
      "cell_type": "code",
      "metadata": {
        "hidden": true,
        "colab": {
          "base_uri": "https://localhost:8080/",
          "height": 450
        },
        "id": "74Kn2Gl2OYPz",
        "outputId": "a06bcbc3-1843-4c1b-b60d-41c10b24b07e"
      },
      "source": [
        "r = sp500[(sp500.Sector == 'Health Care') & \n",
        "          (sp500.Price >= 100.00)] [['Price', 'Sector']]\n",
        "r"
      ],
      "execution_count": 135,
      "outputs": [
        {
          "output_type": "execute_result",
          "data": {
            "text/html": [
              "<div>\n",
              "<style scoped>\n",
              "    .dataframe tbody tr th:only-of-type {\n",
              "        vertical-align: middle;\n",
              "    }\n",
              "\n",
              "    .dataframe tbody tr th {\n",
              "        vertical-align: top;\n",
              "    }\n",
              "\n",
              "    .dataframe thead th {\n",
              "        text-align: right;\n",
              "    }\n",
              "</style>\n",
              "<table border=\"1\" class=\"dataframe\">\n",
              "  <thead>\n",
              "    <tr style=\"text-align: right;\">\n",
              "      <th></th>\n",
              "      <th>Price</th>\n",
              "      <th>Sector</th>\n",
              "    </tr>\n",
              "    <tr>\n",
              "      <th>Symbol</th>\n",
              "      <th></th>\n",
              "      <th></th>\n",
              "    </tr>\n",
              "  </thead>\n",
              "  <tbody>\n",
              "    <tr>\n",
              "      <th>ACT</th>\n",
              "      <td>213.77</td>\n",
              "      <td>Health Care</td>\n",
              "    </tr>\n",
              "    <tr>\n",
              "      <th>ALXN</th>\n",
              "      <td>162.30</td>\n",
              "      <td>Health Care</td>\n",
              "    </tr>\n",
              "    <tr>\n",
              "      <th>AGN</th>\n",
              "      <td>166.92</td>\n",
              "      <td>Health Care</td>\n",
              "    </tr>\n",
              "    <tr>\n",
              "      <th>AMGN</th>\n",
              "      <td>114.33</td>\n",
              "      <td>Health Care</td>\n",
              "    </tr>\n",
              "    <tr>\n",
              "      <th>BCR</th>\n",
              "      <td>146.62</td>\n",
              "      <td>Health Care</td>\n",
              "    </tr>\n",
              "    <tr>\n",
              "      <th>...</th>\n",
              "      <td>...</td>\n",
              "      <td>...</td>\n",
              "    </tr>\n",
              "    <tr>\n",
              "      <th>REGN</th>\n",
              "      <td>297.77</td>\n",
              "      <td>Health Care</td>\n",
              "    </tr>\n",
              "    <tr>\n",
              "      <th>TMO</th>\n",
              "      <td>115.74</td>\n",
              "      <td>Health Care</td>\n",
              "    </tr>\n",
              "    <tr>\n",
              "      <th>WAT</th>\n",
              "      <td>100.54</td>\n",
              "      <td>Health Care</td>\n",
              "    </tr>\n",
              "    <tr>\n",
              "      <th>WLP</th>\n",
              "      <td>108.82</td>\n",
              "      <td>Health Care</td>\n",
              "    </tr>\n",
              "    <tr>\n",
              "      <th>ZMH</th>\n",
              "      <td>101.84</td>\n",
              "      <td>Health Care</td>\n",
              "    </tr>\n",
              "  </tbody>\n",
              "</table>\n",
              "<p>19 rows × 2 columns</p>\n",
              "</div>"
            ],
            "text/plain": [
              "         Price       Sector\n",
              "Symbol                     \n",
              "ACT     213.77  Health Care\n",
              "ALXN    162.30  Health Care\n",
              "AGN     166.92  Health Care\n",
              "AMGN    114.33  Health Care\n",
              "BCR     146.62  Health Care\n",
              "...        ...          ...\n",
              "REGN    297.77  Health Care\n",
              "TMO     115.74  Health Care\n",
              "WAT     100.54  Health Care\n",
              "WLP     108.82  Health Care\n",
              "ZMH     101.84  Health Care\n",
              "\n",
              "[19 rows x 2 columns]"
            ]
          },
          "metadata": {
            "tags": []
          },
          "execution_count": 135
        }
      ]
    },
    {
      "cell_type": "code",
      "metadata": {
        "hidden": true,
        "colab": {
          "base_uri": "https://localhost:8080/",
          "height": 450
        },
        "id": "nOAtS28DOYP0",
        "outputId": "cba47b1f-05d0-45b4-bf53-c9be71647241"
      },
      "source": [
        "q = sp500.query(\"Sector=='Health Care' & Price >= 100\")[['Price', 'Sector']]\n",
        "q"
      ],
      "execution_count": 136,
      "outputs": [
        {
          "output_type": "execute_result",
          "data": {
            "text/html": [
              "<div>\n",
              "<style scoped>\n",
              "    .dataframe tbody tr th:only-of-type {\n",
              "        vertical-align: middle;\n",
              "    }\n",
              "\n",
              "    .dataframe tbody tr th {\n",
              "        vertical-align: top;\n",
              "    }\n",
              "\n",
              "    .dataframe thead th {\n",
              "        text-align: right;\n",
              "    }\n",
              "</style>\n",
              "<table border=\"1\" class=\"dataframe\">\n",
              "  <thead>\n",
              "    <tr style=\"text-align: right;\">\n",
              "      <th></th>\n",
              "      <th>Price</th>\n",
              "      <th>Sector</th>\n",
              "    </tr>\n",
              "    <tr>\n",
              "      <th>Symbol</th>\n",
              "      <th></th>\n",
              "      <th></th>\n",
              "    </tr>\n",
              "  </thead>\n",
              "  <tbody>\n",
              "    <tr>\n",
              "      <th>ACT</th>\n",
              "      <td>213.77</td>\n",
              "      <td>Health Care</td>\n",
              "    </tr>\n",
              "    <tr>\n",
              "      <th>ALXN</th>\n",
              "      <td>162.30</td>\n",
              "      <td>Health Care</td>\n",
              "    </tr>\n",
              "    <tr>\n",
              "      <th>AGN</th>\n",
              "      <td>166.92</td>\n",
              "      <td>Health Care</td>\n",
              "    </tr>\n",
              "    <tr>\n",
              "      <th>AMGN</th>\n",
              "      <td>114.33</td>\n",
              "      <td>Health Care</td>\n",
              "    </tr>\n",
              "    <tr>\n",
              "      <th>BCR</th>\n",
              "      <td>146.62</td>\n",
              "      <td>Health Care</td>\n",
              "    </tr>\n",
              "    <tr>\n",
              "      <th>...</th>\n",
              "      <td>...</td>\n",
              "      <td>...</td>\n",
              "    </tr>\n",
              "    <tr>\n",
              "      <th>REGN</th>\n",
              "      <td>297.77</td>\n",
              "      <td>Health Care</td>\n",
              "    </tr>\n",
              "    <tr>\n",
              "      <th>TMO</th>\n",
              "      <td>115.74</td>\n",
              "      <td>Health Care</td>\n",
              "    </tr>\n",
              "    <tr>\n",
              "      <th>WAT</th>\n",
              "      <td>100.54</td>\n",
              "      <td>Health Care</td>\n",
              "    </tr>\n",
              "    <tr>\n",
              "      <th>WLP</th>\n",
              "      <td>108.82</td>\n",
              "      <td>Health Care</td>\n",
              "    </tr>\n",
              "    <tr>\n",
              "      <th>ZMH</th>\n",
              "      <td>101.84</td>\n",
              "      <td>Health Care</td>\n",
              "    </tr>\n",
              "  </tbody>\n",
              "</table>\n",
              "<p>19 rows × 2 columns</p>\n",
              "</div>"
            ],
            "text/plain": [
              "         Price       Sector\n",
              "Symbol                     \n",
              "ACT     213.77  Health Care\n",
              "ALXN    162.30  Health Care\n",
              "AGN     166.92  Health Care\n",
              "AMGN    114.33  Health Care\n",
              "BCR     146.62  Health Care\n",
              "...        ...          ...\n",
              "REGN    297.77  Health Care\n",
              "TMO     115.74  Health Care\n",
              "WAT     100.54  Health Care\n",
              "WLP     108.82  Health Care\n",
              "ZMH     101.84  Health Care\n",
              "\n",
              "[19 rows x 2 columns]"
            ]
          },
          "metadata": {
            "tags": []
          },
          "execution_count": 136
        }
      ]
    },
    {
      "cell_type": "markdown",
      "metadata": {
        "heading_collapsed": true,
        "id": "dKRwsfjVOYP0"
      },
      "source": [
        "### Добавление "
      ]
    },
    {
      "cell_type": "markdown",
      "metadata": {
        "heading_collapsed": true,
        "hidden": true,
        "id": "2780KDn6OYP0"
      },
      "source": [
        "#### оператор [ ] "
      ]
    },
    {
      "cell_type": "markdown",
      "metadata": {
        "hidden": true,
        "id": "MRJQ2sNUOYP1"
      },
      "source": [
        "создаем копию, чтобы исходные данные остались в неизменном виде"
      ]
    },
    {
      "cell_type": "code",
      "metadata": {
        "hidden": true,
        "id": "ri4JNbrzOYP1"
      },
      "source": [
        "sp500_copy = sp500.copy()"
      ],
      "execution_count": 137,
      "outputs": []
    },
    {
      "cell_type": "markdown",
      "metadata": {
        "hidden": true,
        "id": "e7IwwH79OYP1"
      },
      "source": [
        "добавляем столбец"
      ]
    },
    {
      "cell_type": "code",
      "metadata": {
        "hidden": true,
        "colab": {
          "base_uri": "https://localhost:8080/",
          "height": 173
        },
        "id": "qZUjfAtfOYP2",
        "outputId": "88bdaa12-77dd-4396-fc56-2a00775c7629"
      },
      "source": [
        "sp500_copy['RoundedPrice'] = sp500_copy.Price.round()\n",
        "sp500_copy.head(3)"
      ],
      "execution_count": 138,
      "outputs": [
        {
          "output_type": "execute_result",
          "data": {
            "text/html": [
              "<div>\n",
              "<style scoped>\n",
              "    .dataframe tbody tr th:only-of-type {\n",
              "        vertical-align: middle;\n",
              "    }\n",
              "\n",
              "    .dataframe tbody tr th {\n",
              "        vertical-align: top;\n",
              "    }\n",
              "\n",
              "    .dataframe thead th {\n",
              "        text-align: right;\n",
              "    }\n",
              "</style>\n",
              "<table border=\"1\" class=\"dataframe\">\n",
              "  <thead>\n",
              "    <tr style=\"text-align: right;\">\n",
              "      <th></th>\n",
              "      <th>Sector</th>\n",
              "      <th>Price</th>\n",
              "      <th>Book Value</th>\n",
              "      <th>RoundedPrice</th>\n",
              "    </tr>\n",
              "    <tr>\n",
              "      <th>Symbol</th>\n",
              "      <th></th>\n",
              "      <th></th>\n",
              "      <th></th>\n",
              "      <th></th>\n",
              "    </tr>\n",
              "  </thead>\n",
              "  <tbody>\n",
              "    <tr>\n",
              "      <th>MMM</th>\n",
              "      <td>Industrials</td>\n",
              "      <td>141.14</td>\n",
              "      <td>26.668</td>\n",
              "      <td>141.0</td>\n",
              "    </tr>\n",
              "    <tr>\n",
              "      <th>ABT</th>\n",
              "      <td>Health Care</td>\n",
              "      <td>39.60</td>\n",
              "      <td>15.573</td>\n",
              "      <td>40.0</td>\n",
              "    </tr>\n",
              "    <tr>\n",
              "      <th>ABBV</th>\n",
              "      <td>Health Care</td>\n",
              "      <td>53.95</td>\n",
              "      <td>2.954</td>\n",
              "      <td>54.0</td>\n",
              "    </tr>\n",
              "  </tbody>\n",
              "</table>\n",
              "</div>"
            ],
            "text/plain": [
              "             Sector   Price  Book Value  RoundedPrice\n",
              "Symbol                                               \n",
              "MMM     Industrials  141.14      26.668         141.0\n",
              "ABT     Health Care   39.60      15.573          40.0\n",
              "ABBV    Health Care   53.95       2.954          54.0"
            ]
          },
          "metadata": {
            "tags": []
          },
          "execution_count": 138
        }
      ]
    },
    {
      "cell_type": "markdown",
      "metadata": {
        "heading_collapsed": true,
        "hidden": true,
        "id": "fIe3IoeBOYP2"
      },
      "source": [
        "#### метод .insert()"
      ]
    },
    {
      "cell_type": "markdown",
      "metadata": {
        "hidden": true,
        "id": "c-d6VLifOYP2"
      },
      "source": [
        "создаем копию, чтобы исходные данные остались в неизменном виде"
      ]
    },
    {
      "cell_type": "code",
      "metadata": {
        "hidden": true,
        "id": "wbOdACf7OYP3"
      },
      "source": [
        "sp500_copy = sp500.copy()"
      ],
      "execution_count": 139,
      "outputs": []
    },
    {
      "cell_type": "markdown",
      "metadata": {
        "hidden": true,
        "id": "T2A9_YdVOYP3"
      },
      "source": [
        "вставляем столбец RoundedPrice в качестве третьего столбца датафрейма"
      ]
    },
    {
      "cell_type": "code",
      "metadata": {
        "hidden": true,
        "colab": {
          "base_uri": "https://localhost:8080/",
          "height": 173
        },
        "id": "DnbJInxwOYP3",
        "outputId": "8b31b7bf-f2b2-45d3-ccef-5c06cbf435cf"
      },
      "source": [
        "sp500_copy.insert(1, 'RoundedPrice', sp500_copy.Price.round())\n",
        "sp500_copy.head(3)"
      ],
      "execution_count": 140,
      "outputs": [
        {
          "output_type": "execute_result",
          "data": {
            "text/html": [
              "<div>\n",
              "<style scoped>\n",
              "    .dataframe tbody tr th:only-of-type {\n",
              "        vertical-align: middle;\n",
              "    }\n",
              "\n",
              "    .dataframe tbody tr th {\n",
              "        vertical-align: top;\n",
              "    }\n",
              "\n",
              "    .dataframe thead th {\n",
              "        text-align: right;\n",
              "    }\n",
              "</style>\n",
              "<table border=\"1\" class=\"dataframe\">\n",
              "  <thead>\n",
              "    <tr style=\"text-align: right;\">\n",
              "      <th></th>\n",
              "      <th>Sector</th>\n",
              "      <th>RoundedPrice</th>\n",
              "      <th>Price</th>\n",
              "      <th>Book Value</th>\n",
              "    </tr>\n",
              "    <tr>\n",
              "      <th>Symbol</th>\n",
              "      <th></th>\n",
              "      <th></th>\n",
              "      <th></th>\n",
              "      <th></th>\n",
              "    </tr>\n",
              "  </thead>\n",
              "  <tbody>\n",
              "    <tr>\n",
              "      <th>MMM</th>\n",
              "      <td>Industrials</td>\n",
              "      <td>141.0</td>\n",
              "      <td>141.14</td>\n",
              "      <td>26.668</td>\n",
              "    </tr>\n",
              "    <tr>\n",
              "      <th>ABT</th>\n",
              "      <td>Health Care</td>\n",
              "      <td>40.0</td>\n",
              "      <td>39.60</td>\n",
              "      <td>15.573</td>\n",
              "    </tr>\n",
              "    <tr>\n",
              "      <th>ABBV</th>\n",
              "      <td>Health Care</td>\n",
              "      <td>54.0</td>\n",
              "      <td>53.95</td>\n",
              "      <td>2.954</td>\n",
              "    </tr>\n",
              "  </tbody>\n",
              "</table>\n",
              "</div>"
            ],
            "text/plain": [
              "             Sector  RoundedPrice   Price  Book Value\n",
              "Symbol                                               \n",
              "MMM     Industrials         141.0  141.14      26.668\n",
              "ABT     Health Care          40.0   39.60      15.573\n",
              "ABBV    Health Care          54.0   53.95       2.954"
            ]
          },
          "metadata": {
            "tags": []
          },
          "execution_count": 140
        }
      ]
    },
    {
      "cell_type": "markdown",
      "metadata": {
        "heading_collapsed": true,
        "hidden": true,
        "id": "oljZ0-jvOYP4"
      },
      "source": [
        "#### метод .assign() "
      ]
    },
    {
      "cell_type": "markdown",
      "metadata": {
        "hidden": true,
        "id": "MQzFRTVAOYP4"
      },
      "source": [
        "создаем копию, чтобы исходные данные остались в неизменном виде"
      ]
    },
    {
      "cell_type": "code",
      "metadata": {
        "hidden": true,
        "id": "Yy0EGJ6-OYP5"
      },
      "source": [
        "sp500_copy = sp500.copy()"
      ],
      "execution_count": 141,
      "outputs": []
    },
    {
      "cell_type": "markdown",
      "metadata": {
        "hidden": true,
        "id": "tzmJwrUsOYP5"
      },
      "source": [
        "одновременное добавление двух столбцов:"
      ]
    },
    {
      "cell_type": "code",
      "metadata": {
        "hidden": true,
        "colab": {
          "base_uri": "https://localhost:8080/",
          "height": 450
        },
        "id": "blFgf2gWOYP6",
        "outputId": "1f576274-df3f-494c-c3e2-54b87ee3107c"
      },
      "source": [
        "sp500_copy.assign(Rounded_Price=sp500_copy.Price.round(),\n",
        "                  R_BookValue_Price=lambda x: (x['Book Value'] / x['Rounded_Price']))"
      ],
      "execution_count": 142,
      "outputs": [
        {
          "output_type": "execute_result",
          "data": {
            "text/html": [
              "<div>\n",
              "<style scoped>\n",
              "    .dataframe tbody tr th:only-of-type {\n",
              "        vertical-align: middle;\n",
              "    }\n",
              "\n",
              "    .dataframe tbody tr th {\n",
              "        vertical-align: top;\n",
              "    }\n",
              "\n",
              "    .dataframe thead th {\n",
              "        text-align: right;\n",
              "    }\n",
              "</style>\n",
              "<table border=\"1\" class=\"dataframe\">\n",
              "  <thead>\n",
              "    <tr style=\"text-align: right;\">\n",
              "      <th></th>\n",
              "      <th>Sector</th>\n",
              "      <th>Price</th>\n",
              "      <th>Book Value</th>\n",
              "      <th>Rounded_Price</th>\n",
              "      <th>R_BookValue_Price</th>\n",
              "    </tr>\n",
              "    <tr>\n",
              "      <th>Symbol</th>\n",
              "      <th></th>\n",
              "      <th></th>\n",
              "      <th></th>\n",
              "      <th></th>\n",
              "      <th></th>\n",
              "    </tr>\n",
              "  </thead>\n",
              "  <tbody>\n",
              "    <tr>\n",
              "      <th>MMM</th>\n",
              "      <td>Industrials</td>\n",
              "      <td>141.14</td>\n",
              "      <td>26.668</td>\n",
              "      <td>141.0</td>\n",
              "      <td>0.189135</td>\n",
              "    </tr>\n",
              "    <tr>\n",
              "      <th>ABT</th>\n",
              "      <td>Health Care</td>\n",
              "      <td>39.60</td>\n",
              "      <td>15.573</td>\n",
              "      <td>40.0</td>\n",
              "      <td>0.389325</td>\n",
              "    </tr>\n",
              "    <tr>\n",
              "      <th>ABBV</th>\n",
              "      <td>Health Care</td>\n",
              "      <td>53.95</td>\n",
              "      <td>2.954</td>\n",
              "      <td>54.0</td>\n",
              "      <td>0.054704</td>\n",
              "    </tr>\n",
              "    <tr>\n",
              "      <th>ACN</th>\n",
              "      <td>Information Technology</td>\n",
              "      <td>79.79</td>\n",
              "      <td>8.326</td>\n",
              "      <td>80.0</td>\n",
              "      <td>0.104075</td>\n",
              "    </tr>\n",
              "    <tr>\n",
              "      <th>ACE</th>\n",
              "      <td>Financials</td>\n",
              "      <td>102.91</td>\n",
              "      <td>86.897</td>\n",
              "      <td>103.0</td>\n",
              "      <td>0.843660</td>\n",
              "    </tr>\n",
              "    <tr>\n",
              "      <th>...</th>\n",
              "      <td>...</td>\n",
              "      <td>...</td>\n",
              "      <td>...</td>\n",
              "      <td>...</td>\n",
              "      <td>...</td>\n",
              "    </tr>\n",
              "    <tr>\n",
              "      <th>YHOO</th>\n",
              "      <td>Information Technology</td>\n",
              "      <td>35.02</td>\n",
              "      <td>12.768</td>\n",
              "      <td>35.0</td>\n",
              "      <td>0.364800</td>\n",
              "    </tr>\n",
              "    <tr>\n",
              "      <th>YUM</th>\n",
              "      <td>Consumer Discretionary</td>\n",
              "      <td>74.77</td>\n",
              "      <td>5.147</td>\n",
              "      <td>75.0</td>\n",
              "      <td>0.068627</td>\n",
              "    </tr>\n",
              "    <tr>\n",
              "      <th>ZMH</th>\n",
              "      <td>Health Care</td>\n",
              "      <td>101.84</td>\n",
              "      <td>37.181</td>\n",
              "      <td>102.0</td>\n",
              "      <td>0.364520</td>\n",
              "    </tr>\n",
              "    <tr>\n",
              "      <th>ZION</th>\n",
              "      <td>Financials</td>\n",
              "      <td>28.43</td>\n",
              "      <td>30.191</td>\n",
              "      <td>28.0</td>\n",
              "      <td>1.078250</td>\n",
              "    </tr>\n",
              "    <tr>\n",
              "      <th>ZTS</th>\n",
              "      <td>Health Care</td>\n",
              "      <td>30.53</td>\n",
              "      <td>2.150</td>\n",
              "      <td>31.0</td>\n",
              "      <td>0.069355</td>\n",
              "    </tr>\n",
              "  </tbody>\n",
              "</table>\n",
              "<p>500 rows × 5 columns</p>\n",
              "</div>"
            ],
            "text/plain": [
              "                        Sector   Price  ...  Rounded_Price  R_BookValue_Price\n",
              "Symbol                                  ...                                  \n",
              "MMM                Industrials  141.14  ...          141.0           0.189135\n",
              "ABT                Health Care   39.60  ...           40.0           0.389325\n",
              "ABBV               Health Care   53.95  ...           54.0           0.054704\n",
              "ACN     Information Technology   79.79  ...           80.0           0.104075\n",
              "ACE                 Financials  102.91  ...          103.0           0.843660\n",
              "...                        ...     ...  ...            ...                ...\n",
              "YHOO    Information Technology   35.02  ...           35.0           0.364800\n",
              "YUM     Consumer Discretionary   74.77  ...           75.0           0.068627\n",
              "ZMH                Health Care  101.84  ...          102.0           0.364520\n",
              "ZION                Financials   28.43  ...           28.0           1.078250\n",
              "ZTS                Health Care   30.53  ...           31.0           0.069355\n",
              "\n",
              "[500 rows x 5 columns]"
            ]
          },
          "metadata": {
            "tags": []
          },
          "execution_count": 142
        }
      ]
    },
    {
      "cell_type": "markdown",
      "metadata": {
        "heading_collapsed": true,
        "id": "7hOb9KdYOYP6"
      },
      "source": [
        "### Выравнивание данных"
      ]
    },
    {
      "cell_type": "markdown",
      "metadata": {
        "heading_collapsed": true,
        "hidden": true,
        "id": "_FdOfZb6OYP6"
      },
      "source": [
        "#### Series "
      ]
    },
    {
      "cell_type": "markdown",
      "metadata": {
        "hidden": true,
        "id": "dC2qGz9oOYP7"
      },
      "source": [
        "первая серия для примеров"
      ]
    },
    {
      "cell_type": "code",
      "metadata": {
        "hidden": true,
        "colab": {
          "base_uri": "https://localhost:8080/"
        },
        "id": "V5O468NuOYP7",
        "outputId": "29918f6e-1016-40fd-bbb1-00b6366d4a94"
      },
      "source": [
        "s_1 = pd.Series(data=[77,33,11],index=['a','b','f'])\n",
        "s_1"
      ],
      "execution_count": 143,
      "outputs": [
        {
          "output_type": "execute_result",
          "data": {
            "text/plain": [
              "a    77\n",
              "b    33\n",
              "f    11\n",
              "dtype: int64"
            ]
          },
          "metadata": {
            "tags": []
          },
          "execution_count": 143
        }
      ]
    },
    {
      "cell_type": "markdown",
      "metadata": {
        "hidden": true,
        "id": "ZCgVq70hOYP7"
      },
      "source": [
        "вторая серия для примеров"
      ]
    },
    {
      "cell_type": "code",
      "metadata": {
        "hidden": true,
        "colab": {
          "base_uri": "https://localhost:8080/"
        },
        "id": "5gSqofXAOYP8",
        "outputId": "89c1c086-b987-46a9-88bb-965d26486f6e"
      },
      "source": [
        "s_2 = pd.Series(data=[11,5,6],index=['c','b','a'])\n",
        "s_2"
      ],
      "execution_count": 144,
      "outputs": [
        {
          "output_type": "execute_result",
          "data": {
            "text/plain": [
              "c    11\n",
              "b     5\n",
              "a     6\n",
              "dtype: int64"
            ]
          },
          "metadata": {
            "tags": []
          },
          "execution_count": 144
        }
      ]
    },
    {
      "cell_type": "markdown",
      "metadata": {
        "hidden": true,
        "id": "MgfhLBFQOYP8"
      },
      "source": [
        "для непересекающейся части индексов будут получены значения NaN"
      ]
    },
    {
      "cell_type": "code",
      "metadata": {
        "hidden": true,
        "colab": {
          "base_uri": "https://localhost:8080/"
        },
        "id": "v4hc7VuMOYP8",
        "outputId": "c1487227-6039-477a-9b03-39ab56d6db5d"
      },
      "source": [
        "s_1+s_2"
      ],
      "execution_count": 145,
      "outputs": [
        {
          "output_type": "execute_result",
          "data": {
            "text/plain": [
              "a    83.0\n",
              "b    38.0\n",
              "c     NaN\n",
              "f     NaN\n",
              "dtype: float64"
            ]
          },
          "metadata": {
            "tags": []
          },
          "execution_count": 145
        }
      ]
    },
    {
      "cell_type": "markdown",
      "metadata": {
        "hidden": true,
        "id": "19F8hXZqOYP9"
      },
      "source": [
        "метки не обязательно должны быть уникальными"
      ]
    },
    {
      "cell_type": "code",
      "metadata": {
        "hidden": true,
        "colab": {
          "base_uri": "https://localhost:8080/"
        },
        "id": "wrf24ttrOYP9",
        "outputId": "ddfbee04-392f-4e81-c23f-630359e35086"
      },
      "source": [
        "s_1 = pd.Series(data=[77, 33, 15, 3], index=['a', 'a', 'a', 'd'])\n",
        "s_1"
      ],
      "execution_count": 146,
      "outputs": [
        {
          "output_type": "execute_result",
          "data": {
            "text/plain": [
              "a    77\n",
              "a    33\n",
              "a    15\n",
              "d     3\n",
              "dtype: int64"
            ]
          },
          "metadata": {
            "tags": []
          },
          "execution_count": 146
        }
      ]
    },
    {
      "cell_type": "code",
      "metadata": {
        "hidden": true,
        "colab": {
          "base_uri": "https://localhost:8080/"
        },
        "id": "Yc1MwUF0OYP-",
        "outputId": "22c09cce-1377-4370-dbf8-05f8cc989850"
      },
      "source": [
        "s_2 = pd.Series(data=[11, 5, 6], index=['c', 'a', 'a'])\n",
        "s_2"
      ],
      "execution_count": 147,
      "outputs": [
        {
          "output_type": "execute_result",
          "data": {
            "text/plain": [
              "c    11\n",
              "a     5\n",
              "a     6\n",
              "dtype: int64"
            ]
          },
          "metadata": {
            "tags": []
          },
          "execution_count": 147
        }
      ]
    },
    {
      "cell_type": "markdown",
      "metadata": {
        "hidden": true,
        "id": "gNPnw_qhOYP-"
      },
      "source": [
        "3 метки 'а' и 2 метки 'а', результат 6 меток а"
      ]
    },
    {
      "cell_type": "code",
      "metadata": {
        "hidden": true,
        "colab": {
          "base_uri": "https://localhost:8080/"
        },
        "id": "-cGNspfGOYP_",
        "outputId": "a8bf8b65-d7e9-4bfe-e6e2-e6ae22372ccc"
      },
      "source": [
        "s_2+s_1"
      ],
      "execution_count": 148,
      "outputs": [
        {
          "output_type": "execute_result",
          "data": {
            "text/plain": [
              "a    82.0\n",
              "a    38.0\n",
              "a    20.0\n",
              "a    83.0\n",
              "a    39.0\n",
              "a    21.0\n",
              "c     NaN\n",
              "d     NaN\n",
              "dtype: float64"
            ]
          },
          "metadata": {
            "tags": []
          },
          "execution_count": 148
        }
      ]
    },
    {
      "cell_type": "markdown",
      "metadata": {
        "heading_collapsed": true,
        "hidden": true,
        "id": "wa7FGT-iOYQA"
      },
      "source": [
        "#### DataFrame"
      ]
    },
    {
      "cell_type": "code",
      "metadata": {
        "hidden": true,
        "id": "VSRP2eTeOYQA"
      },
      "source": [
        "sp500_part_1 = sp500.iloc[0:5, 0:2].copy()\n",
        "sp500_part_2 = sp500.iloc[2:7, 1:3].copy()"
      ],
      "execution_count": 149,
      "outputs": []
    },
    {
      "cell_type": "code",
      "metadata": {
        "hidden": true,
        "colab": {
          "base_uri": "https://localhost:8080/",
          "height": 235
        },
        "id": "HKC8HvNHOYQA",
        "outputId": "f07e6f7a-db14-4165-9b8d-fa6cbb913dac"
      },
      "source": [
        "sp500_part_1"
      ],
      "execution_count": 150,
      "outputs": [
        {
          "output_type": "execute_result",
          "data": {
            "text/html": [
              "<div>\n",
              "<style scoped>\n",
              "    .dataframe tbody tr th:only-of-type {\n",
              "        vertical-align: middle;\n",
              "    }\n",
              "\n",
              "    .dataframe tbody tr th {\n",
              "        vertical-align: top;\n",
              "    }\n",
              "\n",
              "    .dataframe thead th {\n",
              "        text-align: right;\n",
              "    }\n",
              "</style>\n",
              "<table border=\"1\" class=\"dataframe\">\n",
              "  <thead>\n",
              "    <tr style=\"text-align: right;\">\n",
              "      <th></th>\n",
              "      <th>Sector</th>\n",
              "      <th>Price</th>\n",
              "    </tr>\n",
              "    <tr>\n",
              "      <th>Symbol</th>\n",
              "      <th></th>\n",
              "      <th></th>\n",
              "    </tr>\n",
              "  </thead>\n",
              "  <tbody>\n",
              "    <tr>\n",
              "      <th>MMM</th>\n",
              "      <td>Industrials</td>\n",
              "      <td>141.14</td>\n",
              "    </tr>\n",
              "    <tr>\n",
              "      <th>ABT</th>\n",
              "      <td>Health Care</td>\n",
              "      <td>39.60</td>\n",
              "    </tr>\n",
              "    <tr>\n",
              "      <th>ABBV</th>\n",
              "      <td>Health Care</td>\n",
              "      <td>53.95</td>\n",
              "    </tr>\n",
              "    <tr>\n",
              "      <th>ACN</th>\n",
              "      <td>Information Technology</td>\n",
              "      <td>79.79</td>\n",
              "    </tr>\n",
              "    <tr>\n",
              "      <th>ACE</th>\n",
              "      <td>Financials</td>\n",
              "      <td>102.91</td>\n",
              "    </tr>\n",
              "  </tbody>\n",
              "</table>\n",
              "</div>"
            ],
            "text/plain": [
              "                        Sector   Price\n",
              "Symbol                                \n",
              "MMM                Industrials  141.14\n",
              "ABT                Health Care   39.60\n",
              "ABBV               Health Care   53.95\n",
              "ACN     Information Technology   79.79\n",
              "ACE                 Financials  102.91"
            ]
          },
          "metadata": {
            "tags": []
          },
          "execution_count": 150
        }
      ]
    },
    {
      "cell_type": "code",
      "metadata": {
        "hidden": true,
        "colab": {
          "base_uri": "https://localhost:8080/",
          "height": 235
        },
        "id": "ylGWnYdYOYQB",
        "outputId": "b61a65d5-838f-42d2-fe79-1eab819349d6"
      },
      "source": [
        "sp500_part_2"
      ],
      "execution_count": 151,
      "outputs": [
        {
          "output_type": "execute_result",
          "data": {
            "text/html": [
              "<div>\n",
              "<style scoped>\n",
              "    .dataframe tbody tr th:only-of-type {\n",
              "        vertical-align: middle;\n",
              "    }\n",
              "\n",
              "    .dataframe tbody tr th {\n",
              "        vertical-align: top;\n",
              "    }\n",
              "\n",
              "    .dataframe thead th {\n",
              "        text-align: right;\n",
              "    }\n",
              "</style>\n",
              "<table border=\"1\" class=\"dataframe\">\n",
              "  <thead>\n",
              "    <tr style=\"text-align: right;\">\n",
              "      <th></th>\n",
              "      <th>Price</th>\n",
              "      <th>Book Value</th>\n",
              "    </tr>\n",
              "    <tr>\n",
              "      <th>Symbol</th>\n",
              "      <th></th>\n",
              "      <th></th>\n",
              "    </tr>\n",
              "  </thead>\n",
              "  <tbody>\n",
              "    <tr>\n",
              "      <th>ABBV</th>\n",
              "      <td>53.95</td>\n",
              "      <td>2.954</td>\n",
              "    </tr>\n",
              "    <tr>\n",
              "      <th>ACN</th>\n",
              "      <td>79.79</td>\n",
              "      <td>8.326</td>\n",
              "    </tr>\n",
              "    <tr>\n",
              "      <th>ACE</th>\n",
              "      <td>102.91</td>\n",
              "      <td>86.897</td>\n",
              "    </tr>\n",
              "    <tr>\n",
              "      <th>ACT</th>\n",
              "      <td>213.77</td>\n",
              "      <td>55.188</td>\n",
              "    </tr>\n",
              "    <tr>\n",
              "      <th>ADBE</th>\n",
              "      <td>64.30</td>\n",
              "      <td>13.262</td>\n",
              "    </tr>\n",
              "  </tbody>\n",
              "</table>\n",
              "</div>"
            ],
            "text/plain": [
              "         Price  Book Value\n",
              "Symbol                    \n",
              "ABBV     53.95       2.954\n",
              "ACN      79.79       8.326\n",
              "ACE     102.91      86.897\n",
              "ACT     213.77      55.188\n",
              "ADBE     64.30      13.262"
            ]
          },
          "metadata": {
            "tags": []
          },
          "execution_count": 151
        }
      ]
    },
    {
      "cell_type": "code",
      "metadata": {
        "hidden": true,
        "colab": {
          "base_uri": "https://localhost:8080/",
          "height": 297
        },
        "id": "syGbIc-5OYQB",
        "outputId": "2cea060b-096d-4634-e670-13318f48b795"
      },
      "source": [
        "sp500_part_1 + sp500_part_2"
      ],
      "execution_count": 152,
      "outputs": [
        {
          "output_type": "execute_result",
          "data": {
            "text/html": [
              "<div>\n",
              "<style scoped>\n",
              "    .dataframe tbody tr th:only-of-type {\n",
              "        vertical-align: middle;\n",
              "    }\n",
              "\n",
              "    .dataframe tbody tr th {\n",
              "        vertical-align: top;\n",
              "    }\n",
              "\n",
              "    .dataframe thead th {\n",
              "        text-align: right;\n",
              "    }\n",
              "</style>\n",
              "<table border=\"1\" class=\"dataframe\">\n",
              "  <thead>\n",
              "    <tr style=\"text-align: right;\">\n",
              "      <th></th>\n",
              "      <th>Book Value</th>\n",
              "      <th>Price</th>\n",
              "      <th>Sector</th>\n",
              "    </tr>\n",
              "    <tr>\n",
              "      <th>Symbol</th>\n",
              "      <th></th>\n",
              "      <th></th>\n",
              "      <th></th>\n",
              "    </tr>\n",
              "  </thead>\n",
              "  <tbody>\n",
              "    <tr>\n",
              "      <th>ABBV</th>\n",
              "      <td>NaN</td>\n",
              "      <td>107.90</td>\n",
              "      <td>NaN</td>\n",
              "    </tr>\n",
              "    <tr>\n",
              "      <th>ABT</th>\n",
              "      <td>NaN</td>\n",
              "      <td>NaN</td>\n",
              "      <td>NaN</td>\n",
              "    </tr>\n",
              "    <tr>\n",
              "      <th>ACE</th>\n",
              "      <td>NaN</td>\n",
              "      <td>205.82</td>\n",
              "      <td>NaN</td>\n",
              "    </tr>\n",
              "    <tr>\n",
              "      <th>ACN</th>\n",
              "      <td>NaN</td>\n",
              "      <td>159.58</td>\n",
              "      <td>NaN</td>\n",
              "    </tr>\n",
              "    <tr>\n",
              "      <th>ACT</th>\n",
              "      <td>NaN</td>\n",
              "      <td>NaN</td>\n",
              "      <td>NaN</td>\n",
              "    </tr>\n",
              "    <tr>\n",
              "      <th>ADBE</th>\n",
              "      <td>NaN</td>\n",
              "      <td>NaN</td>\n",
              "      <td>NaN</td>\n",
              "    </tr>\n",
              "    <tr>\n",
              "      <th>MMM</th>\n",
              "      <td>NaN</td>\n",
              "      <td>NaN</td>\n",
              "      <td>NaN</td>\n",
              "    </tr>\n",
              "  </tbody>\n",
              "</table>\n",
              "</div>"
            ],
            "text/plain": [
              "        Book Value   Price  Sector\n",
              "Symbol                            \n",
              "ABBV           NaN  107.90     NaN\n",
              "ABT            NaN     NaN     NaN\n",
              "ACE            NaN  205.82     NaN\n",
              "ACN            NaN  159.58     NaN\n",
              "ACT            NaN     NaN     NaN\n",
              "ADBE           NaN     NaN     NaN\n",
              "MMM            NaN     NaN     NaN"
            ]
          },
          "metadata": {
            "tags": []
          },
          "execution_count": 152
        }
      ]
    },
    {
      "cell_type": "markdown",
      "metadata": {
        "hidden": true,
        "id": "Ebro-7EEOYQC"
      },
      "source": [
        "происходит выравнивание при создании датафрейма"
      ]
    },
    {
      "cell_type": "code",
      "metadata": {
        "hidden": true,
        "colab": {
          "base_uri": "https://localhost:8080/",
          "height": 142
        },
        "id": "wRVxSsF_OYQC",
        "outputId": "1390bdb0-3eb1-4b26-824e-7e31beb09f93"
      },
      "source": [
        "series_1 = pd.Series([70, 90])\n",
        "series_2 = pd.Series([71, 91])\n",
        "series_3 = pd.Series([85, 87], index=[1, 2])\n",
        "df = pd.DataFrame({'col_1': series_1,\n",
        "                   'col_2': series_2,\n",
        "                   'col_3': series_3})\n",
        "df"
      ],
      "execution_count": 153,
      "outputs": [
        {
          "output_type": "execute_result",
          "data": {
            "text/html": [
              "<div>\n",
              "<style scoped>\n",
              "    .dataframe tbody tr th:only-of-type {\n",
              "        vertical-align: middle;\n",
              "    }\n",
              "\n",
              "    .dataframe tbody tr th {\n",
              "        vertical-align: top;\n",
              "    }\n",
              "\n",
              "    .dataframe thead th {\n",
              "        text-align: right;\n",
              "    }\n",
              "</style>\n",
              "<table border=\"1\" class=\"dataframe\">\n",
              "  <thead>\n",
              "    <tr style=\"text-align: right;\">\n",
              "      <th></th>\n",
              "      <th>col_1</th>\n",
              "      <th>col_2</th>\n",
              "      <th>col_3</th>\n",
              "    </tr>\n",
              "  </thead>\n",
              "  <tbody>\n",
              "    <tr>\n",
              "      <th>0</th>\n",
              "      <td>70.0</td>\n",
              "      <td>71.0</td>\n",
              "      <td>NaN</td>\n",
              "    </tr>\n",
              "    <tr>\n",
              "      <th>1</th>\n",
              "      <td>90.0</td>\n",
              "      <td>91.0</td>\n",
              "      <td>85.0</td>\n",
              "    </tr>\n",
              "    <tr>\n",
              "      <th>2</th>\n",
              "      <td>NaN</td>\n",
              "      <td>NaN</td>\n",
              "      <td>87.0</td>\n",
              "    </tr>\n",
              "  </tbody>\n",
              "</table>\n",
              "</div>"
            ],
            "text/plain": [
              "   col_1  col_2  col_3\n",
              "0   70.0   71.0    NaN\n",
              "1   90.0   91.0   85.0\n",
              "2    NaN    NaN   87.0"
            ]
          },
          "metadata": {
            "tags": []
          },
          "execution_count": 153
        }
      ]
    },
    {
      "cell_type": "markdown",
      "metadata": {
        "heading_collapsed": true,
        "id": "hH5gNK0DOYQC"
      },
      "source": [
        "### Сортировка"
      ]
    },
    {
      "cell_type": "markdown",
      "metadata": {
        "heading_collapsed": true,
        "hidden": true,
        "id": "ZK-_cuSCOYQD"
      },
      "source": [
        "#### по индексу "
      ]
    },
    {
      "cell_type": "code",
      "metadata": {
        "hidden": true,
        "colab": {
          "base_uri": "https://localhost:8080/",
          "height": 235
        },
        "id": "JLrfjNUZOYQD",
        "outputId": "dd093ef2-61a8-4046-c2d4-712c8c538643"
      },
      "source": [
        "sp500.head()"
      ],
      "execution_count": 154,
      "outputs": [
        {
          "output_type": "execute_result",
          "data": {
            "text/html": [
              "<div>\n",
              "<style scoped>\n",
              "    .dataframe tbody tr th:only-of-type {\n",
              "        vertical-align: middle;\n",
              "    }\n",
              "\n",
              "    .dataframe tbody tr th {\n",
              "        vertical-align: top;\n",
              "    }\n",
              "\n",
              "    .dataframe thead th {\n",
              "        text-align: right;\n",
              "    }\n",
              "</style>\n",
              "<table border=\"1\" class=\"dataframe\">\n",
              "  <thead>\n",
              "    <tr style=\"text-align: right;\">\n",
              "      <th></th>\n",
              "      <th>Sector</th>\n",
              "      <th>Price</th>\n",
              "      <th>Book Value</th>\n",
              "    </tr>\n",
              "    <tr>\n",
              "      <th>Symbol</th>\n",
              "      <th></th>\n",
              "      <th></th>\n",
              "      <th></th>\n",
              "    </tr>\n",
              "  </thead>\n",
              "  <tbody>\n",
              "    <tr>\n",
              "      <th>MMM</th>\n",
              "      <td>Industrials</td>\n",
              "      <td>141.14</td>\n",
              "      <td>26.668</td>\n",
              "    </tr>\n",
              "    <tr>\n",
              "      <th>ABT</th>\n",
              "      <td>Health Care</td>\n",
              "      <td>39.60</td>\n",
              "      <td>15.573</td>\n",
              "    </tr>\n",
              "    <tr>\n",
              "      <th>ABBV</th>\n",
              "      <td>Health Care</td>\n",
              "      <td>53.95</td>\n",
              "      <td>2.954</td>\n",
              "    </tr>\n",
              "    <tr>\n",
              "      <th>ACN</th>\n",
              "      <td>Information Technology</td>\n",
              "      <td>79.79</td>\n",
              "      <td>8.326</td>\n",
              "    </tr>\n",
              "    <tr>\n",
              "      <th>ACE</th>\n",
              "      <td>Financials</td>\n",
              "      <td>102.91</td>\n",
              "      <td>86.897</td>\n",
              "    </tr>\n",
              "  </tbody>\n",
              "</table>\n",
              "</div>"
            ],
            "text/plain": [
              "                        Sector   Price  Book Value\n",
              "Symbol                                            \n",
              "MMM                Industrials  141.14      26.668\n",
              "ABT                Health Care   39.60      15.573\n",
              "ABBV               Health Care   53.95       2.954\n",
              "ACN     Information Technology   79.79       8.326\n",
              "ACE                 Financials  102.91      86.897"
            ]
          },
          "metadata": {
            "tags": []
          },
          "execution_count": 154
        }
      ]
    },
    {
      "cell_type": "code",
      "metadata": {
        "hidden": true,
        "colab": {
          "base_uri": "https://localhost:8080/",
          "height": 235
        },
        "id": "sN0ppTCJOYQD",
        "outputId": "5f56bec6-97e6-4094-f8e2-dcd9b5d77331"
      },
      "source": [
        "sp500.sort_index().head()"
      ],
      "execution_count": 155,
      "outputs": [
        {
          "output_type": "execute_result",
          "data": {
            "text/html": [
              "<div>\n",
              "<style scoped>\n",
              "    .dataframe tbody tr th:only-of-type {\n",
              "        vertical-align: middle;\n",
              "    }\n",
              "\n",
              "    .dataframe tbody tr th {\n",
              "        vertical-align: top;\n",
              "    }\n",
              "\n",
              "    .dataframe thead th {\n",
              "        text-align: right;\n",
              "    }\n",
              "</style>\n",
              "<table border=\"1\" class=\"dataframe\">\n",
              "  <thead>\n",
              "    <tr style=\"text-align: right;\">\n",
              "      <th></th>\n",
              "      <th>Sector</th>\n",
              "      <th>Price</th>\n",
              "      <th>Book Value</th>\n",
              "    </tr>\n",
              "    <tr>\n",
              "      <th>Symbol</th>\n",
              "      <th></th>\n",
              "      <th></th>\n",
              "      <th></th>\n",
              "    </tr>\n",
              "  </thead>\n",
              "  <tbody>\n",
              "    <tr>\n",
              "      <th>A</th>\n",
              "      <td>Health Care</td>\n",
              "      <td>56.18</td>\n",
              "      <td>16.928</td>\n",
              "    </tr>\n",
              "    <tr>\n",
              "      <th>AA</th>\n",
              "      <td>Materials</td>\n",
              "      <td>13.52</td>\n",
              "      <td>9.670</td>\n",
              "    </tr>\n",
              "    <tr>\n",
              "      <th>AAPL</th>\n",
              "      <td>Information Technology</td>\n",
              "      <td>614.13</td>\n",
              "      <td>139.460</td>\n",
              "    </tr>\n",
              "    <tr>\n",
              "      <th>ABBV</th>\n",
              "      <td>Health Care</td>\n",
              "      <td>53.95</td>\n",
              "      <td>2.954</td>\n",
              "    </tr>\n",
              "    <tr>\n",
              "      <th>ABC</th>\n",
              "      <td>Health Care</td>\n",
              "      <td>71.64</td>\n",
              "      <td>9.430</td>\n",
              "    </tr>\n",
              "  </tbody>\n",
              "</table>\n",
              "</div>"
            ],
            "text/plain": [
              "                        Sector   Price  Book Value\n",
              "Symbol                                            \n",
              "A                  Health Care   56.18      16.928\n",
              "AA                   Materials   13.52       9.670\n",
              "AAPL    Information Technology  614.13     139.460\n",
              "ABBV               Health Care   53.95       2.954\n",
              "ABC                Health Care   71.64       9.430"
            ]
          },
          "metadata": {
            "tags": []
          },
          "execution_count": 155
        }
      ]
    },
    {
      "cell_type": "code",
      "metadata": {
        "hidden": true,
        "colab": {
          "base_uri": "https://localhost:8080/",
          "height": 235
        },
        "id": "5JstdqYTOYQE",
        "outputId": "32593e98-8631-4cba-d192-6a40070cc981"
      },
      "source": [
        "sp500.sort_index(axis=1).head()"
      ],
      "execution_count": 156,
      "outputs": [
        {
          "output_type": "execute_result",
          "data": {
            "text/html": [
              "<div>\n",
              "<style scoped>\n",
              "    .dataframe tbody tr th:only-of-type {\n",
              "        vertical-align: middle;\n",
              "    }\n",
              "\n",
              "    .dataframe tbody tr th {\n",
              "        vertical-align: top;\n",
              "    }\n",
              "\n",
              "    .dataframe thead th {\n",
              "        text-align: right;\n",
              "    }\n",
              "</style>\n",
              "<table border=\"1\" class=\"dataframe\">\n",
              "  <thead>\n",
              "    <tr style=\"text-align: right;\">\n",
              "      <th></th>\n",
              "      <th>Book Value</th>\n",
              "      <th>Price</th>\n",
              "      <th>Sector</th>\n",
              "    </tr>\n",
              "    <tr>\n",
              "      <th>Symbol</th>\n",
              "      <th></th>\n",
              "      <th></th>\n",
              "      <th></th>\n",
              "    </tr>\n",
              "  </thead>\n",
              "  <tbody>\n",
              "    <tr>\n",
              "      <th>MMM</th>\n",
              "      <td>26.668</td>\n",
              "      <td>141.14</td>\n",
              "      <td>Industrials</td>\n",
              "    </tr>\n",
              "    <tr>\n",
              "      <th>ABT</th>\n",
              "      <td>15.573</td>\n",
              "      <td>39.60</td>\n",
              "      <td>Health Care</td>\n",
              "    </tr>\n",
              "    <tr>\n",
              "      <th>ABBV</th>\n",
              "      <td>2.954</td>\n",
              "      <td>53.95</td>\n",
              "      <td>Health Care</td>\n",
              "    </tr>\n",
              "    <tr>\n",
              "      <th>ACN</th>\n",
              "      <td>8.326</td>\n",
              "      <td>79.79</td>\n",
              "      <td>Information Technology</td>\n",
              "    </tr>\n",
              "    <tr>\n",
              "      <th>ACE</th>\n",
              "      <td>86.897</td>\n",
              "      <td>102.91</td>\n",
              "      <td>Financials</td>\n",
              "    </tr>\n",
              "  </tbody>\n",
              "</table>\n",
              "</div>"
            ],
            "text/plain": [
              "        Book Value   Price                  Sector\n",
              "Symbol                                            \n",
              "MMM         26.668  141.14             Industrials\n",
              "ABT         15.573   39.60             Health Care\n",
              "ABBV         2.954   53.95             Health Care\n",
              "ACN          8.326   79.79  Information Technology\n",
              "ACE         86.897  102.91              Financials"
            ]
          },
          "metadata": {
            "tags": []
          },
          "execution_count": 156
        }
      ]
    },
    {
      "cell_type": "markdown",
      "metadata": {
        "heading_collapsed": true,
        "hidden": true,
        "id": "-Cmr4DYPOYQE"
      },
      "source": [
        "#### по значению"
      ]
    },
    {
      "cell_type": "code",
      "metadata": {
        "hidden": true,
        "colab": {
          "base_uri": "https://localhost:8080/",
          "height": 235
        },
        "id": "La6fYC7ROYQE",
        "outputId": "a3470ec9-2672-4107-b7ef-0f70bdadc183"
      },
      "source": [
        "sp500.sort_values(by='Price').head()"
      ],
      "execution_count": 157,
      "outputs": [
        {
          "output_type": "execute_result",
          "data": {
            "text/html": [
              "<div>\n",
              "<style scoped>\n",
              "    .dataframe tbody tr th:only-of-type {\n",
              "        vertical-align: middle;\n",
              "    }\n",
              "\n",
              "    .dataframe tbody tr th {\n",
              "        vertical-align: top;\n",
              "    }\n",
              "\n",
              "    .dataframe thead th {\n",
              "        text-align: right;\n",
              "    }\n",
              "</style>\n",
              "<table border=\"1\" class=\"dataframe\">\n",
              "  <thead>\n",
              "    <tr style=\"text-align: right;\">\n",
              "      <th></th>\n",
              "      <th>Sector</th>\n",
              "      <th>Price</th>\n",
              "      <th>Book Value</th>\n",
              "    </tr>\n",
              "    <tr>\n",
              "      <th>Symbol</th>\n",
              "      <th></th>\n",
              "      <th></th>\n",
              "      <th></th>\n",
              "    </tr>\n",
              "  </thead>\n",
              "  <tbody>\n",
              "    <tr>\n",
              "      <th>BEAM</th>\n",
              "      <td>Consumer Discretionary</td>\n",
              "      <td>0.00</td>\n",
              "      <td>NaN</td>\n",
              "    </tr>\n",
              "    <tr>\n",
              "      <th>FTR</th>\n",
              "      <td>Telecommunications Services</td>\n",
              "      <td>5.81</td>\n",
              "      <td>3.989</td>\n",
              "    </tr>\n",
              "    <tr>\n",
              "      <th>SLM</th>\n",
              "      <td>Financials</td>\n",
              "      <td>8.82</td>\n",
              "      <td>11.895</td>\n",
              "    </tr>\n",
              "    <tr>\n",
              "      <th>HBAN</th>\n",
              "      <td>Financials</td>\n",
              "      <td>9.10</td>\n",
              "      <td>6.995</td>\n",
              "    </tr>\n",
              "    <tr>\n",
              "      <th>WIN</th>\n",
              "      <td>Telecommunications Services</td>\n",
              "      <td>9.38</td>\n",
              "      <td>1.199</td>\n",
              "    </tr>\n",
              "  </tbody>\n",
              "</table>\n",
              "</div>"
            ],
            "text/plain": [
              "                             Sector  Price  Book Value\n",
              "Symbol                                                \n",
              "BEAM         Consumer Discretionary   0.00         NaN\n",
              "FTR     Telecommunications Services   5.81       3.989\n",
              "SLM                      Financials   8.82      11.895\n",
              "HBAN                     Financials   9.10       6.995\n",
              "WIN     Telecommunications Services   9.38       1.199"
            ]
          },
          "metadata": {
            "tags": []
          },
          "execution_count": 157
        }
      ]
    },
    {
      "cell_type": "code",
      "metadata": {
        "hidden": true,
        "colab": {
          "base_uri": "https://localhost:8080/",
          "height": 235
        },
        "id": "I46NibsjOYQF",
        "outputId": "f06fa48c-8071-4ab6-f33b-767ab60dc67c"
      },
      "source": [
        "sp500.sort_values(by='Price', ascending=False).head()"
      ],
      "execution_count": 158,
      "outputs": [
        {
          "output_type": "execute_result",
          "data": {
            "text/html": [
              "<div>\n",
              "<style scoped>\n",
              "    .dataframe tbody tr th:only-of-type {\n",
              "        vertical-align: middle;\n",
              "    }\n",
              "\n",
              "    .dataframe tbody tr th {\n",
              "        vertical-align: top;\n",
              "    }\n",
              "\n",
              "    .dataframe thead th {\n",
              "        text-align: right;\n",
              "    }\n",
              "</style>\n",
              "<table border=\"1\" class=\"dataframe\">\n",
              "  <thead>\n",
              "    <tr style=\"text-align: right;\">\n",
              "      <th></th>\n",
              "      <th>Sector</th>\n",
              "      <th>Price</th>\n",
              "      <th>Book Value</th>\n",
              "    </tr>\n",
              "    <tr>\n",
              "      <th>Symbol</th>\n",
              "      <th></th>\n",
              "      <th></th>\n",
              "      <th></th>\n",
              "    </tr>\n",
              "  </thead>\n",
              "  <tbody>\n",
              "    <tr>\n",
              "      <th>PCLN</th>\n",
              "      <td>Industrials</td>\n",
              "      <td>1197.12</td>\n",
              "      <td>137.886</td>\n",
              "    </tr>\n",
              "    <tr>\n",
              "      <th>GHC</th>\n",
              "      <td>Consumer Discretionary</td>\n",
              "      <td>677.29</td>\n",
              "      <td>0.000</td>\n",
              "    </tr>\n",
              "    <tr>\n",
              "      <th>AAPL</th>\n",
              "      <td>Information Technology</td>\n",
              "      <td>614.13</td>\n",
              "      <td>139.460</td>\n",
              "    </tr>\n",
              "    <tr>\n",
              "      <th>GOOG</th>\n",
              "      <td>Information Technology</td>\n",
              "      <td>552.70</td>\n",
              "      <td>135.977</td>\n",
              "    </tr>\n",
              "    <tr>\n",
              "      <th>AZO</th>\n",
              "      <td>Consumer Discretionary</td>\n",
              "      <td>540.90</td>\n",
              "      <td>-51.275</td>\n",
              "    </tr>\n",
              "  </tbody>\n",
              "</table>\n",
              "</div>"
            ],
            "text/plain": [
              "                        Sector    Price  Book Value\n",
              "Symbol                                             \n",
              "PCLN               Industrials  1197.12     137.886\n",
              "GHC     Consumer Discretionary   677.29       0.000\n",
              "AAPL    Information Technology   614.13     139.460\n",
              "GOOG    Information Technology   552.70     135.977\n",
              "AZO     Consumer Discretionary   540.90     -51.275"
            ]
          },
          "metadata": {
            "tags": []
          },
          "execution_count": 158
        }
      ]
    },
    {
      "cell_type": "markdown",
      "metadata": {
        "heading_collapsed": true,
        "hidden": true,
        "id": "0YKyix0KOYQF"
      },
      "source": [
        "#### наименьшее / наибольшее значение"
      ]
    },
    {
      "cell_type": "code",
      "metadata": {
        "hidden": true,
        "colab": {
          "base_uri": "https://localhost:8080/",
          "height": 235
        },
        "id": "Hj2AyCnDOYQF",
        "outputId": "6808c1cb-9114-4725-ff8d-7954f3114e0d"
      },
      "source": [
        "sp500.nsmallest(5, 'Price')"
      ],
      "execution_count": 159,
      "outputs": [
        {
          "output_type": "execute_result",
          "data": {
            "text/html": [
              "<div>\n",
              "<style scoped>\n",
              "    .dataframe tbody tr th:only-of-type {\n",
              "        vertical-align: middle;\n",
              "    }\n",
              "\n",
              "    .dataframe tbody tr th {\n",
              "        vertical-align: top;\n",
              "    }\n",
              "\n",
              "    .dataframe thead th {\n",
              "        text-align: right;\n",
              "    }\n",
              "</style>\n",
              "<table border=\"1\" class=\"dataframe\">\n",
              "  <thead>\n",
              "    <tr style=\"text-align: right;\">\n",
              "      <th></th>\n",
              "      <th>Sector</th>\n",
              "      <th>Price</th>\n",
              "      <th>Book Value</th>\n",
              "    </tr>\n",
              "    <tr>\n",
              "      <th>Symbol</th>\n",
              "      <th></th>\n",
              "      <th></th>\n",
              "      <th></th>\n",
              "    </tr>\n",
              "  </thead>\n",
              "  <tbody>\n",
              "    <tr>\n",
              "      <th>BEAM</th>\n",
              "      <td>Consumer Discretionary</td>\n",
              "      <td>0.00</td>\n",
              "      <td>NaN</td>\n",
              "    </tr>\n",
              "    <tr>\n",
              "      <th>FTR</th>\n",
              "      <td>Telecommunications Services</td>\n",
              "      <td>5.81</td>\n",
              "      <td>3.989</td>\n",
              "    </tr>\n",
              "    <tr>\n",
              "      <th>SLM</th>\n",
              "      <td>Financials</td>\n",
              "      <td>8.82</td>\n",
              "      <td>11.895</td>\n",
              "    </tr>\n",
              "    <tr>\n",
              "      <th>HBAN</th>\n",
              "      <td>Financials</td>\n",
              "      <td>9.10</td>\n",
              "      <td>6.995</td>\n",
              "    </tr>\n",
              "    <tr>\n",
              "      <th>WIN</th>\n",
              "      <td>Telecommunications Services</td>\n",
              "      <td>9.38</td>\n",
              "      <td>1.199</td>\n",
              "    </tr>\n",
              "  </tbody>\n",
              "</table>\n",
              "</div>"
            ],
            "text/plain": [
              "                             Sector  Price  Book Value\n",
              "Symbol                                                \n",
              "BEAM         Consumer Discretionary   0.00         NaN\n",
              "FTR     Telecommunications Services   5.81       3.989\n",
              "SLM                      Financials   8.82      11.895\n",
              "HBAN                     Financials   9.10       6.995\n",
              "WIN     Telecommunications Services   9.38       1.199"
            ]
          },
          "metadata": {
            "tags": []
          },
          "execution_count": 159
        }
      ]
    },
    {
      "cell_type": "code",
      "metadata": {
        "hidden": true,
        "colab": {
          "base_uri": "https://localhost:8080/",
          "height": 235
        },
        "id": "oTfiy7C_OYQG",
        "outputId": "45dc5e8b-6565-4d89-a1b9-e91f3d280de4"
      },
      "source": [
        "sp500.nlargest(5, 'Price')"
      ],
      "execution_count": 160,
      "outputs": [
        {
          "output_type": "execute_result",
          "data": {
            "text/html": [
              "<div>\n",
              "<style scoped>\n",
              "    .dataframe tbody tr th:only-of-type {\n",
              "        vertical-align: middle;\n",
              "    }\n",
              "\n",
              "    .dataframe tbody tr th {\n",
              "        vertical-align: top;\n",
              "    }\n",
              "\n",
              "    .dataframe thead th {\n",
              "        text-align: right;\n",
              "    }\n",
              "</style>\n",
              "<table border=\"1\" class=\"dataframe\">\n",
              "  <thead>\n",
              "    <tr style=\"text-align: right;\">\n",
              "      <th></th>\n",
              "      <th>Sector</th>\n",
              "      <th>Price</th>\n",
              "      <th>Book Value</th>\n",
              "    </tr>\n",
              "    <tr>\n",
              "      <th>Symbol</th>\n",
              "      <th></th>\n",
              "      <th></th>\n",
              "      <th></th>\n",
              "    </tr>\n",
              "  </thead>\n",
              "  <tbody>\n",
              "    <tr>\n",
              "      <th>PCLN</th>\n",
              "      <td>Industrials</td>\n",
              "      <td>1197.12</td>\n",
              "      <td>137.886</td>\n",
              "    </tr>\n",
              "    <tr>\n",
              "      <th>GHC</th>\n",
              "      <td>Consumer Discretionary</td>\n",
              "      <td>677.29</td>\n",
              "      <td>0.000</td>\n",
              "    </tr>\n",
              "    <tr>\n",
              "      <th>AAPL</th>\n",
              "      <td>Information Technology</td>\n",
              "      <td>614.13</td>\n",
              "      <td>139.460</td>\n",
              "    </tr>\n",
              "    <tr>\n",
              "      <th>GOOG</th>\n",
              "      <td>Information Technology</td>\n",
              "      <td>552.70</td>\n",
              "      <td>135.977</td>\n",
              "    </tr>\n",
              "    <tr>\n",
              "      <th>AZO</th>\n",
              "      <td>Consumer Discretionary</td>\n",
              "      <td>540.90</td>\n",
              "      <td>-51.275</td>\n",
              "    </tr>\n",
              "  </tbody>\n",
              "</table>\n",
              "</div>"
            ],
            "text/plain": [
              "                        Sector    Price  Book Value\n",
              "Symbol                                             \n",
              "PCLN               Industrials  1197.12     137.886\n",
              "GHC     Consumer Discretionary   677.29       0.000\n",
              "AAPL    Information Technology   614.13     139.460\n",
              "GOOG    Information Technology   552.70     135.977\n",
              "AZO     Consumer Discretionary   540.90     -51.275"
            ]
          },
          "metadata": {
            "tags": []
          },
          "execution_count": 160
        }
      ]
    }
  ]
}