{
  "nbformat": 4,
  "nbformat_minor": 0,
  "metadata": {
    "anaconda-cloud": {},
    "hide_input": false,
    "kernelspec": {
      "display_name": "Python 3",
      "language": "python",
      "name": "python3"
    },
    "language_info": {
      "codemirror_mode": {
        "name": "ipython",
        "version": 3
      },
      "file_extension": ".py",
      "mimetype": "text/x-python",
      "name": "python",
      "nbconvert_exporter": "python",
      "pygments_lexer": "ipython3",
      "version": "3.7.0"
    },
    "toc": {
      "base_numbering": 1,
      "nav_menu": {},
      "number_sections": true,
      "sideBar": true,
      "skip_h1_title": false,
      "title_cell": "Table of Contents",
      "title_sidebar": "Contents",
      "toc_cell": false,
      "toc_position": {
        "height": "calc(100% - 180px)",
        "left": "10px",
        "top": "150px",
        "width": "301.788px"
      },
      "toc_section_display": true,
      "toc_window_display": true
    },
    "colab": {
      "name": "PandasMath.ipynb",
      "provenance": [],
      "collapsed_sections": [],
      "toc_visible": true
    }
  },
  "cells": [
    {
      "cell_type": "markdown",
      "metadata": {
        "heading_collapsed": true,
        "id": "H7lOPK7fP6Oy"
      },
      "source": [
        "### Библиотеки / данные"
      ]
    },
    {
      "cell_type": "markdown",
      "metadata": {
        "hidden": true,
        "id": "ZKpHPaihP6O1"
      },
      "source": [
        "импортируем numpy и pandas"
      ]
    },
    {
      "cell_type": "code",
      "metadata": {
        "hidden": true,
        "id": "JWdHSWOZP6O3"
      },
      "source": [
        "import numpy as np\n",
        "import pandas as pd"
      ],
      "execution_count": 1,
      "outputs": []
    },
    {
      "cell_type": "markdown",
      "metadata": {
        "hidden": true,
        "id": "pBDYQO3yP6O4"
      },
      "source": [
        "задаем некоторые настройки pandas, регулирующие формат вывода"
      ]
    },
    {
      "cell_type": "code",
      "metadata": {
        "hidden": true,
        "id": "A2P7k11uP6O5"
      },
      "source": [
        "pd.options.display.max_rows = 10"
      ],
      "execution_count": 2,
      "outputs": []
    },
    {
      "cell_type": "markdown",
      "metadata": {
        "hidden": true,
        "id": "5dxiZa5AP6O6"
      },
      "source": [
        "- считываем данные \n",
        "- используем столбец Symbol в качестве индекса \n",
        "- считываем только те столбцы ['Symbol', 'Sector', 'Price', 'Book Value']"
      ]
    },
    {
      "cell_type": "markdown",
      "metadata": {
        "hidden": true,
        "id": "bNxH4EmkP6O7"
      },
      "source": [
        "| Column Name        | Description\n",
        "| ------------- |:-------------:|\n",
        "|Symbol|Сокращенное название организации|\n",
        "|Name|Полное название организации|\n",
        "|Sector|Сектор экономики|\n",
        "|Price|Стоимость акции|\n",
        "|Dividend Yield|Дивидендная доходность|\n",
        "|Price/Earnings|Цена / прибыль|\n",
        "|Earnings/Share|Прибыль на акцию|\n",
        "|Book Value|Балансовая стоимость компании|\n",
        "|52 week low|52-недельный минимум|\n",
        "|52 week high|52-недельный максимум|\n",
        "|Market Cap|Рыночная капитализация|\n",
        "|EBITDA|**E**arnings **b**efore **i**nterest, **t**axes, **d**epreciation and **a**mortization|\n",
        "|Price/Sales|Цена / объём продаж|\n",
        "|Price/Book|Цена / балансовая стоимость|\n",
        "|SEC Filings|Ссылка *sec.gov*|"
      ]
    },
    {
      "cell_type": "code",
      "metadata": {
        "hidden": true,
        "id": "l3PaNltyP6O8"
      },
      "source": [
        "sp500 = pd.read_csv(\"sp500.csv\",\n",
        "                    index_col='Symbol',\n",
        "                    usecols=['Symbol', 'Sector', 'Price', 'Book Value'])"
      ],
      "execution_count": 3,
      "outputs": []
    },
    {
      "cell_type": "code",
      "metadata": {
        "hidden": true,
        "colab": {
          "base_uri": "https://localhost:8080/",
          "height": 235
        },
        "id": "03So6yX-P6O9",
        "outputId": "544de319-384b-4ffc-bcaf-af2a84462ab6"
      },
      "source": [
        "sp500.head()"
      ],
      "execution_count": 4,
      "outputs": [
        {
          "output_type": "execute_result",
          "data": {
            "text/html": [
              "<div>\n",
              "<style scoped>\n",
              "    .dataframe tbody tr th:only-of-type {\n",
              "        vertical-align: middle;\n",
              "    }\n",
              "\n",
              "    .dataframe tbody tr th {\n",
              "        vertical-align: top;\n",
              "    }\n",
              "\n",
              "    .dataframe thead th {\n",
              "        text-align: right;\n",
              "    }\n",
              "</style>\n",
              "<table border=\"1\" class=\"dataframe\">\n",
              "  <thead>\n",
              "    <tr style=\"text-align: right;\">\n",
              "      <th></th>\n",
              "      <th>Sector</th>\n",
              "      <th>Price</th>\n",
              "      <th>Book Value</th>\n",
              "    </tr>\n",
              "    <tr>\n",
              "      <th>Symbol</th>\n",
              "      <th></th>\n",
              "      <th></th>\n",
              "      <th></th>\n",
              "    </tr>\n",
              "  </thead>\n",
              "  <tbody>\n",
              "    <tr>\n",
              "      <th>MMM</th>\n",
              "      <td>Industrials</td>\n",
              "      <td>141.14</td>\n",
              "      <td>26.668</td>\n",
              "    </tr>\n",
              "    <tr>\n",
              "      <th>ABT</th>\n",
              "      <td>Health Care</td>\n",
              "      <td>39.60</td>\n",
              "      <td>15.573</td>\n",
              "    </tr>\n",
              "    <tr>\n",
              "      <th>ABBV</th>\n",
              "      <td>Health Care</td>\n",
              "      <td>53.95</td>\n",
              "      <td>2.954</td>\n",
              "    </tr>\n",
              "    <tr>\n",
              "      <th>ACN</th>\n",
              "      <td>Information Technology</td>\n",
              "      <td>79.79</td>\n",
              "      <td>8.326</td>\n",
              "    </tr>\n",
              "    <tr>\n",
              "      <th>ACE</th>\n",
              "      <td>Financials</td>\n",
              "      <td>102.91</td>\n",
              "      <td>86.897</td>\n",
              "    </tr>\n",
              "  </tbody>\n",
              "</table>\n",
              "</div>"
            ],
            "text/plain": [
              "                        Sector   Price  Book Value\n",
              "Symbol                                            \n",
              "MMM                Industrials  141.14      26.668\n",
              "ABT                Health Care   39.60      15.573\n",
              "ABBV               Health Care   53.95       2.954\n",
              "ACN     Information Technology   79.79       8.326\n",
              "ACE                 Financials  102.91      86.897"
            ]
          },
          "metadata": {
            "tags": []
          },
          "execution_count": 4
        }
      ]
    },
    {
      "cell_type": "markdown",
      "metadata": {
        "hidden": true,
        "id": "UoPh92FiP6O9"
      },
      "source": [
        "считываем исторические данные о котировках акций"
      ]
    },
    {
      "cell_type": "code",
      "metadata": {
        "hidden": true,
        "id": "yTAwyDhvP6O-"
      },
      "source": [
        "omh = pd.read_csv('omh.csv', \n",
        "                  parse_dates=['Date'])\n",
        "\n",
        "omh.set_index('Date', \n",
        "              inplace=True)"
      ],
      "execution_count": 5,
      "outputs": []
    },
    {
      "cell_type": "code",
      "metadata": {
        "hidden": true,
        "colab": {
          "base_uri": "https://localhost:8080/",
          "height": 235
        },
        "id": "vKpXbSAZP6O_",
        "outputId": "1b778921-1bc3-4680-841c-4ae2e9d17d8b"
      },
      "source": [
        "omh.head()"
      ],
      "execution_count": 6,
      "outputs": [
        {
          "output_type": "execute_result",
          "data": {
            "text/html": [
              "<div>\n",
              "<style scoped>\n",
              "    .dataframe tbody tr th:only-of-type {\n",
              "        vertical-align: middle;\n",
              "    }\n",
              "\n",
              "    .dataframe tbody tr th {\n",
              "        vertical-align: top;\n",
              "    }\n",
              "\n",
              "    .dataframe thead th {\n",
              "        text-align: right;\n",
              "    }\n",
              "</style>\n",
              "<table border=\"1\" class=\"dataframe\">\n",
              "  <thead>\n",
              "    <tr style=\"text-align: right;\">\n",
              "      <th></th>\n",
              "      <th>MSFT</th>\n",
              "      <th>AAPL</th>\n",
              "    </tr>\n",
              "    <tr>\n",
              "      <th>Date</th>\n",
              "      <th></th>\n",
              "      <th></th>\n",
              "    </tr>\n",
              "  </thead>\n",
              "  <tbody>\n",
              "    <tr>\n",
              "      <th>2014-12-01</th>\n",
              "      <td>48.62</td>\n",
              "      <td>115.07</td>\n",
              "    </tr>\n",
              "    <tr>\n",
              "      <th>2014-12-02</th>\n",
              "      <td>48.46</td>\n",
              "      <td>114.63</td>\n",
              "    </tr>\n",
              "    <tr>\n",
              "      <th>2014-12-03</th>\n",
              "      <td>48.08</td>\n",
              "      <td>115.93</td>\n",
              "    </tr>\n",
              "    <tr>\n",
              "      <th>2014-12-04</th>\n",
              "      <td>48.84</td>\n",
              "      <td>115.49</td>\n",
              "    </tr>\n",
              "    <tr>\n",
              "      <th>2014-12-05</th>\n",
              "      <td>48.42</td>\n",
              "      <td>115.00</td>\n",
              "    </tr>\n",
              "  </tbody>\n",
              "</table>\n",
              "</div>"
            ],
            "text/plain": [
              "             MSFT    AAPL\n",
              "Date                     \n",
              "2014-12-01  48.62  115.07\n",
              "2014-12-02  48.46  114.63\n",
              "2014-12-03  48.08  115.93\n",
              "2014-12-04  48.84  115.49\n",
              "2014-12-05  48.42  115.00"
            ]
          },
          "metadata": {
            "tags": []
          },
          "execution_count": 6
        }
      ]
    },
    {
      "cell_type": "markdown",
      "metadata": {
        "id": "bdPuzvAxP6O_"
      },
      "source": [
        "### Сводка статистик"
      ]
    },
    {
      "cell_type": "markdown",
      "metadata": {
        "id": "arceJOdUP6PA"
      },
      "source": [
        "получаем сводку статистик для датафрейма, с которой работаем как с обычным датафреймом"
      ]
    },
    {
      "cell_type": "code",
      "metadata": {
        "colab": {
          "base_uri": "https://localhost:8080/",
          "height": 297
        },
        "id": "yMQwA30tP6PB",
        "outputId": "86ea7420-7ee1-4e33-ead2-8a7b974f2cd6"
      },
      "source": [
        "sp500.describe()"
      ],
      "execution_count": 7,
      "outputs": [
        {
          "output_type": "execute_result",
          "data": {
            "text/html": [
              "<div>\n",
              "<style scoped>\n",
              "    .dataframe tbody tr th:only-of-type {\n",
              "        vertical-align: middle;\n",
              "    }\n",
              "\n",
              "    .dataframe tbody tr th {\n",
              "        vertical-align: top;\n",
              "    }\n",
              "\n",
              "    .dataframe thead th {\n",
              "        text-align: right;\n",
              "    }\n",
              "</style>\n",
              "<table border=\"1\" class=\"dataframe\">\n",
              "  <thead>\n",
              "    <tr style=\"text-align: right;\">\n",
              "      <th></th>\n",
              "      <th>Price</th>\n",
              "      <th>Book Value</th>\n",
              "    </tr>\n",
              "  </thead>\n",
              "  <tbody>\n",
              "    <tr>\n",
              "      <th>count</th>\n",
              "      <td>500.00000</td>\n",
              "      <td>499.000000</td>\n",
              "    </tr>\n",
              "    <tr>\n",
              "      <th>mean</th>\n",
              "      <td>77.36860</td>\n",
              "      <td>301.611301</td>\n",
              "    </tr>\n",
              "    <tr>\n",
              "      <th>std</th>\n",
              "      <td>87.59694</td>\n",
              "      <td>6195.727862</td>\n",
              "    </tr>\n",
              "    <tr>\n",
              "      <th>min</th>\n",
              "      <td>0.00000</td>\n",
              "      <td>-51.275000</td>\n",
              "    </tr>\n",
              "    <tr>\n",
              "      <th>25%</th>\n",
              "      <td>38.74500</td>\n",
              "      <td>10.836500</td>\n",
              "    </tr>\n",
              "    <tr>\n",
              "      <th>50%</th>\n",
              "      <td>58.35500</td>\n",
              "      <td>19.098000</td>\n",
              "    </tr>\n",
              "    <tr>\n",
              "      <th>75%</th>\n",
              "      <td>86.68000</td>\n",
              "      <td>31.386500</td>\n",
              "    </tr>\n",
              "    <tr>\n",
              "      <th>max</th>\n",
              "      <td>1197.12000</td>\n",
              "      <td>138425.453100</td>\n",
              "    </tr>\n",
              "  </tbody>\n",
              "</table>\n",
              "</div>"
            ],
            "text/plain": [
              "            Price     Book Value\n",
              "count   500.00000     499.000000\n",
              "mean     77.36860     301.611301\n",
              "std      87.59694    6195.727862\n",
              "min       0.00000     -51.275000\n",
              "25%      38.74500      10.836500\n",
              "50%      58.35500      19.098000\n",
              "75%      86.68000      31.386500\n",
              "max    1197.12000  138425.453100"
            ]
          },
          "metadata": {
            "tags": []
          },
          "execution_count": 7
        }
      ]
    },
    {
      "cell_type": "markdown",
      "metadata": {
        "id": "aJ82FGA3P6PB"
      },
      "source": [
        "вычисляем сводку статистик для отдельного столбца Price"
      ]
    },
    {
      "cell_type": "code",
      "metadata": {
        "colab": {
          "base_uri": "https://localhost:8080/"
        },
        "id": "778XpZhAP6PC",
        "outputId": "d38883e1-da04-4e1c-81cf-b3e66bba8681"
      },
      "source": [
        "sp500.Price.describe()"
      ],
      "execution_count": 8,
      "outputs": [
        {
          "output_type": "execute_result",
          "data": {
            "text/plain": [
              "count     500.00000\n",
              "mean       77.36860\n",
              "std        87.59694\n",
              "min         0.00000\n",
              "25%        38.74500\n",
              "50%        58.35500\n",
              "75%        86.68000\n",
              "max      1197.12000\n",
              "Name: Price, dtype: float64"
            ]
          },
          "metadata": {
            "tags": []
          },
          "execution_count": 8
        }
      ]
    },
    {
      "cell_type": "markdown",
      "metadata": {
        "id": "4WiuBvo-P6PC"
      },
      "source": [
        "получаем сводку статистик для нечисловых данных"
      ]
    },
    {
      "cell_type": "code",
      "metadata": {
        "colab": {
          "base_uri": "https://localhost:8080/"
        },
        "id": "IKB2IMKWP6PD",
        "outputId": "b1a4a824-9541-4764-c59e-df71a220025a"
      },
      "source": [
        "sp500.Sector.describe()"
      ],
      "execution_count": 9,
      "outputs": [
        {
          "output_type": "execute_result",
          "data": {
            "text/plain": [
              "count                        500\n",
              "unique                        13\n",
              "top       Consumer Discretionary\n",
              "freq                          85\n",
              "Name: Sector, dtype: object"
            ]
          },
          "metadata": {
            "tags": []
          },
          "execution_count": 9
        }
      ]
    },
    {
      "cell_type": "markdown",
      "metadata": {
        "id": "aAOsaEuMP6PD"
      },
      "source": [
        "метод info:"
      ]
    },
    {
      "cell_type": "code",
      "metadata": {
        "colab": {
          "base_uri": "https://localhost:8080/"
        },
        "id": "pnI6Le9sP6PE",
        "outputId": "54ba1304-8060-47b1-bcb2-6903abe315f8"
      },
      "source": [
        "sp500.info()"
      ],
      "execution_count": 10,
      "outputs": [
        {
          "output_type": "stream",
          "text": [
            "<class 'pandas.core.frame.DataFrame'>\n",
            "Index: 500 entries, MMM to ZTS\n",
            "Data columns (total 3 columns):\n",
            " #   Column      Non-Null Count  Dtype  \n",
            "---  ------      --------------  -----  \n",
            " 0   Sector      500 non-null    object \n",
            " 1   Price       500 non-null    float64\n",
            " 2   Book Value  499 non-null    float64\n",
            "dtypes: float64(2), object(1)\n",
            "memory usage: 15.6+ KB\n"
          ],
          "name": "stdout"
        }
      ]
    },
    {
      "cell_type": "markdown",
      "metadata": {
        "id": "D74xnRmmP6PE"
      },
      "source": [
        "получаем сводную статистику для нечисловых данных"
      ]
    },
    {
      "cell_type": "code",
      "metadata": {
        "colab": {
          "base_uri": "https://localhost:8080/"
        },
        "id": "Y6t4IUj3P6PF",
        "outputId": "0d053fc3-e1e3-4c0a-9a3d-288198197ad0"
      },
      "source": [
        "sp500.Sector.value_counts(normalize=True)"
      ],
      "execution_count": 11,
      "outputs": [
        {
          "output_type": "execute_result",
          "data": {
            "text/plain": [
              "Consumer Discretionary         0.170\n",
              "Financials                     0.164\n",
              "Information Technology         0.128\n",
              "Industrials                    0.128\n",
              "Health Care                    0.108\n",
              "                               ...  \n",
              "Materials                      0.058\n",
              "Telecommunications Services    0.012\n",
              "Consumer Discretionary         0.002\n",
              "Industries                     0.002\n",
              "Consumer Staples               0.002\n",
              "Name: Sector, Length: 13, dtype: float64"
            ]
          },
          "metadata": {
            "tags": []
          },
          "execution_count": 11
        }
      ]
    },
    {
      "cell_type": "markdown",
      "metadata": {
        "heading_collapsed": true,
        "id": "AimqOMswP6PF"
      },
      "source": [
        "### Арифметические операции"
      ]
    },
    {
      "cell_type": "markdown",
      "metadata": {
        "hidden": true,
        "id": "FMtyEYHcP6PG"
      },
      "source": [
        "- задаем стартовое значение генератора случайных чисел для получения воспроизводимых результатов\n",
        "- создаем объект DataFrame"
      ]
    },
    {
      "cell_type": "code",
      "metadata": {
        "hidden": true,
        "colab": {
          "base_uri": "https://localhost:8080/",
          "height": 204
        },
        "id": "tnvJQFtRP6PG",
        "outputId": "eba256c0-521c-4967-ec0a-f7424f8d4fda"
      },
      "source": [
        "np.random.seed(123)\n",
        "df = pd.DataFrame(np.random.randn(5, 4), \n",
        "                  columns=['A', 'B', 'C', 'D'])\n",
        "df"
      ],
      "execution_count": 12,
      "outputs": [
        {
          "output_type": "execute_result",
          "data": {
            "text/html": [
              "<div>\n",
              "<style scoped>\n",
              "    .dataframe tbody tr th:only-of-type {\n",
              "        vertical-align: middle;\n",
              "    }\n",
              "\n",
              "    .dataframe tbody tr th {\n",
              "        vertical-align: top;\n",
              "    }\n",
              "\n",
              "    .dataframe thead th {\n",
              "        text-align: right;\n",
              "    }\n",
              "</style>\n",
              "<table border=\"1\" class=\"dataframe\">\n",
              "  <thead>\n",
              "    <tr style=\"text-align: right;\">\n",
              "      <th></th>\n",
              "      <th>A</th>\n",
              "      <th>B</th>\n",
              "      <th>C</th>\n",
              "      <th>D</th>\n",
              "    </tr>\n",
              "  </thead>\n",
              "  <tbody>\n",
              "    <tr>\n",
              "      <th>0</th>\n",
              "      <td>-1.085631</td>\n",
              "      <td>0.997345</td>\n",
              "      <td>0.282978</td>\n",
              "      <td>-1.506295</td>\n",
              "    </tr>\n",
              "    <tr>\n",
              "      <th>1</th>\n",
              "      <td>-0.578600</td>\n",
              "      <td>1.651437</td>\n",
              "      <td>-2.426679</td>\n",
              "      <td>-0.428913</td>\n",
              "    </tr>\n",
              "    <tr>\n",
              "      <th>2</th>\n",
              "      <td>1.265936</td>\n",
              "      <td>-0.866740</td>\n",
              "      <td>-0.678886</td>\n",
              "      <td>-0.094709</td>\n",
              "    </tr>\n",
              "    <tr>\n",
              "      <th>3</th>\n",
              "      <td>1.491390</td>\n",
              "      <td>-0.638902</td>\n",
              "      <td>-0.443982</td>\n",
              "      <td>-0.434351</td>\n",
              "    </tr>\n",
              "    <tr>\n",
              "      <th>4</th>\n",
              "      <td>2.205930</td>\n",
              "      <td>2.186786</td>\n",
              "      <td>1.004054</td>\n",
              "      <td>0.386186</td>\n",
              "    </tr>\n",
              "  </tbody>\n",
              "</table>\n",
              "</div>"
            ],
            "text/plain": [
              "          A         B         C         D\n",
              "0 -1.085631  0.997345  0.282978 -1.506295\n",
              "1 -0.578600  1.651437 -2.426679 -0.428913\n",
              "2  1.265936 -0.866740 -0.678886 -0.094709\n",
              "3  1.491390 -0.638902 -0.443982 -0.434351\n",
              "4  2.205930  2.186786  1.004054  0.386186"
            ]
          },
          "metadata": {
            "tags": []
          },
          "execution_count": 12
        }
      ]
    },
    {
      "cell_type": "markdown",
      "metadata": {
        "hidden": true,
        "id": "0_8VInzLP6PH"
      },
      "source": [
        "умножаем все на 2, берём только абсолютные значения"
      ]
    },
    {
      "cell_type": "code",
      "metadata": {
        "hidden": true,
        "colab": {
          "base_uri": "https://localhost:8080/",
          "height": 204
        },
        "id": "cLsblrTsP6PH",
        "outputId": "27dae0cd-472f-4596-8db4-81a9e6df22f3"
      },
      "source": [
        "abs(df * 2)"
      ],
      "execution_count": 13,
      "outputs": [
        {
          "output_type": "execute_result",
          "data": {
            "text/html": [
              "<div>\n",
              "<style scoped>\n",
              "    .dataframe tbody tr th:only-of-type {\n",
              "        vertical-align: middle;\n",
              "    }\n",
              "\n",
              "    .dataframe tbody tr th {\n",
              "        vertical-align: top;\n",
              "    }\n",
              "\n",
              "    .dataframe thead th {\n",
              "        text-align: right;\n",
              "    }\n",
              "</style>\n",
              "<table border=\"1\" class=\"dataframe\">\n",
              "  <thead>\n",
              "    <tr style=\"text-align: right;\">\n",
              "      <th></th>\n",
              "      <th>A</th>\n",
              "      <th>B</th>\n",
              "      <th>C</th>\n",
              "      <th>D</th>\n",
              "    </tr>\n",
              "  </thead>\n",
              "  <tbody>\n",
              "    <tr>\n",
              "      <th>0</th>\n",
              "      <td>2.171261</td>\n",
              "      <td>1.994691</td>\n",
              "      <td>0.565957</td>\n",
              "      <td>3.012589</td>\n",
              "    </tr>\n",
              "    <tr>\n",
              "      <th>1</th>\n",
              "      <td>1.157201</td>\n",
              "      <td>3.302873</td>\n",
              "      <td>4.853358</td>\n",
              "      <td>0.857825</td>\n",
              "    </tr>\n",
              "    <tr>\n",
              "      <th>2</th>\n",
              "      <td>2.531873</td>\n",
              "      <td>1.733481</td>\n",
              "      <td>1.357772</td>\n",
              "      <td>0.189418</td>\n",
              "    </tr>\n",
              "    <tr>\n",
              "      <th>3</th>\n",
              "      <td>2.982779</td>\n",
              "      <td>1.277804</td>\n",
              "      <td>0.887964</td>\n",
              "      <td>0.868703</td>\n",
              "    </tr>\n",
              "    <tr>\n",
              "      <th>4</th>\n",
              "      <td>4.411860</td>\n",
              "      <td>4.373572</td>\n",
              "      <td>2.008108</td>\n",
              "      <td>0.772373</td>\n",
              "    </tr>\n",
              "  </tbody>\n",
              "</table>\n",
              "</div>"
            ],
            "text/plain": [
              "          A         B         C         D\n",
              "0  2.171261  1.994691  0.565957  3.012589\n",
              "1  1.157201  3.302873  4.853358  0.857825\n",
              "2  2.531873  1.733481  1.357772  0.189418\n",
              "3  2.982779  1.277804  0.887964  0.868703\n",
              "4  4.411860  4.373572  2.008108  0.772373"
            ]
          },
          "metadata": {
            "tags": []
          },
          "execution_count": 13
        }
      ]
    },
    {
      "cell_type": "markdown",
      "metadata": {
        "hidden": true,
        "id": "CDgcmkWoP6PH"
      },
      "source": [
        "вычитаем первую строку из каждой строки объекта DataFrame"
      ]
    },
    {
      "cell_type": "code",
      "metadata": {
        "hidden": true,
        "colab": {
          "base_uri": "https://localhost:8080/",
          "height": 204
        },
        "id": "fuUzt7DvP6PI",
        "outputId": "74e47ce6-28f3-47f0-ac6b-4115d45e504a"
      },
      "source": [
        "df"
      ],
      "execution_count": 14,
      "outputs": [
        {
          "output_type": "execute_result",
          "data": {
            "text/html": [
              "<div>\n",
              "<style scoped>\n",
              "    .dataframe tbody tr th:only-of-type {\n",
              "        vertical-align: middle;\n",
              "    }\n",
              "\n",
              "    .dataframe tbody tr th {\n",
              "        vertical-align: top;\n",
              "    }\n",
              "\n",
              "    .dataframe thead th {\n",
              "        text-align: right;\n",
              "    }\n",
              "</style>\n",
              "<table border=\"1\" class=\"dataframe\">\n",
              "  <thead>\n",
              "    <tr style=\"text-align: right;\">\n",
              "      <th></th>\n",
              "      <th>A</th>\n",
              "      <th>B</th>\n",
              "      <th>C</th>\n",
              "      <th>D</th>\n",
              "    </tr>\n",
              "  </thead>\n",
              "  <tbody>\n",
              "    <tr>\n",
              "      <th>0</th>\n",
              "      <td>-1.085631</td>\n",
              "      <td>0.997345</td>\n",
              "      <td>0.282978</td>\n",
              "      <td>-1.506295</td>\n",
              "    </tr>\n",
              "    <tr>\n",
              "      <th>1</th>\n",
              "      <td>-0.578600</td>\n",
              "      <td>1.651437</td>\n",
              "      <td>-2.426679</td>\n",
              "      <td>-0.428913</td>\n",
              "    </tr>\n",
              "    <tr>\n",
              "      <th>2</th>\n",
              "      <td>1.265936</td>\n",
              "      <td>-0.866740</td>\n",
              "      <td>-0.678886</td>\n",
              "      <td>-0.094709</td>\n",
              "    </tr>\n",
              "    <tr>\n",
              "      <th>3</th>\n",
              "      <td>1.491390</td>\n",
              "      <td>-0.638902</td>\n",
              "      <td>-0.443982</td>\n",
              "      <td>-0.434351</td>\n",
              "    </tr>\n",
              "    <tr>\n",
              "      <th>4</th>\n",
              "      <td>2.205930</td>\n",
              "      <td>2.186786</td>\n",
              "      <td>1.004054</td>\n",
              "      <td>0.386186</td>\n",
              "    </tr>\n",
              "  </tbody>\n",
              "</table>\n",
              "</div>"
            ],
            "text/plain": [
              "          A         B         C         D\n",
              "0 -1.085631  0.997345  0.282978 -1.506295\n",
              "1 -0.578600  1.651437 -2.426679 -0.428913\n",
              "2  1.265936 -0.866740 -0.678886 -0.094709\n",
              "3  1.491390 -0.638902 -0.443982 -0.434351\n",
              "4  2.205930  2.186786  1.004054  0.386186"
            ]
          },
          "metadata": {
            "tags": []
          },
          "execution_count": 14
        }
      ]
    },
    {
      "cell_type": "code",
      "metadata": {
        "hidden": true,
        "colab": {
          "base_uri": "https://localhost:8080/"
        },
        "id": "taymrqlhP6PI",
        "outputId": "7edba579-c806-4da9-e698-3bd6fdd1f996"
      },
      "source": [
        "df.iloc[0]"
      ],
      "execution_count": 15,
      "outputs": [
        {
          "output_type": "execute_result",
          "data": {
            "text/plain": [
              "A   -1.085631\n",
              "B    0.997345\n",
              "C    0.282978\n",
              "D   -1.506295\n",
              "Name: 0, dtype: float64"
            ]
          },
          "metadata": {
            "tags": []
          },
          "execution_count": 15
        }
      ]
    },
    {
      "cell_type": "code",
      "metadata": {
        "hidden": true,
        "colab": {
          "base_uri": "https://localhost:8080/",
          "height": 204
        },
        "id": "VYC6lHwrP6PI",
        "outputId": "e6445ed8-6d6a-4b89-d5cd-65e675c15a1e"
      },
      "source": [
        "df - df.iloc[0]"
      ],
      "execution_count": 16,
      "outputs": [
        {
          "output_type": "execute_result",
          "data": {
            "text/html": [
              "<div>\n",
              "<style scoped>\n",
              "    .dataframe tbody tr th:only-of-type {\n",
              "        vertical-align: middle;\n",
              "    }\n",
              "\n",
              "    .dataframe tbody tr th {\n",
              "        vertical-align: top;\n",
              "    }\n",
              "\n",
              "    .dataframe thead th {\n",
              "        text-align: right;\n",
              "    }\n",
              "</style>\n",
              "<table border=\"1\" class=\"dataframe\">\n",
              "  <thead>\n",
              "    <tr style=\"text-align: right;\">\n",
              "      <th></th>\n",
              "      <th>A</th>\n",
              "      <th>B</th>\n",
              "      <th>C</th>\n",
              "      <th>D</th>\n",
              "    </tr>\n",
              "  </thead>\n",
              "  <tbody>\n",
              "    <tr>\n",
              "      <th>0</th>\n",
              "      <td>0.000000</td>\n",
              "      <td>0.000000</td>\n",
              "      <td>0.000000</td>\n",
              "      <td>0.000000</td>\n",
              "    </tr>\n",
              "    <tr>\n",
              "      <th>1</th>\n",
              "      <td>0.507030</td>\n",
              "      <td>0.654091</td>\n",
              "      <td>-2.709658</td>\n",
              "      <td>1.077382</td>\n",
              "    </tr>\n",
              "    <tr>\n",
              "      <th>2</th>\n",
              "      <td>2.351567</td>\n",
              "      <td>-1.864086</td>\n",
              "      <td>-0.961865</td>\n",
              "      <td>1.411586</td>\n",
              "    </tr>\n",
              "    <tr>\n",
              "      <th>3</th>\n",
              "      <td>2.577020</td>\n",
              "      <td>-1.636247</td>\n",
              "      <td>-0.726960</td>\n",
              "      <td>1.071943</td>\n",
              "    </tr>\n",
              "    <tr>\n",
              "      <th>4</th>\n",
              "      <td>3.291561</td>\n",
              "      <td>1.189441</td>\n",
              "      <td>0.721075</td>\n",
              "      <td>1.892481</td>\n",
              "    </tr>\n",
              "  </tbody>\n",
              "</table>\n",
              "</div>"
            ],
            "text/plain": [
              "          A         B         C         D\n",
              "0  0.000000  0.000000  0.000000  0.000000\n",
              "1  0.507030  0.654091 -2.709658  1.077382\n",
              "2  2.351567 -1.864086 -0.961865  1.411586\n",
              "3  2.577020 -1.636247 -0.726960  1.071943\n",
              "4  3.291561  1.189441  0.721075  1.892481"
            ]
          },
          "metadata": {
            "tags": []
          },
          "execution_count": 16
        }
      ]
    },
    {
      "cell_type": "markdown",
      "metadata": {
        "hidden": true,
        "id": "wFT3Y6r5P6PJ"
      },
      "source": [
        "вычитаем объект DataFrame из объекта Series"
      ]
    },
    {
      "cell_type": "code",
      "metadata": {
        "hidden": true,
        "colab": {
          "base_uri": "https://localhost:8080/",
          "height": 204
        },
        "id": "caY5TbszP6PJ",
        "outputId": "ff8300dc-6436-4fa4-b51f-d06384f86277"
      },
      "source": [
        "df.iloc[0] - df"
      ],
      "execution_count": 17,
      "outputs": [
        {
          "output_type": "execute_result",
          "data": {
            "text/html": [
              "<div>\n",
              "<style scoped>\n",
              "    .dataframe tbody tr th:only-of-type {\n",
              "        vertical-align: middle;\n",
              "    }\n",
              "\n",
              "    .dataframe tbody tr th {\n",
              "        vertical-align: top;\n",
              "    }\n",
              "\n",
              "    .dataframe thead th {\n",
              "        text-align: right;\n",
              "    }\n",
              "</style>\n",
              "<table border=\"1\" class=\"dataframe\">\n",
              "  <thead>\n",
              "    <tr style=\"text-align: right;\">\n",
              "      <th></th>\n",
              "      <th>A</th>\n",
              "      <th>B</th>\n",
              "      <th>C</th>\n",
              "      <th>D</th>\n",
              "    </tr>\n",
              "  </thead>\n",
              "  <tbody>\n",
              "    <tr>\n",
              "      <th>0</th>\n",
              "      <td>0.000000</td>\n",
              "      <td>0.000000</td>\n",
              "      <td>0.000000</td>\n",
              "      <td>0.000000</td>\n",
              "    </tr>\n",
              "    <tr>\n",
              "      <th>1</th>\n",
              "      <td>-0.507030</td>\n",
              "      <td>-0.654091</td>\n",
              "      <td>2.709658</td>\n",
              "      <td>-1.077382</td>\n",
              "    </tr>\n",
              "    <tr>\n",
              "      <th>2</th>\n",
              "      <td>-2.351567</td>\n",
              "      <td>1.864086</td>\n",
              "      <td>0.961865</td>\n",
              "      <td>-1.411586</td>\n",
              "    </tr>\n",
              "    <tr>\n",
              "      <th>3</th>\n",
              "      <td>-2.577020</td>\n",
              "      <td>1.636247</td>\n",
              "      <td>0.726960</td>\n",
              "      <td>-1.071943</td>\n",
              "    </tr>\n",
              "    <tr>\n",
              "      <th>4</th>\n",
              "      <td>-3.291561</td>\n",
              "      <td>-1.189441</td>\n",
              "      <td>-0.721075</td>\n",
              "      <td>-1.892481</td>\n",
              "    </tr>\n",
              "  </tbody>\n",
              "</table>\n",
              "</div>"
            ],
            "text/plain": [
              "          A         B         C         D\n",
              "0  0.000000  0.000000  0.000000  0.000000\n",
              "1 -0.507030 -0.654091  2.709658 -1.077382\n",
              "2 -2.351567  1.864086  0.961865 -1.411586\n",
              "3 -2.577020  1.636247  0.726960 -1.071943\n",
              "4 -3.291561 -1.189441 -0.721075 -1.892481"
            ]
          },
          "metadata": {
            "tags": []
          },
          "execution_count": 17
        }
      ]
    },
    {
      "cell_type": "markdown",
      "metadata": {
        "hidden": true,
        "id": "25WHabU_P6PK"
      },
      "source": [
        "- возьмём второе и третье поле 1-ой строки:\n",
        "- добавляем столбец E\n",
        "- смотрим, как применяется выравнивание в этой математической операции"
      ]
    },
    {
      "cell_type": "code",
      "metadata": {
        "hidden": true,
        "colab": {
          "base_uri": "https://localhost:8080/",
          "height": 204
        },
        "id": "a2uKs8UyP6PK",
        "outputId": "174ec84c-3126-4d0f-c937-b774c699119b"
      },
      "source": [
        "df"
      ],
      "execution_count": 18,
      "outputs": [
        {
          "output_type": "execute_result",
          "data": {
            "text/html": [
              "<div>\n",
              "<style scoped>\n",
              "    .dataframe tbody tr th:only-of-type {\n",
              "        vertical-align: middle;\n",
              "    }\n",
              "\n",
              "    .dataframe tbody tr th {\n",
              "        vertical-align: top;\n",
              "    }\n",
              "\n",
              "    .dataframe thead th {\n",
              "        text-align: right;\n",
              "    }\n",
              "</style>\n",
              "<table border=\"1\" class=\"dataframe\">\n",
              "  <thead>\n",
              "    <tr style=\"text-align: right;\">\n",
              "      <th></th>\n",
              "      <th>A</th>\n",
              "      <th>B</th>\n",
              "      <th>C</th>\n",
              "      <th>D</th>\n",
              "    </tr>\n",
              "  </thead>\n",
              "  <tbody>\n",
              "    <tr>\n",
              "      <th>0</th>\n",
              "      <td>-1.085631</td>\n",
              "      <td>0.997345</td>\n",
              "      <td>0.282978</td>\n",
              "      <td>-1.506295</td>\n",
              "    </tr>\n",
              "    <tr>\n",
              "      <th>1</th>\n",
              "      <td>-0.578600</td>\n",
              "      <td>1.651437</td>\n",
              "      <td>-2.426679</td>\n",
              "      <td>-0.428913</td>\n",
              "    </tr>\n",
              "    <tr>\n",
              "      <th>2</th>\n",
              "      <td>1.265936</td>\n",
              "      <td>-0.866740</td>\n",
              "      <td>-0.678886</td>\n",
              "      <td>-0.094709</td>\n",
              "    </tr>\n",
              "    <tr>\n",
              "      <th>3</th>\n",
              "      <td>1.491390</td>\n",
              "      <td>-0.638902</td>\n",
              "      <td>-0.443982</td>\n",
              "      <td>-0.434351</td>\n",
              "    </tr>\n",
              "    <tr>\n",
              "      <th>4</th>\n",
              "      <td>2.205930</td>\n",
              "      <td>2.186786</td>\n",
              "      <td>1.004054</td>\n",
              "      <td>0.386186</td>\n",
              "    </tr>\n",
              "  </tbody>\n",
              "</table>\n",
              "</div>"
            ],
            "text/plain": [
              "          A         B         C         D\n",
              "0 -1.085631  0.997345  0.282978 -1.506295\n",
              "1 -0.578600  1.651437 -2.426679 -0.428913\n",
              "2  1.265936 -0.866740 -0.678886 -0.094709\n",
              "3  1.491390 -0.638902 -0.443982 -0.434351\n",
              "4  2.205930  2.186786  1.004054  0.386186"
            ]
          },
          "metadata": {
            "tags": []
          },
          "execution_count": 18
        }
      ]
    },
    {
      "cell_type": "code",
      "metadata": {
        "hidden": true,
        "colab": {
          "base_uri": "https://localhost:8080/"
        },
        "id": "izO2P7OhP6PK",
        "outputId": "766bafa6-31cf-417a-e1bc-b64239e348d6"
      },
      "source": [
        "s = df.iloc[0][1:3]\n",
        "s['E'] = 0\n",
        "s"
      ],
      "execution_count": 19,
      "outputs": [
        {
          "output_type": "execute_result",
          "data": {
            "text/plain": [
              "B    0.997345\n",
              "C    0.282978\n",
              "E    0.000000\n",
              "Name: 0, dtype: float64"
            ]
          },
          "metadata": {
            "tags": []
          },
          "execution_count": 19
        }
      ]
    },
    {
      "cell_type": "code",
      "metadata": {
        "hidden": true,
        "colab": {
          "base_uri": "https://localhost:8080/",
          "height": 204
        },
        "id": "yYVCbN1aP6PL",
        "outputId": "5f9cb0d7-97f0-4fb3-9fc8-d3efc166d80a"
      },
      "source": [
        "df + s"
      ],
      "execution_count": 20,
      "outputs": [
        {
          "output_type": "execute_result",
          "data": {
            "text/html": [
              "<div>\n",
              "<style scoped>\n",
              "    .dataframe tbody tr th:only-of-type {\n",
              "        vertical-align: middle;\n",
              "    }\n",
              "\n",
              "    .dataframe tbody tr th {\n",
              "        vertical-align: top;\n",
              "    }\n",
              "\n",
              "    .dataframe thead th {\n",
              "        text-align: right;\n",
              "    }\n",
              "</style>\n",
              "<table border=\"1\" class=\"dataframe\">\n",
              "  <thead>\n",
              "    <tr style=\"text-align: right;\">\n",
              "      <th></th>\n",
              "      <th>A</th>\n",
              "      <th>B</th>\n",
              "      <th>C</th>\n",
              "      <th>D</th>\n",
              "      <th>E</th>\n",
              "    </tr>\n",
              "  </thead>\n",
              "  <tbody>\n",
              "    <tr>\n",
              "      <th>0</th>\n",
              "      <td>NaN</td>\n",
              "      <td>1.994691</td>\n",
              "      <td>0.565957</td>\n",
              "      <td>NaN</td>\n",
              "      <td>NaN</td>\n",
              "    </tr>\n",
              "    <tr>\n",
              "      <th>1</th>\n",
              "      <td>NaN</td>\n",
              "      <td>2.648782</td>\n",
              "      <td>-2.143701</td>\n",
              "      <td>NaN</td>\n",
              "      <td>NaN</td>\n",
              "    </tr>\n",
              "    <tr>\n",
              "      <th>2</th>\n",
              "      <td>NaN</td>\n",
              "      <td>0.130605</td>\n",
              "      <td>-0.395908</td>\n",
              "      <td>NaN</td>\n",
              "      <td>NaN</td>\n",
              "    </tr>\n",
              "    <tr>\n",
              "      <th>3</th>\n",
              "      <td>NaN</td>\n",
              "      <td>0.358443</td>\n",
              "      <td>-0.161003</td>\n",
              "      <td>NaN</td>\n",
              "      <td>NaN</td>\n",
              "    </tr>\n",
              "    <tr>\n",
              "      <th>4</th>\n",
              "      <td>NaN</td>\n",
              "      <td>3.184132</td>\n",
              "      <td>1.287032</td>\n",
              "      <td>NaN</td>\n",
              "      <td>NaN</td>\n",
              "    </tr>\n",
              "  </tbody>\n",
              "</table>\n",
              "</div>"
            ],
            "text/plain": [
              "    A         B         C   D   E\n",
              "0 NaN  1.994691  0.565957 NaN NaN\n",
              "1 NaN  2.648782 -2.143701 NaN NaN\n",
              "2 NaN  0.130605 -0.395908 NaN NaN\n",
              "3 NaN  0.358443 -0.161003 NaN NaN\n",
              "4 NaN  3.184132  1.287032 NaN NaN"
            ]
          },
          "metadata": {
            "tags": []
          },
          "execution_count": 20
        }
      ]
    },
    {
      "cell_type": "markdown",
      "metadata": {
        "hidden": true,
        "id": "ZeZsWKG8P6PL"
      },
      "source": [
        "извлекаем строки в позициях с 1-й по 3-ю и только столбцы B и C <br>\n",
        "по сути - извлекаем небольшой квадрат из середины df"
      ]
    },
    {
      "cell_type": "code",
      "metadata": {
        "hidden": true,
        "colab": {
          "base_uri": "https://localhost:8080/",
          "height": 142
        },
        "id": "z9vilD7cP6PL",
        "outputId": "c34695a5-2873-4515-e1eb-10435a1e99ca"
      },
      "source": [
        "subframe = df[1:4][['B', 'C']].copy()\n",
        "subframe"
      ],
      "execution_count": 21,
      "outputs": [
        {
          "output_type": "execute_result",
          "data": {
            "text/html": [
              "<div>\n",
              "<style scoped>\n",
              "    .dataframe tbody tr th:only-of-type {\n",
              "        vertical-align: middle;\n",
              "    }\n",
              "\n",
              "    .dataframe tbody tr th {\n",
              "        vertical-align: top;\n",
              "    }\n",
              "\n",
              "    .dataframe thead th {\n",
              "        text-align: right;\n",
              "    }\n",
              "</style>\n",
              "<table border=\"1\" class=\"dataframe\">\n",
              "  <thead>\n",
              "    <tr style=\"text-align: right;\">\n",
              "      <th></th>\n",
              "      <th>B</th>\n",
              "      <th>C</th>\n",
              "    </tr>\n",
              "  </thead>\n",
              "  <tbody>\n",
              "    <tr>\n",
              "      <th>1</th>\n",
              "      <td>1.651437</td>\n",
              "      <td>-2.426679</td>\n",
              "    </tr>\n",
              "    <tr>\n",
              "      <th>2</th>\n",
              "      <td>-0.866740</td>\n",
              "      <td>-0.678886</td>\n",
              "    </tr>\n",
              "    <tr>\n",
              "      <th>3</th>\n",
              "      <td>-0.638902</td>\n",
              "      <td>-0.443982</td>\n",
              "    </tr>\n",
              "  </tbody>\n",
              "</table>\n",
              "</div>"
            ],
            "text/plain": [
              "          B         C\n",
              "1  1.651437 -2.426679\n",
              "2 -0.866740 -0.678886\n",
              "3 -0.638902 -0.443982"
            ]
          },
          "metadata": {
            "tags": []
          },
          "execution_count": 21
        }
      ]
    },
    {
      "cell_type": "markdown",
      "metadata": {
        "hidden": true,
        "id": "MZmKw_-2P6PM"
      },
      "source": [
        "демонстрируем, как происходит выравнивание при выполнении операции вычитания"
      ]
    },
    {
      "cell_type": "code",
      "metadata": {
        "hidden": true,
        "colab": {
          "base_uri": "https://localhost:8080/",
          "height": 204
        },
        "id": "_A-9DwYHP6PM",
        "outputId": "c3bb6a6c-9a4e-4810-8922-45bb18172d22"
      },
      "source": [
        "df - subframe"
      ],
      "execution_count": 22,
      "outputs": [
        {
          "output_type": "execute_result",
          "data": {
            "text/html": [
              "<div>\n",
              "<style scoped>\n",
              "    .dataframe tbody tr th:only-of-type {\n",
              "        vertical-align: middle;\n",
              "    }\n",
              "\n",
              "    .dataframe tbody tr th {\n",
              "        vertical-align: top;\n",
              "    }\n",
              "\n",
              "    .dataframe thead th {\n",
              "        text-align: right;\n",
              "    }\n",
              "</style>\n",
              "<table border=\"1\" class=\"dataframe\">\n",
              "  <thead>\n",
              "    <tr style=\"text-align: right;\">\n",
              "      <th></th>\n",
              "      <th>A</th>\n",
              "      <th>B</th>\n",
              "      <th>C</th>\n",
              "      <th>D</th>\n",
              "    </tr>\n",
              "  </thead>\n",
              "  <tbody>\n",
              "    <tr>\n",
              "      <th>0</th>\n",
              "      <td>NaN</td>\n",
              "      <td>NaN</td>\n",
              "      <td>NaN</td>\n",
              "      <td>NaN</td>\n",
              "    </tr>\n",
              "    <tr>\n",
              "      <th>1</th>\n",
              "      <td>NaN</td>\n",
              "      <td>0.0</td>\n",
              "      <td>0.0</td>\n",
              "      <td>NaN</td>\n",
              "    </tr>\n",
              "    <tr>\n",
              "      <th>2</th>\n",
              "      <td>NaN</td>\n",
              "      <td>0.0</td>\n",
              "      <td>0.0</td>\n",
              "      <td>NaN</td>\n",
              "    </tr>\n",
              "    <tr>\n",
              "      <th>3</th>\n",
              "      <td>NaN</td>\n",
              "      <td>0.0</td>\n",
              "      <td>0.0</td>\n",
              "      <td>NaN</td>\n",
              "    </tr>\n",
              "    <tr>\n",
              "      <th>4</th>\n",
              "      <td>NaN</td>\n",
              "      <td>NaN</td>\n",
              "      <td>NaN</td>\n",
              "      <td>NaN</td>\n",
              "    </tr>\n",
              "  </tbody>\n",
              "</table>\n",
              "</div>"
            ],
            "text/plain": [
              "    A    B    C   D\n",
              "0 NaN  NaN  NaN NaN\n",
              "1 NaN  0.0  0.0 NaN\n",
              "2 NaN  0.0  0.0 NaN\n",
              "3 NaN  0.0  0.0 NaN\n",
              "4 NaN  NaN  NaN NaN"
            ]
          },
          "metadata": {
            "tags": []
          },
          "execution_count": 22
        }
      ]
    },
    {
      "cell_type": "markdown",
      "metadata": {
        "hidden": true,
        "id": "dzvAwwfuP6PN"
      },
      "source": [
        "извлекаем столбец A и вычитаем его из нашего датафрейма"
      ]
    },
    {
      "cell_type": "code",
      "metadata": {
        "hidden": true,
        "colab": {
          "base_uri": "https://localhost:8080/",
          "height": 204
        },
        "id": "9F6ua5xxP6PN",
        "outputId": "473818ea-9ed9-4971-937f-c62511a609f1"
      },
      "source": [
        "df.sub(df['A'], axis=0)"
      ],
      "execution_count": 23,
      "outputs": [
        {
          "output_type": "execute_result",
          "data": {
            "text/html": [
              "<div>\n",
              "<style scoped>\n",
              "    .dataframe tbody tr th:only-of-type {\n",
              "        vertical-align: middle;\n",
              "    }\n",
              "\n",
              "    .dataframe tbody tr th {\n",
              "        vertical-align: top;\n",
              "    }\n",
              "\n",
              "    .dataframe thead th {\n",
              "        text-align: right;\n",
              "    }\n",
              "</style>\n",
              "<table border=\"1\" class=\"dataframe\">\n",
              "  <thead>\n",
              "    <tr style=\"text-align: right;\">\n",
              "      <th></th>\n",
              "      <th>A</th>\n",
              "      <th>B</th>\n",
              "      <th>C</th>\n",
              "      <th>D</th>\n",
              "    </tr>\n",
              "  </thead>\n",
              "  <tbody>\n",
              "    <tr>\n",
              "      <th>0</th>\n",
              "      <td>0.0</td>\n",
              "      <td>2.082976</td>\n",
              "      <td>1.368609</td>\n",
              "      <td>-0.420664</td>\n",
              "    </tr>\n",
              "    <tr>\n",
              "      <th>1</th>\n",
              "      <td>0.0</td>\n",
              "      <td>2.230037</td>\n",
              "      <td>-1.848079</td>\n",
              "      <td>0.149688</td>\n",
              "    </tr>\n",
              "    <tr>\n",
              "      <th>2</th>\n",
              "      <td>0.0</td>\n",
              "      <td>-2.132677</td>\n",
              "      <td>-1.944822</td>\n",
              "      <td>-1.360645</td>\n",
              "    </tr>\n",
              "    <tr>\n",
              "      <th>3</th>\n",
              "      <td>0.0</td>\n",
              "      <td>-2.130292</td>\n",
              "      <td>-1.935372</td>\n",
              "      <td>-1.925741</td>\n",
              "    </tr>\n",
              "    <tr>\n",
              "      <th>4</th>\n",
              "      <td>0.0</td>\n",
              "      <td>-0.019144</td>\n",
              "      <td>-1.201876</td>\n",
              "      <td>-1.819744</td>\n",
              "    </tr>\n",
              "  </tbody>\n",
              "</table>\n",
              "</div>"
            ],
            "text/plain": [
              "     A         B         C         D\n",
              "0  0.0  2.082976  1.368609 -0.420664\n",
              "1  0.0  2.230037 -1.848079  0.149688\n",
              "2  0.0 -2.132677 -1.944822 -1.360645\n",
              "3  0.0 -2.130292 -1.935372 -1.925741\n",
              "4  0.0 -0.019144 -1.201876 -1.819744"
            ]
          },
          "metadata": {
            "tags": []
          },
          "execution_count": 23
        }
      ]
    },
    {
      "cell_type": "markdown",
      "metadata": {
        "heading_collapsed": true,
        "id": "h2QK8uHlP6PN"
      },
      "source": [
        "### Одномерные статистики"
      ]
    },
    {
      "cell_type": "markdown",
      "metadata": {
        "heading_collapsed": true,
        "hidden": true,
        "id": "1P3eWjgxP6PO"
      },
      "source": [
        "#### минимум / максимум"
      ]
    },
    {
      "cell_type": "markdown",
      "metadata": {
        "hidden": true,
        "id": "5alNmN8cP6PO"
      },
      "source": [
        "определяем максимальную цену для обеих акций"
      ]
    },
    {
      "cell_type": "code",
      "metadata": {
        "hidden": true,
        "colab": {
          "base_uri": "https://localhost:8080/"
        },
        "id": "LEqexgJiP6PO",
        "outputId": "e34a62cf-edb5-4385-c15a-aa32d23337ab"
      },
      "source": [
        "omh[['MSFT', 'AAPL']].min()"
      ],
      "execution_count": 24,
      "outputs": [
        {
          "output_type": "execute_result",
          "data": {
            "text/plain": [
              "MSFT     45.16\n",
              "AAPL    106.75\n",
              "dtype: float64"
            ]
          },
          "metadata": {
            "tags": []
          },
          "execution_count": 24
        }
      ]
    },
    {
      "cell_type": "markdown",
      "metadata": {
        "hidden": true,
        "id": "m52Ti7U4P6PP"
      },
      "source": [
        "определяем индекс, которому соответствует максимальная цена для обеих акций"
      ]
    },
    {
      "cell_type": "code",
      "metadata": {
        "hidden": true,
        "colab": {
          "base_uri": "https://localhost:8080/"
        },
        "id": "wsWmVbR2P6PP",
        "outputId": "cf5488d7-0de3-45ea-8af7-05d495f904a5"
      },
      "source": [
        "omh[['MSFT', 'AAPL']].idxmin()"
      ],
      "execution_count": 25,
      "outputs": [
        {
          "output_type": "execute_result",
          "data": {
            "text/plain": [
              "MSFT   2014-12-16\n",
              "AAPL   2014-12-16\n",
              "dtype: datetime64[ns]"
            ]
          },
          "metadata": {
            "tags": []
          },
          "execution_count": 25
        }
      ]
    },
    {
      "cell_type": "markdown",
      "metadata": {
        "heading_collapsed": true,
        "hidden": true,
        "id": "MswvkoVgP6PT"
      },
      "source": [
        "#### cреднее значение / медиана / мода"
      ]
    },
    {
      "cell_type": "markdown",
      "metadata": {
        "hidden": true,
        "id": "UgyR0ktcP6PU"
      },
      "source": [
        "вычисляем среднее значение для всех столбцов в датафрейме omh"
      ]
    },
    {
      "cell_type": "code",
      "metadata": {
        "hidden": true,
        "colab": {
          "base_uri": "https://localhost:8080/"
        },
        "id": "XffbfaE8P6PU",
        "outputId": "0ee78f93-388e-432d-ce6f-6c8e2d62713e"
      },
      "source": [
        "omh.mean()"
      ],
      "execution_count": 26,
      "outputs": [
        {
          "output_type": "execute_result",
          "data": {
            "text/plain": [
              "MSFT     47.493182\n",
              "AAPL    112.411364\n",
              "dtype: float64"
            ]
          },
          "metadata": {
            "tags": []
          },
          "execution_count": 26
        }
      ]
    },
    {
      "cell_type": "markdown",
      "metadata": {
        "hidden": true,
        "id": "23M1E0k-P6PU"
      },
      "source": [
        "вычисляем значение, усредненное по всем столбцам, для каждой строки (выведем первые 5)"
      ]
    },
    {
      "cell_type": "code",
      "metadata": {
        "hidden": true,
        "colab": {
          "base_uri": "https://localhost:8080/"
        },
        "id": "OfMTQDttP6PV",
        "outputId": "2d66f7a5-b49d-4071-da1f-bfc05e90e090"
      },
      "source": [
        "omh.mean(axis=1).head() "
      ],
      "execution_count": 27,
      "outputs": [
        {
          "output_type": "execute_result",
          "data": {
            "text/plain": [
              "Date\n",
              "2014-12-01    81.845\n",
              "2014-12-02    81.545\n",
              "2014-12-03    82.005\n",
              "2014-12-04    82.165\n",
              "2014-12-05    81.710\n",
              "dtype: float64"
            ]
          },
          "metadata": {
            "tags": []
          },
          "execution_count": 27
        }
      ]
    },
    {
      "cell_type": "markdown",
      "metadata": {
        "hidden": true,
        "id": "hs9xyIQ6P6PV"
      },
      "source": [
        "вычисляем медиану значений для каждого столбца"
      ]
    },
    {
      "cell_type": "code",
      "metadata": {
        "hidden": true,
        "colab": {
          "base_uri": "https://localhost:8080/"
        },
        "id": "A8qFxncoP6PV",
        "outputId": "e82eaa88-7137-49f2-e16b-d78228e77b74"
      },
      "source": [
        "omh.median()"
      ],
      "execution_count": 28,
      "outputs": [
        {
          "output_type": "execute_result",
          "data": {
            "text/plain": [
              "MSFT     47.625\n",
              "AAPL    112.530\n",
              "dtype: float64"
            ]
          },
          "metadata": {
            "tags": []
          },
          "execution_count": 28
        }
      ]
    },
    {
      "cell_type": "markdown",
      "metadata": {
        "hidden": true,
        "id": "gRiJ5Z-AP6PW"
      },
      "source": [
        "вычисляем моду для столбца Sector"
      ]
    },
    {
      "cell_type": "code",
      "metadata": {
        "hidden": true,
        "colab": {
          "base_uri": "https://localhost:8080/"
        },
        "id": "oxer5hKfP6PW",
        "outputId": "9b2f4350-2e36-4912-efe3-2d5b11cb471b"
      },
      "source": [
        "sp500.Sector.mode()"
      ],
      "execution_count": 29,
      "outputs": [
        {
          "output_type": "execute_result",
          "data": {
            "text/plain": [
              "0    Consumer Discretionary\n",
              "dtype: object"
            ]
          },
          "metadata": {
            "tags": []
          },
          "execution_count": 29
        }
      ]
    },
    {
      "cell_type": "markdown",
      "metadata": {
        "hidden": true,
        "id": "a2yUkK4oP6PW"
      },
      "source": [
        "мод может быть несколько, поэтому результат операции - Series "
      ]
    },
    {
      "cell_type": "code",
      "metadata": {
        "hidden": true,
        "colab": {
          "base_uri": "https://localhost:8080/"
        },
        "id": "4phV-oR0P6PX",
        "outputId": "14a2b194-5e15-4e39-e29c-f54d75ed0d1c"
      },
      "source": [
        "s = pd.Series([1, 2, 3, 3, 5, 1])\n",
        "s.mode()"
      ],
      "execution_count": 30,
      "outputs": [
        {
          "output_type": "execute_result",
          "data": {
            "text/plain": [
              "0    1\n",
              "1    3\n",
              "dtype: int64"
            ]
          },
          "metadata": {
            "tags": []
          },
          "execution_count": 30
        }
      ]
    },
    {
      "cell_type": "markdown",
      "metadata": {
        "heading_collapsed": true,
        "hidden": true,
        "id": "fn_FUDfcP6PX"
      },
      "source": [
        "#### [дисперсия](https://ru.wikipedia.org/wiki/Дисперсия_случайной_величины) / среднеквадратичное отклонение"
      ]
    },
    {
      "cell_type": "markdown",
      "metadata": {
        "hidden": true,
        "id": "TO-Y1RerP6PX"
      },
      "source": [
        "вычисляем дисперсию значений в каждом столбце"
      ]
    },
    {
      "cell_type": "code",
      "metadata": {
        "hidden": true,
        "colab": {
          "base_uri": "https://localhost:8080/"
        },
        "id": "PaetYc8tP6PY",
        "outputId": "508b5dbf-1f9f-4cc2-e36f-5063ac304533"
      },
      "source": [
        "omh.var()"
      ],
      "execution_count": 31,
      "outputs": [
        {
          "output_type": "execute_result",
          "data": {
            "text/plain": [
              "MSFT    0.870632\n",
              "AAPL    5.706231\n",
              "dtype: float64"
            ]
          },
          "metadata": {
            "tags": []
          },
          "execution_count": 31
        }
      ]
    },
    {
      "cell_type": "code",
      "metadata": {
        "hidden": true,
        "colab": {
          "base_uri": "https://localhost:8080/"
        },
        "id": "qudKOjHDP6PY",
        "outputId": "cfff66ef-af7e-4db4-c9ca-0e7bf2521897"
      },
      "source": [
        "(omh.MSFT**2 - omh.MSFT.mean()**2).sum() / (omh.shape[0]-1)"
      ],
      "execution_count": 32,
      "outputs": [
        {
          "output_type": "execute_result",
          "data": {
            "text/plain": [
              "0.8706322510824867"
            ]
          },
          "metadata": {
            "tags": []
          },
          "execution_count": 32
        }
      ]
    },
    {
      "cell_type": "markdown",
      "metadata": {
        "hidden": true,
        "id": "w2Go6F2kP6PY"
      },
      "source": [
        "вычисляем среднеквадратичное отклонение"
      ]
    },
    {
      "cell_type": "code",
      "metadata": {
        "hidden": true,
        "colab": {
          "base_uri": "https://localhost:8080/"
        },
        "id": "UoRyAdCMP6PZ",
        "outputId": "0bec2bed-34b1-42bb-f37a-28394c52d9ad"
      },
      "source": [
        "omh.std()"
      ],
      "execution_count": 33,
      "outputs": [
        {
          "output_type": "execute_result",
          "data": {
            "text/plain": [
              "MSFT    0.933077\n",
              "AAPL    2.388772\n",
              "dtype: float64"
            ]
          },
          "metadata": {
            "tags": []
          },
          "execution_count": 33
        }
      ]
    },
    {
      "cell_type": "code",
      "metadata": {
        "hidden": true,
        "colab": {
          "base_uri": "https://localhost:8080/"
        },
        "id": "Dc29g--3P6PZ",
        "outputId": "cc61bf23-3480-496e-d72d-964558811848"
      },
      "source": [
        "omh.MSFT.var()**0.5"
      ],
      "execution_count": 34,
      "outputs": [
        {
          "output_type": "execute_result",
          "data": {
            "text/plain": [
              "0.9330767659106356"
            ]
          },
          "metadata": {
            "tags": []
          },
          "execution_count": 34
        }
      ]
    },
    {
      "cell_type": "markdown",
      "metadata": {
        "heading_collapsed": true,
        "hidden": true,
        "id": "-lNtoV8vP6PZ"
      },
      "source": [
        "#### [ковариация](https://ru.wikipedia.org/wiki/Ковариация) / [корреляция](https://ru.wikipedia.org/wiki/Корреляция)"
      ]
    },
    {
      "cell_type": "markdown",
      "metadata": {
        "hidden": true,
        "id": "wySgBje8P6Pa"
      },
      "source": [
        "вычисляем ковариацию между MSFT и AAPL"
      ]
    },
    {
      "cell_type": "code",
      "metadata": {
        "hidden": true,
        "colab": {
          "base_uri": "https://localhost:8080/"
        },
        "id": "MH4EvQM1P6Pa",
        "outputId": "ce990de5-6b66-4335-b2e8-54cbc1f9e338"
      },
      "source": [
        "omh.MSFT.cov(omh.AAPL)"
      ],
      "execution_count": 35,
      "outputs": [
        {
          "output_type": "execute_result",
          "data": {
            "text/plain": [
              "1.9261240259740264"
            ]
          },
          "metadata": {
            "tags": []
          },
          "execution_count": 35
        }
      ]
    },
    {
      "cell_type": "markdown",
      "metadata": {
        "hidden": true,
        "id": "vgsxVNSXP6Pa"
      },
      "source": [
        "вычисляем корреляцию между MSFT и AAPL"
      ]
    },
    {
      "cell_type": "code",
      "metadata": {
        "hidden": true,
        "colab": {
          "base_uri": "https://localhost:8080/"
        },
        "id": "ks7nBGT9P6Pb",
        "outputId": "15d1308f-8a4d-4a37-c9b4-52e5c5726c25"
      },
      "source": [
        "omh.MSFT.corr(omh.AAPL)"
      ],
      "execution_count": 36,
      "outputs": [
        {
          "output_type": "execute_result",
          "data": {
            "text/plain": [
              "0.8641560684381171"
            ]
          },
          "metadata": {
            "tags": []
          },
          "execution_count": 36
        }
      ]
    },
    {
      "cell_type": "code",
      "metadata": {
        "hidden": true,
        "colab": {
          "base_uri": "https://localhost:8080/"
        },
        "id": "F4mCpyN8P6Pb",
        "outputId": "cc26025b-6f01-4477-9250-c9780c154368"
      },
      "source": [
        "omh.MSFT.cov(omh.AAPL) / (omh.MSFT.std() * omh.AAPL.std())"
      ],
      "execution_count": 37,
      "outputs": [
        {
          "output_type": "execute_result",
          "data": {
            "text/plain": [
              "0.8641560684381169"
            ]
          },
          "metadata": {
            "tags": []
          },
          "execution_count": 37
        }
      ]
    },
    {
      "cell_type": "markdown",
      "metadata": {
        "hidden": true,
        "id": "287lE0gvP6Pb"
      },
      "source": [
        "либо можем получать матрицу ковариаций"
      ]
    },
    {
      "cell_type": "code",
      "metadata": {
        "hidden": true,
        "colab": {
          "base_uri": "https://localhost:8080/",
          "height": 111
        },
        "id": "UNrggKaFP6Pc",
        "outputId": "4068f907-5ef8-4fe6-f38e-6e9c2a59a73f"
      },
      "source": [
        "omh.corr()"
      ],
      "execution_count": 38,
      "outputs": [
        {
          "output_type": "execute_result",
          "data": {
            "text/html": [
              "<div>\n",
              "<style scoped>\n",
              "    .dataframe tbody tr th:only-of-type {\n",
              "        vertical-align: middle;\n",
              "    }\n",
              "\n",
              "    .dataframe tbody tr th {\n",
              "        vertical-align: top;\n",
              "    }\n",
              "\n",
              "    .dataframe thead th {\n",
              "        text-align: right;\n",
              "    }\n",
              "</style>\n",
              "<table border=\"1\" class=\"dataframe\">\n",
              "  <thead>\n",
              "    <tr style=\"text-align: right;\">\n",
              "      <th></th>\n",
              "      <th>MSFT</th>\n",
              "      <th>AAPL</th>\n",
              "    </tr>\n",
              "  </thead>\n",
              "  <tbody>\n",
              "    <tr>\n",
              "      <th>MSFT</th>\n",
              "      <td>1.000000</td>\n",
              "      <td>0.864156</td>\n",
              "    </tr>\n",
              "    <tr>\n",
              "      <th>AAPL</th>\n",
              "      <td>0.864156</td>\n",
              "      <td>1.000000</td>\n",
              "    </tr>\n",
              "  </tbody>\n",
              "</table>\n",
              "</div>"
            ],
            "text/plain": [
              "          MSFT      AAPL\n",
              "MSFT  1.000000  0.864156\n",
              "AAPL  0.864156  1.000000"
            ]
          },
          "metadata": {
            "tags": []
          },
          "execution_count": 38
        }
      ]
    },
    {
      "cell_type": "markdown",
      "metadata": {
        "heading_collapsed": true,
        "id": "Y221qjCpP6Pc"
      },
      "source": [
        "### Преобразование данных "
      ]
    },
    {
      "cell_type": "markdown",
      "metadata": {
        "heading_collapsed": true,
        "hidden": true,
        "id": "HCFZSzGGP6Pc"
      },
      "source": [
        "#### дискретизация и квантилизация"
      ]
    },
    {
      "cell_type": "markdown",
      "metadata": {
        "hidden": true,
        "id": "SWuSaI2sP6Pd"
      },
      "source": [
        "генерируем 10000 случайных чисел из стандартного нормального распределения"
      ]
    },
    {
      "cell_type": "code",
      "metadata": {
        "hidden": true,
        "colab": {
          "base_uri": "https://localhost:8080/"
        },
        "id": "EvDuaRHrP6Pd",
        "outputId": "2c9e0ecf-7f07-4664-c70e-0677dac6f6d0"
      },
      "source": [
        "np.random.seed(123456)\n",
        "dist = np.random.normal(size = 10000)\n",
        "dist"
      ],
      "execution_count": 39,
      "outputs": [
        {
          "output_type": "execute_result",
          "data": {
            "text/plain": [
              "array([ 0.4691123 , -0.28286334, -1.5090585 , ...,  0.26296448,\n",
              "       -0.83377412, -0.10418135])"
            ]
          },
          "metadata": {
            "tags": []
          },
          "execution_count": 39
        }
      ]
    },
    {
      "cell_type": "markdown",
      "metadata": {
        "hidden": true,
        "id": "FdtCag6sP6Pd"
      },
      "source": [
        "выводим среднее и стандартное отклонение"
      ]
    },
    {
      "cell_type": "code",
      "metadata": {
        "hidden": true,
        "colab": {
          "base_uri": "https://localhost:8080/"
        },
        "id": "WlRDLbHSP6Pe",
        "outputId": "3336d282-f81f-4d17-e515-b94742c0972d"
      },
      "source": [
        "(dist.mean(), dist.std())"
      ],
      "execution_count": 40,
      "outputs": [
        {
          "output_type": "execute_result",
          "data": {
            "text/plain": [
              "(-0.002863324040906651, 1.008716203199891)"
            ]
          },
          "metadata": {
            "tags": []
          },
          "execution_count": 40
        }
      ]
    },
    {
      "cell_type": "markdown",
      "metadata": {
        "hidden": true,
        "id": "p97FQvnSP6Pe"
      },
      "source": [
        "разбиваем на пять одинаковых по размеру групп (по размеру интервалов - не количеству наблюдений в группе!)"
      ]
    },
    {
      "cell_type": "code",
      "metadata": {
        "hidden": true,
        "colab": {
          "base_uri": "https://localhost:8080/"
        },
        "id": "zOO18VXQP6Pe",
        "outputId": "0728d0da-e174-4a48-9160-e70bd5735118"
      },
      "source": [
        "bins = pd.cut(dist, 5)\n",
        "bins"
      ],
      "execution_count": 41,
      "outputs": [
        {
          "output_type": "execute_result",
          "data": {
            "text/plain": [
              "[(-0.633, 0.81], (-0.633, 0.81], (-2.077, -0.633], (-2.077, -0.633], (0.81, 2.254], ..., (-2.077, -0.633], (-0.633, 0.81], (-0.633, 0.81], (-2.077, -0.633], (-0.633, 0.81]]\n",
              "Length: 10000\n",
              "Categories (5, interval[float64]): [(-3.528, -2.077] < (-2.077, -0.633] < (-0.633, 0.81] <\n",
              "                                    (0.81, 2.254] < (2.254, 3.698]]"
            ]
          },
          "metadata": {
            "tags": []
          },
          "execution_count": 41
        }
      ]
    },
    {
      "cell_type": "markdown",
      "metadata": {
        "hidden": true,
        "id": "a6Mmnh0RP6Pf"
      },
      "source": [
        "найдём длины соответствующих интервалов"
      ]
    },
    {
      "cell_type": "code",
      "metadata": {
        "hidden": true,
        "colab": {
          "base_uri": "https://localhost:8080/"
        },
        "id": "B5zfkIX1P6Pf",
        "outputId": "e3be2f26-9627-438c-c8ca-3f24e16d14c3"
      },
      "source": [
        "bins.categories"
      ],
      "execution_count": 42,
      "outputs": [
        {
          "output_type": "execute_result",
          "data": {
            "text/plain": [
              "IntervalIndex([(-3.528, -2.077], (-2.077, -0.633], (-0.633, 0.81], (0.81, 2.254], (2.254, 3.698]],\n",
              "              closed='right',\n",
              "              dtype='interval[float64]')"
            ]
          },
          "metadata": {
            "tags": []
          },
          "execution_count": 42
        }
      ]
    },
    {
      "cell_type": "code",
      "metadata": {
        "hidden": true,
        "scrolled": true,
        "colab": {
          "base_uri": "https://localhost:8080/"
        },
        "id": "3faORtGcP6Pf",
        "outputId": "39ea3531-9d40-418f-b6b4-ed8e507e7d5d"
      },
      "source": [
        "[q.right - q.left for q in bins.categories]"
      ],
      "execution_count": 43,
      "outputs": [
        {
          "output_type": "execute_result",
          "data": {
            "text/plain": [
              "[1.451, 1.444, 1.443, 1.444, 1.444]"
            ]
          },
          "metadata": {
            "tags": []
          },
          "execution_count": 43
        }
      ]
    },
    {
      "cell_type": "markdown",
      "metadata": {
        "hidden": true,
        "id": "_8HKBGmKP6Pg"
      },
      "source": [
        "генерируем 50 значений возраста в диапазоне от 6 до 70"
      ]
    },
    {
      "cell_type": "code",
      "metadata": {
        "hidden": true,
        "colab": {
          "base_uri": "https://localhost:8080/"
        },
        "id": "RIRIfjrtP6Pg",
        "outputId": "36ebfbaa-1a4f-44e9-8c7c-2f5ea35fc740"
      },
      "source": [
        "np.random.seed(242)\n",
        "ages = np.random.randint(6, 70, 50)\n",
        "ages"
      ],
      "execution_count": 44,
      "outputs": [
        {
          "output_type": "execute_result",
          "data": {
            "text/plain": [
              "array([20, 45,  8, 28, 53,  7, 12, 19, 66, 42, 10, 37, 34, 25, 44, 69, 34,\n",
              "       67, 25, 51,  8, 50, 33, 42, 20, 31, 64, 51, 59, 11, 40, 32, 33, 29,\n",
              "       28, 18, 16, 47, 45, 66, 43, 65, 16, 17, 69,  9, 19, 42, 33, 39])"
            ]
          },
          "metadata": {
            "tags": []
          },
          "execution_count": 44
        }
      ]
    },
    {
      "cell_type": "markdown",
      "metadata": {
        "hidden": true,
        "id": "8SWVP8PZP6Pg"
      },
      "source": [
        "добавляем имена для групп"
      ]
    },
    {
      "cell_type": "code",
      "metadata": {
        "hidden": true,
        "colab": {
          "base_uri": "https://localhost:8080/",
          "height": 235
        },
        "id": "Rkdjeyy7P6Ph",
        "outputId": "c3f14843-b1d9-4fc8-e50d-cab090ddcc04"
      },
      "source": [
        "ranges = [6, 12, 18, 35, 50, 70]\n",
        "labels = ['Youth', 'Young Adult', 'Adult', 'Middle Aged', 'Retired persons']\n",
        "agebins = pd.cut(ages, ranges, labels=labels)\n",
        "agebins.describe()"
      ],
      "execution_count": 45,
      "outputs": [
        {
          "output_type": "execute_result",
          "data": {
            "text/html": [
              "<div>\n",
              "<style scoped>\n",
              "    .dataframe tbody tr th:only-of-type {\n",
              "        vertical-align: middle;\n",
              "    }\n",
              "\n",
              "    .dataframe tbody tr th {\n",
              "        vertical-align: top;\n",
              "    }\n",
              "\n",
              "    .dataframe thead th {\n",
              "        text-align: right;\n",
              "    }\n",
              "</style>\n",
              "<table border=\"1\" class=\"dataframe\">\n",
              "  <thead>\n",
              "    <tr style=\"text-align: right;\">\n",
              "      <th></th>\n",
              "      <th>counts</th>\n",
              "      <th>freqs</th>\n",
              "    </tr>\n",
              "    <tr>\n",
              "      <th>categories</th>\n",
              "      <th></th>\n",
              "      <th></th>\n",
              "    </tr>\n",
              "  </thead>\n",
              "  <tbody>\n",
              "    <tr>\n",
              "      <th>Youth</th>\n",
              "      <td>7</td>\n",
              "      <td>0.14</td>\n",
              "    </tr>\n",
              "    <tr>\n",
              "      <th>Young Adult</th>\n",
              "      <td>4</td>\n",
              "      <td>0.08</td>\n",
              "    </tr>\n",
              "    <tr>\n",
              "      <th>Adult</th>\n",
              "      <td>16</td>\n",
              "      <td>0.32</td>\n",
              "    </tr>\n",
              "    <tr>\n",
              "      <th>Middle Aged</th>\n",
              "      <td>12</td>\n",
              "      <td>0.24</td>\n",
              "    </tr>\n",
              "    <tr>\n",
              "      <th>Retired persons</th>\n",
              "      <td>11</td>\n",
              "      <td>0.22</td>\n",
              "    </tr>\n",
              "  </tbody>\n",
              "</table>\n",
              "</div>"
            ],
            "text/plain": [
              "                 counts  freqs\n",
              "categories                    \n",
              "Youth                 7   0.14\n",
              "Young Adult           4   0.08\n",
              "Adult                16   0.32\n",
              "Middle Aged          12   0.24\n",
              "Retired persons      11   0.22"
            ]
          },
          "metadata": {
            "tags": []
          },
          "execution_count": 45
        }
      ]
    },
    {
      "cell_type": "markdown",
      "metadata": {
        "hidden": true,
        "id": "3_G3nPG6P6Ph"
      },
      "source": [
        "разбиваем (используя квантили) на 5 групп с одинаковым количеством элементов"
      ]
    },
    {
      "cell_type": "code",
      "metadata": {
        "hidden": true,
        "id": "iy1dJXocP6Pi"
      },
      "source": [
        "qbin = pd.qcut(dist, 5)"
      ],
      "execution_count": 46,
      "outputs": []
    },
    {
      "cell_type": "markdown",
      "metadata": {
        "hidden": true,
        "id": "XVWYFGu2P6Pi"
      },
      "source": [
        "найдём статистику по полученным группам"
      ]
    },
    {
      "cell_type": "code",
      "metadata": {
        "hidden": true,
        "colab": {
          "base_uri": "https://localhost:8080/",
          "height": 235
        },
        "id": "NwTnFV2iP6Pi",
        "outputId": "72f9f85d-7202-4fa0-aa31-dffae3421243"
      },
      "source": [
        "qbin.describe()"
      ],
      "execution_count": 47,
      "outputs": [
        {
          "output_type": "execute_result",
          "data": {
            "text/html": [
              "<div>\n",
              "<style scoped>\n",
              "    .dataframe tbody tr th:only-of-type {\n",
              "        vertical-align: middle;\n",
              "    }\n",
              "\n",
              "    .dataframe tbody tr th {\n",
              "        vertical-align: top;\n",
              "    }\n",
              "\n",
              "    .dataframe thead th {\n",
              "        text-align: right;\n",
              "    }\n",
              "</style>\n",
              "<table border=\"1\" class=\"dataframe\">\n",
              "  <thead>\n",
              "    <tr style=\"text-align: right;\">\n",
              "      <th></th>\n",
              "      <th>counts</th>\n",
              "      <th>freqs</th>\n",
              "    </tr>\n",
              "    <tr>\n",
              "      <th>categories</th>\n",
              "      <th></th>\n",
              "      <th></th>\n",
              "    </tr>\n",
              "  </thead>\n",
              "  <tbody>\n",
              "    <tr>\n",
              "      <th>(-3.522, -0.861]</th>\n",
              "      <td>2000</td>\n",
              "      <td>0.2</td>\n",
              "    </tr>\n",
              "    <tr>\n",
              "      <th>(-0.861, -0.241]</th>\n",
              "      <td>2000</td>\n",
              "      <td>0.2</td>\n",
              "    </tr>\n",
              "    <tr>\n",
              "      <th>(-0.241, 0.261]</th>\n",
              "      <td>2000</td>\n",
              "      <td>0.2</td>\n",
              "    </tr>\n",
              "    <tr>\n",
              "      <th>(0.261, 0.866]</th>\n",
              "      <td>2000</td>\n",
              "      <td>0.2</td>\n",
              "    </tr>\n",
              "    <tr>\n",
              "      <th>(0.866, 3.698]</th>\n",
              "      <td>2000</td>\n",
              "      <td>0.2</td>\n",
              "    </tr>\n",
              "  </tbody>\n",
              "</table>\n",
              "</div>"
            ],
            "text/plain": [
              "                  counts  freqs\n",
              "categories                     \n",
              "(-3.522, -0.861]    2000    0.2\n",
              "(-0.861, -0.241]    2000    0.2\n",
              "(-0.241, 0.261]     2000    0.2\n",
              "(0.261, 0.866]      2000    0.2\n",
              "(0.866, 3.698]      2000    0.2"
            ]
          },
          "metadata": {
            "tags": []
          },
          "execution_count": 47
        }
      ]
    },
    {
      "cell_type": "markdown",
      "metadata": {
        "hidden": true,
        "id": "s8VUEU9mP6Pj"
      },
      "source": [
        "пример использования qcut:"
      ]
    },
    {
      "cell_type": "code",
      "metadata": {
        "hidden": true,
        "colab": {
          "base_uri": "https://localhost:8080/"
        },
        "id": "UmJKEm6RP6Pj",
        "outputId": "a9333a25-fbb2-47ca-89c8-2b5da3ab3f3d"
      },
      "source": [
        "sp500_copy = sp500.copy()\n",
        "sp500_copy['Price_Group'], bins = pd.qcut(sp500_copy.Price, \n",
        "                                          5,\n",
        "                                          labels=['group_'+str(i) for i in range(1, 6)],\n",
        "                                          retbins=True)\n",
        "sp500_copy.Price_Group"
      ],
      "execution_count": 48,
      "outputs": [
        {
          "output_type": "execute_result",
          "data": {
            "text/plain": [
              "Symbol\n",
              "MMM     group_5\n",
              "ABT     group_2\n",
              "ABBV    group_3\n",
              "ACN     group_4\n",
              "ACE     group_5\n",
              "         ...   \n",
              "YHOO    group_2\n",
              "YUM     group_4\n",
              "ZMH     group_5\n",
              "ZION    group_1\n",
              "ZTS     group_1\n",
              "Name: Price_Group, Length: 500, dtype: category\n",
              "Categories (5, object): ['group_1' < 'group_2' < 'group_3' < 'group_4' < 'group_5']"
            ]
          },
          "metadata": {
            "tags": []
          },
          "execution_count": 48
        }
      ]
    },
    {
      "cell_type": "code",
      "metadata": {
        "hidden": true,
        "colab": {
          "base_uri": "https://localhost:8080/"
        },
        "id": "06lY0YPYP6Pj",
        "outputId": "bd5c5f56-dbe7-4913-9341-69fb511f95d1"
      },
      "source": [
        "bins"
      ],
      "execution_count": 49,
      "outputs": [
        {
          "output_type": "execute_result",
          "data": {
            "text/plain": [
              "array([   0.   ,   34.558,   50.732,   69.586,   97.032, 1197.12 ])"
            ]
          },
          "metadata": {
            "tags": []
          },
          "execution_count": 49
        }
      ]
    },
    {
      "cell_type": "code",
      "metadata": {
        "hidden": true,
        "colab": {
          "base_uri": "https://localhost:8080/"
        },
        "id": "UaPTKBF_P6Pk",
        "outputId": "d77ee8e0-6437-400f-f630-86f86f425acc"
      },
      "source": [
        "sp500_copy.Price_Group.value_counts()"
      ],
      "execution_count": 50,
      "outputs": [
        {
          "output_type": "execute_result",
          "data": {
            "text/plain": [
              "group_5    100\n",
              "group_4    100\n",
              "group_3    100\n",
              "group_2    100\n",
              "group_1    100\n",
              "Name: Price_Group, dtype: int64"
            ]
          },
          "metadata": {
            "tags": []
          },
          "execution_count": 50
        }
      ]
    },
    {
      "cell_type": "markdown",
      "metadata": {
        "heading_collapsed": true,
        "hidden": true,
        "id": "gzXIuAzaP6Pk"
      },
      "source": [
        "#### кумулятивные суммы"
      ]
    },
    {
      "cell_type": "markdown",
      "metadata": {
        "hidden": true,
        "id": "ldJDyFBhP6Pk"
      },
      "source": [
        "вычисляем кумулятивную сумму"
      ]
    },
    {
      "cell_type": "code",
      "metadata": {
        "hidden": true,
        "colab": {
          "base_uri": "https://localhost:8080/"
        },
        "id": "E8PulHe9P6Pl",
        "outputId": "35e00930-190c-4913-d079-48099213f2ff"
      },
      "source": [
        "pd.Series([1, 2, 3, 4]).cumsum()"
      ],
      "execution_count": 51,
      "outputs": [
        {
          "output_type": "execute_result",
          "data": {
            "text/plain": [
              "0     1\n",
              "1     3\n",
              "2     6\n",
              "3    10\n",
              "dtype: int64"
            ]
          },
          "metadata": {
            "tags": []
          },
          "execution_count": 51
        }
      ]
    },
    {
      "cell_type": "markdown",
      "metadata": {
        "hidden": true,
        "id": "CuYEyOi6P6Pl"
      },
      "source": [
        "вычисляем кумулятивное произведение"
      ]
    },
    {
      "cell_type": "code",
      "metadata": {
        "hidden": true,
        "colab": {
          "base_uri": "https://localhost:8080/"
        },
        "id": "im-5h5_iP6Pl",
        "outputId": "8857c617-f50c-4ee0-b80a-41c5fb87a948"
      },
      "source": [
        "pd.Series([1, 2, 3, 4]).cumprod()"
      ],
      "execution_count": 52,
      "outputs": [
        {
          "output_type": "execute_result",
          "data": {
            "text/plain": [
              "0     1\n",
              "1     2\n",
              "2     6\n",
              "3    24\n",
              "dtype: int64"
            ]
          },
          "metadata": {
            "tags": []
          },
          "execution_count": 52
        }
      ]
    },
    {
      "cell_type": "markdown",
      "metadata": {
        "heading_collapsed": true,
        "hidden": true,
        "id": "xKS_1_ljP6Pm"
      },
      "source": [
        "#### ранжирование"
      ]
    },
    {
      "cell_type": "markdown",
      "metadata": {
        "hidden": true,
        "id": "ornq-l6BP6Pm"
      },
      "source": [
        "для примера:"
      ]
    },
    {
      "cell_type": "code",
      "metadata": {
        "hidden": true,
        "colab": {
          "base_uri": "https://localhost:8080/"
        },
        "id": "OVjJsTxDP6Pm",
        "outputId": "4eca0ec2-304f-4cd8-d8ef-57c38c33551d"
      },
      "source": [
        "s = pd.Series([160, 165, 165, 170, 175], index=list('abcde'))\n",
        "s"
      ],
      "execution_count": 53,
      "outputs": [
        {
          "output_type": "execute_result",
          "data": {
            "text/plain": [
              "a    160\n",
              "b    165\n",
              "c    165\n",
              "d    170\n",
              "e    175\n",
              "dtype: int64"
            ]
          },
          "metadata": {
            "tags": []
          },
          "execution_count": 53
        }
      ]
    },
    {
      "cell_type": "markdown",
      "metadata": {
        "hidden": true,
        "id": "BLCtyYKbP6Pn"
      },
      "source": [
        "ранжируем значения"
      ]
    },
    {
      "cell_type": "code",
      "metadata": {
        "hidden": true,
        "colab": {
          "base_uri": "https://localhost:8080/"
        },
        "id": "vPG3tsrSP6Pn",
        "outputId": "be490ad0-b18d-4860-c02e-b4417c4402c8"
      },
      "source": [
        "s.rank()"
      ],
      "execution_count": 54,
      "outputs": [
        {
          "output_type": "execute_result",
          "data": {
            "text/plain": [
              "a    1.0\n",
              "b    2.5\n",
              "c    2.5\n",
              "d    4.0\n",
              "e    5.0\n",
              "dtype: float64"
            ]
          },
          "metadata": {
            "tags": []
          },
          "execution_count": 54
        }
      ]
    },
    {
      "cell_type": "markdown",
      "metadata": {
        "heading_collapsed": true,
        "hidden": true,
        "id": "ENbzaVV9P6Po"
      },
      "source": [
        "#### относительное изменение"
      ]
    },
    {
      "cell_type": "code",
      "metadata": {
        "hidden": true,
        "colab": {
          "base_uri": "https://localhost:8080/",
          "height": 235
        },
        "id": "8Ruh5UGUP6Po",
        "outputId": "126b57bb-257c-4f3c-dc28-24299e0589ad"
      },
      "source": [
        "omh[['MSFT']].head()"
      ],
      "execution_count": 55,
      "outputs": [
        {
          "output_type": "execute_result",
          "data": {
            "text/html": [
              "<div>\n",
              "<style scoped>\n",
              "    .dataframe tbody tr th:only-of-type {\n",
              "        vertical-align: middle;\n",
              "    }\n",
              "\n",
              "    .dataframe tbody tr th {\n",
              "        vertical-align: top;\n",
              "    }\n",
              "\n",
              "    .dataframe thead th {\n",
              "        text-align: right;\n",
              "    }\n",
              "</style>\n",
              "<table border=\"1\" class=\"dataframe\">\n",
              "  <thead>\n",
              "    <tr style=\"text-align: right;\">\n",
              "      <th></th>\n",
              "      <th>MSFT</th>\n",
              "    </tr>\n",
              "    <tr>\n",
              "      <th>Date</th>\n",
              "      <th></th>\n",
              "    </tr>\n",
              "  </thead>\n",
              "  <tbody>\n",
              "    <tr>\n",
              "      <th>2014-12-01</th>\n",
              "      <td>48.62</td>\n",
              "    </tr>\n",
              "    <tr>\n",
              "      <th>2014-12-02</th>\n",
              "      <td>48.46</td>\n",
              "    </tr>\n",
              "    <tr>\n",
              "      <th>2014-12-03</th>\n",
              "      <td>48.08</td>\n",
              "    </tr>\n",
              "    <tr>\n",
              "      <th>2014-12-04</th>\n",
              "      <td>48.84</td>\n",
              "    </tr>\n",
              "    <tr>\n",
              "      <th>2014-12-05</th>\n",
              "      <td>48.42</td>\n",
              "    </tr>\n",
              "  </tbody>\n",
              "</table>\n",
              "</div>"
            ],
            "text/plain": [
              "             MSFT\n",
              "Date             \n",
              "2014-12-01  48.62\n",
              "2014-12-02  48.46\n",
              "2014-12-03  48.08\n",
              "2014-12-04  48.84\n",
              "2014-12-05  48.42"
            ]
          },
          "metadata": {
            "tags": []
          },
          "execution_count": 55
        }
      ]
    },
    {
      "cell_type": "markdown",
      "metadata": {
        "hidden": true,
        "id": "6yjpl8gsP6Pp"
      },
      "source": [
        "вычисляем относительнон изменение для MSFT (текущее значение с предыдущим)"
      ]
    },
    {
      "cell_type": "code",
      "metadata": {
        "hidden": true,
        "colab": {
          "base_uri": "https://localhost:8080/",
          "height": 235
        },
        "id": "JspzntoEP6Pp",
        "outputId": "d9bf29d0-c510-4fe0-e245-4caba8cbc5b3"
      },
      "source": [
        "omh[['MSFT']].pct_change().head()"
      ],
      "execution_count": 56,
      "outputs": [
        {
          "output_type": "execute_result",
          "data": {
            "text/html": [
              "<div>\n",
              "<style scoped>\n",
              "    .dataframe tbody tr th:only-of-type {\n",
              "        vertical-align: middle;\n",
              "    }\n",
              "\n",
              "    .dataframe tbody tr th {\n",
              "        vertical-align: top;\n",
              "    }\n",
              "\n",
              "    .dataframe thead th {\n",
              "        text-align: right;\n",
              "    }\n",
              "</style>\n",
              "<table border=\"1\" class=\"dataframe\">\n",
              "  <thead>\n",
              "    <tr style=\"text-align: right;\">\n",
              "      <th></th>\n",
              "      <th>MSFT</th>\n",
              "    </tr>\n",
              "    <tr>\n",
              "      <th>Date</th>\n",
              "      <th></th>\n",
              "    </tr>\n",
              "  </thead>\n",
              "  <tbody>\n",
              "    <tr>\n",
              "      <th>2014-12-01</th>\n",
              "      <td>NaN</td>\n",
              "    </tr>\n",
              "    <tr>\n",
              "      <th>2014-12-02</th>\n",
              "      <td>-0.003291</td>\n",
              "    </tr>\n",
              "    <tr>\n",
              "      <th>2014-12-03</th>\n",
              "      <td>-0.007842</td>\n",
              "    </tr>\n",
              "    <tr>\n",
              "      <th>2014-12-04</th>\n",
              "      <td>0.015807</td>\n",
              "    </tr>\n",
              "    <tr>\n",
              "      <th>2014-12-05</th>\n",
              "      <td>-0.008600</td>\n",
              "    </tr>\n",
              "  </tbody>\n",
              "</table>\n",
              "</div>"
            ],
            "text/plain": [
              "                MSFT\n",
              "Date                \n",
              "2014-12-01       NaN\n",
              "2014-12-02 -0.003291\n",
              "2014-12-03 -0.007842\n",
              "2014-12-04  0.015807\n",
              "2014-12-05 -0.008600"
            ]
          },
          "metadata": {
            "tags": []
          },
          "execution_count": 56
        }
      ]
    },
    {
      "cell_type": "code",
      "metadata": {
        "hidden": true,
        "colab": {
          "base_uri": "https://localhost:8080/"
        },
        "id": "wmv1X8G_P6Pq",
        "outputId": "a074ac90-2985-451c-80a6-8945c4678fec"
      },
      "source": [
        "(48.46 - 48.62)/48.62"
      ],
      "execution_count": 57,
      "outputs": [
        {
          "output_type": "execute_result",
          "data": {
            "text/plain": [
              "-0.003290826820238515"
            ]
          },
          "metadata": {
            "tags": []
          },
          "execution_count": 57
        }
      ]
    },
    {
      "cell_type": "markdown",
      "metadata": {
        "heading_collapsed": true,
        "id": "1sX1-C6BP6Pq"
      },
      "source": [
        "### Оконные функции"
      ]
    },
    {
      "cell_type": "markdown",
      "metadata": {
        "hidden": true,
        "id": "0pSxk0yLP6Pr"
      },
      "source": [
        "Объект Rolling:"
      ]
    },
    {
      "cell_type": "code",
      "metadata": {
        "hidden": true,
        "id": "iz1abJHnP6Pr"
      },
      "source": [
        "r = omh.MSFT.rolling(3)"
      ],
      "execution_count": 58,
      "outputs": []
    },
    {
      "cell_type": "markdown",
      "metadata": {
        "hidden": true,
        "id": "QoyHfpAUP6Pr"
      },
      "source": [
        "возможные операции:"
      ]
    },
    {
      "cell_type": "markdown",
      "metadata": {
        "hidden": true,
        "id": "17uoHdwNP6Ps"
      },
      "source": [
        "скользящее среднее:"
      ]
    },
    {
      "cell_type": "code",
      "metadata": {
        "hidden": true,
        "colab": {
          "base_uri": "https://localhost:8080/"
        },
        "id": "Ed0IJqjFP6Ps",
        "outputId": "3c76dc64-3f8d-4ef4-861c-b02ef8bdb05f"
      },
      "source": [
        "r.mean()"
      ],
      "execution_count": 60,
      "outputs": [
        {
          "output_type": "execute_result",
          "data": {
            "text/plain": [
              "Date\n",
              "2014-12-01          NaN\n",
              "2014-12-02          NaN\n",
              "2014-12-03    48.386667\n",
              "2014-12-04    48.460000\n",
              "2014-12-05    48.446667\n",
              "                ...    \n",
              "2014-12-24    48.190000\n",
              "2014-12-26    48.156667\n",
              "2014-12-29    47.823333\n",
              "2014-12-30    47.450000\n",
              "2014-12-31    46.973333\n",
              "Name: MSFT, Length: 22, dtype: float64"
            ]
          },
          "metadata": {
            "tags": []
          },
          "execution_count": 60
        }
      ]
    },
    {
      "cell_type": "markdown",
      "metadata": {
        "hidden": true,
        "id": "cc44AYn-P6Pt"
      },
      "source": [
        "первое значение:"
      ]
    },
    {
      "cell_type": "code",
      "metadata": {
        "hidden": true,
        "colab": {
          "base_uri": "https://localhost:8080/"
        },
        "id": "3FMCIpPHP6Pt",
        "outputId": "bb9f05af-b440-4b96-d462-b16dd0ce4117"
      },
      "source": [
        "omh.MSFT.loc['2014-12-01':'2014-12-03'].mean()"
      ],
      "execution_count": 61,
      "outputs": [
        {
          "output_type": "execute_result",
          "data": {
            "text/plain": [
              "48.38666666666666"
            ]
          },
          "metadata": {
            "tags": []
          },
          "execution_count": 61
        }
      ]
    },
    {
      "cell_type": "markdown",
      "metadata": {
        "hidden": true,
        "id": "Kb8RsTyeP6Pt"
      },
      "source": [
        "второе:"
      ]
    },
    {
      "cell_type": "code",
      "metadata": {
        "hidden": true,
        "colab": {
          "base_uri": "https://localhost:8080/"
        },
        "id": "oYbIDqayP6Pt",
        "outputId": "e021bc27-d42b-4fc5-8a16-13d1ed8a9ffd"
      },
      "source": [
        "omh.MSFT.loc['2014-12-02':'2014-12-04'].mean()"
      ],
      "execution_count": 62,
      "outputs": [
        {
          "output_type": "execute_result",
          "data": {
            "text/plain": [
              "48.46"
            ]
          },
          "metadata": {
            "tags": []
          },
          "execution_count": 62
        }
      ]
    }
  ]
}