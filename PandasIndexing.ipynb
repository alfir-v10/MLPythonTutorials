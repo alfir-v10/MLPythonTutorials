{
  "nbformat": 4,
  "nbformat_minor": 0,
  "metadata": {
    "hide_input": false,
    "kernelspec": {
      "display_name": "Python 3",
      "language": "python",
      "name": "python3"
    },
    "language_info": {
      "codemirror_mode": {
        "name": "ipython",
        "version": 3
      },
      "file_extension": ".py",
      "mimetype": "text/x-python",
      "name": "python",
      "nbconvert_exporter": "python",
      "pygments_lexer": "ipython3",
      "version": "3.7.0"
    },
    "toc": {
      "base_numbering": 1,
      "nav_menu": {},
      "number_sections": true,
      "sideBar": true,
      "skip_h1_title": false,
      "title_cell": "Table of Contents",
      "title_sidebar": "Contents",
      "toc_cell": false,
      "toc_position": {
        "height": "calc(100% - 180px)",
        "left": "10px",
        "top": "150px",
        "width": "247.391px"
      },
      "toc_section_display": true,
      "toc_window_display": true
    },
    "colab": {
      "name": "PandasIndexing.ipynb",
      "provenance": [],
      "collapsed_sections": [],
      "toc_visible": true
    }
  },
  "cells": [
    {
      "cell_type": "markdown",
      "metadata": {
        "heading_collapsed": true,
        "id": "W8nO8w_gM761"
      },
      "source": [
        "### Библиотеки / данные "
      ]
    },
    {
      "cell_type": "markdown",
      "metadata": {
        "hidden": true,
        "id": "QYaVWr1GM764"
      },
      "source": [
        "импортируем numpy и pandas"
      ]
    },
    {
      "cell_type": "code",
      "metadata": {
        "hidden": true,
        "id": "ev_Me5vOM765"
      },
      "source": [
        "import numpy as np\n",
        "import pandas as pd"
      ],
      "execution_count": 1,
      "outputs": []
    },
    {
      "cell_type": "markdown",
      "metadata": {
        "hidden": true,
        "id": "PMPGHj0GM766"
      },
      "source": [
        "настройки pandas"
      ]
    },
    {
      "cell_type": "code",
      "metadata": {
        "hidden": true,
        "id": "CDPgVKM9M767"
      },
      "source": [
        "pd.options.display.max_rows = 10"
      ],
      "execution_count": 2,
      "outputs": []
    },
    {
      "cell_type": "markdown",
      "metadata": {
        "hidden": true,
        "id": "3z7DUtwUM768"
      },
      "source": [
        "- считываем данные\n",
        "- используем столбец Symbol в качестве индекса \n",
        "- считываем только столбцы ['Symbol', 'Sector', 'Price', 'Book Value']"
      ]
    },
    {
      "cell_type": "markdown",
      "metadata": {
        "hidden": true,
        "id": "9kasvZCMM768"
      },
      "source": [
        "| Column Name        | Description\n",
        "| ------------- |:-------------:|\n",
        "|Symbol|Сокращенное название организации|\n",
        "|Name|Полное название организации|\n",
        "|Sector|Сектор экономики|\n",
        "|Price|Стоимость акции|\n",
        "|Dividend Yield|Дивидендная доходность|\n",
        "|Price/Earnings|Цена / прибыль|\n",
        "|Earnings/Share|Прибыль на акцию|\n",
        "|Book Value|Балансовая стоимость компании|\n",
        "|52 week low|52-недельный минимум|\n",
        "|52 week high|52-недельный максимум|\n",
        "|Market Cap|Рыночная капитализация|\n",
        "|EBITDA|**E**arnings **b**efore **i**nterest, **t**axes, **d**epreciation and **a**mortization|\n",
        "|Price/Sales|Цена / объём продаж|\n",
        "|Price/Book|Цена / балансовая стоимость|\n",
        "|SEC Filings|Ссылка *sec.gov*|"
      ]
    },
    {
      "cell_type": "code",
      "metadata": {
        "hidden": true,
        "id": "Nz829eZcM769"
      },
      "source": [
        "sp500 = pd.read_csv(\"sp500.csv\",\n",
        "                    index_col='Symbol', \n",
        "                    usecols=['Symbol', 'Sector', 'Price', 'Book Value'])"
      ],
      "execution_count": 3,
      "outputs": []
    },
    {
      "cell_type": "markdown",
      "metadata": {
        "heading_collapsed": true,
        "id": "3NJY7n1IM76-"
      },
      "source": [
        "### Мотивация"
      ]
    },
    {
      "cell_type": "markdown",
      "metadata": {
        "hidden": true,
        "id": "Yh18pEieM76-"
      },
      "source": [
        "создаем DataFame для примера"
      ]
    },
    {
      "cell_type": "code",
      "metadata": {
        "hidden": true,
        "colab": {
          "base_uri": "https://localhost:8080/",
          "height": 204
        },
        "id": "7gy_cPFRM76_",
        "outputId": "fc1e51d9-ad5b-4fae-e237-4097f3951ec2"
      },
      "source": [
        "np.random.seed(123)\n",
        "df = pd.DataFrame({'value':np.random.random(10000), 'key':range(100, 10100)})\n",
        "df.head()"
      ],
      "execution_count": 7,
      "outputs": [
        {
          "output_type": "execute_result",
          "data": {
            "text/html": [
              "<div>\n",
              "<style scoped>\n",
              "    .dataframe tbody tr th:only-of-type {\n",
              "        vertical-align: middle;\n",
              "    }\n",
              "\n",
              "    .dataframe tbody tr th {\n",
              "        vertical-align: top;\n",
              "    }\n",
              "\n",
              "    .dataframe thead th {\n",
              "        text-align: right;\n",
              "    }\n",
              "</style>\n",
              "<table border=\"1\" class=\"dataframe\">\n",
              "  <thead>\n",
              "    <tr style=\"text-align: right;\">\n",
              "      <th></th>\n",
              "      <th>value</th>\n",
              "      <th>key</th>\n",
              "    </tr>\n",
              "  </thead>\n",
              "  <tbody>\n",
              "    <tr>\n",
              "      <th>0</th>\n",
              "      <td>0.696469</td>\n",
              "      <td>100</td>\n",
              "    </tr>\n",
              "    <tr>\n",
              "      <th>1</th>\n",
              "      <td>0.286139</td>\n",
              "      <td>101</td>\n",
              "    </tr>\n",
              "    <tr>\n",
              "      <th>2</th>\n",
              "      <td>0.226851</td>\n",
              "      <td>102</td>\n",
              "    </tr>\n",
              "    <tr>\n",
              "      <th>3</th>\n",
              "      <td>0.551315</td>\n",
              "      <td>103</td>\n",
              "    </tr>\n",
              "    <tr>\n",
              "      <th>4</th>\n",
              "      <td>0.719469</td>\n",
              "      <td>104</td>\n",
              "    </tr>\n",
              "  </tbody>\n",
              "</table>\n",
              "</div>"
            ],
            "text/plain": [
              "      value  key\n",
              "0  0.696469  100\n",
              "1  0.286139  101\n",
              "2  0.226851  102\n",
              "3  0.551315  103\n",
              "4  0.719469  104"
            ]
          },
          "metadata": {
            "tags": []
          },
          "execution_count": 7
        }
      ]
    },
    {
      "cell_type": "markdown",
      "metadata": {
        "hidden": true,
        "id": "PS3n1cz1M76_"
      },
      "source": [
        "отбираем строку, в котором значение столбца key равно 10099"
      ]
    },
    {
      "cell_type": "code",
      "metadata": {
        "hidden": true,
        "colab": {
          "base_uri": "https://localhost:8080/",
          "height": 80
        },
        "id": "MoXJBKM5M77A",
        "outputId": "3d7004d6-fd9a-47ce-ed74-8212f372acde"
      },
      "source": [
        "df[df.key==10099]"
      ],
      "execution_count": 8,
      "outputs": [
        {
          "output_type": "execute_result",
          "data": {
            "text/html": [
              "<div>\n",
              "<style scoped>\n",
              "    .dataframe tbody tr th:only-of-type {\n",
              "        vertical-align: middle;\n",
              "    }\n",
              "\n",
              "    .dataframe tbody tr th {\n",
              "        vertical-align: top;\n",
              "    }\n",
              "\n",
              "    .dataframe thead th {\n",
              "        text-align: right;\n",
              "    }\n",
              "</style>\n",
              "<table border=\"1\" class=\"dataframe\">\n",
              "  <thead>\n",
              "    <tr style=\"text-align: right;\">\n",
              "      <th></th>\n",
              "      <th>value</th>\n",
              "      <th>key</th>\n",
              "    </tr>\n",
              "  </thead>\n",
              "  <tbody>\n",
              "    <tr>\n",
              "      <th>9999</th>\n",
              "      <td>0.613297</td>\n",
              "      <td>10099</td>\n",
              "    </tr>\n",
              "  </tbody>\n",
              "</table>\n",
              "</div>"
            ],
            "text/plain": [
              "         value    key\n",
              "9999  0.613297  10099"
            ]
          },
          "metadata": {
            "tags": []
          },
          "execution_count": 8
        }
      ]
    },
    {
      "cell_type": "markdown",
      "metadata": {
        "hidden": true,
        "id": "p8CQ5uVQM77A"
      },
      "source": [
        "измеряем время выполнения операции отбора"
      ]
    },
    {
      "cell_type": "code",
      "metadata": {
        "hidden": true,
        "colab": {
          "base_uri": "https://localhost:8080/"
        },
        "id": "42_eftlSM77B",
        "outputId": "0a010e68-ca66-4fbb-9622-14641c88ae10"
      },
      "source": [
        "%timeit df[df.key==10099]"
      ],
      "execution_count": 9,
      "outputs": [
        {
          "output_type": "stream",
          "text": [
            "1000 loops, best of 5: 484 µs per loop\n"
          ],
          "name": "stdout"
        }
      ]
    },
    {
      "cell_type": "markdown",
      "metadata": {
        "hidden": true,
        "id": "L-eSE74PM77B"
      },
      "source": [
        "превращаем столбец key в index"
      ]
    },
    {
      "cell_type": "code",
      "metadata": {
        "hidden": true,
        "colab": {
          "base_uri": "https://localhost:8080/",
          "height": 235
        },
        "id": "ov8LpNrMM77C",
        "outputId": "f5653f71-c492-4b78-8882-7cc6095d6258"
      },
      "source": [
        "df_with_index = df.set_index(['key'])\n",
        "df_with_index.head()"
      ],
      "execution_count": 10,
      "outputs": [
        {
          "output_type": "execute_result",
          "data": {
            "text/html": [
              "<div>\n",
              "<style scoped>\n",
              "    .dataframe tbody tr th:only-of-type {\n",
              "        vertical-align: middle;\n",
              "    }\n",
              "\n",
              "    .dataframe tbody tr th {\n",
              "        vertical-align: top;\n",
              "    }\n",
              "\n",
              "    .dataframe thead th {\n",
              "        text-align: right;\n",
              "    }\n",
              "</style>\n",
              "<table border=\"1\" class=\"dataframe\">\n",
              "  <thead>\n",
              "    <tr style=\"text-align: right;\">\n",
              "      <th></th>\n",
              "      <th>value</th>\n",
              "    </tr>\n",
              "    <tr>\n",
              "      <th>key</th>\n",
              "      <th></th>\n",
              "    </tr>\n",
              "  </thead>\n",
              "  <tbody>\n",
              "    <tr>\n",
              "      <th>100</th>\n",
              "      <td>0.696469</td>\n",
              "    </tr>\n",
              "    <tr>\n",
              "      <th>101</th>\n",
              "      <td>0.286139</td>\n",
              "    </tr>\n",
              "    <tr>\n",
              "      <th>102</th>\n",
              "      <td>0.226851</td>\n",
              "    </tr>\n",
              "    <tr>\n",
              "      <th>103</th>\n",
              "      <td>0.551315</td>\n",
              "    </tr>\n",
              "    <tr>\n",
              "      <th>104</th>\n",
              "      <td>0.719469</td>\n",
              "    </tr>\n",
              "  </tbody>\n",
              "</table>\n",
              "</div>"
            ],
            "text/plain": [
              "        value\n",
              "key          \n",
              "100  0.696469\n",
              "101  0.286139\n",
              "102  0.226851\n",
              "103  0.551315\n",
              "104  0.719469"
            ]
          },
          "metadata": {
            "tags": []
          },
          "execution_count": 10
        }
      ]
    },
    {
      "cell_type": "markdown",
      "metadata": {
        "hidden": true,
        "id": "7yZr1mO0M77C"
      },
      "source": [
        "теперь можно найти это значение с помощью индекса"
      ]
    },
    {
      "cell_type": "code",
      "metadata": {
        "hidden": true,
        "colab": {
          "base_uri": "https://localhost:8080/"
        },
        "id": "CmLDRotAM77D",
        "outputId": "71e20726-aa23-4925-d94e-64aa4969aae0"
      },
      "source": [
        "df_with_index.loc[10099]"
      ],
      "execution_count": 11,
      "outputs": [
        {
          "output_type": "execute_result",
          "data": {
            "text/plain": [
              "value    0.613297\n",
              "Name: 10099, dtype: float64"
            ]
          },
          "metadata": {
            "tags": []
          },
          "execution_count": 11
        }
      ]
    },
    {
      "cell_type": "markdown",
      "metadata": {
        "hidden": true,
        "id": "EgrzrCnfM77D"
      },
      "source": [
        "и теперь операция выполняется намного быстрее"
      ]
    },
    {
      "cell_type": "code",
      "metadata": {
        "hidden": true,
        "colab": {
          "base_uri": "https://localhost:8080/"
        },
        "id": "I8lWpFNPM77D",
        "outputId": "ed2b15ac-3472-47a9-9c3b-2d57869ef083"
      },
      "source": [
        "%timeit df_with_index.loc[10099]"
      ],
      "execution_count": 12,
      "outputs": [
        {
          "output_type": "stream",
          "text": [
            "The slowest run took 4.45 times longer than the fastest. This could mean that an intermediate result is being cached.\n",
            "10000 loops, best of 5: 85.9 µs per loop\n"
          ],
          "name": "stdout"
        }
      ]
    },
    {
      "cell_type": "markdown",
      "metadata": {
        "hidden": true,
        "id": "dEskEAsbM77E"
      },
      "source": [
        "<center><font color = 'green'><b>Вывод: использование индекса повышает скорость доступа к данным более чем в n раз!</b></font>"
      ]
    },
    {
      "cell_type": "markdown",
      "metadata": {
        "heading_collapsed": true,
        "id": "bfK7A877M77E"
      },
      "source": [
        "### Операции"
      ]
    },
    {
      "cell_type": "markdown",
      "metadata": {
        "heading_collapsed": true,
        "hidden": true,
        "id": "owscyNPSM77F"
      },
      "source": [
        "#### сброс"
      ]
    },
    {
      "cell_type": "markdown",
      "metadata": {
        "hidden": true,
        "id": "USp58H5qM77F"
      },
      "source": [
        "исследуем несколько строк датафрейма data"
      ]
    },
    {
      "cell_type": "code",
      "metadata": {
        "hidden": true,
        "colab": {
          "base_uri": "https://localhost:8080/",
          "height": 173
        },
        "id": "FAHiy1EdM77F",
        "outputId": "3ea52fa3-6de8-433a-e80a-088cd507999e"
      },
      "source": [
        "sp500.head(3)"
      ],
      "execution_count": 13,
      "outputs": [
        {
          "output_type": "execute_result",
          "data": {
            "text/html": [
              "<div>\n",
              "<style scoped>\n",
              "    .dataframe tbody tr th:only-of-type {\n",
              "        vertical-align: middle;\n",
              "    }\n",
              "\n",
              "    .dataframe tbody tr th {\n",
              "        vertical-align: top;\n",
              "    }\n",
              "\n",
              "    .dataframe thead th {\n",
              "        text-align: right;\n",
              "    }\n",
              "</style>\n",
              "<table border=\"1\" class=\"dataframe\">\n",
              "  <thead>\n",
              "    <tr style=\"text-align: right;\">\n",
              "      <th></th>\n",
              "      <th>Sector</th>\n",
              "      <th>Price</th>\n",
              "      <th>Book Value</th>\n",
              "    </tr>\n",
              "    <tr>\n",
              "      <th>Symbol</th>\n",
              "      <th></th>\n",
              "      <th></th>\n",
              "      <th></th>\n",
              "    </tr>\n",
              "  </thead>\n",
              "  <tbody>\n",
              "    <tr>\n",
              "      <th>MMM</th>\n",
              "      <td>Industrials</td>\n",
              "      <td>141.14</td>\n",
              "      <td>26.668</td>\n",
              "    </tr>\n",
              "    <tr>\n",
              "      <th>ABT</th>\n",
              "      <td>Health Care</td>\n",
              "      <td>39.60</td>\n",
              "      <td>15.573</td>\n",
              "    </tr>\n",
              "    <tr>\n",
              "      <th>ABBV</th>\n",
              "      <td>Health Care</td>\n",
              "      <td>53.95</td>\n",
              "      <td>2.954</td>\n",
              "    </tr>\n",
              "  </tbody>\n",
              "</table>\n",
              "</div>"
            ],
            "text/plain": [
              "             Sector   Price  Book Value\n",
              "Symbol                                 \n",
              "MMM     Industrials  141.14      26.668\n",
              "ABT     Health Care   39.60      15.573\n",
              "ABBV    Health Care   53.95       2.954"
            ]
          },
          "metadata": {
            "tags": []
          },
          "execution_count": 13
        }
      ]
    },
    {
      "cell_type": "markdown",
      "metadata": {
        "hidden": true,
        "id": "hsPBu07PM77G"
      },
      "source": [
        "сбрасываем индекс, помещая значения индекса в столбец"
      ]
    },
    {
      "cell_type": "code",
      "metadata": {
        "hidden": true,
        "colab": {
          "base_uri": "https://localhost:8080/",
          "height": 204
        },
        "id": "vvo88i0LM77G",
        "outputId": "29c349cc-b5ec-42ea-e789-d2b529b308e2"
      },
      "source": [
        "index_moved_to_col = sp500.reset_index()\n",
        "index_moved_to_col.head()"
      ],
      "execution_count": 14,
      "outputs": [
        {
          "output_type": "execute_result",
          "data": {
            "text/html": [
              "<div>\n",
              "<style scoped>\n",
              "    .dataframe tbody tr th:only-of-type {\n",
              "        vertical-align: middle;\n",
              "    }\n",
              "\n",
              "    .dataframe tbody tr th {\n",
              "        vertical-align: top;\n",
              "    }\n",
              "\n",
              "    .dataframe thead th {\n",
              "        text-align: right;\n",
              "    }\n",
              "</style>\n",
              "<table border=\"1\" class=\"dataframe\">\n",
              "  <thead>\n",
              "    <tr style=\"text-align: right;\">\n",
              "      <th></th>\n",
              "      <th>Symbol</th>\n",
              "      <th>Sector</th>\n",
              "      <th>Price</th>\n",
              "      <th>Book Value</th>\n",
              "    </tr>\n",
              "  </thead>\n",
              "  <tbody>\n",
              "    <tr>\n",
              "      <th>0</th>\n",
              "      <td>MMM</td>\n",
              "      <td>Industrials</td>\n",
              "      <td>141.14</td>\n",
              "      <td>26.668</td>\n",
              "    </tr>\n",
              "    <tr>\n",
              "      <th>1</th>\n",
              "      <td>ABT</td>\n",
              "      <td>Health Care</td>\n",
              "      <td>39.60</td>\n",
              "      <td>15.573</td>\n",
              "    </tr>\n",
              "    <tr>\n",
              "      <th>2</th>\n",
              "      <td>ABBV</td>\n",
              "      <td>Health Care</td>\n",
              "      <td>53.95</td>\n",
              "      <td>2.954</td>\n",
              "    </tr>\n",
              "    <tr>\n",
              "      <th>3</th>\n",
              "      <td>ACN</td>\n",
              "      <td>Information Technology</td>\n",
              "      <td>79.79</td>\n",
              "      <td>8.326</td>\n",
              "    </tr>\n",
              "    <tr>\n",
              "      <th>4</th>\n",
              "      <td>ACE</td>\n",
              "      <td>Financials</td>\n",
              "      <td>102.91</td>\n",
              "      <td>86.897</td>\n",
              "    </tr>\n",
              "  </tbody>\n",
              "</table>\n",
              "</div>"
            ],
            "text/plain": [
              "  Symbol                  Sector   Price  Book Value\n",
              "0    MMM             Industrials  141.14      26.668\n",
              "1    ABT             Health Care   39.60      15.573\n",
              "2   ABBV             Health Care   53.95       2.954\n",
              "3    ACN  Information Technology   79.79       8.326\n",
              "4    ACE              Financials  102.91      86.897"
            ]
          },
          "metadata": {
            "tags": []
          },
          "execution_count": 14
        }
      ]
    },
    {
      "cell_type": "markdown",
      "metadata": {
        "heading_collapsed": true,
        "hidden": true,
        "id": "pLgDZbCgM77G"
      },
      "source": [
        "#### установка"
      ]
    },
    {
      "cell_type": "markdown",
      "metadata": {
        "hidden": true,
        "id": "Y6JidFbTM77H"
      },
      "source": [
        "а теперь делаем столбец Sector индексом"
      ]
    },
    {
      "cell_type": "code",
      "metadata": {
        "hidden": true,
        "colab": {
          "base_uri": "https://localhost:8080/",
          "height": 235
        },
        "id": "ELRsKcCGM77H",
        "outputId": "c374d3c1-0182-4a63-a466-dd3bd5d4d2a3"
      },
      "source": [
        "index_moved_to_col.set_index('Sector').head()"
      ],
      "execution_count": 15,
      "outputs": [
        {
          "output_type": "execute_result",
          "data": {
            "text/html": [
              "<div>\n",
              "<style scoped>\n",
              "    .dataframe tbody tr th:only-of-type {\n",
              "        vertical-align: middle;\n",
              "    }\n",
              "\n",
              "    .dataframe tbody tr th {\n",
              "        vertical-align: top;\n",
              "    }\n",
              "\n",
              "    .dataframe thead th {\n",
              "        text-align: right;\n",
              "    }\n",
              "</style>\n",
              "<table border=\"1\" class=\"dataframe\">\n",
              "  <thead>\n",
              "    <tr style=\"text-align: right;\">\n",
              "      <th></th>\n",
              "      <th>Symbol</th>\n",
              "      <th>Price</th>\n",
              "      <th>Book Value</th>\n",
              "    </tr>\n",
              "    <tr>\n",
              "      <th>Sector</th>\n",
              "      <th></th>\n",
              "      <th></th>\n",
              "      <th></th>\n",
              "    </tr>\n",
              "  </thead>\n",
              "  <tbody>\n",
              "    <tr>\n",
              "      <th>Industrials</th>\n",
              "      <td>MMM</td>\n",
              "      <td>141.14</td>\n",
              "      <td>26.668</td>\n",
              "    </tr>\n",
              "    <tr>\n",
              "      <th>Health Care</th>\n",
              "      <td>ABT</td>\n",
              "      <td>39.60</td>\n",
              "      <td>15.573</td>\n",
              "    </tr>\n",
              "    <tr>\n",
              "      <th>Health Care</th>\n",
              "      <td>ABBV</td>\n",
              "      <td>53.95</td>\n",
              "      <td>2.954</td>\n",
              "    </tr>\n",
              "    <tr>\n",
              "      <th>Information Technology</th>\n",
              "      <td>ACN</td>\n",
              "      <td>79.79</td>\n",
              "      <td>8.326</td>\n",
              "    </tr>\n",
              "    <tr>\n",
              "      <th>Financials</th>\n",
              "      <td>ACE</td>\n",
              "      <td>102.91</td>\n",
              "      <td>86.897</td>\n",
              "    </tr>\n",
              "  </tbody>\n",
              "</table>\n",
              "</div>"
            ],
            "text/plain": [
              "                       Symbol   Price  Book Value\n",
              "Sector                                           \n",
              "Industrials               MMM  141.14      26.668\n",
              "Health Care               ABT   39.60      15.573\n",
              "Health Care              ABBV   53.95       2.954\n",
              "Information Technology    ACN   79.79       8.326\n",
              "Financials                ACE  102.91      86.897"
            ]
          },
          "metadata": {
            "tags": []
          },
          "execution_count": 15
        }
      ]
    },
    {
      "cell_type": "markdown",
      "metadata": {
        "heading_collapsed": true,
        "hidden": true,
        "id": "foW0iCyjM77I"
      },
      "source": [
        "#### над множествами"
      ]
    },
    {
      "cell_type": "markdown",
      "metadata": {
        "hidden": true,
        "id": "W6kZwk4tM77I"
      },
      "source": [
        "Датафреймы для примера:"
      ]
    },
    {
      "cell_type": "code",
      "metadata": {
        "hidden": true,
        "id": "QIUTCO3yM77I"
      },
      "source": [
        "data_rnd_part_1 = sp500.sample(100, random_state=333)\n",
        "data_rnd_part_2 = sp500.sample(100, random_state=777)"
      ],
      "execution_count": 16,
      "outputs": []
    },
    {
      "cell_type": "code",
      "metadata": {
        "hidden": true,
        "colab": {
          "base_uri": "https://localhost:8080/",
          "height": 235
        },
        "id": "RclrytIfM77J",
        "outputId": "1053ad31-fdf4-468b-ef2a-1bfc849e34d4"
      },
      "source": [
        "data_rnd_part_1.head()"
      ],
      "execution_count": 17,
      "outputs": [
        {
          "output_type": "execute_result",
          "data": {
            "text/html": [
              "<div>\n",
              "<style scoped>\n",
              "    .dataframe tbody tr th:only-of-type {\n",
              "        vertical-align: middle;\n",
              "    }\n",
              "\n",
              "    .dataframe tbody tr th {\n",
              "        vertical-align: top;\n",
              "    }\n",
              "\n",
              "    .dataframe thead th {\n",
              "        text-align: right;\n",
              "    }\n",
              "</style>\n",
              "<table border=\"1\" class=\"dataframe\">\n",
              "  <thead>\n",
              "    <tr style=\"text-align: right;\">\n",
              "      <th></th>\n",
              "      <th>Sector</th>\n",
              "      <th>Price</th>\n",
              "      <th>Book Value</th>\n",
              "    </tr>\n",
              "    <tr>\n",
              "      <th>Symbol</th>\n",
              "      <th></th>\n",
              "      <th></th>\n",
              "      <th></th>\n",
              "    </tr>\n",
              "  </thead>\n",
              "  <tbody>\n",
              "    <tr>\n",
              "      <th>NDAQ</th>\n",
              "      <td>Financials</td>\n",
              "      <td>36.45</td>\n",
              "      <td>36.578</td>\n",
              "    </tr>\n",
              "    <tr>\n",
              "      <th>FDO</th>\n",
              "      <td>Consumer Discretionary</td>\n",
              "      <td>56.65</td>\n",
              "      <td>14.122</td>\n",
              "    </tr>\n",
              "    <tr>\n",
              "      <th>EBAY</th>\n",
              "      <td>Information Technology</td>\n",
              "      <td>52.02</td>\n",
              "      <td>15.477</td>\n",
              "    </tr>\n",
              "    <tr>\n",
              "      <th>ECL</th>\n",
              "      <td>Materials</td>\n",
              "      <td>108.05</td>\n",
              "      <td>24.019</td>\n",
              "    </tr>\n",
              "    <tr>\n",
              "      <th>LO</th>\n",
              "      <td>Consumer Staples</td>\n",
              "      <td>60.20</td>\n",
              "      <td>-5.953</td>\n",
              "    </tr>\n",
              "  </tbody>\n",
              "</table>\n",
              "</div>"
            ],
            "text/plain": [
              "                        Sector   Price  Book Value\n",
              "Symbol                                            \n",
              "NDAQ                Financials   36.45      36.578\n",
              "FDO     Consumer Discretionary   56.65      14.122\n",
              "EBAY    Information Technology   52.02      15.477\n",
              "ECL                  Materials  108.05      24.019\n",
              "LO            Consumer Staples   60.20      -5.953"
            ]
          },
          "metadata": {
            "tags": []
          },
          "execution_count": 17
        }
      ]
    },
    {
      "cell_type": "code",
      "metadata": {
        "hidden": true,
        "colab": {
          "base_uri": "https://localhost:8080/",
          "height": 235
        },
        "id": "eEHzQqtSM77J",
        "outputId": "55cee01d-3447-4885-93d5-eef18f01edc1"
      },
      "source": [
        "data_rnd_part_2.head()"
      ],
      "execution_count": 18,
      "outputs": [
        {
          "output_type": "execute_result",
          "data": {
            "text/html": [
              "<div>\n",
              "<style scoped>\n",
              "    .dataframe tbody tr th:only-of-type {\n",
              "        vertical-align: middle;\n",
              "    }\n",
              "\n",
              "    .dataframe tbody tr th {\n",
              "        vertical-align: top;\n",
              "    }\n",
              "\n",
              "    .dataframe thead th {\n",
              "        text-align: right;\n",
              "    }\n",
              "</style>\n",
              "<table border=\"1\" class=\"dataframe\">\n",
              "  <thead>\n",
              "    <tr style=\"text-align: right;\">\n",
              "      <th></th>\n",
              "      <th>Sector</th>\n",
              "      <th>Price</th>\n",
              "      <th>Book Value</th>\n",
              "    </tr>\n",
              "    <tr>\n",
              "      <th>Symbol</th>\n",
              "      <th></th>\n",
              "      <th></th>\n",
              "      <th></th>\n",
              "    </tr>\n",
              "  </thead>\n",
              "  <tbody>\n",
              "    <tr>\n",
              "      <th>SRCL</th>\n",
              "      <td>Industrials</td>\n",
              "      <td>112.48</td>\n",
              "      <td>20.802</td>\n",
              "    </tr>\n",
              "    <tr>\n",
              "      <th>ADP</th>\n",
              "      <td>Information Technology</td>\n",
              "      <td>78.85</td>\n",
              "      <td>13.729</td>\n",
              "    </tr>\n",
              "    <tr>\n",
              "      <th>SPLS</th>\n",
              "      <td>Consumer Discretionary</td>\n",
              "      <td>11.65</td>\n",
              "      <td>9.525</td>\n",
              "    </tr>\n",
              "    <tr>\n",
              "      <th>COV</th>\n",
              "      <td>Health Care</td>\n",
              "      <td>71.19</td>\n",
              "      <td>21.219</td>\n",
              "    </tr>\n",
              "    <tr>\n",
              "      <th>HRL</th>\n",
              "      <td>Consumer Staples</td>\n",
              "      <td>46.66</td>\n",
              "      <td>13.311</td>\n",
              "    </tr>\n",
              "  </tbody>\n",
              "</table>\n",
              "</div>"
            ],
            "text/plain": [
              "                        Sector   Price  Book Value\n",
              "Symbol                                            \n",
              "SRCL               Industrials  112.48      20.802\n",
              "ADP     Information Technology   78.85      13.729\n",
              "SPLS    Consumer Discretionary   11.65       9.525\n",
              "COV                Health Care   71.19      21.219\n",
              "HRL           Consumer Staples   46.66      13.311"
            ]
          },
          "metadata": {
            "tags": []
          },
          "execution_count": 18
        }
      ]
    },
    {
      "cell_type": "markdown",
      "metadata": {
        "hidden": true,
        "id": "LY5geze4M77J"
      },
      "source": [
        "объединение:"
      ]
    },
    {
      "cell_type": "code",
      "metadata": {
        "hidden": true,
        "colab": {
          "base_uri": "https://localhost:8080/"
        },
        "id": "x7O7Y4OTM77K",
        "outputId": "c77f7c49-dac5-4181-cb35-e959b3cb5a23"
      },
      "source": [
        "ind_union = data_rnd_part_1.index | data_rnd_part_2.index\n",
        "ind_union"
      ],
      "execution_count": 19,
      "outputs": [
        {
          "output_type": "execute_result",
          "data": {
            "text/plain": [
              "Index(['AA', 'ACT', 'ADBE', 'ADP', 'AEE', 'AFL', 'AIZ', 'ALL', 'ALTR', 'ALXN',\n",
              "       ...\n",
              "       'VTR', 'VZ', 'WHR', 'WMB', 'WU', 'XOM', 'XRAY', 'XRX', 'ZMH', 'ZTS'],\n",
              "      dtype='object', name='Symbol', length=177)"
            ]
          },
          "metadata": {
            "tags": []
          },
          "execution_count": 19
        }
      ]
    },
    {
      "cell_type": "markdown",
      "metadata": {
        "hidden": true,
        "id": "SnOsIyVrM77K"
      },
      "source": [
        "пересечение"
      ]
    },
    {
      "cell_type": "code",
      "metadata": {
        "hidden": true,
        "colab": {
          "base_uri": "https://localhost:8080/"
        },
        "id": "7IFAKoOxM77K",
        "outputId": "0c65e572-5c14-4d37-a891-dc1abb8a167d"
      },
      "source": [
        "ind_intersection = data_rnd_part_1.index & data_rnd_part_2.index\n",
        "len(ind_intersection)"
      ],
      "execution_count": 20,
      "outputs": [
        {
          "output_type": "execute_result",
          "data": {
            "text/plain": [
              "23"
            ]
          },
          "metadata": {
            "tags": []
          },
          "execution_count": 20
        }
      ]
    },
    {
      "cell_type": "markdown",
      "metadata": {
        "hidden": true,
        "id": "wSf4KJNjM77L"
      },
      "source": [
        "разность"
      ]
    },
    {
      "cell_type": "code",
      "metadata": {
        "hidden": true,
        "colab": {
          "base_uri": "https://localhost:8080/"
        },
        "id": "wplV1CpFM77L",
        "outputId": "e2c29792-7266-47fa-aa10-9b7ad4b739b8"
      },
      "source": [
        "ind_diff = data_rnd_part_1.index.difference(data_rnd_part_2.index)\n",
        "len(ind_diff)"
      ],
      "execution_count": 21,
      "outputs": [
        {
          "output_type": "execute_result",
          "data": {
            "text/plain": [
              "77"
            ]
          },
          "metadata": {
            "tags": []
          },
          "execution_count": 21
        }
      ]
    },
    {
      "cell_type": "markdown",
      "metadata": {
        "heading_collapsed": true,
        "id": "9cu6zGOEM77L"
      },
      "source": [
        "### Иерархическая индексация"
      ]
    },
    {
      "cell_type": "markdown",
      "metadata": {
        "hidden": true,
        "id": "cMfv-VeQM77M"
      },
      "source": [
        "сначала помещаем символы в столбец"
      ]
    },
    {
      "cell_type": "code",
      "metadata": {
        "hidden": true,
        "id": "ykw-TVwWM77M"
      },
      "source": [
        "reindexed = sp500.reset_index()"
      ],
      "execution_count": 22,
      "outputs": []
    },
    {
      "cell_type": "code",
      "metadata": {
        "hidden": true,
        "colab": {
          "base_uri": "https://localhost:8080/",
          "height": 204
        },
        "id": "L6Mn4pKuM77M",
        "outputId": "4d82c0fa-f9e3-4f71-db19-218e9e0bdd42"
      },
      "source": [
        "reindexed.head()"
      ],
      "execution_count": 23,
      "outputs": [
        {
          "output_type": "execute_result",
          "data": {
            "text/html": [
              "<div>\n",
              "<style scoped>\n",
              "    .dataframe tbody tr th:only-of-type {\n",
              "        vertical-align: middle;\n",
              "    }\n",
              "\n",
              "    .dataframe tbody tr th {\n",
              "        vertical-align: top;\n",
              "    }\n",
              "\n",
              "    .dataframe thead th {\n",
              "        text-align: right;\n",
              "    }\n",
              "</style>\n",
              "<table border=\"1\" class=\"dataframe\">\n",
              "  <thead>\n",
              "    <tr style=\"text-align: right;\">\n",
              "      <th></th>\n",
              "      <th>Symbol</th>\n",
              "      <th>Sector</th>\n",
              "      <th>Price</th>\n",
              "      <th>Book Value</th>\n",
              "    </tr>\n",
              "  </thead>\n",
              "  <tbody>\n",
              "    <tr>\n",
              "      <th>0</th>\n",
              "      <td>MMM</td>\n",
              "      <td>Industrials</td>\n",
              "      <td>141.14</td>\n",
              "      <td>26.668</td>\n",
              "    </tr>\n",
              "    <tr>\n",
              "      <th>1</th>\n",
              "      <td>ABT</td>\n",
              "      <td>Health Care</td>\n",
              "      <td>39.60</td>\n",
              "      <td>15.573</td>\n",
              "    </tr>\n",
              "    <tr>\n",
              "      <th>2</th>\n",
              "      <td>ABBV</td>\n",
              "      <td>Health Care</td>\n",
              "      <td>53.95</td>\n",
              "      <td>2.954</td>\n",
              "    </tr>\n",
              "    <tr>\n",
              "      <th>3</th>\n",
              "      <td>ACN</td>\n",
              "      <td>Information Technology</td>\n",
              "      <td>79.79</td>\n",
              "      <td>8.326</td>\n",
              "    </tr>\n",
              "    <tr>\n",
              "      <th>4</th>\n",
              "      <td>ACE</td>\n",
              "      <td>Financials</td>\n",
              "      <td>102.91</td>\n",
              "      <td>86.897</td>\n",
              "    </tr>\n",
              "  </tbody>\n",
              "</table>\n",
              "</div>"
            ],
            "text/plain": [
              "  Symbol                  Sector   Price  Book Value\n",
              "0    MMM             Industrials  141.14      26.668\n",
              "1    ABT             Health Care   39.60      15.573\n",
              "2   ABBV             Health Care   53.95       2.954\n",
              "3    ACN  Information Technology   79.79       8.326\n",
              "4    ACE              Financials  102.91      86.897"
            ]
          },
          "metadata": {
            "tags": []
          },
          "execution_count": 23
        }
      ]
    },
    {
      "cell_type": "markdown",
      "metadata": {
        "hidden": true,
        "id": "DqLLioTjM77N"
      },
      "source": [
        "а теперь индексируем датафрейм data по столбцам Sector и Symbol"
      ]
    },
    {
      "cell_type": "code",
      "metadata": {
        "hidden": true,
        "colab": {
          "base_uri": "https://localhost:8080/",
          "height": 235
        },
        "id": "afxK7Hf3M77N",
        "outputId": "123fe6a6-988a-4cd9-d1f5-76b2869a3df2"
      },
      "source": [
        "multi_fi = reindexed.set_index(['Sector', 'Symbol'])\n",
        "multi_fi.head()"
      ],
      "execution_count": 24,
      "outputs": [
        {
          "output_type": "execute_result",
          "data": {
            "text/html": [
              "<div>\n",
              "<style scoped>\n",
              "    .dataframe tbody tr th:only-of-type {\n",
              "        vertical-align: middle;\n",
              "    }\n",
              "\n",
              "    .dataframe tbody tr th {\n",
              "        vertical-align: top;\n",
              "    }\n",
              "\n",
              "    .dataframe thead th {\n",
              "        text-align: right;\n",
              "    }\n",
              "</style>\n",
              "<table border=\"1\" class=\"dataframe\">\n",
              "  <thead>\n",
              "    <tr style=\"text-align: right;\">\n",
              "      <th></th>\n",
              "      <th></th>\n",
              "      <th>Price</th>\n",
              "      <th>Book Value</th>\n",
              "    </tr>\n",
              "    <tr>\n",
              "      <th>Sector</th>\n",
              "      <th>Symbol</th>\n",
              "      <th></th>\n",
              "      <th></th>\n",
              "    </tr>\n",
              "  </thead>\n",
              "  <tbody>\n",
              "    <tr>\n",
              "      <th>Industrials</th>\n",
              "      <th>MMM</th>\n",
              "      <td>141.14</td>\n",
              "      <td>26.668</td>\n",
              "    </tr>\n",
              "    <tr>\n",
              "      <th rowspan=\"2\" valign=\"top\">Health Care</th>\n",
              "      <th>ABT</th>\n",
              "      <td>39.60</td>\n",
              "      <td>15.573</td>\n",
              "    </tr>\n",
              "    <tr>\n",
              "      <th>ABBV</th>\n",
              "      <td>53.95</td>\n",
              "      <td>2.954</td>\n",
              "    </tr>\n",
              "    <tr>\n",
              "      <th>Information Technology</th>\n",
              "      <th>ACN</th>\n",
              "      <td>79.79</td>\n",
              "      <td>8.326</td>\n",
              "    </tr>\n",
              "    <tr>\n",
              "      <th>Financials</th>\n",
              "      <th>ACE</th>\n",
              "      <td>102.91</td>\n",
              "      <td>86.897</td>\n",
              "    </tr>\n",
              "  </tbody>\n",
              "</table>\n",
              "</div>"
            ],
            "text/plain": [
              "                                Price  Book Value\n",
              "Sector                 Symbol                    \n",
              "Industrials            MMM     141.14      26.668\n",
              "Health Care            ABT      39.60      15.573\n",
              "                       ABBV     53.95       2.954\n",
              "Information Technology ACN      79.79       8.326\n",
              "Financials             ACE     102.91      86.897"
            ]
          },
          "metadata": {
            "tags": []
          },
          "execution_count": 24
        }
      ]
    },
    {
      "cell_type": "markdown",
      "metadata": {
        "hidden": true,
        "id": "EzCrQrRRM77O"
      },
      "source": [
        "наш индекс - это MultiIndex"
      ]
    },
    {
      "cell_type": "code",
      "metadata": {
        "hidden": true,
        "scrolled": true,
        "colab": {
          "base_uri": "https://localhost:8080/"
        },
        "id": "R6A5bVQ7M77O",
        "outputId": "67edfdc4-f5ad-420f-9c0c-5e084d817fc8"
      },
      "source": [
        "type(multi_fi.index)"
      ],
      "execution_count": 25,
      "outputs": [
        {
          "output_type": "execute_result",
          "data": {
            "text/plain": [
              "pandas.core.indexes.multi.MultiIndex"
            ]
          },
          "metadata": {
            "tags": []
          },
          "execution_count": 25
        }
      ]
    },
    {
      "cell_type": "markdown",
      "metadata": {
        "hidden": true,
        "id": "3NL217W_M77O"
      },
      "source": [
        "он имеет два уровня"
      ]
    },
    {
      "cell_type": "code",
      "metadata": {
        "hidden": true,
        "colab": {
          "base_uri": "https://localhost:8080/"
        },
        "id": "7QtmPi6-M77P",
        "outputId": "94fb25e2-ed61-406b-bb3c-4bf51cd585f6"
      },
      "source": [
        "len(multi_fi.index.levels)"
      ],
      "execution_count": 26,
      "outputs": [
        {
          "output_type": "execute_result",
          "data": {
            "text/plain": [
              "2"
            ]
          },
          "metadata": {
            "tags": []
          },
          "execution_count": 26
        }
      ]
    },
    {
      "cell_type": "markdown",
      "metadata": {
        "hidden": true,
        "id": "2ukhpyunM77P"
      },
      "source": [
        "каждый уровень индекса - это индекс"
      ]
    },
    {
      "cell_type": "code",
      "metadata": {
        "hidden": true,
        "colab": {
          "base_uri": "https://localhost:8080/"
        },
        "id": "n9t8EHMOM77P",
        "outputId": "2dc91199-c13d-4410-d10a-d35acb0f9a73"
      },
      "source": [
        "multi_fi.index.levels[1]"
      ],
      "execution_count": 27,
      "outputs": [
        {
          "output_type": "execute_result",
          "data": {
            "text/plain": [
              "Index(['A', 'AA', 'AAPL', 'ABBV', 'ABC', 'ABT', 'ACE', 'ACN', 'ACT', 'ADBE',\n",
              "       ...\n",
              "       'XLNX', 'XOM', 'XRAY', 'XRX', 'XYL', 'YHOO', 'YUM', 'ZION', 'ZMH',\n",
              "       'ZTS'],\n",
              "      dtype='object', name='Symbol', length=500)"
            ]
          },
          "metadata": {
            "tags": []
          },
          "execution_count": 27
        }
      ]
    },
    {
      "cell_type": "markdown",
      "metadata": {
        "hidden": true,
        "id": "WJ7X7HgdM77Q"
      },
      "source": [
        "изменение порядка уровней индекса:"
      ]
    },
    {
      "cell_type": "code",
      "metadata": {
        "hidden": true,
        "colab": {
          "base_uri": "https://localhost:8080/",
          "height": 235
        },
        "id": "_Ed-SY-QM77Q",
        "outputId": "bb96e434-2931-416e-f6ef-6a98dc6f4ca7"
      },
      "source": [
        "multi_fi.reorder_levels([1, 0], axis=0).head()"
      ],
      "execution_count": 28,
      "outputs": [
        {
          "output_type": "execute_result",
          "data": {
            "text/html": [
              "<div>\n",
              "<style scoped>\n",
              "    .dataframe tbody tr th:only-of-type {\n",
              "        vertical-align: middle;\n",
              "    }\n",
              "\n",
              "    .dataframe tbody tr th {\n",
              "        vertical-align: top;\n",
              "    }\n",
              "\n",
              "    .dataframe thead th {\n",
              "        text-align: right;\n",
              "    }\n",
              "</style>\n",
              "<table border=\"1\" class=\"dataframe\">\n",
              "  <thead>\n",
              "    <tr style=\"text-align: right;\">\n",
              "      <th></th>\n",
              "      <th></th>\n",
              "      <th>Price</th>\n",
              "      <th>Book Value</th>\n",
              "    </tr>\n",
              "    <tr>\n",
              "      <th>Symbol</th>\n",
              "      <th>Sector</th>\n",
              "      <th></th>\n",
              "      <th></th>\n",
              "    </tr>\n",
              "  </thead>\n",
              "  <tbody>\n",
              "    <tr>\n",
              "      <th>MMM</th>\n",
              "      <th>Industrials</th>\n",
              "      <td>141.14</td>\n",
              "      <td>26.668</td>\n",
              "    </tr>\n",
              "    <tr>\n",
              "      <th>ABT</th>\n",
              "      <th>Health Care</th>\n",
              "      <td>39.60</td>\n",
              "      <td>15.573</td>\n",
              "    </tr>\n",
              "    <tr>\n",
              "      <th>ABBV</th>\n",
              "      <th>Health Care</th>\n",
              "      <td>53.95</td>\n",
              "      <td>2.954</td>\n",
              "    </tr>\n",
              "    <tr>\n",
              "      <th>ACN</th>\n",
              "      <th>Information Technology</th>\n",
              "      <td>79.79</td>\n",
              "      <td>8.326</td>\n",
              "    </tr>\n",
              "    <tr>\n",
              "      <th>ACE</th>\n",
              "      <th>Financials</th>\n",
              "      <td>102.91</td>\n",
              "      <td>86.897</td>\n",
              "    </tr>\n",
              "  </tbody>\n",
              "</table>\n",
              "</div>"
            ],
            "text/plain": [
              "                                Price  Book Value\n",
              "Symbol Sector                                    \n",
              "MMM    Industrials             141.14      26.668\n",
              "ABT    Health Care              39.60      15.573\n",
              "ABBV   Health Care              53.95       2.954\n",
              "ACN    Information Technology   79.79       8.326\n",
              "ACE    Financials              102.91      86.897"
            ]
          },
          "metadata": {
            "tags": []
          },
          "execution_count": 28
        }
      ]
    },
    {
      "cell_type": "markdown",
      "metadata": {
        "hidden": true,
        "id": "WfXxSUAQM77Q"
      },
      "source": [
        "получаем все акции, которые имеют значение Industrials <br> обратите внимание, что в результатах индекс уровня 0 не выводится "
      ]
    },
    {
      "cell_type": "code",
      "metadata": {
        "hidden": true,
        "colab": {
          "base_uri": "https://localhost:8080/",
          "height": 235
        },
        "id": "8uVnCyzFM77R",
        "outputId": "327e121b-6c04-4a9d-ed40-045f5c0f330e"
      },
      "source": [
        "multi_fi.xs('Industrials').head()"
      ],
      "execution_count": 29,
      "outputs": [
        {
          "output_type": "execute_result",
          "data": {
            "text/html": [
              "<div>\n",
              "<style scoped>\n",
              "    .dataframe tbody tr th:only-of-type {\n",
              "        vertical-align: middle;\n",
              "    }\n",
              "\n",
              "    .dataframe tbody tr th {\n",
              "        vertical-align: top;\n",
              "    }\n",
              "\n",
              "    .dataframe thead th {\n",
              "        text-align: right;\n",
              "    }\n",
              "</style>\n",
              "<table border=\"1\" class=\"dataframe\">\n",
              "  <thead>\n",
              "    <tr style=\"text-align: right;\">\n",
              "      <th></th>\n",
              "      <th>Price</th>\n",
              "      <th>Book Value</th>\n",
              "    </tr>\n",
              "    <tr>\n",
              "      <th>Symbol</th>\n",
              "      <th></th>\n",
              "      <th></th>\n",
              "    </tr>\n",
              "  </thead>\n",
              "  <tbody>\n",
              "    <tr>\n",
              "      <th>MMM</th>\n",
              "      <td>141.14</td>\n",
              "      <td>26.668</td>\n",
              "    </tr>\n",
              "    <tr>\n",
              "      <th>ALLE</th>\n",
              "      <td>52.46</td>\n",
              "      <td>0.000</td>\n",
              "    </tr>\n",
              "    <tr>\n",
              "      <th>APH</th>\n",
              "      <td>95.71</td>\n",
              "      <td>18.315</td>\n",
              "    </tr>\n",
              "    <tr>\n",
              "      <th>AVY</th>\n",
              "      <td>48.20</td>\n",
              "      <td>15.616</td>\n",
              "    </tr>\n",
              "    <tr>\n",
              "      <th>BA</th>\n",
              "      <td>132.41</td>\n",
              "      <td>19.870</td>\n",
              "    </tr>\n",
              "  </tbody>\n",
              "</table>\n",
              "</div>"
            ],
            "text/plain": [
              "         Price  Book Value\n",
              "Symbol                    \n",
              "MMM     141.14      26.668\n",
              "ALLE     52.46       0.000\n",
              "APH      95.71      18.315\n",
              "AVY      48.20      15.616\n",
              "BA      132.41      19.870"
            ]
          },
          "metadata": {
            "tags": []
          },
          "execution_count": 29
        }
      ]
    },
    {
      "cell_type": "markdown",
      "metadata": {
        "hidden": true,
        "id": "OfhFM1viM77R"
      },
      "source": [
        "отбираем строки, в которых индекс уровня 1 (Symbol) имеет значение ALLE"
      ]
    },
    {
      "cell_type": "code",
      "metadata": {
        "hidden": true,
        "colab": {
          "base_uri": "https://localhost:8080/",
          "height": 111
        },
        "id": "6M3OudZTM77R",
        "outputId": "56b50838-0f8b-4306-ecb9-5a1ff14d28f3"
      },
      "source": [
        "multi_fi.xs('ALLE', level=1)"
      ],
      "execution_count": 30,
      "outputs": [
        {
          "output_type": "execute_result",
          "data": {
            "text/html": [
              "<div>\n",
              "<style scoped>\n",
              "    .dataframe tbody tr th:only-of-type {\n",
              "        vertical-align: middle;\n",
              "    }\n",
              "\n",
              "    .dataframe tbody tr th {\n",
              "        vertical-align: top;\n",
              "    }\n",
              "\n",
              "    .dataframe thead th {\n",
              "        text-align: right;\n",
              "    }\n",
              "</style>\n",
              "<table border=\"1\" class=\"dataframe\">\n",
              "  <thead>\n",
              "    <tr style=\"text-align: right;\">\n",
              "      <th></th>\n",
              "      <th>Price</th>\n",
              "      <th>Book Value</th>\n",
              "    </tr>\n",
              "    <tr>\n",
              "      <th>Sector</th>\n",
              "      <th></th>\n",
              "      <th></th>\n",
              "    </tr>\n",
              "  </thead>\n",
              "  <tbody>\n",
              "    <tr>\n",
              "      <th>Industrials</th>\n",
              "      <td>52.46</td>\n",
              "      <td>0.0</td>\n",
              "    </tr>\n",
              "  </tbody>\n",
              "</table>\n",
              "</div>"
            ],
            "text/plain": [
              "             Price  Book Value\n",
              "Sector                        \n",
              "Industrials  52.46         0.0"
            ]
          },
          "metadata": {
            "tags": []
          },
          "execution_count": 30
        }
      ]
    },
    {
      "cell_type": "markdown",
      "metadata": {
        "hidden": true,
        "id": "eaTNsp3hM77S"
      },
      "source": [
        "скомбинируем уровни индексов"
      ]
    },
    {
      "cell_type": "code",
      "metadata": {
        "hidden": true,
        "colab": {
          "base_uri": "https://localhost:8080/"
        },
        "id": "mLp_VQLBM77S",
        "outputId": "8e1b6961-867b-4a68-90fa-cf4731aec5fb"
      },
      "source": [
        "multi_fi.xs('Industrials').xs('UPS')"
      ],
      "execution_count": 31,
      "outputs": [
        {
          "output_type": "execute_result",
          "data": {
            "text/plain": [
              "Price         102.73\n",
              "Book Value      6.79\n",
              "Name: UPS, dtype: float64"
            ]
          },
          "metadata": {
            "tags": []
          },
          "execution_count": 31
        }
      ]
    },
    {
      "cell_type": "markdown",
      "metadata": {
        "hidden": true,
        "id": "GxMbbXVcM77S"
      },
      "source": [
        "комбинируем уровни индексов, используя кортеж"
      ]
    },
    {
      "cell_type": "code",
      "metadata": {
        "hidden": true,
        "colab": {
          "base_uri": "https://localhost:8080/"
        },
        "id": "YQDvakzcM77T",
        "outputId": "cd5b58b9-f581-437c-cfe1-42c811d8261e"
      },
      "source": [
        "multi_fi.xs(('Industrials', 'UPS'))"
      ],
      "execution_count": 32,
      "outputs": [
        {
          "output_type": "execute_result",
          "data": {
            "text/plain": [
              "Price         102.73\n",
              "Book Value      6.79\n",
              "Name: (Industrials, UPS), dtype: float64"
            ]
          },
          "metadata": {
            "tags": []
          },
          "execution_count": 32
        }
      ]
    },
    {
      "cell_type": "markdown",
      "metadata": {
        "heading_collapsed": true,
        "id": "Hup4ntMxM77T"
      },
      "source": [
        "### [Типы](http://pandas.pydata.org/pandas-docs/stable/user_guide/advanced.html#index-types)"
      ]
    },
    {
      "cell_type": "markdown",
      "metadata": {
        "heading_collapsed": true,
        "hidden": true,
        "id": "dwEf5w3GM77T"
      },
      "source": [
        "#### Основной тип Index"
      ]
    },
    {
      "cell_type": "markdown",
      "metadata": {
        "hidden": true,
        "id": "44wqFl2CM77U"
      },
      "source": [
        "покажем, что столбцы фактически являются индексом"
      ]
    },
    {
      "cell_type": "code",
      "metadata": {
        "hidden": true,
        "colab": {
          "base_uri": "https://localhost:8080/"
        },
        "id": "t6C3IzIGM77U",
        "outputId": "eb48935b-7836-45f3-a48e-de4d8c8ed20a"
      },
      "source": [
        "sp500.columns"
      ],
      "execution_count": 33,
      "outputs": [
        {
          "output_type": "execute_result",
          "data": {
            "text/plain": [
              "Index(['Sector', 'Price', 'Book Value'], dtype='object')"
            ]
          },
          "metadata": {
            "tags": []
          },
          "execution_count": 33
        }
      ]
    },
    {
      "cell_type": "code",
      "metadata": {
        "hidden": true,
        "colab": {
          "base_uri": "https://localhost:8080/"
        },
        "id": "Bj78XOquM77U",
        "outputId": "c5f4c02e-b1f9-4ce5-9920-37e163034a5b"
      },
      "source": [
        "sp500.index"
      ],
      "execution_count": 34,
      "outputs": [
        {
          "output_type": "execute_result",
          "data": {
            "text/plain": [
              "Index(['MMM', 'ABT', 'ABBV', 'ACN', 'ACE', 'ACT', 'ADBE', 'AES', 'AET', 'AFL',\n",
              "       ...\n",
              "       'XEL', 'XRX', 'XLNX', 'XL', 'XYL', 'YHOO', 'YUM', 'ZMH', 'ZION', 'ZTS'],\n",
              "      dtype='object', name='Symbol', length=500)"
            ]
          },
          "metadata": {
            "tags": []
          },
          "execution_count": 34
        }
      ]
    },
    {
      "cell_type": "markdown",
      "metadata": {
        "heading_collapsed": true,
        "hidden": true,
        "id": "qqgi7PwrM77V"
      },
      "source": [
        "#### Int64Index и RangeIndex"
      ]
    },
    {
      "cell_type": "markdown",
      "metadata": {
        "hidden": true,
        "id": "6E6HWUTbM77V"
      },
      "source": [
        "Явно создаем Int64Index"
      ]
    },
    {
      "cell_type": "code",
      "metadata": {
        "hidden": true,
        "colab": {
          "base_uri": "https://localhost:8080/",
          "height": 204
        },
        "id": "1H5zLQnUM77V",
        "outputId": "f7d59d6d-1de7-4645-eee8-e035d80c6a8e"
      },
      "source": [
        "df_i64 = pd.DataFrame(np.arange(10, 20), index=np.arange(0, 10))\n",
        "df_i64.head()"
      ],
      "execution_count": 35,
      "outputs": [
        {
          "output_type": "execute_result",
          "data": {
            "text/html": [
              "<div>\n",
              "<style scoped>\n",
              "    .dataframe tbody tr th:only-of-type {\n",
              "        vertical-align: middle;\n",
              "    }\n",
              "\n",
              "    .dataframe tbody tr th {\n",
              "        vertical-align: top;\n",
              "    }\n",
              "\n",
              "    .dataframe thead th {\n",
              "        text-align: right;\n",
              "    }\n",
              "</style>\n",
              "<table border=\"1\" class=\"dataframe\">\n",
              "  <thead>\n",
              "    <tr style=\"text-align: right;\">\n",
              "      <th></th>\n",
              "      <th>0</th>\n",
              "    </tr>\n",
              "  </thead>\n",
              "  <tbody>\n",
              "    <tr>\n",
              "      <th>0</th>\n",
              "      <td>10</td>\n",
              "    </tr>\n",
              "    <tr>\n",
              "      <th>1</th>\n",
              "      <td>11</td>\n",
              "    </tr>\n",
              "    <tr>\n",
              "      <th>2</th>\n",
              "      <td>12</td>\n",
              "    </tr>\n",
              "    <tr>\n",
              "      <th>3</th>\n",
              "      <td>13</td>\n",
              "    </tr>\n",
              "    <tr>\n",
              "      <th>4</th>\n",
              "      <td>14</td>\n",
              "    </tr>\n",
              "  </tbody>\n",
              "</table>\n",
              "</div>"
            ],
            "text/plain": [
              "    0\n",
              "0  10\n",
              "1  11\n",
              "2  12\n",
              "3  13\n",
              "4  14"
            ]
          },
          "metadata": {
            "tags": []
          },
          "execution_count": 35
        }
      ]
    },
    {
      "cell_type": "markdown",
      "metadata": {
        "hidden": true,
        "id": "OCZ38bcdM77W"
      },
      "source": [
        "смотрим индекс"
      ]
    },
    {
      "cell_type": "code",
      "metadata": {
        "hidden": true,
        "colab": {
          "base_uri": "https://localhost:8080/"
        },
        "id": "NBfRsFzJM77W",
        "outputId": "9239899b-35f9-4b3d-caee-de5547d84bb6"
      },
      "source": [
        "df_i64.index"
      ],
      "execution_count": 36,
      "outputs": [
        {
          "output_type": "execute_result",
          "data": {
            "text/plain": [
              "Int64Index([0, 1, 2, 3, 4, 5, 6, 7, 8, 9], dtype='int64')"
            ]
          },
          "metadata": {
            "tags": []
          },
          "execution_count": 36
        }
      ]
    },
    {
      "cell_type": "markdown",
      "metadata": {
        "hidden": true,
        "id": "FYJSbqSbM77W"
      },
      "source": [
        "по умолчанию мы получаем RangeIndex"
      ]
    },
    {
      "cell_type": "code",
      "metadata": {
        "hidden": true,
        "colab": {
          "base_uri": "https://localhost:8080/",
          "height": 204
        },
        "id": "Uod0MbDgM77X",
        "outputId": "0fb8125b-ce07-4dad-c635-df16fcdf11cf"
      },
      "source": [
        "df_range = pd.DataFrame(np.arange(10, 15))\n",
        "df_range.head()"
      ],
      "execution_count": 37,
      "outputs": [
        {
          "output_type": "execute_result",
          "data": {
            "text/html": [
              "<div>\n",
              "<style scoped>\n",
              "    .dataframe tbody tr th:only-of-type {\n",
              "        vertical-align: middle;\n",
              "    }\n",
              "\n",
              "    .dataframe tbody tr th {\n",
              "        vertical-align: top;\n",
              "    }\n",
              "\n",
              "    .dataframe thead th {\n",
              "        text-align: right;\n",
              "    }\n",
              "</style>\n",
              "<table border=\"1\" class=\"dataframe\">\n",
              "  <thead>\n",
              "    <tr style=\"text-align: right;\">\n",
              "      <th></th>\n",
              "      <th>0</th>\n",
              "    </tr>\n",
              "  </thead>\n",
              "  <tbody>\n",
              "    <tr>\n",
              "      <th>0</th>\n",
              "      <td>10</td>\n",
              "    </tr>\n",
              "    <tr>\n",
              "      <th>1</th>\n",
              "      <td>11</td>\n",
              "    </tr>\n",
              "    <tr>\n",
              "      <th>2</th>\n",
              "      <td>12</td>\n",
              "    </tr>\n",
              "    <tr>\n",
              "      <th>3</th>\n",
              "      <td>13</td>\n",
              "    </tr>\n",
              "    <tr>\n",
              "      <th>4</th>\n",
              "      <td>14</td>\n",
              "    </tr>\n",
              "  </tbody>\n",
              "</table>\n",
              "</div>"
            ],
            "text/plain": [
              "    0\n",
              "0  10\n",
              "1  11\n",
              "2  12\n",
              "3  13\n",
              "4  14"
            ]
          },
          "metadata": {
            "tags": []
          },
          "execution_count": 37
        }
      ]
    },
    {
      "cell_type": "code",
      "metadata": {
        "hidden": true,
        "colab": {
          "base_uri": "https://localhost:8080/"
        },
        "id": "tRQCFUOFM77X",
        "outputId": "461c47b8-66a6-491d-e459-55ee45eb77ed"
      },
      "source": [
        "df_range.index"
      ],
      "execution_count": 38,
      "outputs": [
        {
          "output_type": "execute_result",
          "data": {
            "text/plain": [
              "RangeIndex(start=0, stop=5, step=1)"
            ]
          },
          "metadata": {
            "tags": []
          },
          "execution_count": 38
        }
      ]
    },
    {
      "cell_type": "markdown",
      "metadata": {
        "heading_collapsed": true,
        "hidden": true,
        "id": "IxBeGnWqM77X"
      },
      "source": [
        "#### Float64Index"
      ]
    },
    {
      "cell_type": "markdown",
      "metadata": {
        "hidden": true,
        "id": "nLjLg2JlM77Y"
      },
      "source": [
        "индексы, использующие Float64Index"
      ]
    },
    {
      "cell_type": "code",
      "metadata": {
        "hidden": true,
        "colab": {
          "base_uri": "https://localhost:8080/",
          "height": 204
        },
        "id": "V9PNprRCM77Y",
        "outputId": "d830ebdd-b26f-4d22-8947-601dd0e9c18d"
      },
      "source": [
        "df_f64 = pd.DataFrame(np.arange(0, 1000, 5), \n",
        "                      np.arange(0.0, 100.0, 0.5))\n",
        "df_f64.head()"
      ],
      "execution_count": 39,
      "outputs": [
        {
          "output_type": "execute_result",
          "data": {
            "text/html": [
              "<div>\n",
              "<style scoped>\n",
              "    .dataframe tbody tr th:only-of-type {\n",
              "        vertical-align: middle;\n",
              "    }\n",
              "\n",
              "    .dataframe tbody tr th {\n",
              "        vertical-align: top;\n",
              "    }\n",
              "\n",
              "    .dataframe thead th {\n",
              "        text-align: right;\n",
              "    }\n",
              "</style>\n",
              "<table border=\"1\" class=\"dataframe\">\n",
              "  <thead>\n",
              "    <tr style=\"text-align: right;\">\n",
              "      <th></th>\n",
              "      <th>0</th>\n",
              "    </tr>\n",
              "  </thead>\n",
              "  <tbody>\n",
              "    <tr>\n",
              "      <th>0.0</th>\n",
              "      <td>0</td>\n",
              "    </tr>\n",
              "    <tr>\n",
              "      <th>0.5</th>\n",
              "      <td>5</td>\n",
              "    </tr>\n",
              "    <tr>\n",
              "      <th>1.0</th>\n",
              "      <td>10</td>\n",
              "    </tr>\n",
              "    <tr>\n",
              "      <th>1.5</th>\n",
              "      <td>15</td>\n",
              "    </tr>\n",
              "    <tr>\n",
              "      <th>2.0</th>\n",
              "      <td>20</td>\n",
              "    </tr>\n",
              "  </tbody>\n",
              "</table>\n",
              "</div>"
            ],
            "text/plain": [
              "      0\n",
              "0.0   0\n",
              "0.5   5\n",
              "1.0  10\n",
              "1.5  15\n",
              "2.0  20"
            ]
          },
          "metadata": {
            "tags": []
          },
          "execution_count": 39
        }
      ]
    },
    {
      "cell_type": "code",
      "metadata": {
        "hidden": true,
        "colab": {
          "base_uri": "https://localhost:8080/"
        },
        "id": "LuJ5Yim4M77Y",
        "outputId": "27a9dfde-857a-46db-feed-67fb85ddbc37"
      },
      "source": [
        "df_f64.index"
      ],
      "execution_count": 40,
      "outputs": [
        {
          "output_type": "execute_result",
          "data": {
            "text/plain": [
              "Float64Index([ 0.0,  0.5,  1.0,  1.5,  2.0,  2.5,  3.0,  3.5,  4.0,  4.5,\n",
              "              ...\n",
              "              95.0, 95.5, 96.0, 96.5, 97.0, 97.5, 98.0, 98.5, 99.0, 99.5],\n",
              "             dtype='float64', length=200)"
            ]
          },
          "metadata": {
            "tags": []
          },
          "execution_count": 40
        }
      ]
    }
  ]
}